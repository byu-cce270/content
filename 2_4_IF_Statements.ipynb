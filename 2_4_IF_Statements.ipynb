{
  "nbformat": 4,
  "nbformat_minor": 0,
  "metadata": {
    "colab": {
      "provenance": [],
      "authorship_tag": "ABX9TyPaCK/dDrk8OnX622jeuxkZ",
      "include_colab_link": true
    },
    "kernelspec": {
      "name": "python3",
      "display_name": "Python 3"
    },
    "language_info": {
      "name": "python"
    }
  },
  "cells": [
    {
      "cell_type": "markdown",
      "metadata": {
        "id": "view-in-github",
        "colab_type": "text"
      },
      "source": [
        "<a href=\"https://colab.research.google.com/github/byu-cce270/content/blob/main/2_4_IF_Statements.ipynb\" target=\"_parent\"><img src=\"https://colab.research.google.com/assets/colab-badge.svg\" alt=\"Open In Colab\"/></a>"
      ]
    },
    {
      "cell_type": "code",
      "execution_count": null,
      "metadata": {
        "collapsed": true,
        "id": "TXM4vNUBUxMe"
      },
      "outputs": [],
      "source": [
        "# Intro\n",
        "'''For this excersize you will create a code to help your fellow statics students see if the truss they are given is statically determinate or indeterminate.\n",
        "Because of you are willing to right the code, they are happy enough to give you the problems they are working on'''"
      ]
    },
    {
      "cell_type": "code",
      "source": [
        "# Part 1 - Truss Determinacy Solver\n",
        "j = int(input(\"How many joints are in the truss? (Input a whole number) \"))\n",
        "m = int(input(\"How many members are in the truss? (Input a whole number) \"))\n",
        "r = int(input(\"How many reactions are there in the truss? (Input a whole number) \"))\n",
        "if (m+r) == 2*j:\n",
        "    print(\"The truss is statically determinate\")\n",
        "elif (m+r) > 2*j:\n",
        "    print(\"The truss is statically indeterminate, there are more constrains than necessary\")\n",
        "elif (m+r) < 2*j:\n",
        "    print(\"The truss is statically indeterminate, there are more joint than necessary\")\n",
        "else:\n",
        "    print(\"Invalid input, please try again :) \")"
      ],
      "metadata": {
        "id": "uQJvse0eVWgH",
        "collapsed": true,
        "colab": {
          "base_uri": "https://localhost:8080/"
        },
        "outputId": "380f230d-f121-4007-d5f4-9c2c44eb01cd"
      },
      "execution_count": null,
      "outputs": [
        {
          "output_type": "stream",
          "name": "stdout",
          "text": [
            "How many joints are in the truss? (Input a whole number) 2\n",
            "How many members are in the truss? (Input a whole number) 2\n",
            "How many reactions are there in the truss? (Input a whole number) 2\n",
            "The truss is statically determinate\n"
          ]
        }
      ]
    },
    {
      "cell_type": "code",
      "source": [
        "# Part 2 - Create your Lists\n",
        "\n",
        "order = ['wood', 'steel', 'glass', 'steel',\n",
        "         'brick', 'wood', 'steel', 'wood',\n",
        "         'glass', 'steel', 'wood', 'concrete',\n",
        "         'wood', 'brick', 'wood', 'brick',\n",
        "          'concrete', 'concrete', 'glass',\n",
        "         'wood', 'concrete', 'glass',\n",
        "         'concrete', 'glass', 'wood', 'steel',\n",
        "         'brick', 'glass', 'brick', 'steel',\n",
        "         'concrete', 'brick', 'brick', 'wood',\n",
        "         'brick', 'glass', 'wood', 'wood', 'steel',\n",
        "         'glass', 'glass', 'brick', 'brick', 'glass',\n",
        "         'wood', 'wood', 'wood', 'steel', 'glass', 'glass']\n",
        "\n",
        "print(order)"
      ],
      "metadata": {
        "colab": {
          "base_uri": "https://localhost:8080/"
        },
        "id": "SREbIaPVQ4Xy",
        "outputId": "eff950ac-95f9-42de-f431-116a1f712b16"
      },
      "execution_count": null,
      "outputs": [
        {
          "output_type": "stream",
          "name": "stdout",
          "text": [
            "['wood', 'steel', 'glass', 'steel', 'brick', 'wood', 'steel', 'wood', 'glass', 'steel', 'wood', 'concrete', 'wood', 'brick', 'wood', 'brick', 'concrete', 'concrete', 'glass', 'wood', 'concrete', 'glass', 'concrete', 'glass', 'wood', 'steel', 'brick', 'glass', 'brick', 'steel', 'concrete', 'brick', 'brick', 'wood', 'brick', 'glass', 'wood', 'wood', 'steel', 'glass', 'glass', 'brick', 'brick', 'glass', 'wood', 'wood', 'wood', 'steel', 'glass', 'glass']\n"
          ]
        }
      ]
    },
    {
      "cell_type": "code",
      "source": [
        "# Part 3 - Reading the Items in your list\n",
        "\n",
        "concrete = 0\n",
        "steel = 0\n",
        "wood = 0\n",
        "brick = 0\n",
        "glass = 0\n",
        "\n",
        "for material in order:\n",
        "    if material == \"concrete\":\n",
        "        concrete += 1\n",
        "    elif material == \"steel\":\n",
        "        steel += 1\n",
        "    elif material == \"wood\":\n",
        "        wood += 1\n",
        "    elif material == \"brick\":\n",
        "        brick += 1\n",
        "    elif material == \"glass\":\n",
        "        glass += 1\n",
        "\n",
        "print(\"Here is our order: \")\n",
        "print(\"Orders of concrete: \", concrete)\n",
        "print(\"Orders of steel: \", steel)\n",
        "print(\"Orders of wood: \", wood)\n",
        "print(\"Orders of brick: \", brick)\n",
        "print(\"Orders of glass: \", glass)"
      ],
      "metadata": {
        "colab": {
          "base_uri": "https://localhost:8080/"
        },
        "id": "fdXz7Y-jCsG8",
        "outputId": "bdc96414-326d-4a19-cc24-931453e22b6d"
      },
      "execution_count": null,
      "outputs": [
        {
          "output_type": "stream",
          "name": "stdout",
          "text": [
            "Here is our order: \n",
            "Orders of concrete:  6\n",
            "Orders of steel:  8\n",
            "Orders of wood:  14\n",
            "Orders of brick:  10\n",
            "Orders of glass:  12\n"
          ]
        }
      ]
    },
    {
      "cell_type": "code",
      "source": [
        "Total_order = [['wood',0],['brick',0],['steel',0]] #List of our order and starting amount\n",
        "#Colab generated code#\n",
        "\n",
        "#Main for loop\n",
        "for material in order:\n",
        "  for item in Total_order:\n",
        "    if material == item[0]:\n",
        "      item[1] += 1\n",
        "\n",
        "\n",
        "#Print out each order of the material\n",
        "for order in range(len(Total_order)):\n",
        "  print(f\"We have {Total_order[order][1]} orders of {Total_order[order][0].title()}\")"
      ],
      "metadata": {
        "colab": {
          "base_uri": "https://localhost:8080/"
        },
        "id": "I9f__UtJFS8J",
        "outputId": "9feaa856-786e-4efa-fc96-af4b86bb079e"
      },
      "execution_count": null,
      "outputs": [
        {
          "output_type": "stream",
          "name": "stdout",
          "text": [
            "We have 14 orders of Wood\n",
            "We have 10 orders of Brick\n",
            "We have 8 orders of Steel\n"
          ]
        }
      ]
    }
  ]
}