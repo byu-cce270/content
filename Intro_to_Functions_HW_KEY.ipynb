{
  "nbformat": 4,
  "nbformat_minor": 0,
  "metadata": {
    "colab": {
      "provenance": [],
      "authorship_tag": "ABX9TyM3LGQuYEz9dHrYx8Fwz9I8",
      "include_colab_link": true
    },
    "kernelspec": {
      "name": "python3",
      "display_name": "Python 3"
    },
    "language_info": {
      "name": "python"
    }
  },
  "cells": [
    {
      "cell_type": "markdown",
      "metadata": {
        "id": "view-in-github",
        "colab_type": "text"
      },
      "source": [
        "<a href=\"https://colab.research.google.com/github/byu-cce270/content/blob/main/Intro_to_Functions_HW_KEY.ipynb\" target=\"_parent\"><img src=\"https://colab.research.google.com/assets/colab-badge.svg\" alt=\"Open In Colab\"/></a>"
      ]
    },
    {
      "cell_type": "markdown",
      "source": [
        "---\n",
        "\n",
        "**Code Block 1**\n",
        "1. Define a function called optimize_rebar(cut_lengths, stock_lengths)\n",
        "2. Calculate the leftover waste length after cutting.\n",
        "3. Calculate the efficiency by dividing the total_cut by the stock length.\n",
        "\n",
        "---"
      ],
      "metadata": {
        "id": "ZO7NgtiWzX82"
      }
    },
    {
      "cell_type": "code",
      "source": [
        "def optimize_rebar(cut_lengths, stock_length):\n",
        "    total_cut = sum(cut_lengths)\n",
        "    if stock_length > total_cut:\n",
        "        waste = stock_length - total_cut\n",
        "    else:\n",
        "        waste = 0\n",
        "\n",
        "    if stock_length > 0:\n",
        "        efficiency = total_cut / stock_length\n",
        "    else:\n",
        "        efficiency = 0\n",
        "\n",
        "    return waste, efficiency"
      ],
      "metadata": {
        "id": "yJ8__QnFzZM1"
      },
      "execution_count": 2,
      "outputs": []
    },
    {
      "cell_type": "markdown",
      "source": [
        "---\n",
        "\n",
        "**Code Block 2**\n",
        "\n",
        "Now you will use the function you defined above to check the rebar efficiency.\n",
        "\n",
        "1. Define a print function that has two parameters, cut length and stock length\n",
        "2. set the waste and efficiency equal to the optimize rebar function that we defined earlier.\n",
        "3. Print the cut lengths, stock length, waste and efficiency.\n",
        "\n",
        "\n",
        "---"
      ],
      "metadata": {
        "id": "zZSQHQH-z0E0"
      }
    },
    {
      "cell_type": "code",
      "source": [
        "# Function to display results\n",
        "def print_results(cut_lengths, stock_length):\n",
        "    waste, efficiency = optimize_rebar(cut_lengths, stock_length)\n",
        "    print(\"Rebar Cut Lengths:\", cut_lengths)\n",
        "    print(f\"Total Stock Length: {stock_length} ft\")\n",
        "    print(f\"Waste: {waste:.2f} ft\")\n",
        "    print(f\"Efficiency: {efficiency*100:.2f}%\")"
      ],
      "metadata": {
        "id": "YwJLWtgDzjpU"
      },
      "execution_count": 3,
      "outputs": []
    },
    {
      "cell_type": "markdown",
      "source": [
        "---\n",
        "\n",
        "**Code Block 3**\n",
        "Test out your code in the following code block.\n",
        "\n",
        "---\n"
      ],
      "metadata": {
        "id": "nSL5voQIzquh"
      }
    },
    {
      "cell_type": "code",
      "source": [
        "cuts = [10, 15, 7, 8]\n",
        "stock = 50\n",
        "print_results(cuts, stock)"
      ],
      "metadata": {
        "colab": {
          "base_uri": "https://localhost:8080/"
        },
        "id": "g-xPO9m-zkbq",
        "outputId": "33b91c49-b4e3-4a7d-f68a-4a41544de52f"
      },
      "execution_count": 5,
      "outputs": [
        {
          "output_type": "stream",
          "name": "stdout",
          "text": [
            "Rebar Cut Lengths: [10, 15, 7, 8]\n",
            "Total Stock Length: 50 ft\n",
            "Waste: 10.00 ft\n",
            "Efficiency: 80.00%\n"
          ]
        }
      ]
    }
  ]
}