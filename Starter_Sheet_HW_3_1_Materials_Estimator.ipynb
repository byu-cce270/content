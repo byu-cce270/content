{
  "nbformat": 4,
  "nbformat_minor": 0,
  "metadata": {
    "colab": {
      "provenance": [],
      "include_colab_link": true
    },
    "kernelspec": {
      "name": "python3",
      "display_name": "Python 3"
    },
    "language_info": {
      "name": "python"
    }
  },
  "cells": [
    {
      "cell_type": "markdown",
      "metadata": {
        "id": "view-in-github",
        "colab_type": "text"
      },
      "source": [
        "<a href=\"https://colab.research.google.com/github/byu-cce270/content/blob/main/Starter_Sheet_HW_3_1_Materials_Estimator.ipynb\" target=\"_parent\"><img src=\"https://colab.research.google.com/assets/colab-badge.svg\" alt=\"Open In Colab\"/></a>"
      ]
    },
    {
      "cell_type": "code",
      "execution_count": null,
      "metadata": {
        "id": "ybedDcXl2nQp",
        "colab": {
          "base_uri": "https://localhost:8080/",
          "height": 228
        },
        "outputId": "290640c8-2c0a-45d6-ebfd-b88eb24580db"
      },
      "outputs": [
        {
          "output_type": "stream",
          "name": "stdout",
          "text": [
            "Gunsmoke \n"
          ]
        },
        {
          "output_type": "error",
          "ename": "NameError",
          "evalue": "name 'getCuFt' is not defined",
          "traceback": [
            "\u001b[0;31m---------------------------------------------------------------------------\u001b[0m",
            "\u001b[0;31mNameError\u001b[0m                                 Traceback (most recent call last)",
            "\u001b[0;32m<ipython-input-6-88b79089e006>\u001b[0m in \u001b[0;36m<cell line: 48>\u001b[0;34m()\u001b[0m\n\u001b[1;32m     46\u001b[0m \u001b[0;31m# Use your functions to get the answers we need!\u001b[0m\u001b[0;34m\u001b[0m\u001b[0;34m\u001b[0m\u001b[0m\n\u001b[1;32m     47\u001b[0m \u001b[0mA\u001b[0m \u001b[0;34m=\u001b[0m \u001b[0mgetArea\u001b[0m\u001b[0;34m(\u001b[0m\u001b[0mxList\u001b[0m\u001b[0;34m,\u001b[0m \u001b[0myList\u001b[0m\u001b[0;34m)\u001b[0m\u001b[0;34m\u001b[0m\u001b[0;34m\u001b[0m\u001b[0m\n\u001b[0;32m---> 48\u001b[0;31m \u001b[0mVf\u001b[0m \u001b[0;34m=\u001b[0m \u001b[0mgetCuFt\u001b[0m\u001b[0;34m(\u001b[0m\u001b[0mA\u001b[0m\u001b[0;34m,\u001b[0m \u001b[0mD\u001b[0m\u001b[0;34m)\u001b[0m\u001b[0;34m\u001b[0m\u001b[0;34m\u001b[0m\u001b[0m\n\u001b[0m\u001b[1;32m     49\u001b[0m \u001b[0mVy\u001b[0m \u001b[0;34m=\u001b[0m \u001b[0mcuftToCuyd\u001b[0m\u001b[0;34m(\u001b[0m\u001b[0mVf\u001b[0m\u001b[0;34m)\u001b[0m\u001b[0;34m\u001b[0m\u001b[0;34m\u001b[0m\u001b[0m\n\u001b[1;32m     50\u001b[0m \u001b[0mT\u001b[0m \u001b[0;34m=\u001b[0m \u001b[0mvolToTon\u001b[0m\u001b[0;34m(\u001b[0m\u001b[0mVy\u001b[0m\u001b[0;34m)\u001b[0m\u001b[0;34m\u001b[0m\u001b[0;34m\u001b[0m\u001b[0m\n",
            "\u001b[0;31mNameError\u001b[0m: name 'getCuFt' is not defined"
          ]
        }
      ],
      "source": [
        "# **************************************************************************\n",
        "# ************** FUNCTIONS go at the top so they can be ********************\n",
        "# ***************   read into memory for use later.     ********************\n",
        "# **************************************************************************\n",
        "\n",
        "# Write a function to convert the area (square-ft) and the depth of gravel (in.) to volumne.\n",
        "\n",
        "# Write a function here to convert cubic feet to cubic yards\n",
        "\n",
        "\n",
        "# Write a function here to convert the volume of materials in cubic yards to tons.\n",
        "\n",
        "# Write a function here to return the cost per ton of different bulk rock products\n",
        "\n",
        "# Here is a function that calculates the area of a polygon (the gravel area) given lists of the x and y coordinates.\n",
        "def getArea(x, y):\n",
        "  area = 0\n",
        "  numPoints = len(x)\n",
        "  j = numPoints-1\n",
        "\n",
        "  for i in range(numPoints):\n",
        "    area = area + (x[j] + x[i]) * (y[j] - y[i])\n",
        "    j = i # j is previous vertex to i\n",
        "\n",
        "  area = area/2\n",
        "  return area\n",
        "\n",
        "\n",
        "# *************************************************************\n",
        "# *****************     MAIN PROGRAM     **********************\n",
        "# ******* The program actually STARTS running HERE ************\n",
        "# *************************************************************\n",
        "\n",
        "# Insert your own link below\n",
        "wb = gc.open_by_url(\"\")\n",
        "myWorksheet = wb.get_worksheet(0)\n",
        "\n",
        "# Selected Gravel(get this from the google sheet)\n",
        "Gravel = myWorksheet.acell('B1').value\n",
        "D = myWorksheet.acell('B2').value\n",
        "\n",
        "#print(Gravel,D)\n",
        "\n",
        "# Lists of the coordinates of the landscaping area in feet\n",
        "xList = [0, 0,  16, 16, 120, 120, 154, 154, 130, 130, 0]\n",
        "yList = [0, 32, 32, 8,  8,   104, 104, 20,  20,  0,   0]\n",
        "\n",
        "# Use your functions to get the answers we need!\n",
        "A = getArea(xList, yList)\n",
        "Vf = getCuFt(A, D)\n",
        "Vy = cuftToCuyd(Vf)\n",
        "T = volToTon(Vy)\n",
        "C = T * getCostOfGravel(Gravel)\n",
        "#store values into google sheet\n",
        "\n",
        "\n",
        "# Print out the results\n",
        "print(\"Area of gravel:\", round(A,2), \"sq-ft\")\n",
        "print(\"Depth of gravel:\", D, \" inches\")\n",
        "print(\"Volume of gravel:\", round(Vy,2), \"sq-yds\")\n",
        "print(\"Tons of gravel:\", round(T,2), \"tons\")\n",
        "print(\"Cost of \" + Gravel + \": $\", round(C))\n",
        "\n",
        "# *************************************************************\n",
        "# **************** The program ends here.  ********************\n",
        "# *************************************************************\n",
        "\n",
        "\n",
        "\n"
      ]
    },
    {
      "cell_type": "code",
      "source": [],
      "metadata": {
        "id": "pyN25fcI129S"
      },
      "execution_count": null,
      "outputs": []
    }
  ]
}