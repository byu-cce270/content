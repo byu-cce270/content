{
 "nbformat": 4,
 "nbformat_minor": 0,
 "metadata": {
  "colab": {
   "provenance": [],
   "include_colab_link": true
  },
  "kernelspec": {
   "name": "python3",
   "display_name": "Python 3"
  },
  "language_info": {
   "name": "python"
  }
 },
 "cells": [
  {
   "cell_type": "markdown",
   "metadata": {
    "id": "view-in-github",
    "colab_type": "text"
   },
   "source": [
    "<a href=\"https://colab.research.google.com/github/byu-cce270/content/blob/main/docs/unit3/01_gspread/hw_gspread_starter_sheet.ipynb\" target=\"_parent\"><img src=\"https://colab.research.google.com/assets/colab-badge.svg\" alt=\"Open In Colab\"/></a>"
   ]
  },
  {
   "cell_type": "code",
   "execution_count": null,
   "metadata": {
    "id": "CiHeK4lGRqQm"
   },
   "outputs": [],
   "source": [
    "# @title Imports\n",
    "#import modules here\n"
   ]
  },
  {
   "cell_type": "code",
   "source": [
    "# @title Bid Analysis Get data from Spreadsheet\n",
    "\n"
   ],
   "metadata": {
    "id": "FY7X6cMZ4ZsN"
   },
   "execution_count": null,
   "outputs": []
  },
  {
   "cell_type": "code",
   "source": [
    "# @title A function to help sort a list\n",
    "# a function that selected the 3rd column of a list,\n",
    "# converts it to a float and returns it for a key.\n",
    "# you may have already coverted to a float - that is ok\n",
    "def sort_key(row):\n",
    "  return float(row[2])"
   ],
   "metadata": {
    "id": "o2DZkrbq-ug3"
   },
   "execution_count": null,
   "outputs": []
  },
  {
   "cell_type": "code",
   "source": [
    "\n",
    "\n",
    "# @title Drywall Bid Analysis\n",
    "# supplied code\n",
    "\n",
    "Drywall = sorted(Drywall, key=sort_key)\n",
    "\n",
    "# different methods\n",
    "# Drywall = Drywall.sort(key=sort_key)\n",
    "# Drywall = sorted(Drywall, key=lambda x: x[2])\n",
    "\n"
   ],
   "metadata": {
    "id": "TTvBKY6Bx-Xg"
   },
   "execution_count": null,
   "outputs": []
  },
  {
   "cell_type": "code",
   "source": [
    "# @title Concrete Bid Analysis\n",
    "\n",
    "Concrete = sorted(Concrete, key=sort_key)\n",
    "\n",
    "# different methods\n",
    "# Concrete = Concrete.sort(key=sort_key)\n",
    "# Drywall = sorted(Drywall, key=lambda x: x[2])"
   ],
   "metadata": {
    "id": "VSGQmwSV4Vzt"
   },
   "execution_count": null,
   "outputs": []
  },
  {
   "cell_type": "code",
   "source": [
    "# @title Client Estimating Portion Get data\n",
    "\n",
    "\n"
   ],
   "metadata": {
    "id": "SYX-mEtx4-hu"
   },
   "execution_count": null,
   "outputs": []
  },
  {
   "cell_type": "code",
   "source": [
    "#@title Define any functions\n",
    "\n"
   ],
   "metadata": {
    "id": "W-oVH3_z-7vi"
   },
   "execution_count": null,
   "outputs": []
  },
  {
   "cell_type": "code",
   "source": [
    "# @title Code for Client Estimates\n",
    "\n",
    "\n"
   ],
   "metadata": {
    "id": "6vRwU5gl-_2e"
   },
   "execution_count": null,
   "outputs": []
  }
 ]
}
