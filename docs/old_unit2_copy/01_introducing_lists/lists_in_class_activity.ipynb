{
 "nbformat": 4,
 "nbformat_minor": 0,
 "metadata": {
  "colab": {
   "provenance": [],
   "include_colab_link": true
  },
  "kernelspec": {
   "name": "python3",
   "display_name": "Python 3"
  },
  "language_info": {
   "name": "python"
  }
 },
 "cells": [
  {
   "cell_type": "markdown",
   "metadata": {
    "id": "view-in-github",
    "colab_type": "text"
   },
   "source": "<a href=\"https://colab.research.google.com/github/byu-cce270/content/blob/main/docs/old_unit2_copy/01_introducing_lists/lists_in_class_activity.ipynb\" target=\"_parent\"><img src=\"https://colab.research.google.com/assets/colab-badge.svg\" alt=\"Open In Colab\"/></a>"
  },
  {
   "cell_type": "markdown",
   "source": [
    "# In Class Exercise: Introduction to Lists and Common List Methods\n",
    "\n",
    "Follow the instructions below to experiment with lists.\n"
   ],
   "metadata": {
    "id": "jPAP6TeXIndd"
   }
  },
  {
   "cell_type": "markdown",
   "source": [
    "## Part 1 - Combining lists"
   ],
   "metadata": {
    "id": "hVmqR9uZHozr"
   }
  },
  {
   "cell_type": "code",
   "source": [
    "# Run the following cell to create 2 lists.\n",
    "\n",
    "mylist = ['Amy', 'Anne', 'Barbara', 'Bob', 'Clare', 'Clark','Jane', 'John', 'Jenny', 'Jerry', 'Joe']\n",
    "mySecondlist = ['Sam', 'Samantha','Tristan', 'Tom', 'Zach']\n"
   ],
   "metadata": {
    "id": "gwf3ulU6H3uO"
   },
   "execution_count": null,
   "outputs": []
  },
  {
   "cell_type": "code",
   "execution_count": null,
   "metadata": {
    "id": "kwiENNz0IbiJ"
   },
   "outputs": [],
   "source": [
    "# Add the second list to the first list using the extend() function and print the result.\n",
    "\n",
    "\n"
   ]
  },
  {
   "cell_type": "code",
   "source": [
    "# Now combine the lists using the append() function and print the result. Do you notice a difference?\n",
    "\n",
    "\n"
   ],
   "metadata": {
    "id": "2_FPNlDPG-wY"
   },
   "execution_count": null,
   "outputs": []
  },
  {
   "cell_type": "markdown",
   "source": [
    "## Part 2 - Adding and removing items"
   ],
   "metadata": {
    "id": "rhn7OIb5ILY5"
   }
  },
  {
   "cell_type": "code",
   "source": [
    "# Run this cell to create a list of foods.\n",
    "\n",
    "foodList = ['beef', 'steak', 'eggs', 'pork','bacon','ham','ribs','fish']"
   ],
   "metadata": {
    "id": "OF2NknIsIT9x"
   },
   "execution_count": null,
   "outputs": []
  },
  {
   "cell_type": "code",
   "source": [
    "# Add 5 foods to the lsit and print them out\n",
    "\n",
    "\n",
    "\n"
   ],
   "metadata": {
    "id": "pePqrbefIxFu"
   },
   "execution_count": null,
   "outputs": []
  },
  {
   "cell_type": "code",
   "source": [
    "# insert another food to the middle of the list somewhere and print your new list\n",
    "\n",
    "\n"
   ],
   "metadata": {
    "id": "r-nTlkbWIhqI"
   },
   "execution_count": null,
   "outputs": []
  },
  {
   "cell_type": "code",
   "source": [
    "#remove the 6th item in your list and print out your new list and the removed item\n",
    "\n",
    "\n"
   ],
   "metadata": {
    "id": "XpwHX6ZsIi30"
   },
   "execution_count": null,
   "outputs": []
  },
  {
   "cell_type": "code",
   "source": [
    "#remove beef from your list and print out your new list\n",
    "\n",
    "\n"
   ],
   "metadata": {
    "id": "1VP2zC7eIlA3"
   },
   "execution_count": null,
   "outputs": []
  },
  {
   "cell_type": "code",
   "source": [
    "#sort the list and print the sorted list out\n",
    "\n"
   ],
   "metadata": {
    "id": "akSWbskgImZl"
   },
   "execution_count": null,
   "outputs": []
  },
  {
   "cell_type": "code",
   "source": [
    "#reverse the list and print it out\n",
    "\n"
   ],
   "metadata": {
    "id": "gr8hOI9_IoDM"
   },
   "execution_count": null,
   "outputs": []
  },
  {
   "cell_type": "code",
   "source": [
    "#count your list and print out the count of items\n",
    "\n"
   ],
   "metadata": {
    "id": "Ut-ZTk83IqCp"
   },
   "execution_count": null,
   "outputs": []
  },
  {
   "cell_type": "markdown",
   "source": [
    "## Part 3 - Lists within lists"
   ],
   "metadata": {
    "id": "m3F-ToauIq-S"
   }
  },
  {
   "cell_type": "code",
   "source": [
    "# Run this cell to create a compound list. Look at the structure.\n",
    "\n",
    "another_list = [['Superman','Batman','Wonder Woman'],'Clark Kent','Bruce Wayne',['George','Sally']]\n"
   ],
   "metadata": {
    "id": "SQfh1iqdJO2Z"
   },
   "execution_count": null,
   "outputs": []
  },
  {
   "cell_type": "code",
   "source": [
    "# write code to access the first list within another_list\n",
    "\n"
   ],
   "metadata": {
    "id": "ljgK6R-6JseK"
   },
   "execution_count": null,
   "outputs": []
  },
  {
   "cell_type": "code",
   "source": [
    "# write code to access Batman\n",
    "\n"
   ],
   "metadata": {
    "id": "rFmvJ0TgJsa5"
   },
   "execution_count": null,
   "outputs": []
  },
  {
   "cell_type": "code",
   "source": [
    "# write code to access Clark Kent\n",
    "\n"
   ],
   "metadata": {
    "id": "9Hr9rvWLJsXD"
   },
   "execution_count": null,
   "outputs": []
  },
  {
   "cell_type": "code",
   "source": [
    "# write code to access George\n",
    "\n"
   ],
   "metadata": {
    "id": "7cEXFpx9JsCi"
   },
   "execution_count": null,
   "outputs": []
  }
 ]
}
