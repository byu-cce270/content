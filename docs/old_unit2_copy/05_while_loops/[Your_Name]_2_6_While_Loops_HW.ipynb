{
  "nbformat": 4,
  "nbformat_minor": 0,
  "metadata": {
    "colab": {
      "provenance": [],
      "authorship_tag": "ABX9TyNn1G9ORQixS7yP+ieAVkHp",
      "include_colab_link": true
    },
    "kernelspec": {
      "name": "python3",
      "display_name": "Python 3"
    },
    "language_info": {
      "name": "python"
    }
  },
  "cells": [
    {
      "cell_type": "markdown",
      "metadata": {
        "id": "view-in-github",
        "colab_type": "text"
      },
      "source": [
        "<a href=\"https://colab.research.google.com/github/byu-cce270/content/blob/main/docs/unit2/05_while_loops/%5BYour_Name%5D_2_6_While_Loops_HW.ipynb\" target=\"_parent\"><img src=\"https://colab.research.google.com/assets/colab-badge.svg\" alt=\"Open In Colab\"/></a>"
      ]
    },
    {
      "cell_type": "code",
      "execution_count": null,
      "metadata": {
        "id": "zwveRw1gk9za"
      },
      "outputs": [],
      "source": [
        "####  Define your variables here  ####\n",
        "\n",
        "A = 0\n",
        "h = 0\n",
        "max = 0\n",
        "d = 0\n",
        "evap = 0\n",
        "days = 0\n",
        "capacity = 0"
      ]
    },
    {
      "cell_type": "code",
      "source": [
        "####  Create your while loop here  ####\n",
        "\n",
        "\n",
        "\n",
        "\n"
      ],
      "metadata": {
        "id": "iXyE_D_clEeX"
      },
      "execution_count": null,
      "outputs": []
    }
  ]
}