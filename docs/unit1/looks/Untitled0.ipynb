{
  "nbformat": 4,
  "nbformat_minor": 0,
  "metadata": {
    "colab": {
      "provenance": [],
      "authorship_tag": "ABX9TyO+vjPedhGMhQRwLo+VjA3L",
      "include_colab_link": true
    },
    "kernelspec": {
      "name": "python3",
      "display_name": "Python 3"
    },
    "language_info": {
      "name": "python"
    }
  },
  "cells": [
    {
      "cell_type": "markdown",
      "metadata": {
        "id": "view-in-github",
        "colab_type": "text"
      },
      "source": [
        "<a href=\"https://colab.research.google.com/github/byu-cce270/content/blob/main/docs/unit1/looks/Untitled0.ipynb\" target=\"_parent\"><img src=\"https://colab.research.google.com/assets/colab-badge.svg\" alt=\"Open In Colab\"/></a>"
      ]
    },
    {
      "cell_type": "code",
      "execution_count": null,
      "metadata": {
        "colab": {
          "base_uri": "https://localhost:8080/"
        },
        "id": "kMq5RdnfyM6p",
        "outputId": "e9efbad6-cf91-4973-8785-857aa104f1ac"
      },
      "outputs": [
        {
          "output_type": "stream",
          "name": "stdout",
          "text": [
            "4\n"
          ]
        }
      ],
      "source": [
        "x = 1\n",
        "y = 7\n",
        "for i in range(3):\n",
        "      x += 1\n",
        "print(x)\n"
      ]
    },
    {
      "cell_type": "code",
      "source": [
        "password = \"password\"\n",
        "result = \"\"\n",
        "capitalize = True\n",
        "for character in password:\n",
        "     if capitalize:\n",
        "         result = result + character.upper()\n",
        "         capitalize = False\n",
        "     else:\n",
        "         result = result + character\n",
        "         capitalize = True\n",
        "print(result)"
      ],
      "metadata": {
        "colab": {
          "base_uri": "https://localhost:8080/"
        },
        "id": "3CYD1NSbyYpg",
        "outputId": "c364966c-534a-42b8-c49a-18a260f72ca0"
      },
      "execution_count": null,
      "outputs": [
        {
          "output_type": "stream",
          "name": "stdout",
          "text": [
            "PaSsWoRd\n"
          ]
        }
      ]
    },
    {
      "cell_type": "code",
      "source": [
        "def add_question(words):\n",
        "    new_words = []\n",
        "    for word in words:\n",
        "        if 'q' in word:\n",
        "            word += '?'\n",
        "        new_words.append(word)\n",
        "    return new_words\n",
        "\n",
        "def add_exclamation(words):\n",
        "    new_words = []\n",
        "    for word in words:\n",
        "        if '?' in word:\n",
        "            word += '!'\n",
        "        new_words.append(word)\n",
        "    return new_words\n",
        "\n",
        "words = [\"Quick!\", \"The\", \"queen\", \"asked\", \"a\", \"question!\"]\n",
        "words = add_question(words)\n",
        "words = add_exclamation(words)\n",
        "print(words[2])"
      ],
      "metadata": {
        "colab": {
          "base_uri": "https://localhost:8080/"
        },
        "id": "tQaGIjjqydwh",
        "outputId": "7e27731b-20db-431b-a2ed-922c315aedbc"
      },
      "execution_count": null,
      "outputs": [
        {
          "output_type": "stream",
          "name": "stdout",
          "text": [
            "queen?!\n"
          ]
        }
      ]
    },
    {
      "cell_type": "code",
      "source": [
        "def multiplyThreeNumbers(a,b,c):\n",
        "    return a + b + c\n",
        "\n",
        "a = 5\n",
        "b = 3\n",
        "c = 1\n",
        "\n",
        "d = ((a - b) * b)/c\n",
        "answer = multiplyThreeNumbers(d,d,d)\n",
        "print(answer)\n",
        "\n"
      ],
      "metadata": {
        "colab": {
          "base_uri": "https://localhost:8080/"
        },
        "id": "Hp3Xt_o3yoYR",
        "outputId": "9edf4540-5b10-47d3-aa26-3b49a3c1988a"
      },
      "execution_count": null,
      "outputs": [
        {
          "output_type": "stream",
          "name": "stdout",
          "text": [
            "18.0\n"
          ]
        }
      ]
    },
    {
      "cell_type": "code",
      "source": [
        "n=0\n",
        "while n<7:\n",
        "    if n < 2:\n",
        "        n = n + 1\n",
        "    elif n < 5:\n",
        "        n = n + 2\n",
        "    else:\n",
        "        n = n + 3\n",
        "print(n)"
      ],
      "metadata": {
        "colab": {
          "base_uri": "https://localhost:8080/"
        },
        "id": "Siegalp6ywxk",
        "outputId": "8761f9b7-0cc8-4c9c-ce1c-b49db13039c7"
      },
      "execution_count": null,
      "outputs": [
        {
          "output_type": "stream",
          "name": "stdout",
          "text": [
            "9\n"
          ]
        }
      ]
    },
    {
      "cell_type": "code",
      "source": [
        "def MyCoolFunction(x,y):\n",
        "  result = 2*x+y-1\n",
        "\n",
        "  return result\n",
        "\n",
        "A = int(input('What is A?'))\n",
        "B = int(input('What is B?'))\n",
        "\n",
        "C = MyCoolFunction(A,B)\n",
        "\n",
        "MyCoolFunction(A,C)"
      ],
      "metadata": {
        "colab": {
          "base_uri": "https://localhost:8080/"
        },
        "id": "v7Nsc_CNy2QA",
        "outputId": "66b2062d-84e8-42a3-ebf7-c6c209fddcb1"
      },
      "execution_count": null,
      "outputs": [
        {
          "name": "stdout",
          "output_type": "stream",
          "text": [
            "What is A?5\n",
            "What is B?0\n"
          ]
        },
        {
          "output_type": "execute_result",
          "data": {
            "text/plain": [
              "18"
            ]
          },
          "metadata": {},
          "execution_count": 21
        }
      ]
    },
    {
      "cell_type": "code",
      "source": [
        "import math\n",
        "\n",
        "\n",
        "def resultPrinter(shape, area):\n",
        "  print(\"\")\n",
        "  print(\"calculating...\")\n",
        "  print(\"\")\n",
        "  print(\"The area for your \" + shape + \" is \" + area)\n",
        "  print(\"\")\n",
        "\n",
        "\n",
        "\n",
        "def areaCal():\n",
        "  cal = input(\"Would you like to calculate an area? yes or no  \")\n",
        "  print(\"\")\n",
        "\n",
        "  while cal == \"yes\":\n",
        "    shape = input(\"What shape? circle, triangle, square, rectangle   \")\n",
        "    print(\"\")\n",
        "\n",
        "    if shape == \"circle\":\n",
        "      r = float(input(\"What is the radius?    \"))\n",
        "      A = math.pi*r*r\n",
        "      area = str(A)\n",
        "      resultPrinter(shape, area)\n",
        "\n",
        "    elif shape == \"triangle\":\n",
        "      l = float(input(\"What is the length?    \"))\n",
        "      h = float(input(\"What is the height?    \"))\n",
        "      A = (1/2)*l*h\n",
        "      area = str(A)\n",
        "      resultPrinter(shape, area)\n",
        "\n",
        "    elif shape == \"rectangle\":\n",
        "      l = float(input(\"What is the length?    \"))\n",
        "      w = float(input(\"What is the width?    \"))\n",
        "      A = l*w\n",
        "      area = str(A)\n",
        "      resultPrinter(shape, area)\n",
        "\n",
        "\n",
        "    elif shape == \"square\":\n",
        "      l = float(input(\"What is the length?    \"))\n",
        "      A = l*l\n",
        "      area = str(A)\n",
        "      resultPrinter(shape, area)\n",
        "\n",
        "\n",
        "    else:\n",
        "      print(\"You enter an invalid shape please try again.\")\n",
        "      print(\"\")\n",
        "\n",
        "\n",
        "\n",
        "    print(\"-----------------------------------------------------------\")\n",
        "    cal = input(\"Would you like to calculate an area? yes or no   \")\n",
        "    print(\"\")\n",
        "\n",
        "  print(\"Goodbye!\")\n",
        "\n",
        "\n",
        "\n",
        "areaCal()\n"
      ],
      "metadata": {
        "colab": {
          "base_uri": "https://localhost:8080/"
        },
        "id": "vLeWlIjXzF3N",
        "outputId": "3c1312b8-d507-49df-b713-e5b97f26c3ce"
      },
      "execution_count": null,
      "outputs": [
        {
          "output_type": "stream",
          "name": "stdout",
          "text": [
            "Would you like to calculate an area? yes or no  no\n",
            "\n",
            "Goodbye!\n"
          ]
        }
      ]
    },
    {
      "cell_type": "code",
      "source": [
        "6 =< 7"
      ],
      "metadata": {
        "id": "GDDT0LcU4m2j",
        "colab": {
          "base_uri": "https://localhost:8080/",
          "height": 143
        },
        "outputId": "cd6073ef-57ea-400a-95d2-953df7ad198f"
      },
      "execution_count": null,
      "outputs": [
        {
          "output_type": "error",
          "ename": "SyntaxError",
          "evalue": "ignored",
          "traceback": [
            "\u001b[0;36m  File \u001b[0;32m\"<ipython-input-4-6ca03e658809>\"\u001b[0;36m, line \u001b[0;32m1\u001b[0m\n\u001b[0;31m    6 =< 7\u001b[0m\n\u001b[0m    ^\u001b[0m\n\u001b[0;31mSyntaxError\u001b[0m\u001b[0;31m:\u001b[0m cannot assign to literal\n"
          ]
        }
      ]
    },
    {
      "cell_type": "code",
      "source": [
        "# @title Default title text\n",
        "garage = \"no\" # @param [\"yes\", \"no\"]\n",
        "if garage == \"yes\":\n",
        "  size = \"2-Car\" # @param [\"2-Car\", \"3-Car\"]"
      ],
      "metadata": {
        "id": "n2BecN0wLIho"
      },
      "execution_count": null,
      "outputs": []
    }
  ]
}