{
  "nbformat": 4,
  "nbformat_minor": 0,
  "metadata": {
    "colab": {
      "provenance": [],
      "include_colab_link": true
    },
    "kernelspec": {
      "name": "python3",
      "display_name": "Python 3"
    },
    "language_info": {
      "name": "python"
    }
  },
  "cells": [
    {
      "cell_type": "markdown",
      "metadata": {
        "id": "view-in-github",
        "colab_type": "text"
      },
      "source": [
        "<a href=\"https://colab.research.google.com/github/byu-cce270/content/blob/main/docs/unit2/0_intro_python_variables/%5BStarter_Sheet%5D_In_Class_Introduction_to_Python%2C_Variables%2C_and_input_Statements.ipynb\" target=\"_parent\"><img src=\"https://colab.research.google.com/assets/colab-badge.svg\" alt=\"Open In Colab\"/></a>"
      ]
    },
    {
      "cell_type": "code",
      "source": [
        "####             THE PRINT FUNCTION                 ####\n"
      ],
      "metadata": {
        "id": "Ll3suIc5QCnk"
      },
      "execution_count": null,
      "outputs": []
    },
    {
      "cell_type": "code",
      "execution_count": null,
      "metadata": {
        "id": "5GoIW6Z_Mkyc"
      },
      "outputs": [],
      "source": [
        "####              CREATING VARIABLES                 ####\n",
        "\n",
        "#create 3 good variable names here:\n",
        "\n",
        "\n",
        "\n",
        "\n",
        "#write code to print your good variables here:\n",
        "\n",
        "\n",
        "#create 3 bad varaible names here:\n",
        "\n",
        "\n"
      ]
    },
    {
      "cell_type": "code",
      "source": [
        "####             VARIABLES ARE CASE SENSITIVE         ####\n",
        "\n",
        "\n",
        "\n",
        "#A will not overwrite a\n",
        "#write code to print a and A here:\n"
      ],
      "metadata": {
        "id": "CLH3o5OGNPFk"
      },
      "execution_count": null,
      "outputs": []
    },
    {
      "cell_type": "code",
      "source": [
        "##STRINGS:\n",
        "\n",
        "x = \"John\"\n",
        "#can also be written as:\n",
        "x = 'John'\n",
        "\n",
        "##INTEGERS:\n",
        "\n",
        "y = 1\n",
        "y = y + 3\n",
        "print(y)\n",
        "#integers are WHOLE numbers, negative or postive, WITHOUT DECIMALS\n",
        "\n",
        "\n",
        "##FLOATS:\n",
        "\n",
        "z = 1.0\n",
        "#float, or \"floating point number\" is an integer WITH DECIMALS\n",
        "\n",
        "\n",
        "#for example:\n",
        "print(type(x))\n",
        "\n",
        "#insert what type of variable x is here:\n",
        "#write code to find out what type of variable y and z are:\n",
        "\n",
        "#y is a:\n",
        "\n",
        "#z is a:\n"
      ],
      "metadata": {
        "id": "Yqwpr1rnQSlR",
        "colab": {
          "base_uri": "https://localhost:8080/",
          "height": 53
        },
        "outputId": "ae12a72b-5f17-4022-f846-2642d0a6aff8"
      },
      "execution_count": null,
      "outputs": [
        {
          "output_type": "stream",
          "name": "stdout",
          "text": [
            "4\n"
          ]
        },
        {
          "output_type": "execute_result",
          "data": {
            "text/plain": [
              "'USE THE TYPE() ARGUMENT IN PYTHON TO DETERMINE THE\\n             TYPE OF VARIABLE SOMETHING IS        '"
            ],
            "application/vnd.google.colaboratory.intrinsic+json": {
              "type": "string"
            }
          },
          "metadata": {},
          "execution_count": 4
        }
      ]
    },
    {
      "cell_type": "code",
      "source": [
        "####                BOOLEAN VALUES                ####\n",
        "# boolean = True or False\n",
        "#for example:\n",
        "\n",
        "\n",
        "\n"
      ],
      "metadata": {
        "id": "XL1urrBPPx79",
        "colab": {
          "base_uri": "https://localhost:8080/",
          "height": 71
        },
        "outputId": "b7e09fa6-fc6e-4e61-a02d-dad38ad8f827"
      },
      "execution_count": null,
      "outputs": [
        {
          "output_type": "stream",
          "name": "stdout",
          "text": [
            "True\n"
          ]
        },
        {
          "output_type": "execute_result",
          "data": {
            "text/plain": [
              "'    write and print two more boolean statements\\n     for Python to evaluate using the Python assignment\\n       or comparison operators on the W3 schools\\n                        website https://www.w3schools.com/python/python_operators.asp        '"
            ],
            "application/vnd.google.colaboratory.intrinsic+json": {
              "type": "string"
            }
          },
          "metadata": {},
          "execution_count": 5
        }
      ]
    },
    {
      "cell_type": "code",
      "source": [
        "####        SWITCHING HOW A VARIABLE IS CATEGORIZED          ####\n",
        "\n",
        "# write a comment next to the variables categorizing its type\n",
        "d = 3\n",
        "e = 2.8\n",
        "f = \"3\"\n",
        "\n",
        "\n",
        "#write code here to change d into a string:\n",
        "\n",
        "#write code here to change e into an integer:\n",
        "\n",
        "\n",
        "#write code here to change f into a float:\n",
        "\n",
        "#print your newly categorized variables:"
      ],
      "metadata": {
        "id": "Hy-wbH9xQwxP",
        "colab": {
          "base_uri": "https://localhost:8080/",
          "height": 35
        },
        "outputId": "b68a53a3-4aba-4714-ff52-669e28aab4a2"
      },
      "execution_count": null,
      "outputs": [
        {
          "output_type": "execute_result",
          "data": {
            "text/plain": [
              "'      int() will turn the variable into a integer\\n         float() will turn the variable into a float\\n         str() will turn the varaible into a string       '"
            ],
            "application/vnd.google.colaboratory.intrinsic+json": {
              "type": "string"
            }
          },
          "metadata": {},
          "execution_count": 6
        }
      ]
    },
    {
      "cell_type": "code",
      "source": [
        "####              THE INPUT FUNCTION           ####\n",
        "\n",
        "#some variables can be stored based on user input\n",
        "\n",
        "pizza = input(\"What's your favorite type of pizza? \")\n",
        "\n",
        "\n",
        "#write your own input statement here:\n",
        "\n",
        "\n"
      ],
      "metadata": {
        "id": "PCrA2OpvUQGV",
        "colab": {
          "base_uri": "https://localhost:8080/"
        },
        "outputId": "e4d060bb-4de5-4df5-bceb-fedfb6ac9112"
      },
      "execution_count": null,
      "outputs": [
        {
          "name": "stdout",
          "output_type": "stream",
          "text": [
            "What's your favorite type of pizza? cheese\n"
          ]
        }
      ]
    }
  ]
}