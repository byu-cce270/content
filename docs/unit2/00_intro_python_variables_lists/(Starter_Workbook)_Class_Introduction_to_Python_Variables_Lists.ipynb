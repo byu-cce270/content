{
  "nbformat": 4,
  "nbformat_minor": 0,
  "metadata": {
    "colab": {
      "provenance": [],
      "include_colab_link": true
    },
    "kernelspec": {
      "name": "python3",
      "display_name": "Python 3"
    },
    "language_info": {
      "name": "python"
    }
  },
  "cells": [
    {
      "cell_type": "markdown",
      "metadata": {
        "id": "view-in-github",
        "colab_type": "text"
      },
      "source": [
        "<a href=\"https://colab.research.google.com/github/byu-cce270/content/blob/main/docs/unit2/00_intro_python_variables_lists/(Starter_Workbook)_Class_Introduction_to_Python_Variables_Lists.ipynb\" target=\"_parent\"><img src=\"https://colab.research.google.com/assets/colab-badge.svg\" alt=\"Open In Colab\"/></a>"
      ]
    },
    {
      "cell_type": "markdown",
      "source": [
        "# Exercise 1 - Basic Python\n",
        "\n",
        "Follow the instructions below to experiment with variables."
      ],
      "metadata": {
        "id": "DHxe3mowQWrc"
      }
    },
    {
      "cell_type": "markdown",
      "source": [
        "## Exercise 1.1 - Your first code"
      ],
      "metadata": {
        "id": "w2QWqHidUz4p"
      }
    },
    {
      "cell_type": "markdown",
      "source": [
        "In the following code block, write a statement that prints \"Hello world\"!"
      ],
      "metadata": {
        "id": "-0Pw9f7fXCzG"
      }
    },
    {
      "cell_type": "code",
      "source": [
        "\n"
      ],
      "metadata": {
        "id": "Ll3suIc5QCnk"
      },
      "execution_count": null,
      "outputs": []
    },
    {
      "cell_type": "markdown",
      "source": [
        "## Exercise 1.2 - Variable basic"
      ],
      "metadata": {
        "id": "jdwxpDKVVV-Z"
      }
    },
    {
      "cell_type": "markdown",
      "source": [
        "Create 3 bad (illegal) variable names. Add comments to explain why they don't work."
      ],
      "metadata": {
        "id": "kXQ6eLvtYeQH"
      }
    },
    {
      "cell_type": "code",
      "source": [
        "\n",
        "\n",
        "\n",
        "\n",
        "\n"
      ],
      "metadata": {
        "id": "ZPZtdUVbYrc_"
      },
      "execution_count": null,
      "outputs": []
    },
    {
      "cell_type": "markdown",
      "source": [
        "Create 3 good (legal) variable names. Print the values of your good variables"
      ],
      "metadata": {
        "id": "_jT6_XcWZRpJ"
      }
    },
    {
      "cell_type": "code",
      "execution_count": null,
      "metadata": {
        "id": "5GoIW6Z_Mkyc"
      },
      "outputs": [],
      "source": [
        "\n",
        "\n",
        "\n",
        "\n",
        "\n"
      ]
    },
    {
      "cell_type": "markdown",
      "source": [
        "Write code to demonstrate that variable names are case sensitive. Hint: use names \"A\" and \"a\". Print the variable values."
      ],
      "metadata": {
        "id": "5pWM3gjzZfau"
      }
    },
    {
      "cell_type": "code",
      "source": [
        "\n",
        "\n",
        "\n"
      ],
      "metadata": {
        "id": "CLH3o5OGNPFk"
      },
      "execution_count": null,
      "outputs": []
    },
    {
      "cell_type": "markdown",
      "source": [
        "## Exercise 1.3 - Variable types"
      ],
      "metadata": {
        "id": "Lo444UtPVk6J"
      }
    },
    {
      "cell_type": "markdown",
      "source": [
        "Show how strings can be used with either double or single quotes."
      ],
      "metadata": {
        "id": "nEBIJwfUZ-27"
      }
    },
    {
      "cell_type": "code",
      "source": [
        "\n",
        "\n",
        "\n"
      ],
      "metadata": {
        "id": "hVslWbSKbBkX"
      },
      "execution_count": null,
      "outputs": []
    },
    {
      "cell_type": "markdown",
      "source": [
        "Create an integer variable and print its value. Then add to it, and print its value again."
      ],
      "metadata": {
        "id": "Y_QnEklFbWXm"
      }
    },
    {
      "cell_type": "code",
      "source": [
        "\n",
        "\n",
        "\n",
        "\n",
        "\n",
        "\n",
        "\n"
      ],
      "metadata": {
        "id": "rD4VRvtzbQc4"
      },
      "execution_count": null,
      "outputs": []
    },
    {
      "cell_type": "markdown",
      "source": [
        "Create a float variable and print its value."
      ],
      "metadata": {
        "id": "5dfS3ZtXbyv9"
      }
    },
    {
      "cell_type": "code",
      "source": [
        "\n",
        "\n",
        "\n"
      ],
      "metadata": {
        "id": "Yqwpr1rnQSlR"
      },
      "execution_count": null,
      "outputs": []
    },
    {
      "cell_type": "markdown",
      "source": [
        "Create variables of at least two different types and then use the type function to print their types."
      ],
      "metadata": {
        "id": "QMmWGtTBcJQ6"
      }
    },
    {
      "cell_type": "code",
      "source": [
        "\n",
        "\n",
        "\n",
        "\n",
        "\n",
        "\n",
        "\n"
      ],
      "metadata": {
        "id": "bIZ45iXTcai9"
      },
      "execution_count": null,
      "outputs": []
    },
    {
      "cell_type": "markdown",
      "source": [
        "# Exercise 2 - List\n",
        "\n",
        "Follow the instructions below to experiment with lists."
      ],
      "metadata": {
        "id": "E7v_PD3GQcyr"
      }
    },
    {
      "cell_type": "markdown",
      "source": [
        "## Exercise 2.1 - Combining list"
      ],
      "metadata": {
        "id": "R-2IakcQTEyn"
      }
    },
    {
      "cell_type": "code",
      "source": [
        "# Run the following cell to create the 2 list\n",
        "\n",
        "mylist = ['Amy', 'Anne', 'Barbara', 'Bob', 'Clare', 'Clark','Jane', 'John', 'Jenny', 'Jerry', 'Joe']\n",
        "mySecondlist = ['Sam', 'Samantha','Tristan', 'Tom', 'Zach']"
      ],
      "metadata": {
        "id": "JHExVnz_Soj2"
      },
      "execution_count": null,
      "outputs": []
    },
    {
      "cell_type": "markdown",
      "source": [
        "Add the second list to the first list using the extend() function and print the result."
      ],
      "metadata": {
        "id": "pI4JTJVIS6qe"
      }
    },
    {
      "cell_type": "code",
      "source": [
        "\n",
        "\n"
      ],
      "metadata": {
        "id": "Wjq1Wqq8Sw2H"
      },
      "execution_count": null,
      "outputs": []
    },
    {
      "cell_type": "markdown",
      "source": [
        "Now combine the lists using the append() function and print the result. Do you notice a difference?"
      ],
      "metadata": {
        "id": "0p20cRS7S-Ie"
      }
    },
    {
      "cell_type": "code",
      "source": [
        "\n",
        "\n"
      ],
      "metadata": {
        "id": "zGlh3N80TAq-"
      },
      "execution_count": null,
      "outputs": []
    },
    {
      "cell_type": "markdown",
      "source": [
        "# Exercise 2.2 - Adding and removing items"
      ],
      "metadata": {
        "id": "VRLUdaFyTXjH"
      }
    },
    {
      "cell_type": "code",
      "source": [
        "# Run this cell to create a list of foods.\n",
        "\n",
        "foodList = ['beef', 'steak', 'eggs', 'pork','bacon','ham','ribs','fish']"
      ],
      "metadata": {
        "id": "2Lxedo8OTiSH"
      },
      "execution_count": null,
      "outputs": []
    },
    {
      "cell_type": "markdown",
      "source": [
        "Add 5 foods to the list and print them out"
      ],
      "metadata": {
        "id": "pcUg17gnTje2"
      }
    },
    {
      "cell_type": "code",
      "source": [
        "\n",
        "\n",
        "\n",
        "\n"
      ],
      "metadata": {
        "id": "LS5fyW-4Tsuf"
      },
      "execution_count": null,
      "outputs": []
    },
    {
      "cell_type": "markdown",
      "source": [
        "Insert another food to the middle of the list somewhere and print your new list"
      ],
      "metadata": {
        "id": "D-rLLoAPTwOP"
      }
    },
    {
      "cell_type": "code",
      "source": [
        "\n"
      ],
      "metadata": {
        "id": "GGVju1r9UGNQ"
      },
      "execution_count": null,
      "outputs": []
    },
    {
      "cell_type": "markdown",
      "source": [
        "Remove the 6th item in your list and print out your new list and the removed item"
      ],
      "metadata": {
        "id": "H0wf_sTfTv8_"
      }
    },
    {
      "cell_type": "code",
      "source": [
        "\n"
      ],
      "metadata": {
        "id": "DCp0Ti3CUHvg"
      },
      "execution_count": null,
      "outputs": []
    },
    {
      "cell_type": "markdown",
      "source": [
        "Remove beef from your list and print out your new list"
      ],
      "metadata": {
        "id": "RB4owIb5Tvw_"
      }
    },
    {
      "cell_type": "code",
      "source": [
        "\n"
      ],
      "metadata": {
        "id": "gZhLuiVTUJPg"
      },
      "execution_count": null,
      "outputs": []
    },
    {
      "cell_type": "markdown",
      "source": [
        "Sort the list and print the sorted list out"
      ],
      "metadata": {
        "id": "bZa2gd9VTvL_"
      }
    },
    {
      "cell_type": "code",
      "source": [
        "\n",
        "\n"
      ],
      "metadata": {
        "id": "5eiriJCkUKe4"
      },
      "execution_count": null,
      "outputs": []
    },
    {
      "cell_type": "markdown",
      "source": [
        "Reverse the list and print it out"
      ],
      "metadata": {
        "id": "ESaXNcejT_eJ"
      }
    },
    {
      "cell_type": "code",
      "source": [
        "\n",
        "\n"
      ],
      "metadata": {
        "id": "7MBxQqNbUMOI"
      },
      "execution_count": null,
      "outputs": []
    },
    {
      "cell_type": "markdown",
      "source": [
        "Count your list and print out the count of items"
      ],
      "metadata": {
        "id": "0NylgAbbUBmP"
      }
    },
    {
      "cell_type": "code",
      "source": [
        "\n",
        "\n"
      ],
      "metadata": {
        "id": "V66TRXg4UNY4"
      },
      "execution_count": null,
      "outputs": []
    },
    {
      "cell_type": "markdown",
      "source": [
        "# Exercise 2.3 - List within lists"
      ],
      "metadata": {
        "id": "RrTBC4R8UPuH"
      }
    },
    {
      "cell_type": "code",
      "source": [
        "# Run this cell to create a compound list. Look at the structure.\n",
        "\n",
        "another_list = [['Superman','Batman','Wonder Woman'],'Clark Kent','Bruce Wayne',['George','Sally']]"
      ],
      "metadata": {
        "id": "tWqq3nORUNxA"
      },
      "execution_count": null,
      "outputs": []
    },
    {
      "cell_type": "markdown",
      "source": [
        "Write code to access the first list within another_list"
      ],
      "metadata": {
        "id": "S4Df7wVpUhDo"
      }
    },
    {
      "cell_type": "code",
      "source": [
        "\n"
      ],
      "metadata": {
        "id": "TSqd62EeUriY"
      },
      "execution_count": null,
      "outputs": []
    },
    {
      "cell_type": "markdown",
      "source": [
        "Write code to access Batman"
      ],
      "metadata": {
        "id": "61YPWMSsUgSA"
      }
    },
    {
      "cell_type": "code",
      "source": [
        "\n"
      ],
      "metadata": {
        "id": "SWgqI7IUUr-o"
      },
      "execution_count": null,
      "outputs": []
    },
    {
      "cell_type": "markdown",
      "source": [
        "Write code to access Clark Kent"
      ],
      "metadata": {
        "id": "brEGdlakUgIg"
      }
    },
    {
      "cell_type": "code",
      "source": [
        "\n"
      ],
      "metadata": {
        "id": "xcnRAICnUsdA"
      },
      "execution_count": null,
      "outputs": []
    },
    {
      "cell_type": "markdown",
      "source": [
        "Write code to access George"
      ],
      "metadata": {
        "id": "Jsxc_LDfUfxA"
      }
    },
    {
      "cell_type": "code",
      "source": [
        "\n"
      ],
      "metadata": {
        "id": "pCLvpXBzUNi4"
      },
      "execution_count": null,
      "outputs": []
    }
  ]
}