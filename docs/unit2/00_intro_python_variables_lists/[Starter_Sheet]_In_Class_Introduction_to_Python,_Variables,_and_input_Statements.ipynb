{
 "nbformat": 4,
 "nbformat_minor": 0,
 "metadata": {
  "colab": {
   "provenance": [],
   "include_colab_link": true
  },
  "kernelspec": {
   "name": "python3",
   "display_name": "Python 3"
  },
  "language_info": {
   "name": "python"
  }
 },
 "cells": [
  {
   "cell_type": "markdown",
   "metadata": {
    "id": "view-in-github",
    "colab_type": "text"
   },
   "source": "<a href=\"https://colab.research.google.com/github/byu-cce270/content/blob/main/docs/unit2/00_intro_python_variables_lists/%5BStarter_Sheet%5D_In_Class_Introduction_to_Python%2C_Variables%2C_and_input_Statements.ipynb\" target=\"_parent\"><img src=\"https://colab.research.google.com/assets/colab-badge.svg\" alt=\"Open In Colab\"/></a>"
  },
  {
   "cell_type": "markdown",
   "source": [
    "**1.** In the following code block, write a print function that should return/print \"Hello world\"!"
   ],
   "metadata": {
    "id": "-0Pw9f7fXCzG"
   }
  },
  {
   "cell_type": "code",
   "source": [
    "\n",
    "\n"
   ],
   "metadata": {
    "id": "Ll3suIc5QCnk"
   },
   "execution_count": null,
   "outputs": []
  },
  {
   "cell_type": "markdown",
   "source": [
    "**2.** Create 3 bad (illegal) variable names. Add comments to explain why they don't work."
   ],
   "metadata": {
    "id": "kXQ6eLvtYeQH"
   }
  },
  {
   "cell_type": "code",
   "source": [
    "\n",
    "\n"
   ],
   "metadata": {
    "id": "ZPZtdUVbYrc_"
   },
   "execution_count": null,
   "outputs": []
  },
  {
   "cell_type": "markdown",
   "source": [
    "**3.** Create 3 good (legal) variable names. Print the values of your good variables"
   ],
   "metadata": {
    "id": "_jT6_XcWZRpJ"
   }
  },
  {
   "cell_type": "code",
   "execution_count": null,
   "metadata": {
    "id": "5GoIW6Z_Mkyc"
   },
   "outputs": [],
   "source": [
    "\n",
    "\n",
    "\n",
    "\n",
    "\n",
    "\n"
   ]
  },
  {
   "cell_type": "markdown",
   "source": [
    "**4.** Write code to demonstrate that variable names are case sensitive. Hint: use names \"A\" and \"a\". Print the variable values."
   ],
   "metadata": {
    "id": "5pWM3gjzZfau"
   }
  },
  {
   "cell_type": "code",
   "source": [
    "\n",
    "\n",
    "\n",
    "\n",
    "\n",
    "\n"
   ],
   "metadata": {
    "id": "CLH3o5OGNPFk"
   },
   "execution_count": null,
   "outputs": []
  },
  {
   "cell_type": "markdown",
   "source": [
    "**5.** Show how strings can be used with either double or single quotes."
   ],
   "metadata": {
    "id": "nEBIJwfUZ-27"
   }
  },
  {
   "cell_type": "code",
   "source": [
    "\n",
    "\n",
    "\n",
    "\n"
   ],
   "metadata": {
    "id": "hVslWbSKbBkX"
   },
   "execution_count": null,
   "outputs": []
  },
  {
   "cell_type": "markdown",
   "source": [
    "**6.** Create an integer variable and print its value. Then add to it, and print its value again."
   ],
   "metadata": {
    "id": "Y_QnEklFbWXm"
   }
  },
  {
   "cell_type": "code",
   "source": [
    "\n",
    "\n",
    "\n",
    "\n",
    "\n"
   ],
   "metadata": {
    "id": "rD4VRvtzbQc4"
   },
   "execution_count": null,
   "outputs": []
  },
  {
   "cell_type": "markdown",
   "source": [
    "**7.** Create a float variable and print its value."
   ],
   "metadata": {
    "id": "5dfS3ZtXbyv9"
   }
  },
  {
   "cell_type": "code",
   "source": [
    "\n",
    "\n",
    "\n",
    "\n",
    "\n"
   ],
   "metadata": {
    "id": "Yqwpr1rnQSlR"
   },
   "execution_count": null,
   "outputs": []
  },
  {
   "cell_type": "markdown",
   "source": [
    "**8.** Create variables of at least two different types and then use the type function to print their types."
   ],
   "metadata": {
    "id": "QMmWGtTBcJQ6"
   }
  },
  {
   "cell_type": "code",
   "source": [
    "\n",
    "\n",
    "\n",
    "\n",
    "\n",
    "\n",
    "\n",
    "\n"
   ],
   "metadata": {
    "id": "bIZ45iXTcai9"
   },
   "execution_count": null,
   "outputs": []
  },
  {
   "cell_type": "markdown",
   "source": [
    "**9.** Use the input fuction to prompt the user to enter his/her name. Then echo back, \"Hello **name**, nice to meet you.\" and use the name that was entered. Use an f-string to print the response."
   ],
   "metadata": {
    "id": "n-Wh-VUQdYZh"
   }
  },
  {
   "cell_type": "code",
   "source": [
    "\n",
    "\n",
    "\n",
    "\n",
    "\n"
   ],
   "metadata": {
    "id": "eipwHe8qdmed"
   },
   "execution_count": null,
   "outputs": []
  },
  {
   "cell_type": "markdown",
   "source": [
    "**10.** Use the input fuction to prompt the user to enter his/her age. Convert the age to an integer. Then echo back, \"You are **age** years old.\" and use the age that was entered. Use an f-string to print the response."
   ],
   "metadata": {
    "id": "5Aj1xDXdeDT1"
   }
  },
  {
   "cell_type": "code",
   "source": [
    "\n",
    "\n",
    "\n",
    "\n"
   ],
   "metadata": {
    "id": "GJHNTOZbd31C"
   },
   "execution_count": null,
   "outputs": []
  }
 ]
}
