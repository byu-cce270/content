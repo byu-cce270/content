{
  "nbformat": 4,
  "nbformat_minor": 0,
  "metadata": {
    "colab": {
      "provenance": [],
      "include_colab_link": true
    },
    "kernelspec": {
      "name": "python3",
      "display_name": "Python 3"
    },
    "language_info": {
      "name": "python"
    }
  },
  "cells": [
    {
      "cell_type": "markdown",
      "metadata": {
        "id": "view-in-github",
        "colab_type": "text"
      },
      "source": [
        "<a href=\"https://colab.research.google.com/github/byu-cce270/content/blob/main/docs/unit2/01_for_loops_into_functions/(Starter_Workbook)_Class_For_Loops.ipynb\" target=\"_parent\"><img src=\"https://colab.research.google.com/assets/colab-badge.svg\" alt=\"Open In Colab\"/></a>"
      ]
    },
    {
      "cell_type": "markdown",
      "source": [
        "# Simple For Loops"
      ],
      "metadata": {
        "id": "z6w-ZPNRG6-J"
      }
    },
    {
      "cell_type": "code",
      "execution_count": null,
      "metadata": {
        "id": "1ICbPnV4EvWw"
      },
      "outputs": [],
      "source": [
        "# Run the following code to build and print the contents of a list\n",
        "\n",
        "animals = ['zebra', 'porcupine', 'elephant', 'giraffe']\n",
        "\n",
        "for animal in animals:\n",
        "  print(f\"A {animal.title()} would make a wonderful pet.\")"
      ]
    },
    {
      "cell_type": "code",
      "source": [
        "# In this code block, write your own list of animal names and create a for loop to print all of them.\n",
        "\n",
        "\n",
        "\n",
        "\n",
        "\n"
      ],
      "metadata": {
        "id": "hDGQ78u2-U0Q"
      },
      "execution_count": null,
      "outputs": []
    },
    {
      "cell_type": "markdown",
      "source": [
        "# Nested For Loops"
      ],
      "metadata": {
        "id": "uC-V0PmgHV2N"
      }
    },
    {
      "cell_type": "code",
      "source": [
        "# Run this code to combine adjectives and nouns using a nested loop\n",
        "\n",
        "adjs = [\"large\", \"happy\", \"fat\", \"quiet\"]\n",
        "animals = [\"zebra\", \"porcupine\", \"elephant\", \"giraffe\"]\n",
        "\n",
        "for adj in adjs:\n",
        "  for animal in animals:\n",
        "    print(adj, animal)"
      ],
      "metadata": {
        "id": "_9TMW60JFnXQ"
      },
      "execution_count": null,
      "outputs": []
    },
    {
      "cell_type": "code",
      "source": [
        "# Create your own nested for loop using the lists below\n",
        "\n",
        "adj = [\"sweet\", \"ripe\", \"delicious\"]\n",
        "fruits = [\"pear\", \"mango\", \"kiwi\"]\n",
        "\n"
      ],
      "metadata": {
        "id": "ZAxJHxB7-g-F"
      },
      "execution_count": null,
      "outputs": []
    },
    {
      "cell_type": "markdown",
      "source": [
        "# Creating a list within a loop"
      ],
      "metadata": {
        "id": "aJ98pg78INWN"
      }
    },
    {
      "cell_type": "code",
      "source": [
        "# Run the following code\n",
        "\n",
        "mylist = ['Amy', 'Anne', 'Barbara', 'Bob', 'Clare', 'Clark', 'Jane', 'John', 'Jenny', 'Jerry', 'Joe']\n",
        "\n",
        "myNewList = []\n",
        "\n",
        "for i in mylist:\n",
        "  newItem = i + ' Smith'\n",
        "  myNewList.append(newItem)\n",
        "\n",
        "print(myNewList)"
      ],
      "metadata": {
        "id": "95hVw50KFJ4A"
      },
      "execution_count": null,
      "outputs": []
    },
    {
      "cell_type": "code",
      "source": [
        "# In this code block, write your own for loop using mylist\n",
        "# Also, create a list that tells everyone Hello \"Name\" for each name\n",
        "\n",
        "\n",
        "\n",
        "\n",
        "\n"
      ],
      "metadata": {
        "id": "0UCqhBex-kx3"
      },
      "execution_count": null,
      "outputs": []
    },
    {
      "cell_type": "markdown",
      "source": [
        "# Lists of Lists in For loops\n",
        "When you have a list of lists we learned how to access the various elements.\n",
        "\n",
        "For example if you have a list of fruits\n",
        "\n",
        "\n",
        "```\n",
        "# This is formatted as code\n",
        "fruits = [[\"banana\", \"yellow\"], [\"apple\",\"red\"], [\"grape\",\"blue\"]]\n",
        "```\n",
        "We can acess the color of an apple as\n",
        "\n",
        "\n",
        "```\n",
        "# This is formatted as code\n",
        "fruits[1][1]\n",
        "```\n",
        "Or the second element of the second list\n",
        "\n",
        "We can also take elements from the list into a new variable.\n",
        "\n",
        "\n",
        "```\n",
        "# This is formatted as code\n",
        "fruit, color = fruits[1]\n",
        "```\n",
        "This takes the second element in the list and sets the variable fruit=\"apple\" and the variable color=\"red\"\n",
        "\n",
        "\n",
        "We can do something simliar in loops, but there is a neat shortcut we will show you.\n",
        "\n",
        "Try the below activity, then we will show you the trick\n",
        "\n",
        "\n",
        "\n",
        "\n",
        "\n"
      ],
      "metadata": {
        "id": "txA6f9FXJOzw"
      }
    },
    {
      "cell_type": "code",
      "source": [
        "# Working with \"lists of lists\" is similar - you just need to remember each item in the list is a list\n",
        "\n",
        "names = [\n",
        "    [\"Gus\", \"Williams\"],\n",
        "    [\"Norm\", \"Jones\"],\n",
        "    [\"Brandan\", \"Williamson\"]\n",
        "    ]\n",
        "\n",
        "# Note: you could put the above all on one line, but it is more readable to use multiple lines\n",
        "# python realizes that you haven't completed the code, and allows you to have more than one line\n",
        "\n",
        "first, last = names[0]\n",
        "print(first, last)\n"
      ],
      "metadata": {
        "id": "FoGqCAaJE6DQ"
      },
      "execution_count": null,
      "outputs": []
    },
    {
      "cell_type": "code",
      "source": [
        "# Print the first list from \"names\"\n",
        "\n"
      ],
      "metadata": {
        "id": "X1KAy5sfIkNd"
      },
      "execution_count": null,
      "outputs": []
    },
    {
      "cell_type": "code",
      "source": [
        "# Write a print statement for the first list in names that says:\n",
        "# my first name is [fill in the name here] and my last name is [fill in the name here]\n",
        "\n"
      ],
      "metadata": {
        "id": "VDf0zUYoI1Zt"
      },
      "execution_count": null,
      "outputs": []
    },
    {
      "cell_type": "code",
      "source": [
        "# Now write a loop that goes through the list and prints the statement from above for each name\n",
        "\n",
        "\n"
      ],
      "metadata": {
        "id": "EpvmgrinI26L"
      },
      "execution_count": null,
      "outputs": []
    },
    {
      "cell_type": "code",
      "source": [
        "# There is another way to work with a list of lists in loops using multiple variables\n",
        "# fname, lname vs. name[0] name[1]\n",
        "\n",
        "\n"
      ],
      "metadata": {
        "id": "l3uB2HlRI4mM"
      },
      "execution_count": null,
      "outputs": []
    },
    {
      "cell_type": "markdown",
      "source": [
        "# Slicing\n",
        "\n",
        "Now we will experiment with using slicing to access a portion of a list."
      ],
      "metadata": {
        "id": "B6Qdn5OT4M2n"
      }
    },
    {
      "cell_type": "code",
      "source": [
        "# Run this cell to create a new list of cities to visit\n",
        "cities = ['New York', 'Los Angeles', 'Chicago', 'Houston', 'Phoenix', 'Philadelphia', 'San Antonio']"
      ],
      "metadata": {
        "id": "cjK6ztpO4J62"
      },
      "execution_count": null,
      "outputs": []
    },
    {
      "cell_type": "code",
      "source": [
        "# Use slicing to print the first 3 cities in the list (note how the index works)\n",
        "\n"
      ],
      "metadata": {
        "id": "YdbpOhuk4oB7"
      },
      "execution_count": null,
      "outputs": []
    },
    {
      "cell_type": "code",
      "source": [
        "# Use slicing to print the 3rd and 4th cities in the list\n",
        "\n"
      ],
      "metadata": {
        "id": "ZehW0yyy4vD9"
      },
      "execution_count": null,
      "outputs": []
    },
    {
      "cell_type": "code",
      "source": [
        "# Use slicing to print the cities from the 4th city to the end of the list.\n",
        "\n"
      ],
      "metadata": {
        "id": "KgN4CoMe45QY"
      },
      "execution_count": null,
      "outputs": []
    },
    {
      "cell_type": "code",
      "source": [
        "# Use a negative slice index to print the last two cities\n",
        "\n"
      ],
      "metadata": {
        "id": "zbQOSmE95G7A"
      },
      "execution_count": null,
      "outputs": []
    },
    {
      "cell_type": "code",
      "source": [
        "# Run this codes to create a new list.\n",
        "cities2 = cities\n",
        "print(cities)\n",
        "print(cities2)"
      ],
      "metadata": {
        "id": "HRKv95r05Mv0"
      },
      "execution_count": null,
      "outputs": []
    },
    {
      "cell_type": "code",
      "source": [
        "# Now append 'Provo' to the original list and print both lists. Notice what happens\n",
        "\n",
        "\n"
      ],
      "metadata": {
        "id": "2Wp0FoMM5UXs"
      },
      "execution_count": null,
      "outputs": []
    },
    {
      "cell_type": "code",
      "source": [
        "# Now write a statement that makes a new list called cities3 which is a separate list using slicing.\n",
        "# Modify the new list and print both lists.\n",
        "\n",
        "\n"
      ],
      "metadata": {
        "id": "JmGLiNhm5WoZ"
      },
      "execution_count": null,
      "outputs": []
    }
  ]
}