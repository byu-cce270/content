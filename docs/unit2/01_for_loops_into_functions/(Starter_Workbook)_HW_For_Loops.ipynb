{
  "nbformat": 4,
  "nbformat_minor": 0,
  "metadata": {
    "colab": {
      "provenance": [],
      "include_colab_link": true
    },
    "kernelspec": {
      "name": "python3",
      "display_name": "Python 3"
    },
    "language_info": {
      "name": "python"
    }
  },
  "cells": [
    {
      "cell_type": "markdown",
      "metadata": {
        "id": "view-in-github",
        "colab_type": "text"
      },
      "source": [
        "<a href=\"https://colab.research.google.com/github/byu-cce270/content/blob/main/docs/unit2/01_for_loops_into_functions/(Starter_Workbook)_HW_For_Loops.ipynb\" target=\"_parent\"><img src=\"https://colab.research.google.com/assets/colab-badge.svg\" alt=\"Open In Colab\"/></a>"
      ]
    },
    {
      "cell_type": "markdown",
      "source": [
        "# HW: For Loops\n",
        "-------------------------------------\n",
        "Follow the instructions in the comments below.\n"
      ],
      "metadata": {
        "id": "f3lXtp3ShxVc"
      }
    },
    {
      "cell_type": "markdown",
      "source": [
        "## Part 1 - Looping over beam lengths\n",
        "\n",
        "In this part, you will create and edit a list of beam lengths and then use a loop to calculate some statistics about the lenghts."
      ],
      "metadata": {
        "id": "7sPOKwIfqxxk"
      }
    },
    {
      "cell_type": "code",
      "source": [
        "# Code Block 1\n",
        "# This is a given list of beam lengths in cm.\n",
        "\n",
        "beam_lengths = [830, 420, 900, 360, 640]"
      ],
      "metadata": {
        "id": "oDnM1k6nhxIs"
      },
      "execution_count": null,
      "outputs": []
    },
    {
      "cell_type": "code",
      "source": [
        "# Code Block 2\n",
        "\n",
        "\n",
        "\n"
      ],
      "metadata": {
        "id": "vV0ug_TMqkBb"
      },
      "execution_count": null,
      "outputs": []
    },
    {
      "cell_type": "code",
      "source": [
        "# Code Block 3\n",
        "\n",
        "\n",
        "\n",
        "\n",
        "\n",
        "\n"
      ],
      "metadata": {
        "id": "Tza_1dEXqjzA"
      },
      "execution_count": null,
      "outputs": []
    },
    {
      "cell_type": "code",
      "source": [
        "# Code Block 4\n",
        "\n",
        "\n",
        "\n"
      ],
      "metadata": {
        "id": "etcL28vMqpag"
      },
      "execution_count": null,
      "outputs": []
    },
    {
      "cell_type": "code",
      "source": [
        "# Code Block 5\n",
        "\n",
        "\n",
        "\n",
        "\n"
      ],
      "metadata": {
        "id": "0rkA4SK0qrPK"
      },
      "execution_count": null,
      "outputs": []
    },
    {
      "cell_type": "markdown",
      "source": [
        "## Part 2 - Calculating beam deflections\n",
        "\n",
        "In this part, you will create and edit a list of beam lengths and then use a nested loop to calculate how much each beam deflects based on the application of a set of loads. Refer to the diagram and equation in the homework description."
      ],
      "metadata": {
        "id": "562vZjvVq0Ss"
      }
    },
    {
      "cell_type": "code",
      "execution_count": null,
      "metadata": {
        "id": "Ix2t8rnAhboS"
      },
      "outputs": [],
      "source": [
        "# Code Block 6\n",
        "# Run this cell to reset the same list of beam lengths in meters.\n",
        "beam_lengths = [830, 420, 900, 360, 640]"
      ]
    },
    {
      "cell_type": "code",
      "source": [
        "# Code Block 7\n",
        "\n"
      ],
      "metadata": {
        "id": "8_D-1B3VsHB7"
      },
      "execution_count": null,
      "outputs": []
    },
    {
      "cell_type": "code",
      "source": [
        "# Code Block 8\n",
        "\n",
        "# Here are the given values for E, I, and the loads given that it's a steel beam.\n",
        "# Run this cell to initialize the variables and the list\n",
        "\n",
        "E = 20e6 # Young's modulus in N/cm^2)\n",
        "I = 4800 # Moment of Inertia in cm^4\n",
        "loads = [(2500, 150), (7000, 320)] # List of loads (P) in Newtons and their positions (x) in cm on the beams\n"
      ],
      "metadata": {
        "id": "Lex0YlO-sG_B"
      },
      "execution_count": null,
      "outputs": []
    },
    {
      "cell_type": "code",
      "source": [
        "# Code Block 9\n",
        "\n",
        "\n",
        "\n",
        "\n",
        "\n"
      ],
      "metadata": {
        "id": "z2vGlxiYsG2d"
      },
      "execution_count": null,
      "outputs": []
    }
  ]
}