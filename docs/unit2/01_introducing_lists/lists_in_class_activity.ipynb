{
  "nbformat": 4,
  "nbformat_minor": 0,
  "metadata": {
    "colab": {
      "provenance": [],
      "include_colab_link": true
    },
    "kernelspec": {
      "name": "python3",
      "display_name": "Python 3"
    },
    "language_info": {
      "name": "python"
    }
  },
  "cells": [
    {
      "cell_type": "markdown",
      "metadata": {
        "id": "view-in-github",
        "colab_type": "text"
      },
      "source": [
        "<a href=\"https://colab.research.google.com/github/byu-cce270/content/blob/main/docs/unit2/01_introducing_lists/lists_in_class_activity.ipynb\" target=\"_parent\"><img src=\"https://colab.research.google.com/assets/colab-badge.svg\" alt=\"Open In Colab\"/></a>"
      ]
    },
    {
      "cell_type": "markdown",
      "source": [
        "##**Common List Methods**\n",
        "\n",
        "\n",
        "*   append() - adds an element at the end of a list\n",
        "*   clear() - removes all the elements from the list\n",
        "*   copy() - returns a copy of the list\n",
        "*   count() - returns the number of elements with the specified value\n",
        "*   extend() - add the elements of a list, to the end of a current list\n",
        "*   index() - returns the index of the first element with the specified value\n",
        "*   insert() - adds an element at the specified position\n",
        "*   pop() - removes the element at the specified position\n",
        "*   remove() - removes the item with the specified value\n",
        "*   reverse() - reverses the order of the list\n",
        "*   sort() - sorts the list"
      ],
      "metadata": {
        "id": "jPAP6TeXIndd"
      }
    },
    {
      "cell_type": "code",
      "execution_count": null,
      "metadata": {
        "id": "kwiENNz0IbiJ"
      },
      "outputs": [],
      "source": [
        "mylist = ['Amy', 'Anne', 'Barbara', 'Bob', 'Clare', 'Clark','Jane', 'John', 'Jenny', 'Jerry', 'Joe']\n",
        "mySecondlist = ['Sam', 'Samantha','Tristan', 'Tom', 'Zach']\n",
        "\n",
        "#write code here that will add mySecondlist to the end of mylist\n",
        "\n",
        "\n",
        "#notice the difference between append() and extend()\n"
      ]
    },
    {
      "cell_type": "code",
      "source": [
        "#common methods to change lists and dictionaries\n",
        "foodList = ['beef', 'steak', 'eggs', 'pork','bacon','ham','ribs','fish']\n",
        "\n",
        "#add five foods to the end of your list and print it out\n",
        "\n",
        "\n",
        "#insert another food to the middle of the list somewhere and print your new list\n",
        "\n",
        "\n",
        "#remove the 6th item in your list and print out your new list and the removed item\n",
        "\n",
        "\n",
        "\n",
        "#remove beef from your list and print out your new list\n",
        "\n",
        "\n",
        "#sort the list and print the sorted list out\n",
        "\n",
        "\n",
        "#reverse the list and print the reversed list out\n",
        "\n",
        "#count your list and print out the count of items\n"
      ],
      "metadata": {
        "id": "pePqrbefIxFu"
      },
      "execution_count": null,
      "outputs": []
    },
    {
      "cell_type": "code",
      "source": [
        "#let's go over lists within lists as well\n",
        "another_list = [['Superman','Batman','Wonder Woman'],'Clark Kent','Bruce Wayne',['George','Sally']]\n",
        "\n",
        "#write code to access the first list within another_list\n",
        "\n",
        "\n",
        "#write code to access Batman\n",
        "\n",
        "\n",
        "#write code to access Clark Kent\n",
        "\n",
        "\n",
        "#write code to access George"
      ],
      "metadata": {
        "id": "SQfh1iqdJO2Z"
      },
      "execution_count": null,
      "outputs": []
    }
  ]
}