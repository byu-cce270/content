{
  "nbformat": 4,
  "nbformat_minor": 0,
  "metadata": {
    "colab": {
      "provenance": [],
      "include_colab_link": true
    },
    "kernelspec": {
      "name": "python3",
      "display_name": "Python 3"
    },
    "language_info": {
      "name": "python"
    }
  },
  "cells": [
    {
      "cell_type": "markdown",
      "metadata": {
        "id": "view-in-github",
        "colab_type": "text"
      },
      "source": [
        "<a href=\"https://colab.research.google.com/github/byu-cce270/content/blob/main/docs/unit2/02_for_loops_into_functions/for_loops_hw.ipynb\" target=\"_parent\"><img src=\"https://colab.research.google.com/assets/colab-badge.svg\" alt=\"Open In Colab\"/></a>"
      ]
    },
    {
      "cell_type": "markdown",
      "source": [
        "# HW: For Loops\n",
        "-------------------------------------\n",
        "Follow the instructions in the comments below."
      ],
      "metadata": {
        "id": "f3lXtp3ShxVc"
      }
    },
    {
      "cell_type": "markdown",
      "source": [
        "###Part 1"
      ],
      "metadata": {
        "id": "DVzc3P6SAm39"
      }
    },
    {
      "cell_type": "code",
      "source": [
        "# This is a given list of beam lengths in mm.\n",
        "beam_lengths = [8.3, 4.2, 9.0, 3.6, 6.4]\n",
        "\n",
        "# Append a length of 5.7 to the given list\n",
        "\n",
        "# Create a variable to store the value of the total length of all beam\n",
        "\n",
        "# Create a for loop to calculate the total length of all the beams\n",
        "\n",
        "# Calculate the average length of the beams\n",
        "\n",
        "# Create a for loop to count the number of beams that are longer than 5 mm (long beams)\n",
        "\n",
        "# Create print statements to output the results\n"
      ],
      "metadata": {
        "id": "oDnM1k6nhxIs"
      },
      "execution_count": null,
      "outputs": []
    },
    {
      "cell_type": "markdown",
      "source": [
        "###Part 2"
      ],
      "metadata": {
        "id": "OVA4mPS4Ar2O"
      }
    },
    {
      "cell_type": "code",
      "execution_count": null,
      "metadata": {
        "id": "Ix2t8rnAhboS"
      },
      "outputs": [],
      "source": [
        "# This is the same given list of beam lengths in mm.\n",
        "beam_lengths = [8.3, 4.2, 9.0, 3.6, 6.4]\n",
        "\n",
        "# Delete the last length from the list\n",
        "\n",
        "# Here are the given values for E, I, and the loads given that it's a steel beam\n",
        "E = 200 # Young's modulus in GPa (N/mm^2)\n",
        "I = 100000000 # Moment of Inertia in mm^4\n",
        "loads = [(250, 3.2), (700, 1.0)] # List of loads (P) and their positions (x) on the beams\n",
        "\n",
        "# Create a variable to store the value of the total deflection on the beam\n",
        "\n",
        "# Create a for loop to calculate the total deflection\n",
        "\n",
        "# Create a print statement that specifies the length of the beam and the total deflection.\n"
      ]
    }
  ]
}