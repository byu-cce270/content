{
  "nbformat": 4,
  "nbformat_minor": 0,
  "metadata": {
    "colab": {
      "provenance": [],
      "include_colab_link": true
    },
    "kernelspec": {
      "name": "python3",
      "display_name": "Python 3"
    },
    "language_info": {
      "name": "python"
    }
  },
  "cells": [
    {
      "cell_type": "markdown",
      "metadata": {
        "id": "view-in-github",
        "colab_type": "text"
      },
      "source": [
        "<a href=\"https://colab.research.google.com/github/byu-cce270/content/blob/main/docs/unit2/02_for_loops_into_functions/for_loops_hw.ipynb\" target=\"_parent\"><img src=\"https://colab.research.google.com/assets/colab-badge.svg\" alt=\"Open In Colab\"/></a>"
      ]
    },
    {
      "cell_type": "markdown",
      "source": [
        "# HW: For Loops\n",
        "-------------------------------------\n",
        "Follow the instructions in the comments below.\n"
      ],
      "metadata": {
        "id": "f3lXtp3ShxVc"
      }
    },
    {
      "cell_type": "markdown",
      "source": [
        "## Part 1 - Looping over beam lengths\n",
        "\n",
        "In this part, you will create and edit a list of beam lengths and then use a loop to calculate some statistics about the lenghts."
      ],
      "metadata": {
        "id": "7sPOKwIfqxxk"
      }
    },
    {
      "cell_type": "code",
      "source": [
        "# This is a given list of beam lengths in mm.\n",
        "\n",
        "beam_lengths = [8.3, 4.2, 9.0, 3.6, 6.4]"
      ],
      "metadata": {
        "id": "oDnM1k6nhxIs"
      },
      "execution_count": null,
      "outputs": []
    },
    {
      "cell_type": "code",
      "source": [
        "# Append a length of 5.7 to the given list and display the result\n",
        "\n"
      ],
      "metadata": {
        "id": "vV0ug_TMqkBb"
      },
      "execution_count": null,
      "outputs": []
    },
    {
      "cell_type": "code",
      "source": [
        "# Create a variable to store the value of the total length of all beams\n",
        "# Create a for loop to calculate the total length of all the beams using the variable\n",
        "# After the loop finished, print the total length you find.\n",
        "\n"
      ],
      "metadata": {
        "id": "Tza_1dEXqjzA"
      },
      "execution_count": null,
      "outputs": []
    },
    {
      "cell_type": "code",
      "source": [
        "# Calculate and print the average length of the beams\n",
        "\n",
        "\n"
      ],
      "metadata": {
        "id": "etcL28vMqpag"
      },
      "execution_count": null,
      "outputs": []
    },
    {
      "cell_type": "code",
      "source": [
        "# Create a for loop to count the number of beams that are longer than 5 mm (long beams)\n",
        "# Print the result\n",
        "\n"
      ],
      "metadata": {
        "id": "0rkA4SK0qrPK"
      },
      "execution_count": null,
      "outputs": []
    },
    {
      "cell_type": "markdown",
      "source": [
        "## Part 2 - Calculating beam deflections\n",
        "\n",
        "In this part, you will create and edit a list of beam lengths and then use a nested loop to calculate how much each beam deflects based on the application of a set of loads. Refer to the diagram and equation in the homework description."
      ],
      "metadata": {
        "id": "562vZjvVq0Ss"
      }
    },
    {
      "cell_type": "code",
      "execution_count": null,
      "metadata": {
        "id": "Ix2t8rnAhboS"
      },
      "outputs": [],
      "source": [
        "# Run this cell to reset the same list of beam lengths in mm.\n",
        "beam_lengths = [8.3, 4.2, 9.0, 3.6, 6.4]"
      ]
    },
    {
      "cell_type": "code",
      "source": [
        "# Delete the last length from the list and then display the contents of the list\n",
        "\n"
      ],
      "metadata": {
        "id": "8_D-1B3VsHB7"
      },
      "execution_count": null,
      "outputs": []
    },
    {
      "cell_type": "code",
      "source": [
        "# Here are the given values for E, I, and the loads given that it's a steel beam.\n",
        "# Run this cell to initialize the variables and the list\n",
        "\n",
        "E = 200 # Young's modulus in GPa (N/mm^2)\n",
        "I = 100000000 # Moment of Inertia in mm^4\n",
        "loads = [(2500, 3.2), (7000, 1.0)] # List of loads (P) and their positions (x) on the beams\n"
      ],
      "metadata": {
        "id": "Lex0YlO-sG_B"
      },
      "execution_count": null,
      "outputs": []
    },
    {
      "cell_type": "code",
      "source": [
        "# Now for each beam length, calculate the total deflection of the beam using the set of loads in the loads list.\n",
        "# To do this, you will need to loop over the beam lengths and then loop over the loads in a nested loop.\n",
        "# Create a variable for the total deflection and set it to zero at the beginning of the outer loop, then\n",
        "# add to this variable in the inner loop to add up the total deflection for that beam length.\n",
        "# As you complete the outer loop for each beam length, print the beam length and the total deflection.\n",
        "\n",
        "\n",
        "\n",
        "\n",
        "\n",
        "\n",
        "\n",
        "\n"
      ],
      "metadata": {
        "id": "z2vGlxiYsG2d"
      },
      "execution_count": null,
      "outputs": []
    }
  ]
}