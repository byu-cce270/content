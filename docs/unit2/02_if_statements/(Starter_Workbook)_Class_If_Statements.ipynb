{
  "nbformat": 4,
  "nbformat_minor": 0,
  "metadata": {
    "colab": {
      "provenance": [],
      "include_colab_link": true
    },
    "kernelspec": {
      "name": "python3",
      "display_name": "Python 3"
    },
    "language_info": {
      "name": "python"
    }
  },
  "cells": [
    {
      "cell_type": "markdown",
      "metadata": {
        "id": "view-in-github",
        "colab_type": "text"
      },
      "source": [
        "<a href=\"https://colab.research.google.com/github/byu-cce270/content/blob/main/docs/unit2/02_if_statements/(Starter_Workbook)_Class_If_Statements.ipynb\" target=\"_parent\"><img src=\"https://colab.research.google.com/assets/colab-badge.svg\" alt=\"Open In Colab\"/></a>"
      ]
    },
    {
      "cell_type": "markdown",
      "source": [
        "# States"
      ],
      "metadata": {
        "id": "_1yTZwcKBLLC"
      }
    },
    {
      "cell_type": "code",
      "execution_count": null,
      "metadata": {
        "id": "ZoBMVR7f8MK-"
      },
      "outputs": [],
      "source": [
        "# Run this cell to create a list of all 50 states\n",
        "states = ['alabama', 'alaska', 'arizona', 'arkansas', 'california', 'colorado',\n",
        "          'connecticut', 'delaware', 'florida', 'georgia', 'hawaii', 'idaho',\n",
        "          'illinois', 'indiana', 'iowa', 'kansas', 'kentucky', 'louisiana',\n",
        "          'maine', 'maryland', 'massachusetts', 'michigan', 'minnesota',\n",
        "          'mississippi', 'missouri', 'montana', 'nebraska', 'nevada',\n",
        "          'new hampshire', 'new jersey', 'new mexico', 'new york',\n",
        "          'north carolina', 'north dakota', 'ohio', 'oklahoma', 'oregon',\n",
        "          'pennsylvania', 'rhode island', 'south carolina', 'south dakota',\n",
        "          'tennessee', 'texas', 'utah', 'vermont', 'virginia', 'washington',\n",
        "          'west virginia', 'wisconsin', 'wyoming']\n",
        "\n"
      ]
    },
    {
      "cell_type": "markdown",
      "source": [
        "Create a user input that asks what their favorite U.S. state is. Store the result in a variable."
      ],
      "metadata": {
        "id": "Gf5TBBZGw8Fu"
      }
    },
    {
      "cell_type": "code",
      "source": [
        "\n"
      ],
      "metadata": {
        "id": "eBtKZQAKBVbF"
      },
      "execution_count": null,
      "outputs": []
    },
    {
      "cell_type": "markdown",
      "source": [
        "Check if the user's favorite state is in the list of all states, capitalizes all letters in that state, capitalizes the first letter in all other states then print the modified list. (Hint: Use a for loop to check the list)"
      ],
      "metadata": {
        "id": "wJV25gy1xRUP"
      }
    },
    {
      "cell_type": "code",
      "source": [
        "\n"
      ],
      "metadata": {
        "id": "Z-dPteQKBXHm"
      },
      "execution_count": null,
      "outputs": []
    },
    {
      "cell_type": "markdown",
      "source": [
        "#Ingredients"
      ],
      "metadata": {
        "id": "3LvJzi3BBNuS"
      }
    },
    {
      "cell_type": "code",
      "source": [
        "# Run this cell to create lists for pizza and salad ingredients\n",
        "pizza_ingredients = ['cheese', 'tomato', 'bread', 'olive', 'pepperoni', 'mushroom', 'pineapple']\n",
        "salad_ingredients = ['lettuce', 'olive', 'cheese', 'tomato', 'crouton', 'cucumbers', 'peppers']\n"
      ],
      "metadata": {
        "id": "g95G_VDJCGon"
      },
      "execution_count": null,
      "outputs": []
    },
    {
      "cell_type": "markdown",
      "source": [
        "Create an empty list called common_ingredients."
      ],
      "metadata": {
        "id": "2nJEF9k5xgkO"
      }
    },
    {
      "cell_type": "code",
      "source": [
        "\n"
      ],
      "metadata": {
        "id": "RDkx6iCKBvRu"
      },
      "execution_count": null,
      "outputs": []
    },
    {
      "cell_type": "markdown",
      "source": [
        "Create a for loop that checks if an ingredient in the pizza list is also in the salad list and add it to the common_ingredients list."
      ],
      "metadata": {
        "id": "gn4raIAXxlaj"
      }
    },
    {
      "cell_type": "code",
      "source": [
        "\n"
      ],
      "metadata": {
        "id": "QE0Dg-1uBxt6"
      },
      "execution_count": null,
      "outputs": []
    },
    {
      "cell_type": "markdown",
      "source": [
        "Print the list of common_ingredients."
      ],
      "metadata": {
        "id": "LgrnBby-xxaS"
      }
    },
    {
      "cell_type": "code",
      "source": [
        "\n"
      ],
      "metadata": {
        "id": "yhb6POJHB81K"
      },
      "execution_count": null,
      "outputs": []
    },
    {
      "cell_type": "markdown",
      "source": [
        "#Introduction to Forms\n",
        "\n",
        "Below, create three new code blocks. In each one, go to the three dots to the right of code block and select add a form. This will add a title, which can be used to collapse your code.\n",
        "\n",
        "Once you have done that go back to form and select add a form field. Using the interative menu, create in each code block one of the following.<br>\n",
        ">Code Block 1: Input<br>\n",
        "Code Block 2: Dropdown<br>\n",
        "Code Block 3: Slider"
      ],
      "metadata": {
        "id": "szSjWugxi4TE"
      }
    }
  ]
}