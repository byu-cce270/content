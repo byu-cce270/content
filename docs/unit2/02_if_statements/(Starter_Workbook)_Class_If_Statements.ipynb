{
  "nbformat": 4,
  "nbformat_minor": 0,
  "metadata": {
    "colab": {
      "provenance": [],
      "include_colab_link": true
    },
    "kernelspec": {
      "name": "python3",
      "display_name": "Python 3"
    },
    "language_info": {
      "name": "python"
    }
  },
  "cells": [
    {
      "cell_type": "markdown",
      "metadata": {
        "id": "view-in-github",
        "colab_type": "text"
      },
      "source": [
        "<a href=\"https://colab.research.google.com/github/byu-cce270/content/blob/main/docs/unit2/02_if_statements/(Starter_Workbook)_Class_If_Statements.ipynb\" target=\"_parent\"><img src=\"https://colab.research.google.com/assets/colab-badge.svg\" alt=\"Open In Colab\"/></a>"
      ]
    },
    {
      "cell_type": "markdown",
      "source": [
        "# States"
      ],
      "metadata": {
        "id": "_1yTZwcKBLLC"
      }
    },
    {
      "cell_type": "code",
      "execution_count": null,
      "metadata": {
        "id": "ZoBMVR7f8MK-"
      },
      "outputs": [],
      "source": [
        "# Run this cell to create a list of all 50 states\n",
        "states = ['alabama', 'alaska', 'arizona', 'arkansas', 'california', 'colorado',\n",
        "          'connecticut', 'delaware', 'florida', 'georgia', 'hawaii', 'idaho',\n",
        "          'illinois', 'indiana', 'iowa', 'kansas', 'kentucky', 'louisiana',\n",
        "          'maine', 'maryland', 'massachusetts', 'michigan', 'minnesota',\n",
        "          'mississippi', 'missouri', 'montana', 'nebraska', 'nevada',\n",
        "          'new hampshire', 'new jersey', 'new mexico', 'new york',\n",
        "          'north carolina', 'north dakota', 'ohio', 'oklahoma', 'oregon',\n",
        "          'pennsylvania', 'rhode island', 'south carolina', 'south dakota',\n",
        "          'tennessee', 'texas', 'utah', 'vermont', 'virginia', 'washington',\n",
        "          'west virginia', 'wisconsin', 'wyoming']\n",
        "\n"
      ]
    },
    {
      "cell_type": "markdown",
      "source": [
        "Create a variable to store what your favorite U.S. state is."
      ],
      "metadata": {
        "id": "Gf5TBBZGw8Fu"
      }
    },
    {
      "cell_type": "code",
      "source": [
        "\n"
      ],
      "metadata": {
        "id": "eBtKZQAKBVbF"
      },
      "execution_count": null,
      "outputs": []
    },
    {
      "cell_type": "markdown",
      "source": [
        "Check if the user's favorite state is in the list of all states, capitalizes all letters in that state, capitalizes the first letter in all other states then print the modified list. (Hint: Use a for loop to check the list)"
      ],
      "metadata": {
        "id": "wJV25gy1xRUP"
      }
    },
    {
      "cell_type": "code",
      "source": [
        "\n"
      ],
      "metadata": {
        "id": "Z-dPteQKBXHm"
      },
      "execution_count": null,
      "outputs": []
    },
    {
      "cell_type": "markdown",
      "source": [
        "#Ingredients"
      ],
      "metadata": {
        "id": "3LvJzi3BBNuS"
      }
    },
    {
      "cell_type": "code",
      "source": [
        "# Run this cell to create lists for pizza and salad ingredients\n",
        "pizza_ingredients = ['cheese', 'tomato', 'bread', 'olive', 'pepperoni', 'mushroom', 'pineapple']\n",
        "salad_ingredients = ['lettuce', 'olive', 'cheese', 'tomato', 'crouton', 'cucumbers', 'peppers']\n"
      ],
      "metadata": {
        "id": "g95G_VDJCGon"
      },
      "execution_count": null,
      "outputs": []
    },
    {
      "cell_type": "markdown",
      "source": [
        "Create an empty list called common_ingredients."
      ],
      "metadata": {
        "id": "2nJEF9k5xgkO"
      }
    },
    {
      "cell_type": "code",
      "source": [
        "\n"
      ],
      "metadata": {
        "id": "RDkx6iCKBvRu"
      },
      "execution_count": null,
      "outputs": []
    },
    {
      "cell_type": "markdown",
      "source": [
        "Create a for loop that checks if an ingredient in the pizza list is also in the salad list and add it to the common_ingredients list."
      ],
      "metadata": {
        "id": "gn4raIAXxlaj"
      }
    },
    {
      "cell_type": "code",
      "source": [
        "\n"
      ],
      "metadata": {
        "id": "QE0Dg-1uBxt6"
      },
      "execution_count": null,
      "outputs": []
    },
    {
      "cell_type": "markdown",
      "source": [
        "Print the list of common_ingredients."
      ],
      "metadata": {
        "id": "LgrnBby-xxaS"
      }
    },
    {
      "cell_type": "code",
      "source": [
        "\n"
      ],
      "metadata": {
        "id": "yhb6POJHB81K"
      },
      "execution_count": null,
      "outputs": []
    },
    {
      "cell_type": "markdown",
      "source": [
        "#Introduction to Forms - Part 1: PE Exam Qualifier\n",
        "\n",
        "Below, create two new code blocks. In the first one, go to the three dots to the right of code block and select add a form. This will add a title, which can be used to collapse your code.\n",
        "\n",
        "Next, we will create a set of forms for user  input. To make this interesting, create a code block with the following form fields:\n",
        "\n",
        "| Variable Name | Field Type | Default value |\n",
        "|--------|--------|---------|\n",
        "| my_name | input - string | enter your name |\n",
        "| college | dropdown - string | 'USU', 'Utah', 'BYU' |\n",
        "| years_exp | slider | 1 (min = 0, max = 10) |\n",
        "| pass_fe | input - boolean | False |\n",
        "\n",
        "Test your form elements to see how they work. Then run the code block.\n",
        "\n",
        "In the next code block, use the variables from the form. First, print a greeting to the user using their name, then tell them whether or not they are eligible to take the professional engineering (PE) licensing exam. To be eligible, the following conditions must all apply:\n",
        "\n",
        "1) Graduate from BYU (not really, but let's roll with it).\n",
        "2) At least 4 years of work experience\n",
        "3) Have passed the fundamentals of engineering (FE) exam.\n",
        "\n",
        "If the user is eligible, print a message and stop. If the user is not eligible, print a message and then list the reasons why the person is not eligible."
      ],
      "metadata": {
        "id": "szSjWugxi4TE"
      }
    },
    {
      "cell_type": "code",
      "source": [],
      "metadata": {
        "id": "56pr0ttVDHXi"
      },
      "execution_count": null,
      "outputs": []
    },
    {
      "cell_type": "code",
      "source": [],
      "metadata": {
        "id": "Zgx0LOCCf64p"
      },
      "execution_count": null,
      "outputs": []
    },
    {
      "cell_type": "markdown",
      "source": [
        "#Introduction to Forms - Part 2: Pizza Order Form\n",
        "\n",
        "Now let's create a form for ordering pizza. Create a form with the following fields:\n",
        "\n",
        "1) A size dropdown (small, medium, large)\n",
        "\n",
        "2) A checkbox (input - boolean) for each of the following toppings: cheese, pepperoni, ham, pineapple, mushrooms, olives, peppers, onions. (**Hint**: create one and then use copy-paste for the others)\n",
        "\n",
        "3) Input boxes for name and cell number\n",
        "\n",
        "Then in the same code block, add python code to calculate the price of the pizza. First, start with a base prices depending on the size (small = \\$12, medium = \\$14, large = \\$16). Then the first two toppings are free but there is a \\$0.50 charge for each topping after that. Finally, add a 5% sales tax.\n",
        "\n",
        "Print the resulting price using an f print statement. Include the person's name.\n",
        "\n",
        "Edit the form properties so that the code block is automatically executed whenever a change is made to one of the form inputs.\n"
      ],
      "metadata": {
        "id": "f6-CF_Fkf6S0"
      }
    },
    {
      "cell_type": "code",
      "source": [],
      "metadata": {
        "id": "OG_rarBCf-QL"
      },
      "execution_count": null,
      "outputs": []
    }
  ]
}
