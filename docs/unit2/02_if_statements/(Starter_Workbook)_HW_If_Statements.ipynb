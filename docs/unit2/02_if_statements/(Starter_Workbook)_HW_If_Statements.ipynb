{
  "nbformat": 4,
  "nbformat_minor": 0,
  "metadata": {
    "colab": {
      "provenance": [],
      "include_colab_link": true
    },
    "kernelspec": {
      "name": "python3",
      "display_name": "Python 3"
    },
    "language_info": {
      "name": "python"
    }
  },
  "cells": [
    {
      "cell_type": "markdown",
      "metadata": {
        "id": "view-in-github",
        "colab_type": "text"
      },
      "source": [
        "<a href=\"https://colab.research.google.com/github/byu-cce270/content/blob/main/docs/unit2/02_if_statements/(Starter_Workbook)_HW_If_Statements.ipynb\" target=\"_parent\"><img src=\"https://colab.research.google.com/assets/colab-badge.svg\" alt=\"Open In Colab\"/></a>"
      ]
    },
    {
      "cell_type": "markdown",
      "source": [
        "# Part 1 - Truss Determinacy Solver"
      ],
      "metadata": {
        "id": "BppysTFveZXA"
      }
    },
    {
      "cell_type": "code",
      "source": [
        "# Write your input statements here\n",
        "\n",
        "\n",
        "# Write the your If statements here\n",
        "\n"
      ],
      "metadata": {
        "id": "0CcftXBNeY1J"
      },
      "execution_count": null,
      "outputs": []
    },
    {
      "cell_type": "markdown",
      "source": [
        "# Part 2 - Material Order Counter"
      ],
      "metadata": {
        "id": "tJQDlBaZfQG3"
      }
    },
    {
      "cell_type": "code",
      "source": [
        "# Here is a list of orders from the company for units of wood, steel, glass, etc.\n",
        "# we need to determine how many items of each type to ship to the company\n",
        "orders = [['wood', 'steel', 'glass', 'steel'],\n",
        "         ['brick', 'wood', 'steel', 'wood'],\n",
        "         ['glass', 'steel', 'wood', 'concrete'],\n",
        "         ['wood', 'brick', 'wood', 'brick'],\n",
        "         ['concrete', 'concrete', 'glass'],\n",
        "         ['wood', 'concrete', 'glass'],\n",
        "         ['concrete', 'glass', 'wood', 'steel'],\n",
        "         ['brick', 'glass', 'brick', 'steel'],\n",
        "         ['concrete', 'brick', 'brick', 'wood'],\n",
        "         ['brick', 'glass', 'wood', 'wood', 'steel'],\n",
        "         ['glass', 'glass', 'brick', 'brick', 'glass'],\n",
        "         ['wood', 'wood', 'wood', 'steel', 'glass', 'glass']]\n",
        "\n",
        "#list for the material and the starting amount\n",
        "Total_order = [['wood',0],['brick',0],['steel',0],['glass',0],['concrete',0]]\n",
        "\n",
        "# Main for loop goes here\n",
        "\n",
        "\n",
        "# Print out each order of the material\n"
      ],
      "metadata": {
        "id": "heOdEUM3feDi"
      },
      "execution_count": null,
      "outputs": []
    }
  ]
}