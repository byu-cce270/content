{
  "nbformat": 4,
  "nbformat_minor": 0,
  "metadata": {
    "colab": {
      "provenance": [],
      "include_colab_link": true
    },
    "kernelspec": {
      "name": "python3",
      "display_name": "Python 3"
    },
    "language_info": {
      "name": "python"
    }
  },
  "cells": [
    {
      "cell_type": "markdown",
      "metadata": {
        "id": "view-in-github",
        "colab_type": "text"
      },
      "source": [
        "<a href=\"https://colab.research.google.com/github/byu-cce270/content/blob/main/docs/unit2/03_dictionaries_while_loops/dictionaries_hw.ipynb\" target=\"_parent\"><img src=\"https://colab.research.google.com/assets/colab-badge.svg\" alt=\"Open In Colab\"/></a>"
      ]
    },
    {
      "cell_type": "code",
      "source": [
        "####  Create your dictionary here  ####\n",
        "MaterialsDictionary = {\n",
        "    \"Guide\":[\"$ per ton\", \"$ ship ton per mile\"],\n",
        "    \"Steel\":[700,5],\n",
        "    \"Cement\":[130,2],\n",
        "    \"Lumber\":[34,4],\n",
        "    \"Glass\" :[50,15]\n",
        "}\n",
        "\n",
        "#the first word is the material, the second is the cost of each material per ton\n",
        "#and the second is the cost to ship each material per mile"
      ],
      "metadata": {
        "id": "XhIZ4BVv0YSU"
      },
      "execution_count": 64,
      "outputs": []
    },
    {
      "cell_type": "code",
      "source": [
        "####  Start writing your function here  ####\n",
        "\n",
        "def invoice_calc(MaterialsDictionary,amountmat):\n",
        "  # Write the first for loop starting here\n",
        "  for material in MaterialsDictionary:\n",
        "    if material != \"Guide\":\n",
        "      price_per_ton = MaterialsDictionary[material][0]\n",
        "      ship_per_mile = MaterialsDictionary[material][1]\n",
        "      print(f\"{material} costs ${price_per_ton} per ton and ${ship_per_mile} per ton per mile to ship.\")\n",
        "\n",
        "  total = 0\n",
        "  # Write the while loop starting here\n",
        "  while amountmat > 0:\n",
        "    material_name = input(\"What material are you ordering? \")\n",
        "    material_name = material_name.capitalize()\n",
        "    if material_name in MaterialsDictionary and material_name != \"Guide\":\n",
        "      price_per_ton = MaterialsDictionary[material][0]\n",
        "      ship_per_mile = MaterialsDictionary[material][1]\n",
        "      quantity = int(input(f\"How much {material_name} would you like to buy in tons? \"))\n",
        "      distance = int(input(f\"How far will the {material_name} be shipped in miles? \"))\n",
        "      item_cost = (price_per_ton * quantity) + (distance * ship_per_mile)\n",
        "      total += item_cost\n",
        "      amountmat -= 1\n",
        "    else:\n",
        "      print(\"Invalid material name. Please try again.\")\n",
        "      continue\n",
        "  return total"
      ],
      "metadata": {
        "id": "reVM4Q5m-Stj"
      },
      "execution_count": 67,
      "outputs": []
    },
    {
      "cell_type": "code",
      "source": [
        "####  Test out your function here  ####\n",
        "\n",
        "nitems = int(input(\"How many items are you ordering? \"))\n",
        "total = invoice_calc(MaterialsDictionary,nitems)\n",
        "print(f'The total cost for your materials = ${total:.2f}')"
      ],
      "metadata": {
        "id": "kuJP3uDe-XMo",
        "colab": {
          "base_uri": "https://localhost:8080/"
        },
        "outputId": "2347967a-08fd-400d-ad09-c9aa0ef250d9"
      },
      "execution_count": 68,
      "outputs": [
        {
          "output_type": "stream",
          "name": "stdout",
          "text": [
            "How many items are you ordering? 4\n",
            "Steel costs $700 per ton and $5 per ton per mile to ship.\n",
            "Cement costs $130 per ton and $2 per ton per mile to ship.\n",
            "Lumber costs $34 per ton and $4 per ton per mile to ship.\n",
            "Glass costs $50 per ton and $15 per ton per mile to ship.\n",
            "What material are you ordering? steel\n",
            "How much Steel would you like to buy in tons? 4\n",
            "How far will the Steel be shipped in miles? 90\n",
            "What material are you ordering? cement\n",
            "How much Cement would you like to buy in tons? 1\n",
            "How far will the Cement be shipped in miles? 90\n",
            "What material are you ordering? lumber\n",
            "How much Lumber would you like to buy in tons? 6\n",
            "How far will the Lumber be shipped in miles? 90\n",
            "What material are you ordering? glass \n",
            "Invalid material name. Please try again.\n",
            "What material are you ordering? glass\n",
            "How much Glass would you like to buy in tons? 2\n",
            "How far will the Glass be shipped in miles? 90\n",
            "The total cost for your materials = $18200.00\n"
          ]
        }
      ]
    }
  ]
}