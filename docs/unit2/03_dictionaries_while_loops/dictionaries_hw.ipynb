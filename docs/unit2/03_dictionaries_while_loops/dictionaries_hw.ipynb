{
  "nbformat": 4,
  "nbformat_minor": 0,
  "metadata": {
    "colab": {
      "provenance": [],
      "include_colab_link": true
    },
    "kernelspec": {
      "name": "python3",
      "display_name": "Python 3"
    },
    "language_info": {
      "name": "python"
    }
  },
  "cells": [
    {
      "cell_type": "markdown",
      "metadata": {
        "id": "view-in-github",
        "colab_type": "text"
      },
      "source": [
        "<a href=\"https://colab.research.google.com/github/byu-cce270/content/blob/main/docs/unit2/03_dictionaries_while_loops/dictionaries_hw.ipynb\" target=\"_parent\"><img src=\"https://colab.research.google.com/assets/colab-badge.svg\" alt=\"Open In Colab\"/></a>"
      ]
    },
    {
      "cell_type": "code",
      "source": [
        "####  Create your dictionary here  ####\n"
      ],
      "metadata": {
        "id": "XhIZ4BVv0YSU"
      },
      "execution_count": null,
      "outputs": []
    },
    {
      "cell_type": "code",
      "source": [
        "####  Start writing your function here  ####\n",
        "\n",
        "def invoice_calc(MaterialsDictionary,amountmat):\n",
        "  # Write the first for loop starting here\n",
        "\n",
        "  total = 0\n",
        "  # Write the while loop starting here\n",
        "\n",
        "  return total"
      ],
      "metadata": {
        "id": "reVM4Q5m-Stj"
      },
      "execution_count": null,
      "outputs": []
    },
    {
      "cell_type": "code",
      "source": [
        "####  Test out your function here  ####\n",
        "\n",
        "nitems = int(input(\"How many items are you ordering? \"))\n",
        "total = invoice_calc(MaterialsDictionary,nitems)\n",
        "print(f'The total cost for your materials = ${total:.2f}')"
      ],
      "metadata": {
        "id": "kuJP3uDe-XMo"
      },
      "execution_count": null,
      "outputs": []
    }
  ]
}