{
  "nbformat": 4,
  "nbformat_minor": 0,
  "metadata": {
    "colab": {
      "provenance": [],
      "include_colab_link": true
    },
    "kernelspec": {
      "name": "python3",
      "display_name": "Python 3"
    },
    "language_info": {
      "name": "python"
    }
  },
  "cells": [
    {
      "cell_type": "markdown",
      "metadata": {
        "id": "view-in-github",
        "colab_type": "text"
      },
      "source": [
        "<a href=\"https://colab.research.google.com/github/byu-cce270/content/blob/main/docs/unit2/03_if_statements/if_statements_in_class.ipynb\" target=\"_parent\"><img src=\"https://colab.research.google.com/assets/colab-badge.svg\" alt=\"Open In Colab\"/></a>"
      ]
    },
    {
      "cell_type": "markdown",
      "source": [
        "# States"
      ],
      "metadata": {
        "id": "_1yTZwcKBLLC"
      }
    },
    {
      "cell_type": "code",
      "execution_count": null,
      "metadata": {
        "id": "ZoBMVR7f8MK-"
      },
      "outputs": [],
      "source": [
        "# Run this cell to create a list of all 50 states\n",
        "states = ['alabama', 'alaska', 'arizona', 'arkansas', 'california', 'colorado',\n",
        "          'connecticut', 'delaware', 'florida', 'georgia', 'hawaii', 'idaho',\n",
        "          'illinois', 'indiana', 'iowa', 'kansas', 'kentucky', 'louisiana',\n",
        "          'maine', 'maryland', 'massachusetts', 'michigan', 'minnesota',\n",
        "          'mississippi', 'missouri', 'montana', 'nebraska', 'nevada',\n",
        "          'new hampshire', 'new jersey', 'new mexico', 'new york',\n",
        "          'north carolina', 'north dakota', 'ohio', 'oklahoma', 'oregon',\n",
        "          'pennsylvania', 'rhode island', 'south carolina', 'south dakota',\n",
        "          'tennessee', 'texas', 'utah', 'vermont', 'virginia', 'washington',\n",
        "          'west virginia', 'wisconsin', 'wyoming']\n",
        "\n"
      ]
    },
    {
      "cell_type": "code",
      "source": [
        "# Create a user input that asks what their favorite U.S. state is. Store the result in a variable.\n",
        "\n",
        "\n"
      ],
      "metadata": {
        "id": "eBtKZQAKBVbF"
      },
      "execution_count": null,
      "outputs": []
    },
    {
      "cell_type": "code",
      "source": [
        "# Check if the user's favorite state is in the list of all states, capitalizes\n",
        "# all letters in that state, capitalizes the first letter in all other states\n",
        "# then print the modified list. (Hint: Use a for loop to check the list)\n",
        "\n",
        "\n",
        "\n"
      ],
      "metadata": {
        "id": "Z-dPteQKBXHm"
      },
      "execution_count": null,
      "outputs": []
    },
    {
      "cell_type": "markdown",
      "source": [
        "#Ingredients"
      ],
      "metadata": {
        "id": "3LvJzi3BBNuS"
      }
    },
    {
      "cell_type": "code",
      "source": [
        "# Run this cell to create lists for pizza and salad ingredients\n",
        "pizza_ingredients = ['cheese', 'tomato', 'bread', 'olive', 'pepperoni', 'mushroom', 'pineapple']\n",
        "salad_ingredients = ['lettuce', 'olive', 'cheese', 'tomato', 'crouton', 'cucumbers', 'peppers']\n",
        "\n"
      ],
      "metadata": {
        "id": "g95G_VDJCGon"
      },
      "execution_count": null,
      "outputs": []
    },
    {
      "cell_type": "code",
      "source": [
        "# Create an empty list called common_ingredients\n",
        "\n",
        "\n"
      ],
      "metadata": {
        "id": "RDkx6iCKBvRu"
      },
      "execution_count": null,
      "outputs": []
    },
    {
      "cell_type": "code",
      "source": [
        "# Create a for a loop that checks if an ingredient in the pizza list is also in\n",
        "# the salad list and add it to the common_ingredients list\n",
        "\n",
        "\n",
        "\n"
      ],
      "metadata": {
        "id": "QE0Dg-1uBxt6"
      },
      "execution_count": null,
      "outputs": []
    },
    {
      "cell_type": "code",
      "source": [
        "# Print the list of common_ingredients\n",
        "\n"
      ],
      "metadata": {
        "id": "yhb6POJHB81K"
      },
      "execution_count": null,
      "outputs": []
    }
  ]
}
