{
  "nbformat": 4,
  "nbformat_minor": 0,
  "metadata": {
    "colab": {
      "provenance": [],
      "include_colab_link": true
    },
    "kernelspec": {
      "name": "python3",
      "display_name": "Python 3"
    },
    "language_info": {
      "name": "python"
    }
  },
  "cells": [
    {
      "cell_type": "markdown",
      "metadata": {
        "id": "view-in-github",
        "colab_type": "text"
      },
      "source": [
        "<a href=\"https://colab.research.google.com/github/byu-cce270/content/blob/main/docs/unit2/04_functions_intro/functions_in_class.ipynb\" target=\"_parent\"><img src=\"https://colab.research.google.com/assets/colab-badge.svg\" alt=\"Open In Colab\"/></a>"
      ]
    },
    {
      "cell_type": "markdown",
      "source": [
        "#Functions In-class\n"
      ],
      "metadata": {
        "id": "eLnJBI18ae5j"
      }
    },
    {
      "cell_type": "markdown",
      "source": [
        "---\n",
        "\n",
        "\n",
        "**Code Block 1**\n",
        "\n",
        "1. Write a function called \"greeting\" that prints \"Hello World!\" whenever called\n",
        "2. Call your greeting function\n",
        "3. Write a more personal function called \"hello\" that requires one parameter and prints \"Hello [name]!\" whenever called\n",
        "4. Create an input statement that asks for the user's name, then call your function\n",
        "5. Create a new function called \"welcome\". Have it just ask for the user's name whenever the function is called. It should still print \"Hello [name]!\" whenever called\n",
        "\n",
        "\n",
        "---"
      ],
      "metadata": {
        "id": "En2lBuXLb4cq"
      }
    },
    {
      "cell_type": "code",
      "source": [],
      "metadata": {
        "id": "Ll3suIc5QCnk"
      },
      "execution_count": null,
      "outputs": []
    },
    {
      "cell_type": "code",
      "source": [],
      "metadata": {
        "id": "dBp2SJHnrayh"
      },
      "execution_count": null,
      "outputs": []
    },
    {
      "cell_type": "markdown",
      "source": [
        "---\n",
        "\n",
        "\n",
        "**Code Block 2**\n",
        "\n",
        "1. Write a function called \"add\" that takes two parameters, adds them together, and returns the sum\n",
        "3. Write a function called \"mul\" that takes two parameters, multiplies them, and returns the product\n",
        "5. Write a function called \"sqr\" that takes one parameter, squares it, and returns the result\n",
        "6. Write a function called \"cub\" that takes one parameter, cubes it, and returns the result\n",
        "\n",
        "---"
      ],
      "metadata": {
        "id": "FOuc0N_Zfma0"
      }
    },
    {
      "cell_type": "code",
      "execution_count": null,
      "metadata": {
        "id": "5GoIW6Z_Mkyc"
      },
      "outputs": [],
      "source": []
    },
    {
      "cell_type": "markdown",
      "source": [
        "---\n",
        "\n",
        "\n",
        "**Code Block 3**\n",
        "\n",
        "1. Run this code block to test if your functions above work. If done correctly, it should return an answer of 2823.\n",
        "\n",
        "\n",
        "---"
      ],
      "metadata": {
        "id": "SrHE-pyTf494"
      }
    },
    {
      "cell_type": "code",
      "source": [
        "mul(add(add(1, 2) + mul(cub(6), mul(8,10)) - sqr(add(cub(3), 99)) - mul(-1, sqr(2)), 0.5), 2)"
      ],
      "metadata": {
        "id": "QFv4ZVd3f5Ls"
      },
      "execution_count": null,
      "outputs": []
    },
    {
      "cell_type": "markdown",
      "source": [
        "---\n",
        "\n",
        "**Code Block 4**\n",
        "\n",
        "Below you will write a function called \"inv_info\" that will help the user determine if a store has a particular item in stock.\n",
        "1. Have the function take two parameters: one is a list of the store's inventory. Each item in the list is a list with the item name, the number of items in stock, and the price (see first line in the next code block). The second parameter to the function is the item a customer is looking for.\n",
        "2. In the function, create a for loop that loops through the list of the store's inventory looking for the item in question.\n",
        "3. Use an if statement to check if the item is in the list; if it is, print a sentence saying how much of that item is available and for what cost. If it isn't, print a sentence saying that the item is not available\n",
        "\n",
        "\n",
        "---"
      ],
      "metadata": {
        "id": "diPnZTsphupw"
      }
    },
    {
      "cell_type": "code",
      "source": [],
      "metadata": {
        "id": "XL1urrBPPx79"
      },
      "execution_count": null,
      "outputs": []
    },
    {
      "cell_type": "markdown",
      "source": [
        "---\n",
        "\n",
        "**Code Block 5**\n",
        "\n",
        "In this code block will call the inv_info fuction defined above.\n",
        "\n",
        "1. Create a while loop to continue to ask for an item to lookup until the user enters 'Q'.\n",
        "2. Create an input statement that asks what item the user would like to look up then call the function to see if the item is available. If the users enters \"Q\" the loop should terminate.\n",
        "3. If the user enters 'Q' exit the loop and print a goodbye statement. If the user enters anything else, call the function and see if the item is in the list.  \n",
        "\n",
        "---"
      ],
      "metadata": {
        "id": "GW8bZ6CGnXuI"
      }
    },
    {
      "cell_type": "code",
      "source": [],
      "metadata": {
        "id": "VzUJDkCrnSgP"
      },
      "execution_count": null,
      "outputs": []
    },
    {
      "cell_type": "markdown",
      "source": [
        "---\n",
        "\n",
        "\n",
        "**Code Block 6**\n",
        "\n",
        "1. Write a function called \"quadratic\" that takes the coefficients of a quadratic equation ($ax^2 + bx + c = 0$) as its parameters and solves for its roots using the quadratic formula:\n",
        "\n",
        "$$ x = {-b \\pm \\sqrt{b^2-4ac} \\over 2a} $$\n",
        "\n",
        "2. Test out your function by calling it\n",
        "<br>(Hint: your function should return two values)\n",
        "\n",
        "---"
      ],
      "metadata": {
        "id": "uduBOVhxD80d"
      }
    },
    {
      "cell_type": "code",
      "source": [],
      "metadata": {
        "id": "En0HlZTcEO0r"
      },
      "execution_count": null,
      "outputs": []
    },
    {
      "cell_type": "markdown",
      "source": [
        "---\n",
        "\n",
        "\n",
        "**Code Block 7**\n",
        "\n",
        "1. Write a function called \"cantilever_moment\" that calculates the formula below to find the maximum deflection of a beam **and** returns the maximum moment (in this case, the maximum moment is just M):\n",
        "\n",
        "$$ \\delta = {ML^2 \\over 2EI} $$\n",
        "\n",
        "where\n",
        "\n",
        "M = moment load\n",
        "\n",
        "L = length of the beam\n",
        "\n",
        "E = modulus of elasticity\n",
        "\n",
        "I = moment of inertia\n",
        "\n",
        "$\\delta$ = maximum deflection\n",
        "\n",
        "2. Test out your function by calling it\n",
        "\n",
        "---"
      ],
      "metadata": {
        "id": "yZWHmI54EPs7"
      }
    },
    {
      "cell_type": "code",
      "source": [],
      "metadata": {
        "id": "MKyAOqaqEuSi"
      },
      "execution_count": null,
      "outputs": []
    },
    {
      "cell_type": "markdown",
      "source": [
        "---\n",
        "\n",
        "\n",
        "**Code Block 8**\n",
        "\n",
        "1. Write a function called \"bending_stress\" that calculates the formula below to find the maximum bending stress in a beam:\n",
        "\n",
        "$$ \\sigma = {My \\over I} $$\n",
        "\n",
        "where\n",
        "\n",
        "M = maximum moment\n",
        "\n",
        "y = half of the height of the beam\n",
        "\n",
        "I = moment of inertia\n",
        "\n",
        "$\\sigma$ = bending stress\n",
        "\n",
        "2. Call your function to find the maximum moment, then pass that maximum moment as the argument for M when calling your bending_stress formula\n",
        "---"
      ],
      "metadata": {
        "id": "gBCGlXMarKRZ"
      }
    },
    {
      "cell_type": "code",
      "source": [],
      "metadata": {
        "id": "8Jgy85P7rSS5"
      },
      "execution_count": null,
      "outputs": []
    }
  ]
}