{
  "nbformat": 4,
  "nbformat_minor": 0,
  "metadata": {
    "colab": {
      "provenance": [],
      "name": "(Starter_Notebook)_functions_intro_hw.ipynb",
      "authorship_tag": "ABX9TyMcgEN0P99yyZ8wPjvFhgDz",
      "include_colab_link": true
    },
    "kernelspec": {
      "name": "python3",
      "display_name": "Python 3"
    },
    "language_info": {
      "name": "python"
    }
  },
  "cells": [
    {
      "cell_type": "markdown",
      "metadata": {
        "id": "view-in-github",
        "colab_type": "text"
      },
      "source": [
        "<a href=\"https://colab.research.google.com/github/byu-cce270/content/blob/main/docs/unit2/04_intro_functions/(Starter_Notebook)_functions_intro_hw.ipynb\" target=\"_parent\"><img src=\"https://colab.research.google.com/assets/colab-badge.svg\" alt=\"Open In Colab\"/></a>"
      ]
    },
    {
      "cell_type": "markdown",
      "source": [
        "# PART 1 - Morse Code Translator"
      ],
      "metadata": {
        "id": "m2hW1BgQr5ri"
      }
    },
    {
      "cell_type": "markdown",
      "source": [
        "## Define translator dictionaries"
      ],
      "metadata": {
        "id": "9QI-r7MltSHA"
      }
    },
    {
      "cell_type": "code",
      "execution_count": null,
      "metadata": {
        "id": "ozfLrVK3rsKm"
      },
      "outputs": [],
      "source": [
        "# 1.1 - Run this cell to create your dictionaries:\n",
        "\n",
        "TEXT2MORSE_DICT = {\n",
        "    'A': '.-', 'B': '-...', 'C': '-.-.', 'D': '-..', 'E': '.',\n",
        "    'F': '..-.', 'G': '--.', 'H': '....', 'I': '..', 'J': '.---',\n",
        "    'K': '-.-', 'L': '.-..', 'M': '--', 'N': '-.', 'O': '---',\n",
        "    'P': '.--.', 'Q': '--.-', 'R': '.-.', 'S': '...', 'T': '-',\n",
        "    'U': '..-', 'V': '...-', 'W': '.--', 'X': '-..-', 'Y': '-.--',\n",
        "    'Z': '--..',\n",
        "    '0': '-----', '1': '.----', '2': '..--', '3': '...--', '4': '....-',\n",
        "    '5': '.....', '6': '-....', '7': '--...', '8': '---..', '9': '----.',\n",
        "    '.': '.-.-.-', ',': '--..--', '?': '..--..', \"'\": '.----.', '!': '-.-.--',\n",
        "    '/': '-..-.', '(': '-.--.', ')': '-.--.-', '&': '.-...', ':': '---...',\n",
        "    ';': '-.-.-.', '=': '-...-', '+': '.-.-.', '-': '-....-', '_': '..--.-',\n",
        "    '\"': '.-..-.', '$': '...-..-', '@': '.--.-.'\n",
        "}\n",
        "\n",
        "MORSE2TEXT_DICT = {\n",
        "    '.-': 'A', '-...': 'B', '-.-.': 'C', '-..': 'D', '.': 'E',\n",
        "    '..-.': 'F', '--.': 'G', '....': 'H', '..': 'I', '.---': 'J',\n",
        "    '-.-': 'K', '.-..': 'L', '--': 'M', '-.': 'N', '---': 'O',\n",
        "    '.--.': 'P', '--.-': 'Q', '.-.': 'R', '...': 'S', '-': 'T',\n",
        "    '..-': 'U', '...-': 'V', '.--': 'W', '-..-': 'X', '-.--': 'Y',\n",
        "    '--..': 'Z',\n",
        "    '-----': '0', '.----': '1', '..--': '2', '...--': '3', '....-': '4',\n",
        "    '.....': '5', '-....': '6', '--...': '7', '---..': '8', '----.': '9',\n",
        "    '.-.-.-': '.', '--..--': ',', '..--..': '?', '.----.': \"'\", '-.-.--': '!',\n",
        "    '-..-.': '/', '-.--.': '(', '-.--.-': ')', '.-...': '&', '---...': ':',\n",
        "    '-.-.-.': ';', '-...-': '=', '.-.-.': '+', '-....-': '-', '..--.-': '_',\n",
        "    '.-..-.': '\"', '...-..-': '$', '.--.-.': '@'\n",
        "}"
      ]
    },
    {
      "cell_type": "markdown",
      "source": [
        "## Translator Functions"
      ],
      "metadata": {
        "id": "JvbKaNPNsp8o"
      }
    },
    {
      "cell_type": "code",
      "source": [
        "# 1.2 - Put your text_to_morse function here\n",
        "\n",
        "\n"
      ],
      "metadata": {
        "id": "PFLLqonrsDLV"
      },
      "execution_count": null,
      "outputs": []
    },
    {
      "cell_type": "code",
      "source": [
        "# 1.3 - Put your morse_to_text function here\n",
        "\n"
      ],
      "metadata": {
        "id": "xoU_TRfxtjtW"
      },
      "execution_count": null,
      "outputs": []
    },
    {
      "cell_type": "markdown",
      "source": [
        "## Test your translator functions"
      ],
      "metadata": {
        "id": "a2FoHjWn4sJn"
      }
    },
    {
      "cell_type": "code",
      "source": [
        "# 1.4 - Test the text_to_morse translator here\n",
        "\n",
        "\n"
      ],
      "metadata": {
        "id": "wVuabZiCtl8c"
      },
      "execution_count": null,
      "outputs": []
    },
    {
      "cell_type": "code",
      "source": [
        "# 1.5 - Test the morse_to_text translator here\n",
        "\n",
        "\n"
      ],
      "metadata": {
        "id": "U4UAC5shuC74"
      },
      "execution_count": null,
      "outputs": []
    },
    {
      "cell_type": "markdown",
      "source": [
        "# PART 2 - Rebar Cut Optimizer"
      ],
      "metadata": {
        "id": "mShGoWDjGbTc"
      }
    },
    {
      "cell_type": "markdown",
      "source": [
        "## Function for sorting rebar cuts"
      ],
      "metadata": {
        "id": "_WUlahP-_NYw"
      }
    },
    {
      "cell_type": "code",
      "source": [
        "# 2.1 - Write your sort_cuts function here\n",
        "\n"
      ],
      "metadata": {
        "id": "Sd50MLa_HMQW"
      },
      "execution_count": null,
      "outputs": []
    },
    {
      "cell_type": "markdown",
      "source": [
        "## Generating cut_length lists for testing"
      ],
      "metadata": {
        "id": "ZTa6BAgpASP5"
      }
    },
    {
      "cell_type": "code",
      "source": [
        "# 2.2a - Run this cell to create a random set of cut lengths for testing.\n",
        "\n",
        "import random\n",
        "\n",
        "# Generate 100 random cut lengths between 2 and 12 feet (whole or half feet)\n",
        "cut_lengths = [random.choice([x * 0.5 for x in range(4, 25)]) for _ in range(100)]\n",
        "\n",
        "print(cut_lengths)"
      ],
      "metadata": {
        "id": "vieODcC4ACWn"
      },
      "execution_count": null,
      "outputs": []
    },
    {
      "cell_type": "code",
      "source": [
        "# 2.2b - Run this cell to create a specific set of cut lengths for testing.\n",
        "\n",
        "cut_lengths = [5.5, 3.5, 7.0, 10.5, 8.5, 8.5, 5.0, 3.0, 9.0, 4.5, 5.5, 7.0, 5.5, 2.0, 6.0, 12.0, 9.0, 5.0, 6.5, 7.5, 4.0, 5.5, 7.0, 2.5, 6.5, 4.5, 6.0, 9.0, 5.5, 9.0, 7.5, 9.5, 10.0, 11.0, 9.5, 7.0, 3.5, 8.0, 8.0, 5.0, 2.5, 5.0, 10.5, 11.0, 10.5, 5.0, 10.0, 7.5, 2.5, 10.5, 10.0, 11.5, 6.5, 10.5, 12.0, 10.5, 3.5, 5.0, 7.0, 9.0, 8.0, 7.0, 4.5, 4.5, 12.0, 5.0, 11.5, 6.5, 11.0, 2.5, 11.5, 8.0, 10.5, 10.5, 7.0, 11.0, 9.5, 3.5, 4.5, 10.5, 2.0, 3.5, 11.5, 6.0, 4.5, 6.0, 6.0, 4.0, 10.0, 8.5, 4.0, 6.0, 4.5, 11.5, 8.5, 5.5, 2.0, 10.5, 9.0, 11.0]\n"
      ],
      "metadata": {
        "id": "rPTu6LeUJlch"
      },
      "execution_count": null,
      "outputs": []
    },
    {
      "cell_type": "markdown",
      "source": [
        "## Testing your sort_cuts function"
      ],
      "metadata": {
        "id": "Hvfq4ov9Am6q"
      }
    },
    {
      "cell_type": "code",
      "source": [
        "# 1.3 - Write code here to call and test your sort_cuts function\n",
        "\n"
      ],
      "metadata": {
        "id": "WPUcvE0_Iqgl"
      },
      "execution_count": null,
      "outputs": []
    },
    {
      "cell_type": "markdown",
      "source": [
        "## Function for optimizing cuts"
      ],
      "metadata": {
        "id": "cf6y6T8_Awqr"
      }
    },
    {
      "cell_type": "code",
      "source": [
        "# 2.4 - Write your optimize_cuts function here\n",
        "\n"
      ],
      "metadata": {
        "id": "TrH-1xxMI3au"
      },
      "execution_count": null,
      "outputs": []
    },
    {
      "cell_type": "markdown",
      "source": [
        "## Testing your optimize_cuts function"
      ],
      "metadata": {
        "id": "ehFaqkcQA2oh"
      }
    },
    {
      "cell_type": "code",
      "source": [
        "# 2.5 - Test your optimize_cuts function here.\n",
        "\n"
      ],
      "metadata": {
        "id": "iWcdGKLEK-km"
      },
      "execution_count": null,
      "outputs": []
    }
  ]
}