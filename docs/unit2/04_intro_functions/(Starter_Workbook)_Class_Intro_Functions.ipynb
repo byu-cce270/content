{
  "nbformat": 4,
  "nbformat_minor": 0,
  "metadata": {
    "colab": {
      "provenance": [],
      "include_colab_link": true
    },
    "kernelspec": {
      "name": "python3",
      "display_name": "Python 3"
    },
    "language_info": {
      "name": "python"
    }
  },
  "cells": [
    {
      "cell_type": "markdown",
      "metadata": {
        "id": "view-in-github",
        "colab_type": "text"
      },
      "source": [
        "<a href=\"https://colab.research.google.com/github/byu-cce270/content/blob/main/docs/unit2/04_intro_functions/(Starter_Workbook)_Class_Intro_Functions.ipynb\" target=\"_parent\"><img src=\"https://colab.research.google.com/assets/colab-badge.svg\" alt=\"Open In Colab\"/></a>"
      ]
    },
    {
      "cell_type": "markdown",
      "source": [
        "#Intro to Functions In-Class\n"
      ],
      "metadata": {
        "id": "eLnJBI18ae5j"
      }
    },
    {
      "cell_type": "markdown",
      "source": [
        "---\n",
        "\n",
        "\n",
        "**Code Block 1**\n",
        "\n",
        "Write a function called 'greeting' that takes two arguments: name and energy_level. The energy_level options should be \"low\", \"medium\" and \"high\". In each case, the function should print **\"Hello \\<name\\>\"**, but if energy level = low, the name should be all lowercase. If it is medium it should be title case, and if it is high it should be all uppercase. Default energy_level = **medium**.\n",
        "\n",
        "\n",
        "---"
      ],
      "metadata": {
        "id": "En2lBuXLb4cq"
      }
    },
    {
      "cell_type": "code",
      "source": [],
      "metadata": {
        "id": "Ll3suIc5QCnk"
      },
      "execution_count": null,
      "outputs": []
    },
    {
      "cell_type": "markdown",
      "source": [
        "---\n",
        "\n",
        "\n",
        "**Code Block 2**\n",
        "\n",
        "Write a function called \"quadratic\" that takes the coefficients of a quadratic equation ($ax^2 + bx + c = 0$) as its parameters and solves for its roots using the quadratic formula:\n",
        "\n",
        "$$x = \\dfrac{-b \\pm \\sqrt{b^2-4ac}}{2a}$$\n",
        "\n",
        "Test out your function by calling it\n",
        "<br>(Hint: your function should return two values)\n",
        "\n",
        "---\n"
      ],
      "metadata": {
        "id": "SVd9oi8mgQQ_"
      }
    },
    {
      "cell_type": "code",
      "source": [],
      "metadata": {
        "id": "bfH6XXM2RvnS"
      },
      "execution_count": null,
      "outputs": []
    },
    {
      "cell_type": "markdown",
      "source": [
        "---\n",
        "\n",
        "\n",
        "**Code Block 3**\n",
        "\n",
        "PMT is used to calculate the fixed payment amount for a loan or investment based on constant interest rates and payments over a set period.\n",
        "\n",
        "In Excel, we use the PMT function:\n",
        "\n",
        "$$ PMT(rate, nper, pv, [fv]) $$\n",
        "\n",
        "where:\n",
        "- rate = interest rate per period\n",
        "- nper = total number of payments\n",
        "- pv = present value or principal amount\n",
        "- fv = future value you wish at the end of the loan - assumes 0 if not entered\n",
        "\n",
        "Write a python function called PMT() that solves this equation:\n",
        "\n",
        "$$ PMT = \\dfrac{P * r}{1-(1+r)^{-n}} $$\n",
        "\n",
        "Set the default value of fv = 0, this will be an optional keyword argument. Test out your function by calling it with the following values:\n",
        "\n",
        "rate = 8%, nper = 30 yrs (360 months), pv = -\\\\$500,000, fv = \\\\$0\n",
        "\n",
        "---\n"
      ],
      "metadata": {
        "id": "r2JoFuK6-0HA"
      }
    },
    {
      "cell_type": "code",
      "source": [],
      "metadata": {
        "id": "fllcMSdO-8Oe"
      },
      "execution_count": null,
      "outputs": []
    },
    {
      "cell_type": "markdown",
      "source": [
        "---\n",
        "**Code Block 4**\n",
        "\n",
        "Create a function called **is_prime(n)** that takes an integer as input. Return True or False depending on whether or not the number is a prime number.\n",
        "\n",
        "**Hint**: The % operator, called the modelo operator, returns the remainder after integer division. So if n % i == 0, i divides evenly into n. Use this inside a loop to help see if it is a prime number.\n",
        "\n",
        "---"
      ],
      "metadata": {
        "id": "AzKC4gRJjlqp"
      }
    },
    {
      "cell_type": "code",
      "source": [],
      "metadata": {
        "id": "H5XX7Carjk7s"
      },
      "execution_count": null,
      "outputs": []
    },
    {
      "cell_type": "markdown",
      "source": [
        "---\n",
        "**Code Block 5**\n",
        "\n",
        "The greatest common factor between two numbers is the largest integer that divides two numbers exactly, without leaving a remainder. Create a function titled **GCF(a,b)** that takes two numbers as parameters and returns the greatest common factor of the two numbers. Once again, use a loop and the % operator.\n",
        "\n",
        "**Hint** Think about what value you want your loop to start and end with and why.\n",
        "\n",
        "Test out your function with:\n",
        "\n",
        "[12,18] --> 6\n",
        "\n",
        "[42,49] --> 7\n",
        "\n",
        "[63,24] --> 3\n",
        "\n",
        "---"
      ],
      "metadata": {
        "id": "ahqzH0W2B3Om"
      }
    },
    {
      "cell_type": "code",
      "source": [],
      "metadata": {
        "id": "jGfVcFDYCPKv"
      },
      "execution_count": null,
      "outputs": []
    },
    {
      "cell_type": "markdown",
      "source": [
        "---\n",
        "**Code Block 6**\n",
        "\n",
        "In this cell, create a function titled **LCM(a,b)** that takes two arguments, and returns the least common multiple (**LMC**) of the two numbers. In this case, we can use the GCF() function that we defined earlier using the equation:\n",
        "\n",
        "$$ LCM(a,b) = {(a * b) \\over GCF(a, b)} $$\n",
        "\n",
        "Test out your function with:\n",
        "\n",
        "[10,12] --> 2\n",
        "\n",
        "[15,18] -->3\n",
        "\n",
        "---"
      ],
      "metadata": {
        "id": "X7BM2b1bCPvz"
      }
    },
    {
      "cell_type": "code",
      "source": [],
      "metadata": {
        "id": "boHQ0MIJDDW8"
      },
      "execution_count": null,
      "outputs": []
    }
  ]
}