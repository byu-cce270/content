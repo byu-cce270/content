{
  "nbformat": 4,
  "nbformat_minor": 0,
  "metadata": {
    "colab": {
      "provenance": [],
      "include_colab_link": true
    },
    "kernelspec": {
      "name": "python3",
      "display_name": "Python 3"
    },
    "language_info": {
      "name": "python"
    }
  },
  "cells": [
    {
      "cell_type": "markdown",
      "metadata": {
        "id": "view-in-github",
        "colab_type": "text"
      },
      "source": [
        "<a href=\"https://colab.research.google.com/github/byu-cce270/content/blob/main/docs/unit2/04_intro_functions/(Starter_Workbook)_Class_Intro_Functions.ipynb\" target=\"_parent\"><img src=\"https://colab.research.google.com/assets/colab-badge.svg\" alt=\"Open In Colab\"/></a>"
      ]
    },
    {
      "cell_type": "markdown",
      "source": [
        "#Intro to Functions In-Class\n"
      ],
      "metadata": {
        "id": "eLnJBI18ae5j"
      }
    },
    {
      "cell_type": "markdown",
      "source": [
        "---\n",
        "\n",
        "\n",
        "**Code Block 1**\n",
        "\n",
        "1. Write a function called 'greeting' that takes two arguments: name and energy_level.\n",
        "2. The energy_level options should be \"low\", \"medium\" and \"high\".\n",
        "3. In each case, the function should print \"Hello <name>\", but if energy level = low, the name should be all lowercase.\n",
        "4. If it is medium it should be title case, and if it is high it should be all uppercase.\n",
        "5. Default energy_level = medium.\n",
        "\n",
        "\n",
        "---"
      ],
      "metadata": {
        "id": "En2lBuXLb4cq"
      }
    },
    {
      "cell_type": "code",
      "source": [],
      "metadata": {
        "id": "Ll3suIc5QCnk"
      },
      "execution_count": null,
      "outputs": []
    },
    {
      "cell_type": "markdown",
      "source": [
        "---\n",
        "\n",
        "\n",
        "**Code Block 2**\n",
        "\n",
        "1. Write a function called \"quadratic\" that takes the coefficients of a quadratic equation ($ax^2 + bx + c = 0$) as its parameters and solves for its roots using the quadratic formula:\n",
        "\n",
        "$$ x = {-b \\pm \\sqrt{b^2-4ac} \\over 2a} $$\n",
        "\n",
        "2. Test out your function by calling it\n",
        "<br>(Hint: your function should return two values)\n",
        "\n",
        "---\n"
      ],
      "metadata": {
        "id": "SVd9oi8mgQQ_"
      }
    },
    {
      "cell_type": "code",
      "source": [],
      "metadata": {
        "id": "bfH6XXM2RvnS"
      },
      "execution_count": null,
      "outputs": []
    },
    {
      "cell_type": "markdown",
      "source": [
        "---\n",
        "\n",
        "\n",
        "**Code Block 3**\n",
        "\n",
        "PMT is used to calculate the fixed payment amount for a loan or investment based on constant interest rates and payments over a set period.\n",
        "\n",
        "In Excel, we use the PMT function:\n",
        "\n",
        "$$ PMT(rate, nper, pv, [fv]) $$\n",
        "\n",
        "rate = interest rate per period\n",
        "\n",
        "nper = total number of payments\n",
        "\n",
        "pv = present value or principal amount\n",
        "\n",
        "fv = future value\n",
        "\n",
        "1. Write a function called PMT\n",
        "$$ PMT = {P * r \\over 1-(1+r)^-n} $$\n",
        "2. Set the default value of fv = 0, this will be an optional keyword argument.\n",
        "2. Test out your function by calling it\n",
        "\n",
        "---\n"
      ],
      "metadata": {
        "id": "r2JoFuK6-0HA"
      }
    },
    {
      "cell_type": "code",
      "source": [],
      "metadata": {
        "id": "fllcMSdO-8Oe"
      },
      "execution_count": null,
      "outputs": []
    },
    {
      "cell_type": "markdown",
      "source": [
        "---\n",
        "**Code Block 4**\n",
        "\n",
        "Create a function that takes an integer and tells the user if the number is prime or not.\n",
        "\n",
        "1. Create a function called is_prime(n) that takes an integer as input.\n",
        "2. Return True or False depending on whether or not the number is a prime number.\n",
        "3. How do we know is something is a prime number?\n",
        "\n",
        "---"
      ],
      "metadata": {
        "id": "AzKC4gRJjlqp"
      }
    },
    {
      "cell_type": "code",
      "source": [],
      "metadata": {
        "id": "H5XX7Carjk7s"
      },
      "execution_count": null,
      "outputs": []
    },
    {
      "cell_type": "markdown",
      "source": [
        "---\n",
        "**Code Block 5**\n",
        "\n",
        "The greatest common factor between two numbers is the largest integer that divides two numbers exactly, without leaving a remainder. Create a function that finds the greatest common factor between two integers\n",
        "\n",
        "1. Create a function titled GCF(a,b) that takes two numbers as parameters.\n",
        "2. Create a while loop that makes sure that b does not equal 0\n",
        "2. Solve for the greates common factor between those two numbers.\n",
        "\n",
        "Test out your function with:\n",
        "\n",
        "[12,18]\n",
        "\n",
        "[42,49]\n",
        "\n",
        "[63,24]\n",
        "\n",
        "---"
      ],
      "metadata": {
        "id": "ahqzH0W2B3Om"
      }
    },
    {
      "cell_type": "code",
      "source": [],
      "metadata": {
        "id": "jGfVcFDYCPKv"
      },
      "execution_count": null,
      "outputs": []
    },
    {
      "cell_type": "markdown",
      "source": [
        "---\n",
        "**Code Block 6**\n",
        "\n",
        "In this cell, create a function that finds the least common multiple between two integers\n",
        "\n",
        "1. Create a function that takes two arguments, titled LCM(a,b)\n",
        "2. This function will call the GCF that we defined earlier.\n",
        "3. We can use the equation\n",
        " $$ LCM(a,b) = {(a * b) \\over GCF(a, b)} $$\n",
        "\n",
        "Test out your function with:\n",
        "\n",
        "[10,12]\n",
        "\n",
        "[15,18]\n",
        "\n",
        "---"
      ],
      "metadata": {
        "id": "X7BM2b1bCPvz"
      }
    },
    {
      "cell_type": "code",
      "source": [],
      "metadata": {
        "id": "boHQ0MIJDDW8"
      },
      "execution_count": null,
      "outputs": []
    },
    {
      "cell_type": "markdown",
      "source": [
        "---\n",
        "\n",
        "**Code Block 7**\n",
        "\n",
        "In this code block you are going to find the greatest common denominator of two numbers. You will call the LCM function that we defined earlier.\n",
        "\n",
        "1. Create a function with two number arguments, titled GCD(a,b)\n",
        "2. Similar to the last problem, we are going to reference the LCM function that we created earlier.\n",
        "3. $$GCD(a,b) = {(|a * b|) \\over LCM(a,b)}$$\n",
        "\n",
        "Test out your function with [12,18]\n",
        "\n",
        "---"
      ],
      "metadata": {
        "id": "8vjG4hyQDEKj"
      }
    },
    {
      "cell_type": "code",
      "source": [],
      "metadata": {
        "id": "CaKOWSFeRBLs"
      },
      "execution_count": null,
      "outputs": []
    }
  ]
}