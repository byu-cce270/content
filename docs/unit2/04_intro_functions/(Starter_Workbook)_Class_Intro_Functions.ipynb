{
  "nbformat": 4,
  "nbformat_minor": 0,
  "metadata": {
    "colab": {
      "provenance": [],
      "include_colab_link": true
    },
    "kernelspec": {
      "name": "python3",
      "display_name": "Python 3"
    },
    "language_info": {
      "name": "python"
    }
  },
  "cells": [
    {
      "cell_type": "markdown",
      "metadata": {
        "id": "view-in-github",
        "colab_type": "text"
      },
      "source": [
        "<a href=\"https://colab.research.google.com/github/byu-cce270/content/blob/main/docs/unit2/04_intro_functions/(Starter_Workbook)_Class_Intro_Functions.ipynb\" target=\"_parent\"><img src=\"https://colab.research.google.com/assets/colab-badge.svg\" alt=\"Open In Colab\"/></a>"
      ]
    },
    {
      "cell_type": "markdown",
      "source": [
        "#Intro to Functions In-Class\n"
      ],
      "metadata": {
        "id": "eLnJBI18ae5j"
      }
    },
    {
      "cell_type": "markdown",
      "source": [
        "---\n",
        "\n",
        "\n",
        "**Code Block 1**\n",
        "\n",
        "1. Write a function called \"greeting\" that prints \"Hello World!\" whenever called\n",
        "2. Call your greeting function\n",
        "3. Write a more personal function called \"hello\" that requires one parameter and prints \"Hello [name]!\" whenever called\n",
        "4. Create an input statement that asks for the user's name, then call your function\n",
        "5. Create a new function called \"welcome\". Have it just ask for the user's name whenever the function is called. It should still print \"Hello [name]!\" whenever called\n",
        "\n",
        "\n",
        "---"
      ],
      "metadata": {
        "id": "En2lBuXLb4cq"
      }
    },
    {
      "cell_type": "code",
      "source": [],
      "metadata": {
        "id": "Ll3suIc5QCnk"
      },
      "execution_count": null,
      "outputs": []
    },
    {
      "cell_type": "markdown",
      "source": [
        "---\n",
        "\n",
        "\n",
        "**Code Block 2**\n",
        "\n",
        "1. Write a function called \"quadratic\" that takes the coefficients of a quadratic equation ($ax^2 + bx + c = 0$) as its parameters and solves for its roots using the quadratic formula:\n",
        "\n",
        "$$ x = {-b \\pm \\sqrt{b^2-4ac} \\over 2a} $$\n",
        "\n",
        "2. Test out your function by calling it\n",
        "<br>(Hint: your function should return two values)\n",
        "\n",
        "---\n"
      ],
      "metadata": {
        "id": "SVd9oi8mgQQ_"
      }
    },
    {
      "cell_type": "markdown",
      "source": [
        "---\n",
        "\n",
        "\n",
        "**Code Block 3**\n",
        "\n",
        "1. Write a function called \"simple_interest\" that calculates the simple interest formula below:\n",
        "\n",
        "$$ A = {P * r * t \\over 100} $$\n",
        "\n",
        "where\n",
        "\n",
        "P = principal\n",
        "\n",
        "r = annual interest rate\n",
        "\n",
        "t = time in years\n",
        "\n",
        "A = Interest amount\n",
        "\n",
        "2. Test out your function by calling it\n",
        "\n",
        "---\n"
      ],
      "metadata": {
        "id": "r2JoFuK6-0HA"
      }
    },
    {
      "cell_type": "code",
      "source": [],
      "metadata": {
        "id": "fllcMSdO-8Oe"
      },
      "execution_count": null,
      "outputs": []
    },
    {
      "cell_type": "markdown",
      "source": [
        "---\n",
        "**Code Block 4**\n",
        "\n",
        "Create a function that calculates the greatest common denominator between two numbers.\n",
        "\n",
        "1. Your function should take two integers as input.\n",
        "2. Use a method such as the Euclidean algorithm to determine their GCD.\n",
        "3. Return the GCD as the output.\n",
        "\n",
        "---"
      ],
      "metadata": {
        "id": "AzKC4gRJjlqp"
      }
    },
    {
      "cell_type": "code",
      "source": [],
      "metadata": {
        "id": "H5XX7Carjk7s"
      },
      "execution_count": 2,
      "outputs": []
    },
    {
      "cell_type": "markdown",
      "source": [
        "---\n",
        "\n",
        "\n",
        "**Code Block 5**\n",
        "\n",
        "1. Write your own function that includes one if statement, an elif statement, and an else statement\n",
        "2. Call your function and make sure that it returns your desired result\n",
        "\n",
        "---"
      ],
      "metadata": {
        "id": "aYozHA3uiLhx"
      }
    },
    {
      "cell_type": "code",
      "source": [],
      "metadata": {
        "id": "Gx4oF5dn2yHB"
      },
      "execution_count": null,
      "outputs": []
    },
    {
      "cell_type": "markdown",
      "source": [
        "---\n",
        "**Code Block 6**\n",
        "\n",
        "Create a function that calculates BMI\n",
        "\n",
        "1. Create a function that takes two parameters, weight in lbs and height in inches\n",
        "2. BMI = (weight in lbs)*703/(height in in)**2\n",
        "---"
      ],
      "metadata": {
        "id": "WLOucISVrgk6"
      }
    },
    {
      "cell_type": "code",
      "source": [
        "\n"
      ],
      "metadata": {
        "id": "DX18HGalsOxd"
      },
      "execution_count": 6,
      "outputs": []
    }
  ]
}