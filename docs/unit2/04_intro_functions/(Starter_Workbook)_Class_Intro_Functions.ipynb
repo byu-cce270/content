{
  "nbformat": 4,
  "nbformat_minor": 0,
  "metadata": {
    "colab": {
      "provenance": [],
      "include_colab_link": true
    },
    "kernelspec": {
      "name": "python3",
      "display_name": "Python 3"
    },
    "language_info": {
      "name": "python"
    }
  },
  "cells": [
    {
      "cell_type": "markdown",
      "metadata": {
        "id": "view-in-github",
        "colab_type": "text"
      },
      "source": [
        "<a href=\"https://colab.research.google.com/github/byu-cce270/content/blob/main/docs/unit2/04_intro_functions/(Starter_Workbook)_Class_Intro_Functions.ipynb\" target=\"_parent\"><img src=\"https://colab.research.google.com/assets/colab-badge.svg\" alt=\"Open In Colab\"/></a>"
      ]
    },
    {
      "cell_type": "markdown",
      "source": [
        "#Intro to Functions In-Class\n"
      ],
      "metadata": {
        "id": "eLnJBI18ae5j"
      }
    },
    {
      "cell_type": "markdown",
      "source": [
        "---\n",
        "\n",
        "\n",
        "**Code Block 1**\n",
        "\n",
        "1. Write a function called 'greeting' that takes two arguments: name and energy_level.\n",
        "2. The energy_level options should be \"low\", \"medium\" and \"high\".\n",
        "3. In each case, the function should print \"Hello <name>\", but if energy level = low, the name should be all lowercase.\n",
        "4. If it is medium it should be title case, and if it is high it should be all uppercase.\n",
        "5. Default energy_level = medium.\n",
        "\n",
        "\n",
        "---"
      ],
      "metadata": {
        "id": "En2lBuXLb4cq"
      }
    },
    {
      "cell_type": "code",
      "source": [],
      "metadata": {
        "id": "Ll3suIc5QCnk"
      },
      "execution_count": null,
      "outputs": []
    },
    {
      "cell_type": "markdown",
      "source": [
        "---\n",
        "\n",
        "\n",
        "**Code Block 2**\n",
        "\n",
        "1. Write a function called \"quadratic\" that takes the coefficients of a quadratic equation ($ax^2 + bx + c = 0$) as its parameters and solves for its roots using the quadratic formula:\n",
        "\n",
        "$$ x = {-b \\pm \\sqrt{b^2-4ac} \\over 2a} $$\n",
        "\n",
        "2. Test out your function by calling it\n",
        "<br>(Hint: your function should return two values)\n",
        "\n",
        "---\n"
      ],
      "metadata": {
        "id": "SVd9oi8mgQQ_"
      }
    },
    {
      "cell_type": "markdown",
      "source": [
        "---\n",
        "\n",
        "\n",
        "**Code Block 3**\n",
        "\n",
        "PMT is used to calculate the fixed payment amount for a loan or investment based on constant interest rates and payments over a set period.\n",
        "\n",
        "In Excel, we use the PMT function:\n",
        "\n",
        "$$ PMT(rate, nper, pv, [fv]) $$\n",
        "\n",
        "rate = interest rate per period\n",
        "\n",
        "nper = total number of payments\n",
        "\n",
        "pv = present value or principal amount\n",
        "\n",
        "fv = future value\n",
        "\n",
        "1. Write a function called PMT\n",
        "$$ PMT = {P * r \\over 1-(1+r)^-n} $$\n",
        "2. Set the default value of fv = 0, this will be an optional keyword argument.\n",
        "2. Test out your function by calling it\n",
        "\n",
        "---\n"
      ],
      "metadata": {
        "id": "r2JoFuK6-0HA"
      }
    },
    {
      "cell_type": "code",
      "source": [],
      "metadata": {
        "id": "fllcMSdO-8Oe"
      },
      "execution_count": null,
      "outputs": []
    },
    {
      "cell_type": "markdown",
      "source": [
        "---\n",
        "**Code Block 4**\n",
        "\n",
        "Create a function that calculates the greatest common denominator between two numbers. First we are going to create a function\n",
        "\n",
        "1. Create a function called is_prime(n) that takes an integer as input and returns True or False depending on where or not the number is a prime number.\n",
        "2. Create a function called GCF(a,b)\n",
        "1. Your function should take two integers as input.\n",
        "2. Use a method such as the Euclidean algorithm to determine their GCD.\n",
        "3. Return the GCD as the output.\n",
        "\n",
        "---"
      ],
      "metadata": {
        "id": "AzKC4gRJjlqp"
      }
    },
    {
      "cell_type": "code",
      "source": [],
      "metadata": {
        "id": "H5XX7Carjk7s"
      },
      "execution_count": null,
      "outputs": []
    }
  ]
}