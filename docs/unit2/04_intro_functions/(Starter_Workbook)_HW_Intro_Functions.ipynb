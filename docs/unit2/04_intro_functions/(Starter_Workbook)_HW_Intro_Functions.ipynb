{
  "nbformat": 4,
  "nbformat_minor": 0,
  "metadata": {
    "colab": {
      "provenance": [],
      "include_colab_link": true
    },
    "kernelspec": {
      "name": "python3",
      "display_name": "Python 3"
    },
    "language_info": {
      "name": "python"
    }
  },
  "cells": [
    {
      "cell_type": "markdown",
      "metadata": {
        "id": "view-in-github",
        "colab_type": "text"
      },
      "source": [
        "<a href=\"https://colab.research.google.com/github/byu-cce270/content/blob/main/docs/unit2/04_intro_functions/(Starter_Workbook)_HW_Intro_Functions.ipynb\" target=\"_parent\"><img src=\"https://colab.research.google.com/assets/colab-badge.svg\" alt=\"Open In Colab\"/></a>"
      ]
    },
    {
      "cell_type": "markdown",
      "source": [
        "---\n",
        "\n",
        "**Code Block 1**\n",
        "1. Define a function called optimize_rebar(cut_lengths, stock_lengths)\n",
        "2. Inside the function, calculate how much of the stock rebar is used when cutting all required pieces.\n",
        "3. Calculate the leftover (waste) length after cutting.\n",
        "4. Return the total length used and the waste.\n",
        "\n",
        "---"
      ],
      "metadata": {
        "id": "hzdTZSp4_nDV"
      }
    },
    {
      "cell_type": "code",
      "execution_count": null,
      "metadata": {
        "id": "ybedDcXl2nQp"
      },
      "outputs": [],
      "source": [
        "#Start your code here\n"
      ]
    },
    {
      "cell_type": "markdown",
      "source": [
        "---\n",
        "\n",
        "**Code Block 2**\n",
        "\n",
        "Now you will use the function you defined above to check the rebar efficiency in a sample project.\n",
        "\n",
        "1. Create a list of cut lengths, such as: cuts = [4,4,3.5,2.]\n",
        "2. Define the stock length, such as stock = 20.\n",
        "3. Call your optimize_rebar function with these values.\n",
        "4. Store the results in variables (e.g., used, waste, efficiency).\n",
        "5. Print out a clear report that shows how much rebar was used, how much was wasted, and the cutting efficiency.\n",
        "\n",
        "---"
      ],
      "metadata": {
        "id": "ZEsnr7I1BqCl"
      }
    },
    {
      "cell_type": "code",
      "source": [
        "# Start your code here\n",
        "\n"
      ],
      "metadata": {
        "id": "pyN25fcI129S"
      },
      "execution_count": null,
      "outputs": []
    }
  ]
}