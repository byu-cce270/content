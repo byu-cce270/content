{
  "nbformat": 4,
  "nbformat_minor": 0,
  "metadata": {
    "colab": {
      "provenance": [],
      "include_colab_link": true
    },
    "kernelspec": {
      "name": "python3",
      "display_name": "Python 3"
    },
    "language_info": {
      "name": "python"
    }
  },
  "cells": [
    {
      "cell_type": "markdown",
      "metadata": {
        "id": "view-in-github",
        "colab_type": "text"
      },
      "source": [
        "<a href=\"https://colab.research.google.com/github/byu-cce270/content/blob/main/docs/unit2/04_intro_functions/(Starter_Workbook)_HW_Intro_Functions.ipynb\" target=\"_parent\"><img src=\"https://colab.research.google.com/assets/colab-badge.svg\" alt=\"Open In Colab\"/></a>"
      ]
    },
    {
      "cell_type": "markdown",
      "source": [
        "---\n",
        "\n",
        "**Code Block 1**\n",
        "1. Define a function called optimize_rebar(cut_lengths, stock_lengths)\n",
        "2. Calculate the leftover waste length after cutting.\n",
        "3. Calculate the efficiency by dividing the total_cut by the stock length.\n",
        "\n",
        "---"
      ],
      "metadata": {
        "id": "hzdTZSp4_nDV"
      }
    },
    {
      "cell_type": "code",
      "execution_count": null,
      "metadata": {
        "id": "ybedDcXl2nQp"
      },
      "outputs": [],
      "source": [
        "#Start your code here"
      ]
    },
    {
      "cell_type": "markdown",
      "source": [
        "---\n",
        "\n",
        "**Code Block 2**\n",
        "\n",
        "Now you will use the function you defined above to check the rebar efficiency.\n",
        "\n",
        "1. Define a print function that has two parameters, cut length and stock length\n",
        "2. set the waste and efficiency equal to the optimize rebar function that we defined earlier.\n",
        "3. Print the cut lengths, stock length, waste and efficiency.\n",
        "\n",
        "\n",
        "---"
      ],
      "metadata": {
        "id": "ZEsnr7I1BqCl"
      }
    },
    {
      "cell_type": "code",
      "source": [
        "# Start your code here"
      ],
      "metadata": {
        "id": "pyN25fcI129S"
      },
      "execution_count": null,
      "outputs": []
    },
    {
      "cell_type": "markdown",
      "source": [
        "---\n",
        "\n",
        "**Code Block 3**\n",
        "Test out your code in the following code block.\n",
        "\n",
        "---"
      ],
      "metadata": {
        "id": "MqjgfejqS5WS"
      }
    },
    {
      "cell_type": "code",
      "source": [
        "# Enter your practice values here"
      ],
      "metadata": {
        "id": "cGMHWqDIS9qn"
      },
      "execution_count": null,
      "outputs": []
    }
  ]
}