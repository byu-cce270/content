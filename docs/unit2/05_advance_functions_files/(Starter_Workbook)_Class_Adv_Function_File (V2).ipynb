{
  "nbformat": 4,
  "nbformat_minor": 0,
  "metadata": {
    "colab": {
      "provenance": [],
      "include_colab_link": true
    },
    "kernelspec": {
      "name": "python3",
      "display_name": "Python 3"
    },
    "language_info": {
      "name": "python"
    }
  },
  "cells": [
    {
      "cell_type": "markdown",
      "metadata": {
        "id": "view-in-github",
        "colab_type": "text"
      },
      "source": [
        "<a href=\"https://colab.research.google.com/github/byu-cce270/content/blob/main/docs/unit2/05_advance_functions_files/(Starter_Workbook)_Class_Adv_Function_File%20(V2).ipynb\" target=\"_parent\"><img src=\"https://colab.research.google.com/assets/colab-badge.svg\" alt=\"Open In Colab\"/></a>"
      ]
    },
    {
      "cell_type": "markdown",
      "source": [
        "#Advanced Functions and Files In-Class\n"
      ],
      "metadata": {
        "id": "eLnJBI18ae5j"
      }
    },
    {
      "cell_type": "markdown",
      "source": [
        "**Code Block 1**\n",
        "\n",
        "In this exercise, you’ll practice working with files by writing to a file and then reading from it in two different ways.  \n",
        "\n",
        "1. Using a context manager (with open), create a new text file called **example.txt** and open it in write mode ('w').  \n",
        "2. Write a simple sentence to the file (for example: \"Hello World!\").  \n",
        "3. In the next code block, open the same file in read mode ('r') *without* using a context manager.  \n",
        "4. Print the contents of the file to the screen.  \n",
        "5. Remember to close the file manually when you’re finished!\n"
      ],
      "metadata": {
        "id": "SIyznXVzu-Bf"
      }
    },
    {
      "cell_type": "code",
      "source": [],
      "metadata": {
        "id": "A0viLyzpvzfx"
      },
      "execution_count": null,
      "outputs": []
    },
    {
      "cell_type": "markdown",
      "source": [
        "**Code Block 2**\n",
        "\n",
        "In this code block you will create a function called **check_password** that works as a password checker to check the strength of a given password.\n",
        "\n",
        "1. The function should take a single string argument (password) as input.\n",
        "2. The password should be 8-10 characters long.\n",
        "3. The password has to contain at least 1 number.\n",
        "4. The password has to contain at least 1 special character. Use this string for your special characters: \"!@#$%^&*()_+[]{}|;:,.<>?`~\"\n",
        "\n",
        "The password should return two variables:\n",
        "\n",
        "**accepted**: Boolean indicating whether the password is acceptable or not.<br>\n",
        "**message**: Text string giving a reason why the password was rejected or an empty string otherwise."
      ],
      "metadata": {
        "id": "155QzG9_0RRE"
      }
    },
    {
      "cell_type": "markdown",
      "source": [
        "**Code Block 3**\n",
        "\n",
        "Run this code to create a dictionary of users for use in the next code block. Or you can use the dictionary created in the prior code block."
      ],
      "metadata": {
        "id": "Xm2OW0Hpe6GX"
      }
    },
    {
      "cell_type": "code",
      "source": [
        "users = {\n",
        "    \"alice\":   \"Tr3e!s8h\",\n",
        "    \"bob\":     \"Moon#Run\",\n",
        "    \"carol\":   \"Sunrise\",\n",
        "    \"dave\":    \"Pa5s^Word\",\n",
        "    \"eve\":     \"Qw1e_rt$\",\n",
        "    \"frank\":   \"L0g!n2Me\",\n",
        "    \"grace\":   \"St4r*Du5\",\n",
        "    \"heidi\":   \"Pa55w.rd\",\n",
        "    \"ivan\":    \"Xy7Z|k9a\",\n",
        "    \"judy\":    \"8Moon[Sky\",\n",
        "    \"karl\":    \"shorty5\",\n",
        "    \"laura\":   \"Win9+Now\",\n",
        "    \"mike\":    \"GoHome2&Stranger\",\n",
        "    \"nina\":    \"Be7?Happy\",\n",
        "    \"oliver\":  \"Z0o]lamp$\",\n",
        "    \"peggy\":   \"1Cup:Tea\",\n",
        "    \"quinn\":   \"3BirdFly\",\n",
        "    \"rachel\":  \"Sun4<Sea>\",\n",
        "    \"sam\":     \"Top8^Hat\",\n",
        "    \"tom\":     \"7Lake&Me\"\n",
        "}"
      ],
      "metadata": {
        "id": "M68p6cAPezKW"
      },
      "execution_count": null,
      "outputs": []
    },
    {
      "cell_type": "markdown",
      "source": [
        "**Code Block 4**\n",
        "\n",
        "Save the users dictionary to a file so that can download it and steal everyone's identity.\n",
        "\n",
        "1. Create a file called **credentials.txt** to store user names and passwords.\n",
        "2. Write out the dictionary created in the previous code block with one entry per line. So you should have two columns, username and password. You should write out a comma after the username to separate them.\n",
        "3. Close the file."
      ],
      "metadata": {
        "id": "EFNLJgVMAbuN"
      }
    },
    {
      "cell_type": "code",
      "source": [
        "\n",
        "\n"
      ],
      "metadata": {
        "id": "NNyJHwHsALfX"
      },
      "execution_count": null,
      "outputs": []
    },
    {
      "cell_type": "markdown",
      "source": [
        "**Code Block 5**\n",
        "\n",
        "Read the user names and passwords in the credentials file and parse the credentials into one of two files depending on the password status.\n",
        "\n",
        "1. Open the **credentials.txt** file and read the data back into a dictionary.\n",
        "2. Create and open two files for writing **credentials_GOOD.txt** and **credentials_BAD.txt**.\n",
        "3. Loop through the users dictionary. For each set of credentials, call the check_password() function to see if the password is good. If so, write it to the **credentials_GOOD.txt** file. If it is bad, write it to the **credentials_BAD.txt** file and include a third text string (separated by another comma) with a message indicating why the password is bad. Put the message in quotes.\n"
      ],
      "metadata": {
        "id": "XAMe_MxEA9Yi"
      }
    },
    {
      "cell_type": "code",
      "source": [],
      "metadata": {
        "id": "gVPN-PlBCmzV"
      },
      "execution_count": null,
      "outputs": []
    }
  ]
}