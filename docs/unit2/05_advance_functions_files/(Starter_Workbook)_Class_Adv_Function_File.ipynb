{
  "nbformat": 4,
  "nbformat_minor": 0,
  "metadata": {
    "colab": {
      "provenance": [],
      "include_colab_link": true
    },
    "kernelspec": {
      "name": "python3",
      "display_name": "Python 3"
    },
    "language_info": {
      "name": "python"
    }
  },
  "cells": [
    {
      "cell_type": "markdown",
      "metadata": {
        "id": "view-in-github",
        "colab_type": "text"
      },
      "source": [
        "<a href=\"https://colab.research.google.com/github/byu-cce270/content/blob/main/docs/unit2/05_advance_functions_files/(Starter_Workbook)_Class_Adv_Function_File.ipynb\" target=\"_parent\"><img src=\"https://colab.research.google.com/assets/colab-badge.svg\" alt=\"Open In Colab\"/></a>"
      ]
    },
    {
      "cell_type": "markdown",
      "source": [
        "#Advance Functions and Files In-Class\n"
      ],
      "metadata": {
        "id": "eLnJBI18ae5j"
      }
    },
    {
      "cell_type": "markdown",
      "source": [
        "**Code Block 1**\n",
        "\n",
        "In this exercise, you’ll practice working with files by writing to a file and then reading from it in two different ways.  \n",
        "\n",
        "1. Using a context manager (with open), create a new text file called **example.txt** and open it in write mode ('w').  \n",
        "2. Write a simple sentence to the file (for example: \"Hello World!\").  \n",
        "3. In the next code block, open the same file in read mode ('r') *without* using a context manager.  \n",
        "4. Print the contents of the file to the screen.  \n",
        "5. Remember to close the file manually when you’re finished!\n"
      ],
      "metadata": {
        "id": "SIyznXVzu-Bf"
      }
    },
    {
      "cell_type": "code",
      "source": [],
      "metadata": {
        "id": "A0viLyzpvzfx"
      },
      "execution_count": null,
      "outputs": []
    },
    {
      "cell_type": "markdown",
      "source": [
        "**Code Block 2**\n",
        "\n",
        "In this code block you will create a function called **check_password** that works as a password checker to check the strength of a given password.\n",
        "\n",
        "1. The function should take a single string argument (password) as input.\n",
        "2. The password should be 8-10 characters long.\n",
        "3. The password has to contain at least 1 number.\n",
        "4. The password has to contain at least 1 special character. Use this string for your special characters: \"!@#$%^&*()_+[]{}|;:,.<>?`~\"\n",
        "\n",
        "The password should return two variables:\n",
        "\n",
        "**accepted**: Boolean indicating whether the password is acceptable or not.<br>\n",
        "**message**: Text string giving a reason why the password was rejected or an empty string otherwise."
      ],
      "metadata": {
        "id": "155QzG9_0RRE"
      }
    },
    {
      "cell_type": "code",
      "source": [],
      "metadata": {
        "id": "9XIYdh3-0TJ9"
      },
      "execution_count": null,
      "outputs": []
    },
    {
      "cell_type": "markdown",
      "source": [
        "**Code Block 3**\n",
        "\n",
        "You are making a website for your company. Make a dictionary that contains username & passwords. Write code that iteratively builds up a dictionary of user names and passwords and allows them to login using one of the user name & passwords credentials.\n",
        "\n",
        "1. Ask the user if they would like to create a username and password or if they would like to login.\n",
        "2. If they would like to login, check to see if their username and password is already in the file.\n",
        "3. If they would like to create a username and password, have them create a username and enter a password. Make a loop that runs the defined password checker function until a proper password is entered.\n",
        "4. If their password is good, save their credentials to the dictionary, that way they can log in in the future. If it doesn't pass, tell them why and have them enter a new one.\n",
        "\n",
        "and Voila! Now you can call this function anytime someone tries to login!"
      ],
      "metadata": {
        "id": "4Rc8G1CC0fA9"
      }
    },
    {
      "cell_type": "code",
      "source": [],
      "metadata": {
        "id": "kV55ZhOB0mPN"
      },
      "execution_count": null,
      "outputs": []
    },
    {
      "cell_type": "markdown",
      "source": [
        "**OPTIONAL**\n",
        "\n",
        "Run this code to create a dictionary of users for use in the next code block. Or you can use the dictionary created in the prior code block."
      ],
      "metadata": {
        "id": "Xm2OW0Hpe6GX"
      }
    },
    {
      "cell_type": "code",
      "source": [
        "users = {\n",
        "    \"alice\":   \"Tr3e!s8h\",\n",
        "    \"bob\":     \"M0on#Run\",\n",
        "    \"carol\":   \"9Sun@rise\",\n",
        "    \"dave\":    \"Pa5s^Word\",\n",
        "    \"eve\":     \"Qw1e_rt$\",\n",
        "    \"frank\":   \"L0g!n2Me\",\n",
        "    \"grace\":   \"St4r*Du5\",\n",
        "    \"heidi\":   \"Pa55w.rd\",\n",
        "    \"ivan\":    \"Xy7Z|k9a\",\n",
        "    \"judy\":    \"8Moon[Sky\",\n",
        "    \"karl\":    \"Red5}Fox\",\n",
        "    \"laura\":   \"Win9+Now\",\n",
        "    \"mike\":    \"Go2,{Home\",\n",
        "    \"nina\":    \"Be7?Happy\",\n",
        "    \"oliver\":  \"Z0o]lamp$\",\n",
        "    \"peggy\":   \"1Cup:Tea\",\n",
        "    \"quinn\":   \"3Bird;Fly\",\n",
        "    \"rachel\":  \"Sun4<Sea>\",\n",
        "    \"sam\":     \"Top8^Hat\",\n",
        "    \"tom\":     \"7Lake&Me\"\n",
        "}"
      ],
      "metadata": {
        "id": "M68p6cAPezKW"
      },
      "execution_count": null,
      "outputs": []
    },
    {
      "cell_type": "markdown",
      "source": [
        "**Code Block 4**\n",
        "\n",
        "Let's save the users dictionary in a file to that hackers on our website can download it and steal everyone's identity.\n",
        "\n",
        "1. Create a file to store user names and passwords\n",
        "2. Write out the dictionary created in the previous code block with one entry per line. So you should have two columns, username and password. You should write out a comma after the username to separate them\n",
        "3. Close the file\n",
        "4. Open the file and read the data back into a dictionary\n",
        "5. Check and make sure it worked.\n",
        "\n",
        "For Step 1, you could use either \"w\" or \"a\". Explain why you would want to use one or the other.\n"
      ],
      "metadata": {
        "id": "XAMe_MxEA9Yi"
      }
    },
    {
      "cell_type": "code",
      "source": [],
      "metadata": {
        "id": "gVPN-PlBCmzV"
      },
      "execution_count": null,
      "outputs": []
    }
  ]
}