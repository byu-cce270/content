{
  "nbformat": 4,
  "nbformat_minor": 0,
  "metadata": {
    "colab": {
      "provenance": [],
      "include_colab_link": true
    },
    "kernelspec": {
      "name": "python3",
      "display_name": "Python 3"
    },
    "language_info": {
      "name": "python"
    }
  },
  "cells": [
    {
      "cell_type": "markdown",
      "metadata": {
        "id": "view-in-github",
        "colab_type": "text"
      },
      "source": [
        "<a href=\"https://colab.research.google.com/github/byu-cce270/content/blob/main/docs/unit2/05_advance_functions_files/(Starter_Workbook)_Class_Adv_Function_File.ipynb\" target=\"_parent\"><img src=\"https://colab.research.google.com/assets/colab-badge.svg\" alt=\"Open In Colab\"/></a>"
      ]
    },
    {
      "cell_type": "markdown",
      "source": [
        "#Advance Functions and Files In-Class\n"
      ],
      "metadata": {
        "id": "eLnJBI18ae5j"
      }
    },
    {
      "cell_type": "markdown",
      "source": [
        "\n",
        "**Code Block 1**\n",
        "\n",
        "Consider a cantilever beam with a load (W) applied at the end of the beam.\n",
        "\n",
        "1. Write a function called **cantilever_load** that calculates the maximum deflection and the maximum moment using the following formulas:\n",
        "\n",
        ">$\\delta = \\dfrac{WL^3}{3EI}$\n",
        "\n",
        ">$M_{max} = WL$\n",
        "\n",
        "\n",
        "where\n",
        "\n",
        ">W = load<br>\n",
        ">L = length of the beam<br>\n",
        ">E = modulus of elasticity<br>\n",
        ">I = moment of inertia\n",
        "\n",
        "\n",
        "2. Test out your function with the following values:\n",
        "\n",
        ">W = 1500<br>\n",
        ">L = 144<br>\n",
        ">E = 29e6<br>\n",
        ">I = 1152<br>\n"
      ],
      "metadata": {
        "id": "b65iKkqF_4pI"
      }
    },
    {
      "cell_type": "code",
      "source": [],
      "metadata": {
        "id": "bebYxFLx_13R"
      },
      "execution_count": null,
      "outputs": []
    },
    {
      "cell_type": "markdown",
      "source": [
        "**Code Block 2**\n",
        "\n",
        "1. Write a function called **bending_stress** that calculates the formula below to find the maximum bending stress in a beam:\n",
        "\n",
        ">$\\sigma = \\dfrac{My}{I}$\n",
        "\n",
        "where\n",
        "\n",
        ">M = maximum moment<br>\n",
        ">y = half of the height of the beam<br>\n",
        ">I = moment of inertia<br>\n",
        "\n",
        "2. Call your function from above to find the maximum deflection and moment for a cantilever beam, then pass the maximum moment it returns as the argument for M when calling your bending_stress formula. Use the input values shown above and let y = 4.\n"
      ],
      "metadata": {
        "id": "t8G9md_uB14P"
      }
    },
    {
      "cell_type": "code",
      "source": [],
      "metadata": {
        "id": "5YjjPC8DJSG3"
      },
      "execution_count": null,
      "outputs": []
    },
    {
      "cell_type": "markdown",
      "source": [
        "**Code Block 3**\n",
        "\n",
        "In this exercise, you’ll practice working with files by writing to a file and then reading from it in two different ways.  \n",
        "\n",
        "1. Using a context manager (with open), create a new text file called **example.txt** and open it in write mode ('w').  \n",
        "2. Write a simple sentence to the file (for example: \"Hello World!\").  \n",
        "3. In the next code block, open the same file in read mode ('r') *without* using a context manager.  \n",
        "4. Print the contents of the file to the screen.  \n",
        "5. Remember to close the file manually when you’re finished!\n"
      ],
      "metadata": {
        "id": "SIyznXVzu-Bf"
      }
    },
    {
      "cell_type": "code",
      "source": [],
      "metadata": {
        "id": "A0viLyzpvzfx"
      },
      "execution_count": null,
      "outputs": []
    },
    {
      "cell_type": "markdown",
      "source": [
        "**Code Block 4**\n",
        "\n",
        "In this code block you will create a function that works as a password checker to check the strength of a given password.\n",
        "\n",
        "1. Create a function that checks if an input meets all the criteria for a strong password.\n",
        "2. Start your function with a while loop, that way if the user doesnt fufill one of the specified cateories they can re-enter their password. Start with while True:\n",
        "3. Make sure that the password is 8-10 characters long.\n",
        "4. The password has to contain at least 1 number.\n",
        "5. The password has to contain at least 1 special character\n",
        "\n",
        "Hint: Try making a dictionary for special charcters and numbers\n"
      ],
      "metadata": {
        "id": "155QzG9_0RRE"
      }
    },
    {
      "cell_type": "code",
      "source": [],
      "metadata": {
        "id": "9XIYdh3-0TJ9"
      },
      "execution_count": null,
      "outputs": []
    },
    {
      "cell_type": "markdown",
      "source": [
        "**Code Block 5**\n",
        "\n",
        "You are making a website for your company. Make a dictionary that contains username & passwords.\n",
        "\n",
        "1. Ask the user if they would like to create a username and password or if they would like to login.\n",
        "2. If they would like to login, check to see if their username and password is already in the file.\n",
        "3. If they would like to create a username and password, have them create a username and enter a password. Run the defined password checker function to make sure the password they created is good.\n",
        "4. If their password is good, save their credentials to the dictionary, that way they can log in in the future. If it doesn't pass, tell them why and have them enter a new one.\n",
        "\n",
        "and Voila! Now you can call this function anytime someone tries to login!"
      ],
      "metadata": {
        "id": "4Rc8G1CC0fA9"
      }
    },
    {
      "cell_type": "code",
      "source": [],
      "metadata": {
        "id": "kV55ZhOB0mPN"
      },
      "execution_count": null,
      "outputs": []
    },
    {
      "cell_type": "markdown",
      "source": [
        "**Code Block 6**\n",
        "\n",
        "Lets save the dictionary in a file to that hackers on our website can download it and steal everyone's identify.\n",
        "\n",
        "1. Create a file to store user names and passwords\n",
        "2. Write out the dictionary with one entry per line. So you should have two columns, username and password. You should write out a comma after the username to separate them\n",
        "3. Close the file\n",
        "4. Open the file and read the data back into a dictionary\n",
        "5. Check and make sure it worked.\n",
        "\n",
        "6. Add a comments that defends opening the file in Step 1 as either \"w\" or \"a\" and why you would want to do one or the other."
      ],
      "metadata": {
        "id": "XAMe_MxEA9Yi"
      }
    },
    {
      "cell_type": "code",
      "source": [],
      "metadata": {
        "id": "gVPN-PlBCmzV"
      },
      "execution_count": null,
      "outputs": []
    }
  ]
}