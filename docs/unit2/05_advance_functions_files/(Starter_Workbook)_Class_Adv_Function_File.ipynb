{
  "nbformat": 4,
  "nbformat_minor": 0,
  "metadata": {
    "colab": {
      "provenance": [],
      "include_colab_link": true
    },
    "kernelspec": {
      "name": "python3",
      "display_name": "Python 3"
    },
    "language_info": {
      "name": "python"
    }
  },
  "cells": [
    {
      "cell_type": "markdown",
      "metadata": {
        "id": "view-in-github",
        "colab_type": "text"
      },
      "source": [
        "<a href=\"https://colab.research.google.com/github/byu-cce270/content/blob/main/docs/unit2/05_advance_functions_files/(Starter_Workbook)_Class_Adv_Function_File.ipynb\" target=\"_parent\"><img src=\"https://colab.research.google.com/assets/colab-badge.svg\" alt=\"Open In Colab\"/></a>"
      ]
    },
    {
      "cell_type": "markdown",
      "source": [
        "#Advance Functions and Files In-Class\n"
      ],
      "metadata": {
        "id": "eLnJBI18ae5j"
      }
    },
    {
      "cell_type": "markdown",
      "source": [
        "---\n",
        "\n",
        "\n",
        "**Code Block 1**\n",
        "\n",
        "1. Write a function called \"cantilever_moment\" that calculates the formula below to find the maximum deflection of a beam **and** returns the maximum moment (in this case, the maximum moment is just M):\n",
        "\n",
        "$$ \\delta = {ML^2 \\over 2EI} $$\n",
        "\n",
        "where\n",
        "\n",
        "M = moment load\n",
        "\n",
        "L = length of the beam\n",
        "\n",
        "E = modulus of elasticity\n",
        "\n",
        "I = moment of inertia\n",
        "\n",
        "$\\delta$ = maximum deflection\n",
        "\n",
        "2. Test out your function by calling it\n",
        "\n",
        "---"
      ],
      "metadata": {
        "id": "b65iKkqF_4pI"
      }
    },
    {
      "cell_type": "code",
      "source": [],
      "metadata": {
        "id": "bebYxFLx_13R"
      },
      "execution_count": null,
      "outputs": []
    },
    {
      "cell_type": "markdown",
      "source": [
        "---\n",
        "\n",
        "\n",
        "**Code Block 2**\n",
        "\n",
        "1. Write a function called \"bending_stress\" that calculates the formula below to find the maximum bending stress in a beam:\n",
        "\n",
        "$$ \\sigma = {My \\over I} $$\n",
        "\n",
        "where\n",
        "\n",
        "M = maximum moment\n",
        "\n",
        "y = half of the height of the beam\n",
        "\n",
        "I = moment of inertia\n",
        "\n",
        "$\\sigma$ = bending stress\n",
        "\n",
        "2. Call your function from Code Block 5 to find the maximum moment, then pass that maximum moment as the argument for M when calling your bending_stress formula\n",
        "---"
      ],
      "metadata": {
        "id": "t8G9md_uB14P"
      }
    },
    {
      "cell_type": "markdown",
      "source": [
        "---\n",
        "\n",
        "**Code Block 3**\n",
        "\n",
        "In this exercise, you’ll practice working with files by writing to a file and then reading from it in two different ways.  \n",
        "\n",
        "1. Using a context manager (with open), create a new text file called **example.txt** and open it in write mode ('w').  \n",
        "2. Write a simple sentence to the file (for example: \"Hello World!\").  \n",
        "3. In the next code block, open the same file in read mode ('r') *without* using a context manager.  \n",
        "4. Print the contents of the file to the screen.  \n",
        "5. Remember to close the file manually when you’re finished!\n",
        "\n",
        "---\n"
      ],
      "metadata": {
        "id": "SIyznXVzu-Bf"
      }
    },
    {
      "cell_type": "code",
      "source": [],
      "metadata": {
        "id": "A0viLyzpvzfx"
      },
      "execution_count": null,
      "outputs": []
    },
    {
      "cell_type": "markdown",
      "source": [
        "---\n",
        "**Code Block 4**\n",
        "\n",
        "In this code block you will create a function that works as a password checker to check the strength of a given password.\n",
        "\n",
        "1. Create a function that checks if an input meets all the criteria for a strong password.\n",
        "2. Start your function with a while loop, that way if the user doesnt fufill one of the specified cateories they can re-enter their password. Start with while True:\n",
        "3. Make sure that the password is 8-10 characters long.\n",
        "4. The password has to contain at least 1 number.\n",
        "5. The password has to contain at least 1 special character\n",
        "\n",
        "Hint: Try making a dictionary for special charcters and numbers\n"
      ],
      "metadata": {
        "id": "155QzG9_0RRE"
      }
    },
    {
      "cell_type": "code",
      "source": [],
      "metadata": {
        "id": "9XIYdh3-0TJ9"
      },
      "execution_count": null,
      "outputs": []
    },
    {
      "cell_type": "markdown",
      "source": [
        "---\n",
        "**Code Block 5**\n",
        "\n",
        "You are making a website for your company. Make an empty dictionary that cointains username & passwords.\n",
        "\n",
        "1. Ask the user if they would like to create a username and password or if they would like to login.\n",
        "2. If they would like to login, check to see if their username and password is already in the dictionary.\n",
        "3. If they would like to create a username and password, have them create a username, and run the defined password checker function to make sure the password they created is good.\n",
        "4. Save their credentials to the empty dictionary, that way they can log in in the future.\n",
        "\n",
        "and Voila! Now you can call this function anytime someone tries to login!"
      ],
      "metadata": {
        "id": "4Rc8G1CC0fA9"
      }
    },
    {
      "cell_type": "code",
      "source": [],
      "metadata": {
        "id": "kV55ZhOB0mPN"
      },
      "execution_count": null,
      "outputs": []
    }
  ]
}