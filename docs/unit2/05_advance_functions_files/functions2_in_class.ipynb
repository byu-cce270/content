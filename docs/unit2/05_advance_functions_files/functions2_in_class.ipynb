{
 "nbformat": 4,
 "nbformat_minor": 0,
 "metadata": {
  "colab": {
   "provenance": [],
   "include_colab_link": true
  },
  "kernelspec": {
   "name": "python3",
   "display_name": "Python 3"
  },
  "language_info": {
   "name": "python"
  }
 },
 "cells": [
  {
   "cell_type": "markdown",
   "metadata": {
    "id": "view-in-github",
    "colab_type": "text"
   },
   "source": "<a href=\"https://colab.research.google.com/github/byu-cce270/content/blob/main/docs/unit2/05_advance_functions_files/functions2_in_class.ipynb\" target=\"_parent\"><img src=\"https://colab.research.google.com/assets/colab-badge.svg\" alt=\"Open In Colab\"/></a>"
  },
  {
   "cell_type": "markdown",
   "source": [
    "#Functions In-class Part 2\n"
   ],
   "metadata": {
    "id": "eLnJBI18ae5j"
   }
  },
  {
   "cell_type": "markdown",
   "source": [
    "---\n",
    "\n",
    "\n",
    "**Code Block 1**\n",
    "\n",
    "1. Write a function called \"quadratic\" that takes the coefficients of a quadratic equation ($ax^2 + bx + c = 0$) as its parameters and solves for its roots using the quadratic formula:\n",
    "\n",
    "$$ x = {-b \\pm \\sqrt{b^2-4ac} \\over 2a} $$\n",
    "\n",
    "2. Test out your function by calling it\n",
    "<br>(Hint: your function should return two values)\n",
    "\n",
    "---"
   ],
   "metadata": {
    "id": "Ee1C_GR77J3f"
   }
  },
  {
   "cell_type": "code",
   "execution_count": null,
   "metadata": {
    "id": "SwQgqMVtVRqU"
   },
   "outputs": [],
   "source": []
  },
  {
   "cell_type": "markdown",
   "source": [
    "---\n",
    "\n",
    "\n",
    "**Code Block 2**\n",
    "\n",
    "1. Write a function called \"simple_interest\" that calculates the simple interest formula below:\n",
    "\n",
    "$$ A = {P * r * t \\over 100} $$\n",
    "\n",
    "where\n",
    "\n",
    "P = principal\n",
    "\n",
    "r = annual interest rate\n",
    "\n",
    "t = time in years\n",
    "\n",
    "A = Interest amount\n",
    "\n",
    "2. Test out your function by calling it\n",
    "\n",
    "---"
   ],
   "metadata": {
    "id": "5pzgQUpv88sq"
   }
  },
  {
   "cell_type": "code",
   "source": [],
   "metadata": {
    "id": "jFVBw-BRX74G"
   },
   "execution_count": null,
   "outputs": []
  },
  {
   "cell_type": "markdown",
   "source": [
    "---\n",
    "\n",
    "\n",
    "**Code Block 3**\n",
    "\n",
    "1. Write a function called \"cantilever_moment\" that calculates the formula below to find the maximum deflection of a beam **and** returns the maximum moment (in this case, the maximum moment is just M):\n",
    "\n",
    "$$ \\delta = {ML^2 \\over 2EI} $$\n",
    "\n",
    "where\n",
    "\n",
    "M = moment load\n",
    "\n",
    "L = length of the beam\n",
    "\n",
    "E = modulus of elasticity\n",
    "\n",
    "I = moment of inertia\n",
    "\n",
    "$\\delta$ = maximum deflection\n",
    "\n",
    "2. Test out your function by calling it\n",
    "\n",
    "---"
   ],
   "metadata": {
    "id": "b65iKkqF_4pI"
   }
  },
  {
   "cell_type": "code",
   "source": [],
   "metadata": {
    "id": "bebYxFLx_13R"
   },
   "execution_count": null,
   "outputs": []
  },
  {
   "cell_type": "markdown",
   "source": [
    "---\n",
    "\n",
    "\n",
    "**Code Block 4**\n",
    "\n",
    "1. Write a function called \"bending_stress\" that calculates the formula below to find the maximum bending stress in a beam:\n",
    "\n",
    "$$ \\sigma = {My \\over I} $$\n",
    "\n",
    "where\n",
    "\n",
    "M = maximum moment\n",
    "\n",
    "y = half of the height of the beam\n",
    "\n",
    "I = moment of inertia\n",
    "\n",
    "$\\sigma$ = bending stress\n",
    "\n",
    "2. Call your function from Code Block 5 to find the maximum moment, then pass that maximum moment as the argument for M when calling your bending_stress formula\n",
    "---"
   ],
   "metadata": {
    "id": "t8G9md_uB14P"
   }
  },
  {
   "cell_type": "code",
   "source": [],
   "metadata": {
    "id": "w9Bxl4MYCuLx"
   },
   "execution_count": null,
   "outputs": []
  }
 ]
}
