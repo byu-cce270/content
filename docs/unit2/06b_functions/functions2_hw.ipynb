{
  "nbformat": 4,
  "nbformat_minor": 0,
  "metadata": {
    "colab": {
      "provenance": [],
      "authorship_tag": "ABX9TyOCeMoeyLqp15uG9SibiyHa",
      "include_colab_link": true
    },
    "kernelspec": {
      "name": "python3",
      "display_name": "Python 3"
    },
    "language_info": {
      "name": "python"
    }
  },
  "cells": [
    {
      "cell_type": "markdown",
      "metadata": {
        "id": "view-in-github",
        "colab_type": "text"
      },
      "source": [
        "<a href=\"https://colab.research.google.com/github/byu-cce270/content/blob/main/docs/unit2/06b_functions/functions2_hw.ipynb\" target=\"_parent\"><img src=\"https://colab.research.google.com/assets/colab-badge.svg\" alt=\"Open In Colab\"/></a>"
      ]
    },
    {
      "cell_type": "code",
      "execution_count": null,
      "metadata": {
        "id": "S_VZ_KXPN_S_"
      },
      "outputs": [],
      "source": [
        "# Define your functions here\n"
      ]
    },
    {
      "cell_type": "code",
      "source": [
        "# Create the main code that runs the functions here\n"
      ],
      "metadata": {
        "id": "-Hb80riuOCZD"
      },
      "execution_count": null,
      "outputs": []
    }
  ]
}