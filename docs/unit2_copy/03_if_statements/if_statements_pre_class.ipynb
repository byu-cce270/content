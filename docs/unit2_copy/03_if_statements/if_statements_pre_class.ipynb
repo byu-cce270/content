{
  "nbformat": 4,
  "nbformat_minor": 0,
  "metadata": {
    "colab": {
      "provenance": [],
      "include_colab_link": true
    },
    "kernelspec": {
      "name": "python3",
      "display_name": "Python 3"
    },
    "language_info": {
      "name": "python"
    }
  },
  "cells": [
    {
      "cell_type": "markdown",
      "metadata": {
        "id": "view-in-github",
        "colab_type": "text"
      },
      "source": [
        "<a href=\"https://colab.research.google.com/github/byu-cce270/content/blob/main/docs/unit2/03_if_statements/%5BStarter_Sheet%7D_If_Statement_Pre_Class.ipynb\" target=\"_parent\"><img src=\"https://colab.research.google.com/assets/colab-badge.svg\" alt=\"Open In Colab\"/></a>"
      ]
    },
    {
      "cell_type": "code",
      "execution_count": null,
      "metadata": {
        "id": "lb9dYo6OCI7R"
      },
      "outputs": [],
      "source": [
        "# Create an input asking the user what score they got on a recent exam. Save the result in a variable\n",
        "\n",
        "\n"
      ]
    },
    {
      "cell_type": "code",
      "source": [
        "# Use an if statment to check that the user's grade is greater than or\n",
        "# equal to 60. Print a message telling the user whether they pass or fail\n",
        "\n",
        "\n"
      ],
      "metadata": {
        "id": "Dp35W1AEANt1"
      },
      "execution_count": null,
      "outputs": []
    }
  ]
}