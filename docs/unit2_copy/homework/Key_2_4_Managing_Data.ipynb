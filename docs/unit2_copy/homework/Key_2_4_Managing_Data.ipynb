{
  "nbformat": 4,
  "nbformat_minor": 0,
  "metadata": {
    "colab": {
      "provenance": [],
      "include_colab_link": true
    },
    "kernelspec": {
      "name": "python3",
      "display_name": "Python 3"
    },
    "language_info": {
      "name": "python"
    }
  },
  "cells": [
    {
      "cell_type": "markdown",
      "metadata": {
        "id": "view-in-github",
        "colab_type": "text"
      },
      "source": [
        "<a href=\"https://colab.research.google.com/github/byu-cce270/content/blob/main/docs/unit2/homework/Key_2_4_Managing_Data.ipynb\" target=\"_parent\"><img src=\"https://colab.research.google.com/assets/colab-badge.svg\" alt=\"Open In Colab\"/></a>"
      ]
    },
    {
      "cell_type": "markdown",
      "source": [
        "Use a dictionary to calculate the cost of materials and shipping\n",
        "MaterialsDictionary guide material:[cost per ton, cost to ship a ton per mile]"
      ],
      "metadata": {
        "id": "d7UY4cs-lpCE"
      }
    },
    {
      "cell_type": "code",
      "source": [
        "MaterialsDictionary={\"Guide\":[\"$ per ton\",\"$ ship ton per mile\"],\"Steel\":[700,5],\"Cement\":[130,2],\"Lumber\":[34,4],\"Glass\":[50,15]}\n",
        "# MaterialsDictionary[\"Steel\"]=[700,5]\n",
        "# MaterialsDictionary[\"Lumber\"]=[34,4]\n",
        "# MaterialsDictionary[\"Glass\"]=[50,15]\n",
        "# MaterialsDictionary[\"Cement\"]=[130,2]"
      ],
      "metadata": {
        "id": "XhIZ4BVv0YSU"
      },
      "execution_count": null,
      "outputs": []
    },
    {
      "cell_type": "code",
      "execution_count": null,
      "metadata": {
        "id": "WyN63o0kk-2s"
      },
      "outputs": [],
      "source": [
        "def invoice_calc(amountmats,MaterialsDictionary):\n",
        "  #this function will help you calculate how much it is to busy and ship varies materials\n",
        "  total=0\n",
        "  for i in range(amountmats):\n",
        "    material=input(\"What is the first material you are shipping? (Steel=s, Cement=c, Lumber=l, Glass=g) \")\n",
        "    amount=float(input(\"How much of the material is needed in Tons? \"))\n",
        "    distance=float(input(\"How far are you wanting to shipp everything in miles? \"))\n",
        "    if material==\"s\":\n",
        "      cost=MaterialsDictionary[\"Steel\"]\n",
        "    elif material == \"c\":\n",
        "      cost=MaterialsDictionary[\"Cement\"]\n",
        "    elif material ==\"l\":\n",
        "      cost=MaterialsDictionary[\"Lumber\"]\n",
        "    elif material ==\"g\":\n",
        "      cost=MaterialsDictionary[\"Glass\"]\n",
        "    else:\n",
        "      print(\"invalid entry try again later\")\n",
        "      break\n",
        "    total=total+cost[0]*amount\n",
        "    total=total+cost[1]*distance\n",
        "  return total\n"
      ]
    },
    {
      "cell_type": "code",
      "source": [
        "#another way of doing it that is valid\n",
        "def invoice_calc2(amountmats,MaterialsDictionary):\n",
        "  #this function will help you calculate how much it is to busy and ship varies materials\n",
        "  total=0\n",
        "  for i in range(amountmats):\n",
        "    material=input(\"What is the first material you are shipping? (Steel, Cement, Lumber, Glass) \")\n",
        "    amount=float(input(\"How much of the material is needed in Tons? \"))\n",
        "    distance=float(input(\"How far are you wanting to shipp everything in miles? \"))\n",
        "    cost=MaterialsDictionary(material)\n",
        "    total=total+cost[0]*amount\n",
        "    total=total+cost[1]*distance\n",
        "  return total"
      ],
      "metadata": {
        "id": "FcG5Bv4u75cp"
      },
      "execution_count": null,
      "outputs": []
    },
    {
      "cell_type": "code",
      "source": [
        "total = invoice_calc(4,MaterialsDictionary)\n",
        "print(total)"
      ],
      "metadata": {
        "colab": {
          "base_uri": "https://localhost:8080/"
        },
        "id": "tPii68sw5mzj",
        "outputId": "c0bf1d92-fd44-4463-86b4-0a849164aa20"
      },
      "execution_count": null,
      "outputs": [
        {
          "output_type": "stream",
          "name": "stdout",
          "text": [
            "What is the first material you are shipping? (Steel=s, Cement=c, Lumber=l, Glass=g) s\n",
            "How much of the material is needed in Tons? 4\n",
            "How far are you wanting to shipp everything in miles? 90\n",
            "What is the first material you are shipping? (Steel=s, Cement=c, Lumber=l, Glass=g) c\n",
            "How much of the material is needed in Tons? 1\n",
            "How far are you wanting to shipp everything in miles? 90\n",
            "What is the first material you are shipping? (Steel=s, Cement=c, Lumber=l, Glass=g) l\n",
            "How much of the material is needed in Tons? 6\n",
            "How far are you wanting to shipp everything in miles? 90\n",
            "What is the first material you are shipping? (Steel=s, Cement=c, Lumber=l, Glass=g) g\n",
            "How much of the material is needed in Tons? 2\n",
            "How far are you wanting to shipp everything in miles? 90\n",
            "5574.0\n"
          ]
        }
      ]
    },
    {
      "cell_type": "code",
      "source": [
        "Age = input (\"how old are you?\")\n",
        "age = int(Age)\n",
        "\n",
        "while True:\n",
        "  if age < 3:\n",
        "    print(\"your ticket is free!\")\n",
        "    break\n",
        "    age +=1\n",
        "  # elif age >=3:\n",
        "  #   print(\"your ticket costs $10\")\n",
        "  #   break\n",
        "  #   age +=1\n",
        "  elif age <=12:\n",
        "    print(\"you ticket costs $10\")\n",
        "    break\n",
        "    age +=1\n",
        "  else:\n",
        "    print(\"your ticket costs $15\")\n",
        "    break"
      ],
      "metadata": {
        "colab": {
          "base_uri": "https://localhost:8080/"
        },
        "id": "Fuv1y28i3Y4Q",
        "outputId": "76802cba-5477-4113-a5f4-8af19fa98bff"
      },
      "execution_count": null,
      "outputs": [
        {
          "output_type": "stream",
          "name": "stdout",
          "text": [
            "how old are you?15\n",
            "your ticket costs $15\n"
          ]
        }
      ]
    }
  ]
}