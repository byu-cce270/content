{
  "nbformat": 4,
  "nbformat_minor": 0,
  "metadata": {
    "colab": {
      "provenance": [],
      "authorship_tag": "ABX9TyNZwP+ScQHKgQ500hpEVg9T",
      "include_colab_link": true
    },
    "kernelspec": {
      "name": "python3",
      "display_name": "Python 3"
    },
    "language_info": {
      "name": "python"
    }
  },
  "cells": [
    {
      "cell_type": "markdown",
      "metadata": {
        "id": "view-in-github",
        "colab_type": "text"
      },
      "source": [
        "<a href=\"https://colab.research.google.com/github/byu-cce270/content/blob/main/docs/unit3/00_files/3_1_Files_HW.ipynb\" target=\"_blank\"><img src=\"https://colab.research.google.com/assets/colab-badge.svg\" alt=\"Open In Colab\"/></a>"
      ]
    },
    {
      "cell_type": "markdown",
      "source": [
        "## Read in your file below"
      ],
      "metadata": {
        "id": "VMnqTlLeJqPN"
      }
    },
    {
      "cell_type": "code",
      "execution_count": null,
      "metadata": {
        "id": "BZBtlq78JllK"
      },
      "outputs": [],
      "source": []
    },
    {
      "cell_type": "markdown",
      "source": [
        "## Write your code to count the amount of signs here"
      ],
      "metadata": {
        "id": "goji_WeNJ5qC"
      }
    },
    {
      "cell_type": "code",
      "source": [
        "Sign_counter = {\"10\":0,\"15\":0,\"25\":0,\"35\":0,\"45\":0,\"55\":0,\"60\":0,\"75\":0,\"80\":0}\n",
        "#Dictionary with the MPH and starting amount of each sign\n"
      ],
      "metadata": {
        "id": "479DnHPmKCWO"
      },
      "execution_count": null,
      "outputs": []
    },
    {
      "cell_type": "markdown",
      "source": [
        "## Print the amount of each sign below"
      ],
      "metadata": {
        "id": "jw5zPGh-KC7y"
      }
    },
    {
      "cell_type": "code",
      "source": [],
      "metadata": {
        "id": "g-s_PPfvKOqS"
      },
      "execution_count": null,
      "outputs": []
    },
    {
      "cell_type": "markdown",
      "source": [
        "## Write your new file here"
      ],
      "metadata": {
        "id": "nT1Jt604QkQZ"
      }
    },
    {
      "cell_type": "code",
      "source": [],
      "metadata": {
        "id": "3L7GY-e7Qkwk"
      },
      "execution_count": null,
      "outputs": []
    }
  ]
}
