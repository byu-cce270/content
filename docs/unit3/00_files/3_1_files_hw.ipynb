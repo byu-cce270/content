{
 "nbformat": 4,
 "nbformat_minor": 0,
 "metadata": {
  "colab": {
   "provenance": [],
   "include_colab_link": true
  },
  "kernelspec": {
   "name": "python3",
   "display_name": "Python 3"
  },
  "language_info": {
   "name": "python"
  }
 },
 "cells": [
  {
   "cell_type": "markdown",
   "metadata": {
    "id": "view-in-github",
    "colab_type": "text"
   },
   "source": "<a href=\"https://colab.research.google.com/github/byu-cce270/content/blob/main/docs/unit3/00_files/3_1_Files_HW.ipynb\" target=\"_parent\"><img src=\"https://colab.research.google.com/assets/colab-badge.svg\" alt=\"Open In Colab\"/></a>"
  },
  {
   "cell_type": "markdown",
   "source": [
    "## Read in your file"
   ],
   "metadata": {
    "id": "VMnqTlLeJqPN"
   }
  },
  {
   "cell_type": "code",
   "execution_count": null,
   "metadata": {
    "id": "BZBtlq78JllK"
   },
   "outputs": [],
   "source": []
  },
  {
   "cell_type": "markdown",
   "source": "## Write your code to count the number of signs at each speed",
   "metadata": {
    "id": "goji_WeNJ5qC"
   }
  },
  {
   "cell_type": "code",
   "source": [
    "#Dictionary with the MPH and starting number of each sign\n",
    "Sign_counter = {\"10\":0,\"15\":0,\"25\":0,\"35\":0,\"45\":0,\"55\":0,\"60\":0,\"75\":0,\"80\":0}\n"
   ],
   "metadata": {
    "id": "479DnHPmKCWO"
   },
   "execution_count": null,
   "outputs": []
  },
  {
   "cell_type": "markdown",
   "source": [
    "## Print the amount of each sign"
   ],
   "metadata": {
    "id": "jw5zPGh-KC7y"
   }
  },
  {
   "cell_type": "code",
   "source": [],
   "metadata": {
    "id": "g-s_PPfvKOqS"
   },
   "execution_count": null,
   "outputs": []
  },
  {
   "cell_type": "markdown",
   "source": [
    "## Create your new file"
   ],
   "metadata": {
    "id": "nT1Jt604QkQZ"
   }
  },
  {
   "cell_type": "code",
   "source": [],
   "metadata": {
    "id": "3L7GY-e7Qkwk"
   },
   "execution_count": null,
   "outputs": []
  }
 ]
}
