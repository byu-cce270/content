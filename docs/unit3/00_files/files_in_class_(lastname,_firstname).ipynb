{
  "nbformat": 4,
  "nbformat_minor": 0,
  "metadata": {
    "colab": {
      "provenance": [],
      "include_colab_link": true
    },
    "kernelspec": {
      "name": "python3",
      "display_name": "Python 3"
    },
    "language_info": {
      "name": "python"
    }
  },
  "cells": [
    {
      "cell_type": "markdown",
      "metadata": {
        "id": "view-in-github",
        "colab_type": "text"
      },
      "source": [
        "<a href=\"https://colab.research.google.com/github/byu-cce270/content/blob/main/docs/unit3/00_files/files_in_class_(lastname%2C_firstname).ipynb\" target=\"_parent\"><img src=\"https://colab.research.google.com/assets/colab-badge.svg\" alt=\"Open In Colab\"/></a>"
      ]
    },
    {
      "cell_type": "markdown",
      "source": [
        "Read in the csv file linked on readthedocs using a 'with' statement"
      ],
      "metadata": {
        "id": "_KoDlHgiqWuM"
      }
    },
    {
      "cell_type": "code",
      "source": [],
      "metadata": {
        "id": "PuS2QK3dLbZI"
      },
      "execution_count": null,
      "outputs": []
    },
    {
      "cell_type": "markdown",
      "source": [
        "Create a list of only the grades from the data in the file so that it looks similar to this ['76', '84', '72', '93']"
      ],
      "metadata": {
        "id": "JvKysoK2qlfq"
      }
    },
    {
      "cell_type": "code",
      "source": [],
      "metadata": {
        "id": "1A9UmB6ZfvcY"
      },
      "execution_count": null,
      "outputs": []
    },
    {
      "cell_type": "markdown",
      "source": [
        "Find the Average Grade Using the New List"
      ],
      "metadata": {
        "id": "OryVMEC_qtCb"
      }
    },
    {
      "cell_type": "code",
      "source": [],
      "metadata": {
        "id": "OxIEE57fVOM2"
      },
      "execution_count": null,
      "outputs": []
    },
    {
      "cell_type": "markdown",
      "source": [
        "Add Your Own Name and Grade to the File"
      ],
      "metadata": {
        "id": "GHrKjYBSq3fs"
      }
    },
    {
      "cell_type": "code",
      "source": [],
      "metadata": {
        "id": "mvMJ9RZcn-aM"
      },
      "execution_count": null,
      "outputs": []
    }
  ]
}