{
  "nbformat": 4,
  "nbformat_minor": 0,
  "metadata": {
    "colab": {
      "provenance": [],
      "include_colab_link": true
    },
    "kernelspec": {
      "name": "python3",
      "display_name": "Python 3"
    },
    "language_info": {
      "name": "python"
    }
  },
  "cells": [
    {
      "cell_type": "markdown",
      "metadata": {
        "id": "view-in-github",
        "colab_type": "text"
      },
      "source": [
        "<a href=\"https://colab.research.google.com/github/byu-cce270/content/blob/main/docs/unit3/00_numpy/(Starter_Notebook)_Class_Numpy.ipynb\" target=\"_parent\"><img src=\"https://colab.research.google.com/assets/colab-badge.svg\" alt=\"Open In Colab\"/></a>"
      ]
    },
    {
      "cell_type": "markdown",
      "source": [
        "# Vectorization speed\n",
        "example for class"
      ],
      "metadata": {
        "id": "VPZz2LSDmGHZ"
      }
    },
    {
      "cell_type": "code",
      "source": [
        "import numpy as np\n",
        "\n",
        "# function to add to arrays using loops\n",
        "def plusarray(x1, x2):\n",
        "  x3 = np.zeros(len(x1))\n",
        "  for i in range(len(x1)):\n",
        "    x3[i] = x1[i] + x2[i]\n",
        "  return x3\n",
        "\n",
        "\n",
        "# two arrays with 1 million members\n",
        "x4 = np.random.rand(1000000)\n",
        "x5 = np.random.rand(1000000)\n",
        "\n",
        "print('Numpy vectorization')\n",
        "%timeit x4 + x5\n",
        "\n",
        "print('Function using loops')\n",
        "%timeit plusarray(x4, x5)"
      ],
      "metadata": {
        "id": "hLZJ2cmrmATw",
        "outputId": "319395a5-a7d2-43f8-87f8-23510a522942",
        "colab": {
          "base_uri": "https://localhost:8080/"
        }
      },
      "execution_count": 2,
      "outputs": [
        {
          "output_type": "stream",
          "name": "stdout",
          "text": [
            "Numpy vectorization\n",
            "2.23 ms ± 559 µs per loop (mean ± std. dev. of 7 runs, 100 loops each)\n",
            "Function using loops\n",
            "371 ms ± 9.47 ms per loop (mean ± std. dev. of 7 runs, 1 loop each)\n"
          ]
        }
      ]
    },
    {
      "cell_type": "markdown",
      "source": [
        "**Code Block 0 - Import NumPy**"
      ],
      "metadata": {
        "id": "bFzR2FI9qOo3"
      }
    },
    {
      "cell_type": "code",
      "source": [
        "# Run this cell to import numpy\n",
        "import numpy as np\n"
      ],
      "metadata": {
        "id": "cTorwk_RqMtV"
      },
      "execution_count": null,
      "outputs": []
    },
    {
      "cell_type": "markdown",
      "source": [
        "\n",
        "\n",
        "---\n",
        "\n",
        "**Code Block 1 - Lists vs Arrays**\n",
        "\n",
        "\n",
        "1. Print the list A\n",
        "2. Print the type of A\n",
        "3. Turn A into a NumPy array\n",
        "4. Print your new array\n",
        "5. Print the type of your new array\n",
        "6. What differences do you notice between the array and the list? Write a comment underneath your array stating the differences.\n",
        "\n",
        "\n",
        "---\n",
        "\n"
      ],
      "metadata": {
        "id": "1MoH8N5GdMMd"
      }
    },
    {
      "cell_type": "code",
      "execution_count": null,
      "metadata": {
        "id": "4kzNTQj_aW8c"
      },
      "outputs": [],
      "source": [
        "A = [1.2,2,3,4.9,5]\n"
      ]
    },
    {
      "cell_type": "markdown",
      "source": [
        "\n",
        "\n",
        "---\n",
        "\n",
        "**Code Block 2 - Working through Arrays**\n",
        "\n",
        "\n",
        "1. Turn list B into a numpy array named array_B.\n",
        "2. Print array_B\n",
        "3. Access the values [5,6,7,8] in the array and print your results. HINT: Accessing items in arrays is very similar to accesing items in lists.\n",
        "4. Access the number 11 and print your results.\n",
        "5. Access only the numbers 2, 3, and 4. Print your results\n",
        "\n",
        "\n",
        "---\n",
        "\n"
      ],
      "metadata": {
        "id": "XObOtej7tDOc"
      }
    },
    {
      "cell_type": "code",
      "source": [
        "B = [[1,2,3,4],[5,6,7,8],[9,10,11,12]]\n"
      ],
      "metadata": {
        "id": "Xuyj_TFiajv2"
      },
      "execution_count": null,
      "outputs": []
    },
    {
      "cell_type": "markdown",
      "source": [
        "\n",
        "\n",
        "---\n",
        "**Code Block 3 - Numpy Array Creation Routines**\n",
        "\n",
        "Use at least 3 of the below array commands and print out your arrays.\n",
        "\n",
        "*   np.zeros(# of zeros you want, dtype = int/float)\n",
        "*   np.ones(# 1's you want)\n",
        "*   np.empty(# of random numbers you want)\n",
        "*   np.arange(first number, last number, step)\n",
        "*   np.linspace(first number, last number, num=how many numbers you want in the array)\n",
        "* NOTE: For all of the above commands, you can choose the type by using dtype = 'int' or dtype = 'float'\n",
        "\n",
        "We will look at arange and linspace in more detail below (Code Block 7)\n",
        "\n",
        "Here is a list of more array functions:\n",
        "\n",
        "[Array creation routines](https://numpy.org/doc/stable/reference/routines.array-creation.html)\n",
        "\n",
        "\n",
        "---"
      ],
      "metadata": {
        "id": "b20juygvzOWu"
      }
    },
    {
      "cell_type": "code",
      "source": [],
      "metadata": {
        "id": "rw4d1QswarP2"
      },
      "execution_count": null,
      "outputs": []
    },
    {
      "cell_type": "markdown",
      "source": [
        "\n",
        "\n",
        "---\n",
        "\n",
        "\n",
        "**Code Block 4: Numpy manipulation routines**\n",
        "\n",
        "1. Create a new array for each of the following example functions. Use array1 and array2 for the examples. Print your results.\n",
        "\n",
        "*   np.concatenate((array,array)) - **Needs double paranthesis**\n",
        "*   np.delete(array, index)\n",
        "*   np.append(array, #)\n",
        "* np.sort(array)\n",
        "* np.vstack((array,array))\n",
        "* np.copy(array)\n",
        "\n",
        "\n",
        "\n",
        "Here are some more examples with syntax:\n",
        "\n",
        "[NumPy manipulation routines](https://numpy.org/doc/stable/reference/routines.array-manipulation.html)\n",
        "\n",
        "\n",
        "---\n",
        "\n"
      ],
      "metadata": {
        "id": "N01XVKAko2PG"
      }
    },
    {
      "cell_type": "code",
      "source": [
        "array1 = np.array([1, 2, 3, 4])\n",
        "array2 = np.array([5, 6, 7, 8])"
      ],
      "metadata": {
        "id": "ze84lZm4awRW"
      },
      "execution_count": null,
      "outputs": []
    },
    {
      "cell_type": "markdown",
      "source": [
        "\n",
        "\n",
        "---\n",
        "\n",
        "\n",
        "**Code Block 5: Updating values in Arrays**\n",
        "\n",
        "\n",
        "\n",
        "1.   Make a copy of array 3 and name it array_copy\n",
        "2.   In array_copy, Change the number 10 to be 15\n",
        "\n",
        "---\n",
        "\n"
      ],
      "metadata": {
        "id": "OsNMqFVXnYtI"
      }
    },
    {
      "cell_type": "code",
      "source": [
        "array3 = np.array([[1, 2, 3, 4],[5, 6, 7, 8],[9, 10, 11, 12]])\n"
      ],
      "metadata": {
        "id": "jNf8AwXNa22R"
      },
      "execution_count": null,
      "outputs": []
    },
    {
      "cell_type": "markdown",
      "source": [
        "\n",
        "\n",
        "---\n",
        "\n",
        "\n",
        "**Code Block 6: Find the solution to this system of linear equations**\n",
        "\n",
        "When solving for a linear equation, you are find an x, y, and z value that is true for all of the given equations. This can be time consuming by hand, but just take a few minutes with NumPy.\n",
        "\n",
        "\n",
        "Use the function below to solve for the x, y, and z values for the 3 equations below.\n",
        "\n",
        "* `np.linalg.solve(array, array)`\n",
        "\n",
        "\n",
        "\n",
        "**Equations**\n",
        "\n",
        "\n",
        "$$x+y+z = 10$$\n",
        "$$6x+3y+8z = 55$$\n",
        "$$21x+16y+2z = 157$$\n",
        "\n",
        "HINT: Set up each of the equations (without the solution) as an array, then the solutions as a different array.\n",
        "\n",
        "---\n",
        "\n"
      ],
      "metadata": {
        "id": "K2FvYr0rpLpk"
      }
    },
    {
      "cell_type": "code",
      "source": [],
      "metadata": {
        "id": "KxUnQi1IbKuy"
      },
      "execution_count": null,
      "outputs": []
    },
    {
      "cell_type": "markdown",
      "source": [
        "---\n",
        "**Code Block 7: np.arange vs np.linspace**\n",
        "\n",
        "We often need a list of numbers for various tasks, np.arange and np.linspace are commonly used. They are similar, but fill different needs. Here we explore that.\n",
        "\n",
        "Create an array for each of the given functions below. Have both arrays have the same starting and stopping values.\n",
        "\n",
        "*  ` np.arange(starting #, stopping #, step) `- Creates an array with evenly spaced values within a given interval. **Does not have a specified length**\n",
        "\n",
        "*  ` np.linspace(starting #, stopping #, num = length of array)` - Creates an array of evenly spaced numbers over a specified interval. **Has a specified length**\n",
        "\n",
        "What differences do you see? **Write a comment desribing a difference.**\n",
        "\n",
        "---"
      ],
      "metadata": {
        "id": "y2zvTKZKK-XB"
      }
    },
    {
      "cell_type": "code",
      "source": [],
      "metadata": {
        "id": "xrOMnAdoLA0l"
      },
      "execution_count": null,
      "outputs": []
    },
    {
      "cell_type": "markdown",
      "source": [
        "---\n",
        "\n",
        "**Code Block 8: Vectorization**\n",
        "\n",
        "Given the array below, perform the following arithmatic on every value in the array and print the individual results:\n",
        "- Add 3\n",
        "- Substract 7\n",
        "- Multiply by 4\n",
        "- Divide by 2\n",
        "- Take the square root\n",
        "- Multiply the array by itself\n",
        "\n",
        "---"
      ],
      "metadata": {
        "id": "TwPmfF1jt8aE"
      }
    },
    {
      "cell_type": "code",
      "source": [
        "x = np.array([1,2,3,4,5,6,7,8,9,10])\n",
        "x = np.arange(1,11)\n",
        "# Think about if two commands do the same thing?\n"
      ],
      "metadata": {
        "id": "YrIbBScpt8xG",
        "colab": {
          "base_uri": "https://localhost:8080/"
        },
        "outputId": "da116c60-1f7a-4aef-a74a-c220cf516ed7"
      },
      "execution_count": 4,
      "outputs": [
        {
          "output_type": "stream",
          "name": "stdout",
          "text": [
            "[ 1  2  3  4  5  6  7  8  9 10]\n",
            "[ 1  2  3  4  5  6  7  8  9 10]\n"
          ]
        }
      ]
    },
    {
      "cell_type": "markdown",
      "source": [
        "---\n",
        "\n",
        "**Code Block 9: Plotting**\n",
        "\n",
        "Graph the sine and cosine functions with a range from 0 to 5 circles (5 times 360). Find a step that works to see the graph clearly.\n",
        "\n",
        "Useful Functions\n",
        "- np.pi - pi function. Remember, pi = 180 degrees (half around a circle)\n",
        "- np.cos() - cosine function\n",
        "- np.sin() - sine function\n",
        "\n",
        "HINT - You will need the np.arange or np.linspace functions. You can choose to use either.\n",
        "\n",
        "---"
      ],
      "metadata": {
        "id": "jvWBmPP4LBPf"
      }
    },
    {
      "cell_type": "code",
      "source": [
        "# We will cover plotting in the next lecture - this is to give you a preview\n",
        "# we will will use Matplotlib to do the plotting\n",
        "# we will import the plotting part of the library and give it a nickname plt\n",
        "import matplotlib.pyplot as plt\n",
        "\n",
        "# now we can just give it two vectors of equal length and it will plot them\n",
        "# plt.plot(x,y)  # this works if x and y are lists/vectors/numpy arrays of equal lenth\n",
        "\n",
        "# HINT use the arange or linspace function to generate x, use numpy to generate y, then plot"
      ],
      "metadata": {
        "id": "1XjMRmN9LJFN"
      },
      "execution_count": null,
      "outputs": []
    },
    {
      "cell_type": "markdown",
      "source": [
        "---\n",
        "\n",
        "**Code Block 10: Truss Application**\n",
        "\n",
        "Consider this truss:\n",
        "<img src=\"https://github.com/user-attachments/assets/d297256a-4b28-4dee-9d92-e634e1cc7d2d\" width=\"40%\" height=\"35%\" align = \"center\">\n",
        "\n",
        "Using the Method of Joints and given $θ_A = 30°$, $θ_B = 50°$, and $P = -10^{lb}$, we derive the following equations:\n",
        "\n",
        "\n",
        "\n",
        "\n",
        "$$\n",
        "\\begin{align*}\n",
        "\\sum F_{A_x} &: & AB\\cos(30°) &+ 0(BC) &+ 1(AC) &+ 1(R_{A_x}) &+ 0(R_{A_y}) &+ 0(R_{C_y}) &= 0 \\\\\n",
        "\\sum F_{A_y} &: & AB\\sin(30°) &+ 0(BC) &+ 0(AC) &+ 0(R_{A_x}) &+ 1(R_{A_y}) &+ 0(R_{C_y}) &= 0 \\\\\n",
        "\\sum F_{B_x} &: & -AB\\cos(30°) &+ BC\\cos(50°) &+ 0(AC) &+ 0(R_{A_x}) &+ 0(R_{A_y}) &+ 0(R_{C_y}) &= 0 \\\\\n",
        "\\sum F_{B_y} &: & -AB\\sin(30°) &- BC\\cos(50°) &+ 0(AC) &+ 0(R_{A_x}) &+ 0(R_{A_y}) &+ 0(R_{C_y}) &= -10 \\\\\n",
        "\\sum F_{C_x} &: & 0(AB) &- BC\\cos(50°) &- 1(AC) &+ 0(R_{A_x}) &+ 0(R_{A_y}) &+ 0(R_{C_y}) &= 0 \\\\\n",
        "\\sum F_{C_y} &: & 0(AB) &+ BC\\sin(50°) &+ 0(AC) &+ 0(R_{A_x}) &+ 0(R_{A_y}) &+ 1(R_{C_y}) &= 0\n",
        "\\end{align*}\n",
        "$$\n",
        "\n",
        "\n",
        "$$\n",
        "\\begin{bmatrix}\n",
        " \\cos30° &  0          &  1  &  1 & 0 & 0 \\\\\n",
        " \\sin30° &  0          &  0  &  0 & 1 & 0 \\\\\n",
        "-\\cos30° &  \\cos50°    &  0  &  0 & 0 & 0 \\\\\n",
        "-\\sin30° & -\\cos50°    &  0  &  0 & 0 & 0 \\\\\n",
        " 0       & -\\cos50°    & -1  &  0 & 0 & 0 \\\\\n",
        " 0       &  \\sin50°    &  0  &  0 & 0 & 1\n",
        "\\end{bmatrix}\n",
        "\\begin{bmatrix}\n",
        "AB \\\\ BC \\\\ AC \\\\ R_{A_x} \\\\ R_{A_y} \\\\ R_{C_y}\n",
        "\\end{bmatrix}\n",
        "=\n",
        "\\begin{bmatrix}\n",
        "0 \\\\ 0 \\\\ 0 \\\\ -10 \\\\ 0 \\\\ 0\n",
        "\\end{bmatrix}\n",
        "$$\n",
        "\n",
        "---\n",
        "Similar to Code Block 6, use np.linalg.solve to solve for the internaland reaction forces in the truss $(AB,BC,AC,R_{A_x},R_{A_y},R_{C_y})$.\n",
        "\n",
        "Useful Functions\n",
        "- np.cos() - cosine function\n",
        "- np.sin() - sin function\n",
        "- np.linalg.solve() - matrix solver\n",
        "\n",
        "\n",
        "\n",
        "\n",
        "---"
      ],
      "metadata": {
        "id": "mik_Mn_iQpun"
      }
    },
    {
      "cell_type": "code",
      "source": [],
      "metadata": {
        "id": "1PHodoNgR2LB"
      },
      "execution_count": null,
      "outputs": []
    },
    {
      "cell_type": "markdown",
      "source": [
        "**Hint** To solve for each item in the matrix and write the equations down before putting them together and solving. You need a column for each variable, $(AB,BC,AC,R_{A_x},R_{A_y},R_{C_y})$. So your matrix should have 6 rows and 6 columns. The equations above don't have the 0 entries.\n",
        "\n",
        "<details>\n",
        "  <summary>Click to expand/collapse</summary>\n",
        "\n",
        "```python\n",
        "import numpy as np\n",
        "deg = np.pi/180\n",
        "\n",
        "A = np.array([\n",
        "    [ np.cos(30*deg),  0,  1,  1, 0, 0],\n",
        "    [ np.sin(30*deg),  0,  0,  0, 1, 0],\n",
        "    [-np.cos(30*deg),  np.cos(50*deg), 0, 0, 0, 0],\n",
        "    [-np.sin(30*deg), -np.cos(50*deg), 0, 0, 0, 0],\n",
        "    [ 0, -np.cos(50*deg), -1, 0, 0, 0],\n",
        "    [ 0,  np.sin(50*deg),  0, 0, 0, 1]\n",
        "])\n",
        "\n",
        "b = np.array([0, 0, 0, -10, 0, 0])\n",
        "\n",
        "x = np.linalg.solve(A, b)\n",
        "print(x)  # [AB, BC, AC, R_Ax, R_Ay, R_Cy]\n",
        "```\n",
        "</summary>"
      ],
      "metadata": {
        "id": "lIcrHtZ4_CW_"
      }
    }
  ]
}