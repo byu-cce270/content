{
  "nbformat": 4,
  "nbformat_minor": 0,
  "metadata": {
    "colab": {
      "provenance": [],
      "include_colab_link": true
    },
    "kernelspec": {
      "name": "python3",
      "display_name": "Python 3"
    },
    "language_info": {
      "name": "python"
    }
  },
  "cells": [
    {
      "cell_type": "markdown",
      "metadata": {
        "id": "view-in-github",
        "colab_type": "text"
      },
      "source": [
        "<a href=\"https://colab.research.google.com/github/byu-cce270/content/blob/main/docs/unit3/00_numpy/(Starter_Notebook)_HW_Numpy.ipynb\" target=\"_parent\"><img src=\"https://colab.research.google.com/assets/colab-badge.svg\" alt=\"Open In Colab\"/></a>"
      ]
    },
    {
      "cell_type": "markdown",
      "source": [
        "## Imports"
      ],
      "metadata": {
        "id": "EewRPFflJC5B"
      }
    },
    {
      "cell_type": "code",
      "execution_count": null,
      "metadata": {
        "id": "0CEmpdHaIxGJ"
      },
      "outputs": [],
      "source": []
    },
    {
      "cell_type": "markdown",
      "source": [
        "## Solve For Forces in Each Member"
      ],
      "metadata": {
        "id": "2asA42k2fbrc"
      }
    },
    {
      "cell_type": "code",
      "source": [
        " # Solution Dictionary: Keys = segments, values = solved forces\n",
        "total_forces = {\"AB\":0, \"BC\":0, \"AC\":0, \"R_AX\":0, \"R_AY\":0, \"R_CY\":0} # PUT INTO YOUR FUNCTION"
      ],
      "metadata": {
        "id": "OJvEUPyMJL4V"
      },
      "execution_count": null,
      "outputs": []
    },
    {
      "cell_type": "markdown",
      "source": [
        "## Find Coordinates of each point"
      ],
      "metadata": {
        "id": "ixyUdgnOfgWY"
      }
    },
    {
      "cell_type": "code",
      "source": [
        "# Coordinates Dictionary of Joints: keys = Joint, values = x, y location\n",
        "coordinates = {'A': 0, 'B': 0, 'C': 0} # PUT INTO YOUR FUNCTION\n"
      ],
      "metadata": {
        "id": "FQ1TzdUMJRJ_"
      },
      "execution_count": null,
      "outputs": []
    },
    {
      "cell_type": "markdown",
      "source": [
        "## Graph Truss  **Do Not Change Code**"
      ],
      "metadata": {
        "id": "mOZdMz0NJVL8"
      }
    },
    {
      "cell_type": "code",
      "source": [
        "def graph_truss(coordinates, forces):\n",
        "  # Each member connection with each starting, ending, and force value\n",
        "  members = {(\"A\", \"B\"): forces[\"AB\"],\n",
        "          (\"B\", \"C\"): forces[\"BC\"],\n",
        "          (\"A\", \"C\"): forces[\"AC\"]}\n",
        "\n",
        "  # Graph each member\n",
        "  for start, end in members:\n",
        "    force = members[start, end]\n",
        "    if force > 0:\n",
        "      color = \"blue\"  # sets the graphing color to be blue if in tension\n",
        "      label = \"Tension\"\n",
        "    else:\n",
        "      color = \"red\" # sets graphing color to be red if in compression\n",
        "      label = \"Compression\"\n",
        "    start_x = coordinates[start][0]\n",
        "    end_x = coordinates[end][0]\n",
        "    start_y = coordinates[start][1]\n",
        "    end_y = coordinates[end][1]\n",
        "    x_values = [start_x, end_x]\n",
        "    y_values = [start_y, end_y]\n",
        "    plt.plot(x_values, y_values, color=color, label=label)\n",
        "\n",
        "\n",
        "  # Graph each node\n",
        "  for joint, location in coordinates.items():\n",
        "    x = location[0]\n",
        "    y = location[1]\n",
        "    plt.scatter(x, y, color = \"black\")  # Black circle marker for joints\n",
        "    plt.text(x*1.05, y*1.05, joint, fontsize=12) # added +.1 and +.2 for text to not overlap with joints\n",
        "\n",
        "\n",
        "  # Add legend to lable tension and compression\n",
        "  plt.legend()\n",
        "  plt.margins(0.25)\n",
        "  plt.grid(True)\n",
        "\n",
        "  # Labels graph and x and y axes\n",
        "  plt.xlabel(\"X-coordinate (ft) \")\n",
        "  plt.ylabel(\"Y-coordinate (ft) \")\n",
        "  plt.title(\"Truss Structure\")\n",
        "  plt.show()\n",
        "\n",
        "graph_truss(calculate_triangle_coordinates(60,30,12), truss(60,30,-2000))\n"
      ],
      "metadata": {
        "id": "iCw9LkNAJZt_"
      },
      "execution_count": null,
      "outputs": []
    },
    {
      "cell_type": "markdown",
      "source": [
        "## Call Functions"
      ],
      "metadata": {
        "id": "4E7aqtchJaK3"
      }
    },
    {
      "cell_type": "code",
      "source": [],
      "metadata": {
        "id": "rBu6dm6TJeyV"
      },
      "execution_count": null,
      "outputs": []
    }
  ]
}