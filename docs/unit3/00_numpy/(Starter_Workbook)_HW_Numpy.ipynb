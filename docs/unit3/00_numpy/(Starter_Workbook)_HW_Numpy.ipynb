{
 "nbformat": 4,
 "nbformat_minor": 0,
 "metadata": {
  "colab": {
   "provenance": [],
   "authorship_tag": "ABX9TyNaIaxTeVRtD3HN2MnXDhOW",
   "include_colab_link": true
  },
  "kernelspec": {
   "name": "python3",
   "display_name": "Python 3"
  },
  "language_info": {
   "name": "python"
  }
 },
 "cells": [
  {
   "cell_type": "markdown",
   "metadata": {
    "id": "view-in-github",
    "colab_type": "text"
   },
   "source": "<a href=\"https://colab.research.google.com/github/byu-cce270/content/blob/main/docs/unit3/00_numpy/(Starter_Workbook)_HW_Numpy.ipynb\" target=\"_parent\"><img src=\"https://colab.research.google.com/assets/colab-badge.svg\" alt=\"Open In Colab\"/></a>"
  },
  {
   "cell_type": "markdown",
   "source": [
    "## Imports"
   ],
   "metadata": {
    "id": "EewRPFflJC5B"
   }
  },
  {
   "cell_type": "code",
   "execution_count": null,
   "metadata": {
    "id": "0CEmpdHaIxGJ"
   },
   "outputs": [],
   "source": []
  },
  {
   "cell_type": "markdown",
   "source": [
    "## Solve For Forces in Each Member"
   ],
   "metadata": {
    "id": "2asA42k2fbrc"
   }
  },
  {
   "cell_type": "code",
   "source": [
    " # Solution Dictionary: Keys = segments, values = solved forces\n",
    "total_forces = {\"AB\":0, \"BC\":0, \"AC\":0, \"R_AX\":0, \"R_AY\":0, \"R_CY\":0} # PUT INTO YOUR FUNCTION"
   ],
   "metadata": {
    "id": "OJvEUPyMJL4V"
   },
   "execution_count": null,
   "outputs": []
  },
  {
   "cell_type": "markdown",
   "source": [
    "## Find Coordinates of each point"
   ],
   "metadata": {
    "id": "ixyUdgnOfgWY"
   }
  },
  {
   "cell_type": "code",
   "source": [
    "# Coordinates Dictionary of Joints: keys = Joint, values = x, y location\n",
    "coordinates = {'A': 0, 'B': 0, 'C': 0} # PUT INTO YOUR FUNCTION\n"
   ],
   "metadata": {
    "id": "FQ1TzdUMJRJ_"
   },
   "execution_count": null,
   "outputs": []
  },
  {
   "cell_type": "markdown",
   "source": [
    "## Graph Truss"
   ],
   "metadata": {
    "id": "mOZdMz0NJVL8"
   }
  },
  {
   "cell_type": "code",
   "source": [
    "def graph_truss(coordinates, forces):\n",
    "  # Members Dictionary: Keys = Start and end of each segment, Values: internal force\n",
    "  members = {(\"A\", \"B\"): forces[\"AB\"],\n",
    "          (\"B\", \"C\"): forces[\"BC\"],\n",
    "          (\"A\", \"C\"): forces[\"AC\"]}\n",
    "\n",
    "  for start, end in members: # Loops through the start and end of each segment from the members dictionary. EX: start = 'A' and end = 'B'\n",
    "    force = members[start, end] # Value of the respective force of the segment\n",
    ""
   ],
   "metadata": {
    "id": "iCw9LkNAJZt_"
   },
   "execution_count": 1,
   "outputs": []
  },
  {
   "cell_type": "markdown",
   "source": [
    "## Call Functions"
   ],
   "metadata": {
    "id": "4E7aqtchJaK3"
   }
  },
  {
   "cell_type": "code",
   "source": [],
   "metadata": {
    "id": "rBu6dm6TJeyV"
   },
   "execution_count": null,
   "outputs": []
  }
 ]
}
