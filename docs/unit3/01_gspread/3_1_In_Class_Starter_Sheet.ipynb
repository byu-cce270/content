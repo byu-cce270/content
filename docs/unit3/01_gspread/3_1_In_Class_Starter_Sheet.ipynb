{
  "nbformat": 4,
  "nbformat_minor": 0,
  "metadata": {
    "colab": {
      "provenance": [],
      "authorship_tag": "ABX9TyMeG/oNZ4Ziy2MXfqU3zRDX",
      "include_colab_link": true
    },
    "kernelspec": {
      "name": "python3",
      "display_name": "Python 3"
    },
    "language_info": {
      "name": "python"
    }
  },
  "cells": [
    {
      "cell_type": "markdown",
      "metadata": {
        "id": "view-in-github",
        "colab_type": "text"
      },
      "source": [
        "<a href=\"https://colab.research.google.com/github/byu-cce270/content/blob/main/docs/unit3/01_gspread/3_1_In_Class_Starter_Sheet.ipynb\" target=\"_parent\"><img src=\"https://colab.research.google.com/assets/colab-badge.svg\" alt=\"Open In Colab\"/></a>"
      ]
    },
    {
      "cell_type": "code",
      "source": [
        "# @title Import the needed modules\n",
        "# Import gspread - this is the module that gives us access to Google Sheets\n",
        "import gspread\n",
        "\n",
        "# These two imports allows us to provide authorized access to our google drive.\n",
        "from google.colab import auth\n",
        "from google.auth import default"
      ],
      "metadata": {
        "id": "ZqLrbik59T98"
      },
      "execution_count": null,
      "outputs": []
    },
    {
      "cell_type": "code",
      "source": [
        "# @title Authenticate Yourself!\n",
        "\n",
        "# The first time you run this code, this step will run an authorization prompt asking you to\n",
        "# provide a special key that you get from your google drive.\n",
        "import gspread\n",
        "\n",
        "from google.colab import auth\n",
        "auth.authenticate_user()\n",
        "\n",
        "from google.auth import default\n",
        "creds, _ = default()\n",
        "\n",
        "gc = gspread.authorize(creds)"
      ],
      "metadata": {
        "id": "uG2sEgjO9Vrk"
      },
      "execution_count": null,
      "outputs": []
    },
    {
      "cell_type": "markdown",
      "source": [
        "##Make a copy of the following google spreadsheet so you can follow along:\n",
        "https://docs.google.com/spreadsheets/d/1g7-zfPAaAAqub2pp8wazb_nqjJyHdK2phpV8OV-dlUU/edit?gid=1458895036#gid=1458895036"
      ],
      "metadata": {
        "id": "daxNoYbn9qVd"
      }
    },
    {
      "cell_type": "code",
      "source": [
        "# @title Open by Name of the Workbook\n",
        "\n",
        "#use the gc.open command to open the workbook by its title\n",
        "#print the title and url for the workbook\n",
        "\n"
      ],
      "metadata": {
        "id": "hhXL_W2v93VU"
      },
      "execution_count": null,
      "outputs": []
    },
    {
      "cell_type": "code",
      "source": [
        "# @title Open by the URL\n",
        "\n",
        "#use the gc.open_by_url command to open the workbook by its title\n",
        "#print the title and url for the workbook\n",
        "\n"
      ],
      "metadata": {
        "id": "uYbXRntW9jt9"
      },
      "execution_count": null,
      "outputs": []
    },
    {
      "cell_type": "code",
      "source": [
        "# @title Get the right page in your spreadsheet\n",
        "\n",
        "#use the .get_worksheet command and print the title of the first worksheet in your workbook\n",
        "\n"
      ],
      "metadata": {
        "id": "w2YSbFRA-OZm"
      },
      "execution_count": null,
      "outputs": []
    },
    {
      "cell_type": "markdown",
      "source": [
        "###There are many ways to get and replace values in google sheets today we will be talking about:\n",
        "- val = worksheet.acell('B1').value\n",
        "- worksheet.update('B1', 'Bingo!')"
      ],
      "metadata": {
        "id": "rOelCA2e-gPs"
      }
    },
    {
      "cell_type": "code",
      "source": [
        "# @title Challenge - Change something and add something to your spreadsheet\n",
        "\n",
        "\n",
        "\n",
        "#update a single cell\n",
        "\n",
        "\n",
        "#update a range of cells\n"
      ],
      "metadata": {
        "id": "NufafeYQ-cmc"
      },
      "execution_count": null,
      "outputs": []
    },
    {
      "cell_type": "code",
      "source": [
        "# @title Add a worksheet to your google sheet\n",
        "\n",
        "#add a worksheet to your google sheet\n",
        "\n"
      ],
      "metadata": {
        "id": "b5DtvgUn_AU9"
      },
      "execution_count": null,
      "outputs": []
    },
    {
      "cell_type": "code",
      "source": [
        "#if the above code runs twice it will error because you are trying to create a sheet with the same name as another sheet\n",
        "#write code to fix this error\n",
        "\n",
        "\n",
        "\n",
        "# Get a list of all worksheet titles\n",
        "\n",
        "\n",
        "# Check if the title exists before adding\n"
      ],
      "metadata": {
        "colab": {
          "base_uri": "https://localhost:8080/"
        },
        "id": "O9gk6hY8CUcu",
        "outputId": "9bda6c8f-6562-49eb-a841-a2aa10332106"
      },
      "execution_count": null,
      "outputs": [
        {
          "output_type": "stream",
          "name": "stdout",
          "text": [
            "This sheet already exists, choose a different title for your workbook.\n"
          ]
        }
      ]
    },
    {
      "cell_type": "markdown",
      "source": [
        "#CHALLENGE"
      ],
      "metadata": {
        "id": "-vGoQepy9kx0"
      }
    },
    {
      "cell_type": "code",
      "source": [
        "#Define functions here\n",
        "from typing import List\n",
        "import re\n",
        "\n",
        "Word=str\n",
        "def convert(text)->List[Word]:\n",
        "  # This function takes the sentance,\n",
        "  # makes it all lower case and seperates\n",
        "  # the different words into different \"cells\" in the list\n",
        " return re.findall('[a-z]+',text.lower())\n"
      ],
      "metadata": {
        "id": "oDutdImEEAjc"
      },
      "execution_count": null,
      "outputs": []
    },
    {
      "cell_type": "code",
      "source": [
        "#use functions here and other necessary code\n",
        "\n",
        "wb = gc.open_by_url('https://docs.google.com/spreadsheets/d/1O74-8zL_StJ30heYf9V_ySiSPxiktk1Z2_jXmwNAiGM/edit?gid=457441957#gid=457441957')\n",
        "\n",
        "#open the correct worksheet based on what translation you want\n",
        "myWorksheet = wb.get_worksheet(3)\n",
        "myRows=myWorksheet.get_all_values()\n",
        "\n",
        "def translate(text):\n",
        "  i=0\n",
        "  while(i<int(len(text))):\n",
        "    j=4\n",
        "    while(j<43):\n",
        "      if text[i]==myRows[j][1]:\n",
        "        text[i]=myRows[j][2]\n",
        "      if j == 43:\n",
        "        break\n",
        "      else:\n",
        "        j=j+1\n",
        "    i=i+1\n",
        "  return text\n"
      ],
      "metadata": {
        "id": "kTJVl1mOEDbd"
      },
      "execution_count": null,
      "outputs": []
    },
    {
      "cell_type": "code",
      "source": [
        "sentences = []\n",
        "while True:\n",
        "  x = str(input(\"Input the sentence you want to translate: (q to quit) \"))\n",
        "  if x == \"q\":\n",
        "    break\n",
        "  y = convert(x)\n",
        "  z = translate(y)\n",
        "  sentence= ' '.join(z)\n",
        "  sentences.append(sentence)\n",
        "  print(sentence)"
      ],
      "metadata": {
        "colab": {
          "base_uri": "https://localhost:8080/"
        },
        "id": "xjkKkBaMEFHm",
        "outputId": "dbe53850-349e-4ec6-c4d9-220ac7490ae5"
      },
      "execution_count": null,
      "outputs": [
        {
          "name": "stdout",
          "output_type": "stream",
          "text": [
            "Input the sentence you want to translate: (q to quit) i think we should get some food before we start repairing that fence\n",
            "i compute thought stream we should acquire some nutrient intake module prior timestamp we start repairing selected object fence\n",
            "Input the sentence you want to translate: (q to quit) the teenager wants to negotiate with the people\n",
            "the juvenile sub-unit wants to initiate trade protocol alongside unit the biological entities\n",
            "Input the sentence you want to translate: (q to quit) q\n"
          ]
        }
      ]
    },
    {
      "cell_type": "code",
      "source": [
        "# @title Update your google sheet\n",
        "\n",
        "\n",
        "#create a new sheet to add your translations to\n",
        "\n",
        "\n",
        "# Get a list of all worksheet titles\n",
        "\n",
        "\n",
        "# Check if the title exists before adding\n",
        "\n",
        "\n",
        "#use append_row in a for loop to add the translations to your google sheet\n",
        "\n"
      ],
      "metadata": {
        "id": "O33W5IiHDs0_"
      },
      "execution_count": null,
      "outputs": []
    },
    {
      "cell_type": "markdown",
      "source": [
        "#Translations\n",
        "\n",
        "Translate the two given sentences and then add your own sentence.\n",
        "\n",
        "### Redneck\n",
        "\n",
        "\n",
        "1.   I think we should get some food before we start repairing that fence =\n",
        "2.   The teenager wants to negotiate with the people =\n",
        "3.\n",
        "\n",
        "\n",
        "\n",
        "### Shakespeare\n",
        "\n",
        "\n",
        "1.   Please, call the people, for we shall eat soon! =\n",
        "2.   Never have my eyes seen a woman so beautiful. =\n",
        "3.\n",
        "\n",
        "### Pirate\n",
        "\n",
        "\n",
        "\n",
        "1.   Never let a pirate negotiate for your treasure, unless you want to be cheated =\n",
        "2.   Ah, you'd better call me before you plan your next trip! =\n",
        "3.\n",
        "\n",
        "\n",
        "### Robot\n",
        "\n",
        "\n",
        "1.   Hello friend. I am listening.\n",
        "2.   Fight started! This is dangerous. Activate defenses! =\n",
        "3.\n"
      ],
      "metadata": {
        "id": "4XmSGXQeEJn8"
      }
    }
  ]
}