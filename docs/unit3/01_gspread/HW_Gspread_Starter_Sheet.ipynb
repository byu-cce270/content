{
  "nbformat": 4,
  "nbformat_minor": 0,
  "metadata": {
    "colab": {
      "provenance": [],
      "authorship_tag": "ABX9TyOBHfJ0Vo8xU2ctTXXlxjaM",
      "include_colab_link": true
    },
    "kernelspec": {
      "name": "python3",
      "display_name": "Python 3"
    },
    "language_info": {
      "name": "python"
    }
  },
  "cells": [
    {
      "cell_type": "markdown",
      "metadata": {
        "id": "view-in-github",
        "colab_type": "text"
      },
      "source": [
        "<a href=\"https://colab.research.google.com/github/byu-cce270/content/blob/main/docs/unit3/01_gspread/HW_Gspread_Starter_Sheet.ipynb\" target=\"_parent\"><img src=\"https://colab.research.google.com/assets/colab-badge.svg\" alt=\"Open In Colab\"/></a>"
      ]
    },
    {
      "cell_type": "code",
      "execution_count": null,
      "metadata": {
        "id": "CiHeK4lGRqQm"
      },
      "outputs": [],
      "source": [
        "# @title Imports\n",
        "#import modules here\n",
        "\n"
      ]
    },
    {
      "cell_type": "code",
      "source": [
        "# @title Bid Analysis\n",
        "\n",
        "\n"
      ],
      "metadata": {
        "id": "FY7X6cMZ4ZsN"
      },
      "execution_count": null,
      "outputs": []
    },
    {
      "cell_type": "code",
      "source": [
        "# @title Drywall Bid Analysis\n",
        "\n",
        "\n",
        "Drywall = (sorted(Drywall, key=lambda x: x[2]))        #GIVE THIS CODE\n",
        "\n"
      ],
      "metadata": {
        "id": "TTvBKY6Bx-Xg"
      },
      "execution_count": null,
      "outputs": []
    },
    {
      "cell_type": "code",
      "source": [
        "# @title Concrete Bid Analysis\n",
        "\n",
        "\n",
        "Concrete = (sorted(Concrete, key=lambda x: x[2]))   #GIVE THIS CODE\n",
        "\n"
      ],
      "metadata": {
        "id": "VSGQmwSV4Vzt"
      },
      "execution_count": null,
      "outputs": []
    },
    {
      "cell_type": "code",
      "source": [
        "# @title Client Estimating Portion\n",
        "\n",
        "myWorksheet = wb.get_worksheet(1)\n",
        "values1 = myWorksheet.get_all_values()\n",
        "\n",
        "myWorksheet = wb.get_worksheet(2)\n",
        "quantities = myWorksheet.get_all_values()\n",
        "\n",
        "def client_estimation(quantities, values1):\n",
        "  # Remove the header row\n",
        "  quantities.pop(0)\n",
        "\n",
        "  # Start an empty list for the quantities and costs\n",
        "  quantities_costs = []\n",
        "  total_cost = 0  # Initialize total cost\n",
        "\n",
        "  for i in quantities:\n",
        "      # Calculate quantity with waste included\n",
        "      quantity = float(i[1].replace(',', '')) * (1 + float(i[3].replace('%', '')) / 100)\n",
        "\n",
        "      # Find the cost per unit from values1\n",
        "      cost = None\n",
        "      for j in values1:\n",
        "          if j[0] == i[0]:  # Matching material name\n",
        "              cost = float(j[2].replace(',', '').replace('.', ''))  # Convert to float\n",
        "              break\n",
        "\n",
        "      if cost is None:\n",
        "          print(i[0], \"not found in materials list\")\n",
        "          continue  # Skip this material if not found\n",
        "\n",
        "      # Calculate material cost\n",
        "      material_cost = quantity * cost\n",
        "      total_cost += material_cost  # Accumulate total cost\n",
        "\n",
        "      # Append\n",
        "      # quantities_costs.append(f\"{i[0]}: Total Cost: ${material_cost:.2f}\")\n",
        "      quantities_costs.append([i[0], material_cost])\n",
        "\n",
        "  # Print results\n",
        "  for i in quantities_costs: print(i)\n",
        "  print(\"\\n Total Cost: $\", total_cost)\n",
        "  return quantities_costs, total_cost\n",
        "\n",
        "def update_sheet(wb, client, quantity, clientcost):\n",
        "    #write code to add a sheet to your google sheet with the clients order\n",
        "  worksheet = wb.add_worksheet(title = client, rows = \"100\", cols = \"20\")\n",
        "  for i in quantity:\n",
        "    worksheet.append_row(i)\n",
        "  worksheet.append_row([\"Total Cost: $\", clientcost])\n",
        "\n",
        "#find the estimate for both clients\n",
        "client1_quantities, client1cost = client_estimation(quantities, values1)\n",
        "update_sheet(wb, \"Client1\", client1_quantities, client1cost)\n",
        "\n",
        "client2_quantities, client2cost = client_estimation(wb.get_worksheet(3).get_all_values(),values1)\n",
        "update_sheet(wb, \"Client2\", client2_quantities, client2cost)\n"
      ],
      "metadata": {
        "colab": {
          "base_uri": "https://localhost:8080/"
        },
        "id": "SYX-mEtx4-hu",
        "outputId": "f479e802-7ee1-4ad8-c1ff-efc60d649bad"
      },
      "execution_count": null,
      "outputs": [
        {
          "output_type": "stream",
          "name": "stdout",
          "text": [
            "['Concrete', 36750.0]\n",
            "['Rebar', 18540.0]\n",
            "['CMU Block', 64200.0]\n",
            "['Drywall', 6600.0]\n",
            "['Plywood (3/4\")', 9720.0]\n",
            "['Lumber (2x4x8)', 23100.0]\n",
            "['Structural Steel', 19584.0]\n",
            "['Roofing Shingles', 3888.000000000001]\n",
            "['Insulation (R-13)', 225250.0]\n",
            "['Copper Wiring', 472500.0]\n",
            "['PVC Piping (4\")', 3090.0]\n",
            "['Paint (Interior)', 2688.0000000000005]\n",
            "['Paint (Exterior)', 1540.0]\n",
            "['Glass Windows', 13125.0]\n",
            "['Doors (Solid Core)', 6180.0]\n",
            "['Tile Flooring', 192600.0]\n",
            "['Carpet Flooring', 1194375.0]\n",
            "['Asphalt Paving', 106000.0]\n",
            "\n",
            " Total Cost: $ 2399730.0\n",
            "['Concrete (Footings)', 16848.0]\n",
            "['Concrete (Slab)', 26460.0]\n",
            "['Rebar (#5)', 11845.0]\n",
            "['CMU Block (8\"x8\"x16\")', 556500.0]\n",
            "['Drywall (1/2\")', 113400.00000000001]\n",
            "['Plywood (OSB 5/8\")', 12960.0]\n",
            "['Framing Lumber (2x6x10)', 233750.0]\n",
            "['Structural Steel Beams', 14688.0]\n",
            "['Roofing Shingles', 5136.000000000001]\n",
            "['R-19 Insulation', 322240.0]\n",
            "['Electrical Conduit (1\")', 331500.0]\n",
            "['Copper Wiring', 708750.0]\n",
            "['PVC Piping (3\")', 366937.5]\n",
            "['Paint (Interior)', 3024.0000000000005]\n",
            "['Paint (Exterior)', 1925.0000000000002]\n",
            "['Glass Windows (Dual Pane)', 11550.0]\n",
            "['Doors (Pre-hung)', 6489.000000000001]\n",
            "['Hardwood Flooring', 2517500.0]\n",
            "['Vinyl Flooring', 1063125.0]\n",
            "['Concrete Driveway', 17334.0]\n",
            "\n",
            " Total Cost: $ 6341961.5\n"
          ]
        }
      ]
    }
  ]
}