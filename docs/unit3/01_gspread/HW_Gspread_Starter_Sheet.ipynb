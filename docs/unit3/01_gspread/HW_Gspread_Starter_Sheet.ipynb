{
  "nbformat": 4,
  "nbformat_minor": 0,
  "metadata": {
    "colab": {
      "provenance": [],
      "authorship_tag": "ABX9TyMGtAphMXuZ+sN7Ej9gfcBD",
      "include_colab_link": true
    },
    "kernelspec": {
      "name": "python3",
      "display_name": "Python 3"
    },
    "language_info": {
      "name": "python"
    }
  },
  "cells": [
    {
      "cell_type": "markdown",
      "metadata": {
        "id": "view-in-github",
        "colab_type": "text"
      },
      "source": [
        "<a href=\"https://colab.research.google.com/github/byu-cce270/content/blob/main/docs/unit3/01_gspread/HW_Gspread_Starter_Sheet.ipynb\" target=\"_parent\"><img src=\"https://colab.research.google.com/assets/colab-badge.svg\" alt=\"Open In Colab\"/></a>"
      ]
    },
    {
      "cell_type": "code",
      "execution_count": null,
      "metadata": {
        "id": "CiHeK4lGRqQm"
      },
      "outputs": [],
      "source": [
        "# @title Imports\n",
        "#import modules here\n",
        "\n"
      ]
    },
    {
      "cell_type": "code",
      "source": [
        "# @title Bid Analysis\n",
        "\n",
        "\n"
      ],
      "metadata": {
        "id": "FY7X6cMZ4ZsN"
      },
      "execution_count": null,
      "outputs": []
    },
    {
      "cell_type": "code",
      "source": [
        "# @title Drywall Bid Analysis\n",
        "\n",
        "\n",
        "Drywall = (sorted(Drywall, key=lambda x: x[2]))        #GIVE THIS CODE\n",
        "\n"
      ],
      "metadata": {
        "id": "TTvBKY6Bx-Xg"
      },
      "execution_count": null,
      "outputs": []
    },
    {
      "cell_type": "code",
      "source": [
        "# @title Concrete Bid Analysis\n",
        "\n",
        "\n",
        "Concrete = (sorted(Concrete, key=lambda x: x[2]))   #GIVE THIS CODE\n",
        "\n"
      ],
      "metadata": {
        "id": "VSGQmwSV4Vzt"
      },
      "execution_count": null,
      "outputs": []
    },
    {
      "cell_type": "code",
      "source": [
        "# @title Client Estimating Portion\n",
        "\n"
      ],
      "metadata": {
        "id": "SYX-mEtx4-hu"
      },
      "execution_count": null,
      "outputs": []
    }
  ]
}