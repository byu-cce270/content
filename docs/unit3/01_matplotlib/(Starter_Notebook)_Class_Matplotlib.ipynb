{
  "nbformat": 4,
  "nbformat_minor": 0,
  "metadata": {
    "colab": {
      "provenance": [],
      "include_colab_link": true
    },
    "kernelspec": {
      "name": "python3",
      "display_name": "Python 3"
    },
    "language_info": {
      "name": "python"
    }
  },
  "cells": [
    {
      "cell_type": "markdown",
      "metadata": {
        "id": "view-in-github",
        "colab_type": "text"
      },
      "source": [
        "<a href=\"https://colab.research.google.com/github/byu-cce270/content/blob/main/docs/unit3/01_matplotlib/(Starter_Notebook)_Class_Matplotlib.ipynb\" target=\"_parent\"><img src=\"https://colab.research.google.com/assets/colab-badge.svg\" alt=\"Open In Colab\"/></a>"
      ]
    },
    {
      "cell_type": "markdown",
      "source": [
        "### Import Statements"
      ],
      "metadata": {
        "id": "lePse1Y0AEvM"
      }
    },
    {
      "cell_type": "code",
      "source": [
        "import matplotlib.pyplot as plt\n",
        "import numpy as np\n",
        "from datetime import datetime"
      ],
      "metadata": {
        "id": "O-XrjUna2AT3"
      },
      "execution_count": null,
      "outputs": []
    },
    {
      "cell_type": "markdown",
      "source": [
        "### Graphing from Lists"
      ],
      "metadata": {
        "id": "vaXFBaJC9XLD"
      }
    },
    {
      "cell_type": "code",
      "execution_count": null,
      "metadata": {
        "id": "fBJ-D3-YzTEA"
      },
      "outputs": [],
      "source": [
        "# This data was taken from the https://data.cuwcd.gov/data/streamflows/index.htm Lower Provo, Deer Creek Reservoir on 8/9/23\n",
        "\n",
        "dates = [\n",
        "    \"2023-07-10\", \"2023-07-11\", \"2023-07-12\", \"2023-07-13\", \"2023-07-14\",\n",
        "    \"2023-07-15\", \"2023-07-16\", \"2023-07-17\", \"2023-07-18\", \"2023-07-19\",\n",
        "    \"2023-07-20\", \"2023-07-21\", \"2023-07-22\", \"2023-07-23\", \"2023-07-24\",\n",
        "    \"2023-07-25\", \"2023-07-26\", \"2023-07-27\", \"2023-07-28\", \"2023-07-29\",\n",
        "    \"2023-07-30\", \"2023-07-31\", \"2023-08-01\", \"2023-08-02\", \"2023-08-03\",\n",
        "    \"2023-08-04\", \"2023-08-05\", \"2023-08-06\", \"2023-08-07\", \"2023-08-08\",\n",
        "    \"2023-08-09\"\n",
        "]\n",
        "\n",
        "water_levels = [\n",
        "    615.274, 596.499, 588.659, 584.785, 608.09, 628.365, 638.522, 610.819,\n",
        "    587.083, 567.035, 518.51, 470.294, 474.717, 487.07, 480.543, 474.57,\n",
        "    476.37, 461.509, 489.171, 537.865, 552.128, 551.204, 553.159, 523.191,\n",
        "    402.031, 329.539, 296.804, 334.32, 448.152, 490.356, 507.519\n",
        "]\n",
        "\n",
        "# Convert date strings to datetime objects formatted for graphs\n",
        "dates = [datetime.strptime(date, \"%Y-%m-%d\") for date in dates]"
      ]
    },
    {
      "cell_type": "markdown",
      "source": [
        "Using the data above, create a bar graph using the list 'dates' as the x-axis and the list 'water_levels' as the y-axis. Add the following elements:\n",
        "\n",
        "*   Title labeled 'Water Levels Over Time (Bar Graph)'\n",
        "*   x-axis labeled 'Date'\n",
        "*   y-axis labeled 'Water Level'\n",
        "*   x-ticks rotated 45 degrees\n",
        "*   Color of your choice"
      ],
      "metadata": {
        "id": "ZSjOuIhG3rpR"
      }
    },
    {
      "cell_type": "code",
      "source": [
        "\n",
        "\n"
      ],
      "metadata": {
        "id": "H4bBnRus6FWt"
      },
      "execution_count": null,
      "outputs": []
    },
    {
      "cell_type": "markdown",
      "source": [
        "This time, create a scatter plot using the list 'dates' as the x-axis and the list 'water_levels' as the y-axis. Add the following elements:\n",
        "\n",
        "*   Title labeled 'Water Levels Over Time (Scatter Plot)'\n",
        "*   x-axis labeled 'Date'\n",
        "*   y-axis labeled 'Water Level'\n",
        "*   x-ticks rotated 45 degrees\n",
        "*   Gridlines\n",
        "*   Diamond-shaped markers with black edges (See https://matplotlib.org/stable/api/markers_api.html)\n",
        "*   Color of your choice"
      ],
      "metadata": {
        "id": "_RryU3nf5frQ"
      }
    },
    {
      "cell_type": "code",
      "source": [
        "\n"
      ],
      "metadata": {
        "id": "O0lKZQXF6Hxr"
      },
      "execution_count": null,
      "outputs": []
    },
    {
      "cell_type": "markdown",
      "source": [
        "Create a line graph using the list 'dates' as the x-axis and the list 'water_levels' as the y-axis. Add the following elements:\n",
        "\n",
        "*   Title labeled 'Water Levels Over Time (Line Graph)'\n",
        "*   x-axis labeled 'Date'\n",
        "*   y-axis labeled 'Water Level'\n",
        "*   x-ticks rotated 45 degrees\n",
        "*   Gridlines\n",
        "*   Star-shaped markers (See https://matplotlib.org/stable/api/markers_api.html)\n",
        "*   Color of your choice"
      ],
      "metadata": {
        "id": "B5f-Mfz57D6E"
      }
    },
    {
      "cell_type": "code",
      "source": [
        "\n"
      ],
      "metadata": {
        "id": "mEDlPd0872F-"
      },
      "execution_count": null,
      "outputs": []
    },
    {
      "cell_type": "markdown",
      "source": [
        "### Graphing with np.linspace()"
      ],
      "metadata": {
        "id": "Qtn_5liND2tX"
      }
    },
    {
      "cell_type": "markdown",
      "source": [
        "Navigate to https://numpy.org/doc/2.1/reference/routines.math.html and choose one of the trigonometric, hyperbolic, exponential, or logarithmic functions. Then, using np.linspace() to define the x-axis, graph the function with the following elements:\n",
        "\n",
        "*   Title describing the function used\n",
        "*   x-axis at x = 0\n",
        "*   Gridlines\n",
        "*   Line color of your choice\n",
        "*   Filled in area under the curve with color of your choice"
      ],
      "metadata": {
        "id": "tVAQ3ThLLloL"
      }
    },
    {
      "cell_type": "code",
      "source": [
        "\n"
      ],
      "metadata": {
        "id": "ZP6uzqrSLprr"
      },
      "execution_count": null,
      "outputs": []
    },
    {
      "cell_type": "markdown",
      "source": [
        "###Graphing Piecewise Functions\n",
        "\n",
        "Now, graph two of the functions from the previous website using a for loop. Use one of the functions when x < 0 and another for when x > 0. The loop will be for generating the data, not creating the plot. Include the following elements:\n",
        "\n",
        "*   Title describing the functions used\n",
        "*   x-axis at x = 0\n",
        "*   Gridlines\n",
        "*   Line color of your choice\n",
        "*   Filled in area under the curve with color of your choice"
      ],
      "metadata": {
        "id": "bO_ZWOEsJvob"
      }
    },
    {
      "cell_type": "code",
      "source": [
        "\n"
      ],
      "metadata": {
        "id": "CTGLitx1Luo4"
      },
      "execution_count": null,
      "outputs": []
    },
    {
      "cell_type": "markdown",
      "source": [
        "### Graphing from CSVs - Part 1\n",
        "\n",
        "You will now create a graph using construction spending data in 2024. The .csv file is available from the class webpage. You will need to download it from there, they upload to Colab.\n",
        "\n",
        "(Source: https://www.census.gov/construction/c30/historical_data.html)\n",
        "\n",
        "The following code reads uses the .genfromtext() method in numpy to import the data into a 2D array of strings.\n",
        "\n",
        "\n"
      ],
      "metadata": {
        "id": "vYB0T4IrXj67"
      }
    },
    {
      "cell_type": "code",
      "source": [
        "# This code imports the table in the CSV file into a 2D array\n",
        "array1 = np.genfromtxt('/content/2024-Construction-Spending.csv', delimiter=',',dtype=str,skip_header=1)\n"
      ],
      "metadata": {
        "id": "ZlJWLrVj_4H1"
      },
      "execution_count": null,
      "outputs": []
    },
    {
      "cell_type": "markdown",
      "source": [
        "### Slicing the array\n",
        "\n",
        "Run the following code block to slice the data into two arrays: one for the categories (column 0) and one for the spending amounts (column 1)."
      ],
      "metadata": {
        "id": "ZY6I9Bp56Z5v"
      }
    },
    {
      "cell_type": "code",
      "source": [
        "x = array1[:, 0] #slices the array to only include the \"Type of Construction\" column\n",
        "y_1 = array1[:,1].astype(float) #slices the array to only include the \"Annual Value\" column and sets the values as floats"
      ],
      "metadata": {
        "id": "MXhWoTaW6Zbk"
      },
      "execution_count": null,
      "outputs": []
    },
    {
      "cell_type": "markdown",
      "source": [
        "### Graphing the Data\n",
        "\n",
        "Plot x and y_1 as a horizontal bar graph with the following elements:\n",
        "\n",
        "*   Title labeled 'Annual Construction Spending in 2024'\n",
        "*   x-axis labeled 'Value (Millions of Dollars)'\n",
        "*   y-axis labeled 'Type of Construction'\n",
        "*   Colors of your choice"
      ],
      "metadata": {
        "id": "Hoyc81gEYVxh"
      }
    },
    {
      "cell_type": "code",
      "source": [
        "\n",
        "\n"
      ],
      "metadata": {
        "id": "_a9MiIoHYU7F"
      },
      "execution_count": null,
      "outputs": []
    },
    {
      "cell_type": "markdown",
      "source": [
        "### Graphing from CSVs - Part 2\n",
        "\n",
        "You will now create a graph using a CSV of dissolved oxygen (DO) concentrations in Utah Lake in 2025\n",
        "\n",
        "(Source: https://wqdatalive.com/public/669)\n",
        "\n",
        "Copy the code above to read the CSV file into a 2D array of strings. You will need to use the corresponding file name.\n"
      ],
      "metadata": {
        "id": "i2Q4-z86_MRV"
      }
    },
    {
      "cell_type": "code",
      "source": [
        "\n"
      ],
      "metadata": {
        "id": "WSKPSe-DMBRv"
      },
      "execution_count": null,
      "outputs": []
    },
    {
      "cell_type": "markdown",
      "source": [
        "### Numpy Array Creation & Slicing\n",
        "\n",
        "Slice the array to create the x and y-axis values. These will correspond to the following columns in the CSV file:\n",
        "\n",
        "*   x - Date\n",
        "*   y_1 - DO in Utah Lake 1 Mile West of Provo Boat Harbor (mg/L)\n",
        "\n",
        "Note: to convert the date, you will need to use .astype('datatime64')."
      ],
      "metadata": {
        "id": "Zzu2axnS_MRW"
      }
    },
    {
      "cell_type": "code",
      "source": [
        "\n",
        "\n"
      ],
      "metadata": {
        "id": "A5uvUjbHMBvp"
      },
      "execution_count": null,
      "outputs": []
    },
    {
      "cell_type": "markdown",
      "source": [
        "### Graphing the Data\n",
        "\n",
        "Plot x, y_1 with the following elements:\n",
        "\n",
        "*   Title labeled 'DO Concentration in Utah Lake 1 Mile West of Provo Boat Harbor'\n",
        "*   x-axis labeled 'Date'\n",
        "*   y-axis labeled 'DO Concentration (mg/L)'\n",
        "*   An arrow pointing to the highest concentration of DO labeled \"Peak DO\n",
        "Concentration\"\n",
        "*   x-ticks rotated 45 degrees\n",
        "*   Gridlines\n",
        "*   Color of your choice"
      ],
      "metadata": {
        "id": "cFzD-uod_MRW"
      }
    },
    {
      "cell_type": "code",
      "source": [
        "\n"
      ],
      "metadata": {
        "id": "nkBDP76FMCI6"
      },
      "execution_count": null,
      "outputs": []
    },
    {
      "cell_type": "markdown",
      "source": [
        "### Graphing from CSVs - Part 3\n",
        "\n",
        "You will now create a graph using weekly traffic volume data from interstate highways in 2022\n",
        "\n",
        "(Source: https://catalog.data.gov/dataset/weekly-traffic-volume)\n",
        "\n",
        "Again, copy and update the code to read the file. Note that in this case there is no header in the CSV file.\n"
      ],
      "metadata": {
        "id": "0PA3HUWR9vSd"
      }
    },
    {
      "cell_type": "code",
      "source": [
        "\n"
      ],
      "metadata": {
        "id": "ar37c3ON6Pl1"
      },
      "execution_count": null,
      "outputs": []
    },
    {
      "cell_type": "markdown",
      "source": [
        "### Numpy Array Creation & Slicing\n",
        "\n",
        "Slice the array to create the x and y-axis values. These will correspond to the following columns in the CSV linked on readthedocs:\n",
        "\n",
        "*   x - Weeks in 2022\n",
        "*   y_1 - % Change All Vehicles\n",
        "*   y_2 - % Change Passenger\n",
        "*   y_3 - % Change Truck"
      ],
      "metadata": {
        "id": "WB9ezo-NAQ0q"
      }
    },
    {
      "cell_type": "code",
      "source": [
        "\n",
        "\n"
      ],
      "metadata": {
        "id": "jgOCC_O97DdB"
      },
      "execution_count": null,
      "outputs": []
    },
    {
      "cell_type": "markdown",
      "source": [
        "### Graphing the Data\n",
        "\n",
        "Plot x, y_1, y_2, and y_3 with the following elements:\n",
        "\n",
        "*   Title labeled 'Percent Change in VMT over Interstate Highways in 2022'\n",
        "*   x-axis labeled 'Weeks in 2022'\n",
        "*   y-axis labeled '% Increase/Decrease in VMT'\n",
        "*   Legend in upper left corner with a font size of 7\n",
        "*   y_1 labeled '% Change All Vehicles' in legend\n",
        "*   y_2 labeled '% Change Passenger' in legend\n",
        "*   y_3 labeled '% Change Truck' in legend\n",
        "*   An arrow pointing to the highest % change in truck VMT labeled \"Peak % Change\"\n",
        "*   Gridlines\n",
        "*   Colors of your choice\n"
      ],
      "metadata": {
        "id": "AuXaSGBT7_Yh"
      }
    },
    {
      "cell_type": "code",
      "source": [
        "\n",
        "\n"
      ],
      "metadata": {
        "id": "wt5LuLCS-419"
      },
      "execution_count": null,
      "outputs": []
    },
    {
      "cell_type": "markdown",
      "source": [
        "# Styles\n",
        "\n",
        "Change the style (page 306 of Crash Course) and replot the graph from above. You can just copy-and-paste the graphing code.\n",
        "\n",
        "Play with a number of different styles.\n"
      ],
      "metadata": {
        "id": "KsUSUGPapJkA"
      }
    },
    {
      "cell_type": "code",
      "source": [
        "plt.style.available"
      ],
      "metadata": {
        "id": "0WmorThjpNhO"
      },
      "execution_count": null,
      "outputs": []
    },
    {
      "cell_type": "code",
      "source": [],
      "metadata": {
        "id": "uCr7_-a57U_I"
      },
      "execution_count": null,
      "outputs": []
    }
  ]
}