{
  "nbformat": 4,
  "nbformat_minor": 0,
  "metadata": {
    "colab": {
      "provenance": [],
      "include_colab_link": true
    },
    "kernelspec": {
      "name": "python3",
      "display_name": "Python 3"
    },
    "language_info": {
      "name": "python"
    }
  },
  "cells": [
    {
      "cell_type": "markdown",
      "metadata": {
        "id": "view-in-github",
        "colab_type": "text"
      },
      "source": [
        "<a href=\"https://colab.research.google.com/github/byu-cce270/content/blob/main/docs/unit3/01_matplotlib/(Starter_Notebook)_Class_Matplotlib.ipynb\" target=\"_parent\"><img src=\"https://colab.research.google.com/assets/colab-badge.svg\" alt=\"Open In Colab\"/></a>"
      ]
    },
    {
      "cell_type": "markdown",
      "source": [
        "### Import Statements"
      ],
      "metadata": {
        "id": "lePse1Y0AEvM"
      }
    },
    {
      "cell_type": "code",
      "source": [
        "import matplotlib.pyplot as plt\n",
        "import numpy as np\n",
        "from datetime import datetime"
      ],
      "metadata": {
        "id": "O-XrjUna2AT3"
      },
      "execution_count": null,
      "outputs": []
    },
    {
      "cell_type": "markdown",
      "source": [
        "### Graphing from Lists"
      ],
      "metadata": {
        "id": "vaXFBaJC9XLD"
      }
    },
    {
      "cell_type": "code",
      "execution_count": null,
      "metadata": {
        "id": "fBJ-D3-YzTEA"
      },
      "outputs": [],
      "source": [
        "# This data was taken from the https://data.cuwcd.gov/data/streamflows/index.htm Lower Provo, Deer Creek Reservoir on 8/9/23\n",
        "\n",
        "dates = [\n",
        "    \"2023-07-10\", \"2023-07-11\", \"2023-07-12\", \"2023-07-13\", \"2023-07-14\",\n",
        "    \"2023-07-15\", \"2023-07-16\", \"2023-07-17\", \"2023-07-18\", \"2023-07-19\",\n",
        "    \"2023-07-20\", \"2023-07-21\", \"2023-07-22\", \"2023-07-23\", \"2023-07-24\",\n",
        "    \"2023-07-25\", \"2023-07-26\", \"2023-07-27\", \"2023-07-28\", \"2023-07-29\",\n",
        "    \"2023-07-30\", \"2023-07-31\", \"2023-08-01\", \"2023-08-02\", \"2023-08-03\",\n",
        "    \"2023-08-04\", \"2023-08-05\", \"2023-08-06\", \"2023-08-07\", \"2023-08-08\",\n",
        "    \"2023-08-09\"\n",
        "]\n",
        "\n",
        "water_levels = [\n",
        "    615.274, 596.499, 588.659, 584.785, 608.09, 628.365, 638.522, 610.819,\n",
        "    587.083, 567.035, 518.51, 470.294, 474.717, 487.07, 480.543, 474.57,\n",
        "    476.37, 461.509, 489.171, 537.865, 552.128, 551.204, 553.159, 523.191,\n",
        "    402.031, 329.539, 296.804, 334.32, 448.152, 490.356, 507.519\n",
        "]\n",
        "\n",
        "# Convert date strings to datetime objects formatted for graphs\n",
        "dates = [datetime.strptime(date, \"%Y-%m-%d\") for date in dates]"
      ]
    },
    {
      "cell_type": "markdown",
      "source": [
        "Using the data above, create a bar graph using the list 'dates' as the x-axis and the list 'water_levels' as the y-axis. Add the following elements:\n",
        "\n",
        "*   Title labeled 'Water Levels Over Time (Bar Graph)'\n",
        "*   x-axis labeled 'Date'\n",
        "*   y-axis labeled 'Water Level'\n",
        "*   x-ticks rotated 45 degrees\n",
        "*   Color of your choice"
      ],
      "metadata": {
        "id": "ZSjOuIhG3rpR"
      }
    },
    {
      "cell_type": "code",
      "source": [],
      "metadata": {
        "id": "H4bBnRus6FWt"
      },
      "execution_count": null,
      "outputs": []
    },
    {
      "cell_type": "markdown",
      "source": [
        "This time, create a scatter plot using the list 'dates' as the x-axis and the list 'water_levels' as the y-axis. Add the following elements:\n",
        "\n",
        "*   Title labeled 'Water Levels Over Time (Scatter Plot)'\n",
        "*   x-axis labeled 'Date'\n",
        "*   y-axis labeled 'Water Level'\n",
        "*   x-ticks rotated 45 degrees\n",
        "*   Gridlines\n",
        "*   Diamond-shaped markers with black edges (See https://matplotlib.org/stable/api/markers_api.html)\n",
        "*   Color of your choice"
      ],
      "metadata": {
        "id": "_RryU3nf5frQ"
      }
    },
    {
      "cell_type": "code",
      "source": [],
      "metadata": {
        "id": "O0lKZQXF6Hxr"
      },
      "execution_count": null,
      "outputs": []
    },
    {
      "cell_type": "markdown",
      "source": [
        "Create a line graph using the list 'dates' as the x-axis and the list 'water_levels' as the y-axis. Add the following elements:\n",
        "\n",
        "*   Title labeled 'Water Levels Over Time (Line Graph)'\n",
        "*   x-axis labeled 'Date'\n",
        "*   y-axis labeled 'Water Level'\n",
        "*   x-ticks rotated 45 degrees\n",
        "*   Gridlines\n",
        "*   Star-shaped markers (See https://matplotlib.org/stable/api/markers_api.html)\n",
        "*   Color of your choice"
      ],
      "metadata": {
        "id": "B5f-Mfz57D6E"
      }
    },
    {
      "cell_type": "code",
      "source": [],
      "metadata": {
        "id": "mEDlPd0872F-"
      },
      "execution_count": null,
      "outputs": []
    },
    {
      "cell_type": "markdown",
      "source": [
        "### Graphing with np.linspace()"
      ],
      "metadata": {
        "id": "Qtn_5liND2tX"
      }
    },
    {
      "cell_type": "markdown",
      "source": [
        "Navigate to https://numpy.org/doc/2.1/reference/routines.math.html and choose one of the trigonometric, hyperbolic, exponential, or logarithmic functions. Then, using np.linspace() to define the x-axis, graph the function with the following elements:\n",
        "\n",
        "*   Title describing the function used\n",
        "*   x-axis at x = 0\n",
        "*   Gridlines\n",
        "*   Line color of your choice\n",
        "*   Filled in area under the curve with color of your choice"
      ],
      "metadata": {
        "id": "tVAQ3ThLLloL"
      }
    },
    {
      "cell_type": "code",
      "source": [],
      "metadata": {
        "id": "ZP6uzqrSLprr"
      },
      "execution_count": null,
      "outputs": []
    },
    {
      "cell_type": "markdown",
      "source": [
        "###Graphing Piecewise Functions\n",
        "\n",
        "Now, graph two of the functions from the previous website using a for loop. Use one of the functions when x < 0 and another for when x > 0. The loop will be for generating the data, not creating the plot. Include the following elements:\n",
        "\n",
        "*   Title describing the functions used\n",
        "*   x-axis at x = 0\n",
        "*   Gridlines\n",
        "*   Line color of your choice\n",
        "*   Filled in area under the curve with color of your choice"
      ],
      "metadata": {
        "id": "bO_ZWOEsJvob"
      }
    },
    {
      "cell_type": "code",
      "source": [],
      "metadata": {
        "id": "CTGLitx1Luo4"
      },
      "execution_count": null,
      "outputs": []
    },
    {
      "cell_type": "markdown",
      "source": [
        "### Graphing from CSVs - Part 1\n",
        "\n",
        "You will now create a graph using construction spending data in 2024. The .csv file is available from the class webpage. You will need to download it from there, they upload to Colab. You will need to read the data into python, then create a numpy array.\n",
        "\n",
        "Here we will give you some code using pandas to read the file in and create an numpy array. Next time we will talk about pandas. Panda uses data arrays and we typically name them _df to remind us of the file type.\n",
        "\n",
        "(Source: https://www.census.gov/construction/c30/historical_data.html)\n"
      ],
      "metadata": {
        "id": "vYB0T4IrXj67"
      }
    },
    {
      "cell_type": "code",
      "source": [
        "import pandas as pd\n",
        "\n",
        "csv_file_path = '/content/2024-Construction-Spending.csv'  # enter your file name\n",
        "\n",
        "# Use pandas to read the CSV file\n",
        "data_df = pd.read_csv(csv_file_path)\n",
        "\n",
        "# Convert the pandas DataFrame to a numpy array\n",
        "data_array = data_df.to_numpy()\n",
        "\n",
        "print(data_array)"
      ],
      "metadata": {
        "id": "ZlJWLrVj_4H1",
        "colab": {
          "base_uri": "https://localhost:8080/"
        },
        "outputId": "14d254ac-85b7-45bf-ceed-dc84cde5020d"
      },
      "execution_count": null,
      "outputs": [
        {
          "output_type": "stream",
          "name": "stdout",
          "text": [
            "[['Lodging' 23361]\n",
            " ['Office' 101118]\n",
            " ['Commercial' 126504]\n",
            " ['Health care' 68622]\n",
            " ['Educational' 130307]\n",
            " ['Religious' 4155]\n",
            " ['Public safety' 18855]\n",
            " ['Amusement and recreation' 40183]\n",
            " ['Transportation' 68148]\n",
            " ['Communication' 28603]\n",
            " ['Power' 147584]\n",
            " ['Highway and street' 143741]\n",
            " ['Sewage and waste disposal' 45849]\n",
            " ['Water supply' 32966]\n",
            " ['Conservation and development' 11591]\n",
            " ['Manufacturing' 233227]]\n"
          ]
        }
      ]
    },
    {
      "cell_type": "markdown",
      "source": [
        "### Numpy Array Creation & Slicing\n",
        "\n",
        "Slice the array to create the x and y-axis values. These will correspond to the following columns in the CSV linked on readthedocs:\n",
        "\n",
        "*   x - Type of Construction\n",
        "*   y_1 - Value (Millions of Dollars)"
      ],
      "metadata": {
        "id": "3xOTRG8KX5fm"
      }
    },
    {
      "cell_type": "code",
      "source": [],
      "metadata": {
        "id": "Ohyw8c1qXWF4"
      },
      "execution_count": null,
      "outputs": []
    },
    {
      "cell_type": "markdown",
      "source": [
        "### Graphing the Data\n",
        "\n",
        "Plot x and y_1 as a horizontal bar graph with the following elements:\n",
        "\n",
        "*   Title labeled 'Annual Construction Spending in 2024'\n",
        "*   x-axis labeled 'Value (Millions of Dollars)'\n",
        "*   y-axis labeled 'Type of Construction'\n",
        "*   Colors of your choice"
      ],
      "metadata": {
        "id": "Hoyc81gEYVxh"
      }
    },
    {
      "cell_type": "code",
      "source": [],
      "metadata": {
        "id": "_a9MiIoHYU7F"
      },
      "execution_count": null,
      "outputs": []
    },
    {
      "cell_type": "markdown",
      "source": [
        "### Graphing from CSVs - Part 2\n",
        "\n",
        "You will now create a graph using a CSV of dissolved oxygen (DO) concentrations in Utah Lake in 2025\n",
        "\n",
        "(Source: https://wqdatalive.com/public/669)\n",
        "\n",
        "Look at the example code above and make your own file reading steps\n"
      ],
      "metadata": {
        "id": "i2Q4-z86_MRV"
      }
    },
    {
      "cell_type": "code",
      "source": [],
      "metadata": {
        "id": "WSKPSe-DMBRv"
      },
      "execution_count": null,
      "outputs": []
    },
    {
      "cell_type": "markdown",
      "source": [
        "### Numpy Array Creation & Slicing\n",
        "\n",
        "Slice the array to create the x and y-axis values. These will correspond to the following columns in the CSV linked on readthedocs:\n",
        "\n",
        "*   x - Date\n",
        "*   y_1 - DO in Utah Lake 1 Mile West of Provo Boat Harbor (mg/L)"
      ],
      "metadata": {
        "id": "Zzu2axnS_MRW"
      }
    },
    {
      "cell_type": "code",
      "source": [],
      "metadata": {
        "id": "A5uvUjbHMBvp"
      },
      "execution_count": null,
      "outputs": []
    },
    {
      "cell_type": "markdown",
      "source": [
        "### Graphing the Data\n",
        "\n",
        "Plot x, y_1 with the following elements:\n",
        "\n",
        "*   Title labeled 'DO Concentration in Utah Lake 1 Mile West of Provo Boat Harbor'\n",
        "*   x-axis labeled 'Date'\n",
        "*   y-axis labeled 'DO Concentration (mg/L)'\n",
        "*   An arrow pointing to the highest concentration of DO labeled \"Peak DO\n",
        "Concentration\"\n",
        "*   x-ticks rotated 45 degrees\n",
        "*   Gridlines\n",
        "*   Color of your choice"
      ],
      "metadata": {
        "id": "cFzD-uod_MRW"
      }
    },
    {
      "cell_type": "code",
      "source": [],
      "metadata": {
        "id": "nkBDP76FMCI6"
      },
      "execution_count": null,
      "outputs": []
    },
    {
      "cell_type": "markdown",
      "source": [
        "### Graphing from CSVs - Part 3\n",
        "\n",
        "You will now create a graph using weekly traffic volume data from interstate highways in 2022\n",
        "\n",
        "(Source: https://catalog.data.gov/dataset/weekly-traffic-volume)\n",
        "\n",
        "Again, make your own reader\n"
      ],
      "metadata": {
        "id": "0PA3HUWR9vSd"
      }
    },
    {
      "cell_type": "markdown",
      "source": [
        "### Numpy Array Creation & Slicing\n",
        "\n",
        "Slice the array to create the x and y-axis values. These will correspond to the following columns in the CSV linked on readthedocs:\n",
        "\n",
        "*   x - Weeks in 2022\n",
        "*   y_1 - % Change All Vehicles\n",
        "*   y_2 - % Change Passenger\n",
        "*   y_3 - % Change Truck"
      ],
      "metadata": {
        "id": "WB9ezo-NAQ0q"
      }
    },
    {
      "cell_type": "code",
      "source": [],
      "metadata": {
        "id": "jgOCC_O97DdB"
      },
      "execution_count": null,
      "outputs": []
    },
    {
      "cell_type": "markdown",
      "source": [
        "### Graphing the Data\n",
        "\n",
        "Plot x, y_1, y_2, and y_3 with the following elements:\n",
        "\n",
        "*   Title labeled 'Percent Change in VMT over Interstate Highways in 2022'\n",
        "*   x-axis labeled 'Weeks in 2022'\n",
        "*   y-axis labeled '% Increase/Decrease in VMT'\n",
        "*   Legend in upper left corner with a font size of 7\n",
        "*   y_1 labeled '% Change All Vehicles' in legend\n",
        "*   y_2 labeled '% Change Passenger' in legend\n",
        "*   y_3 labeled '% Change Truck' in legend\n",
        "*   An arrow pointing to the highest % change in truck VMT labeled \"Peak % Change\"\n",
        "*   Gridlines\n",
        "*   Colors of your choice\n"
      ],
      "metadata": {
        "id": "AuXaSGBT7_Yh"
      }
    },
    {
      "cell_type": "code",
      "source": [],
      "metadata": {
        "id": "wt5LuLCS-419"
      },
      "execution_count": null,
      "outputs": []
    },
    {
      "cell_type": "markdown",
      "source": [
        "# Styles\n",
        "\n",
        "Change the style (page 306 of Crash Course) and replot the graph from above. You can just copy-and-paste the graphing code.\n",
        "\n",
        "Play with a number of different styles.\n"
      ],
      "metadata": {
        "id": "KsUSUGPapJkA"
      }
    },
    {
      "cell_type": "code",
      "source": [
        "plt.style.available"
      ],
      "metadata": {
        "id": "0WmorThjpNhO",
        "outputId": "27b43ffc-5f80-4806-ec77-00bd93f588bf",
        "colab": {
          "base_uri": "https://localhost:8080/"
        }
      },
      "execution_count": null,
      "outputs": [
        {
          "output_type": "execute_result",
          "data": {
            "text/plain": [
              "['Solarize_Light2',\n",
              " '_classic_test_patch',\n",
              " '_mpl-gallery',\n",
              " '_mpl-gallery-nogrid',\n",
              " 'bmh',\n",
              " 'classic',\n",
              " 'dark_background',\n",
              " 'fast',\n",
              " 'fivethirtyeight',\n",
              " 'ggplot',\n",
              " 'grayscale',\n",
              " 'seaborn-v0_8',\n",
              " 'seaborn-v0_8-bright',\n",
              " 'seaborn-v0_8-colorblind',\n",
              " 'seaborn-v0_8-dark',\n",
              " 'seaborn-v0_8-dark-palette',\n",
              " 'seaborn-v0_8-darkgrid',\n",
              " 'seaborn-v0_8-deep',\n",
              " 'seaborn-v0_8-muted',\n",
              " 'seaborn-v0_8-notebook',\n",
              " 'seaborn-v0_8-paper',\n",
              " 'seaborn-v0_8-pastel',\n",
              " 'seaborn-v0_8-poster',\n",
              " 'seaborn-v0_8-talk',\n",
              " 'seaborn-v0_8-ticks',\n",
              " 'seaborn-v0_8-white',\n",
              " 'seaborn-v0_8-whitegrid',\n",
              " 'tableau-colorblind10']"
            ]
          },
          "metadata": {},
          "execution_count": 21
        }
      ]
    }
  ]
}