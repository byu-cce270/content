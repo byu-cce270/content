{
  "nbformat": 4,
  "nbformat_minor": 0,
  "metadata": {
    "colab": {
      "provenance": [],
      "include_colab_link": true
    },
    "kernelspec": {
      "name": "python3",
      "display_name": "Python 3"
    },
    "language_info": {
      "name": "python"
    }
  },
  "cells": [
    {
      "cell_type": "markdown",
      "metadata": {
        "id": "view-in-github",
        "colab_type": "text"
      },
      "source": [
        "<a href=\"https://colab.research.google.com/github/byu-cce270/content/blob/main/docs/unit3/01_matplotlib/(Starter_Notebook)_HW_Matplotlib.ipynb\" target=\"_parent\"><img src=\"https://colab.research.google.com/assets/colab-badge.svg\" alt=\"Open In Colab\"/></a>"
      ]
    },
    {
      "cell_type": "markdown",
      "source": [
        "### Import Statements"
      ],
      "metadata": {
        "id": "2RO1GQJN9cbw"
      }
    },
    {
      "cell_type": "code",
      "execution_count": null,
      "metadata": {
        "id": "MUvYCAPsc4DT"
      },
      "outputs": [],
      "source": [
        "import matplotlib.pyplot as plt\n",
        "import numpy as np"
      ]
    },
    {
      "cell_type": "markdown",
      "source": [
        "### Part 1a - Shear Diagram\n",
        "\n",
        "You will create your shear diagram in the code block below.\n"
      ],
      "metadata": {
        "id": "A-apE2M0EOCZ"
      }
    },
    {
      "cell_type": "code",
      "source": [],
      "metadata": {
        "id": "HQx5QMT4GMk4"
      },
      "execution_count": null,
      "outputs": []
    },
    {
      "cell_type": "markdown",
      "source": [
        "### Part 1b - Moment Diagram\n",
        "\n",
        "You will create your moment diagram in the code block below."
      ],
      "metadata": {
        "id": "7LrAZmi8e1Hm"
      }
    },
    {
      "cell_type": "code",
      "source": [],
      "metadata": {
        "id": "1jborBKvGNBD"
      },
      "execution_count": null,
      "outputs": []
    },
    {
      "cell_type": "markdown",
      "source": [
        "### Part 2 - Pasadena Precipitation Data\n",
        "\n",
        "You will now create a graph using Pasadena Temperature Data from 2013-2014.\n"
      ],
      "metadata": {
        "id": "ZG8rUFPPjjcw"
      }
    },
    {
      "cell_type": "markdown",
      "source": [
        "### Numpy Array Creation & Slicing\n",
        "\n",
        "Create and slice the array to create the x and y-axis values. These will correspond to the following columns in the CSV linked on readthedocs:\n",
        "\n",
        "*   x - Date\n",
        "*   y_1 - High Temperature\n",
        "*   y_2 - Low Temperature"
      ],
      "metadata": {
        "id": "R8Jma4JB5tV3"
      }
    },
    {
      "cell_type": "code",
      "source": [],
      "metadata": {
        "id": "NEHXi-ST5pyj"
      },
      "execution_count": null,
      "outputs": []
    },
    {
      "cell_type": "markdown",
      "source": [
        "### Graphing the Data\n",
        "\n",
        "Plot x, y_1 and y_2 with the elements shown in the instructions in the code block below."
      ],
      "metadata": {
        "id": "WxSxqEoP62Ca"
      }
    },
    {
      "cell_type": "code",
      "source": [],
      "metadata": {
        "id": "NEw62yce6lXK"
      },
      "execution_count": null,
      "outputs": []
    },
    {
      "cell_type": "markdown",
      "source": [
        "### Part 3 - Provo River Streamflow Data\n",
        "\n",
        "You will now create a graph using streamflow data of the Provo River in June 2021."
      ],
      "metadata": {
        "id": "bdRQZnE59FWA"
      }
    },
    {
      "cell_type": "markdown",
      "source": [
        "### Numpy Array Creation & Slicing\n",
        "\n",
        "Create and slice the array to create the x and y-axis values. These will correspond to the following columns in the CSV linked on readthedocs:\n",
        "\n",
        "*   x - Date\n",
        "*   y_1 - Site 10163000\n",
        "*   y_2 - Site 10155200\n",
        "*   y_3 - Site 10155500\n",
        "*   y_4 - Site 10154200\n",
        "*   y_5 - Site 10155000"
      ],
      "metadata": {
        "id": "b_HTOVkl7jje"
      }
    },
    {
      "cell_type": "code",
      "source": [],
      "metadata": {
        "id": "hFXVHo_K7jjg"
      },
      "execution_count": null,
      "outputs": []
    },
    {
      "cell_type": "markdown",
      "source": [
        "### Graphing the Data\n",
        "\n",
        "Plot x, y_1, y_2, y_3, y_4, and y_5 with the elements shown in the instructions in the code block below."
      ],
      "metadata": {
        "id": "hY8_8Yhk7jjg"
      }
    },
    {
      "cell_type": "code",
      "source": [],
      "metadata": {
        "id": "CJsW-Uh_7jjg"
      },
      "execution_count": null,
      "outputs": []
    },
    {
      "cell_type": "markdown",
      "source": [
        "### Part 4 - Bicycle Count in Fremont\n",
        "\n",
        "You will now create a graph using bicycle count data of a bridge in Fremont, Seattle."
      ],
      "metadata": {
        "id": "0rAaMR2hEvWW"
      }
    },
    {
      "cell_type": "markdown",
      "source": [
        "### Numpy Array Creation & Slicing\n",
        "\n",
        "Create and slice the array to create the x and y-axis values. These will correspond to the following columns in the CSV linked on readthedocs:\n",
        "\n",
        "*   x - Date\n",
        "*   y_1 - Fremont Bridge Total\n",
        "*   y_2 - Fremont Bridge East Sidewalk\n",
        "*   y_3 - Fremont Bridge West Sidewalk"
      ],
      "metadata": {
        "id": "GzAayYS7EvWX"
      }
    },
    {
      "cell_type": "code",
      "source": [],
      "metadata": {
        "id": "cmekMcH_EvWX"
      },
      "execution_count": null,
      "outputs": []
    },
    {
      "cell_type": "markdown",
      "source": [
        "### Graphing the Data\n",
        "\n",
        "Plot x, y_1, y_2, and y_3 in this code block."
      ],
      "metadata": {
        "id": "mYJA9663EvWX"
      }
    },
    {
      "cell_type": "code",
      "source": [],
      "metadata": {
        "id": "nrvX37jyHQWp"
      },
      "execution_count": null,
      "outputs": []
    },
    {
      "cell_type": "markdown",
      "source": [
        "### Part 5 - Average U.S. Daily Birth Data\n",
        "\n",
        "You will now create a graph using average daily birth data in the U.S."
      ],
      "metadata": {
        "id": "WP8SDCvIA3YT"
      }
    },
    {
      "cell_type": "markdown",
      "source": [
        "### Numpy Array Creation & Slicing\n",
        "\n",
        "Slice the array to create the x and y-axis values. These will correspond to the following columns in the CSV linked on readthedocs:\n",
        "\n",
        "*   x - Date\n",
        "*   y_1 - Births"
      ],
      "metadata": {
        "id": "xoLLComcA3YU"
      }
    },
    {
      "cell_type": "code",
      "source": [],
      "metadata": {
        "id": "7oIg7zYr-0XD"
      },
      "execution_count": null,
      "outputs": []
    },
    {
      "cell_type": "markdown",
      "source": [
        "### Graphing the Data\n",
        "\n",
        "Plot x and y_1 with the elements shown in the instructions in the code block below."
      ],
      "metadata": {
        "id": "v4EH2rHiBU2o"
      }
    },
    {
      "cell_type": "code",
      "source": [],
      "metadata": {
        "id": "2bt_prPbBUjo"
      },
      "execution_count": null,
      "outputs": []
    }
  ]
}