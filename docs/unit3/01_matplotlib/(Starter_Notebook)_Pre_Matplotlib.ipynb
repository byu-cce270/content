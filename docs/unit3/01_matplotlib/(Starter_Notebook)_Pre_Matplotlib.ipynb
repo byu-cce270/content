{
 "nbformat": 4,
 "nbformat_minor": 0,
 "metadata": {
  "colab": {
   "provenance": [],
   "include_colab_link": true
  },
  "kernelspec": {
   "name": "python3",
   "display_name": "Python 3"
  },
  "language_info": {
   "name": "python"
  }
 },
 "cells": [
  {
   "cell_type": "markdown",
   "metadata": {
    "id": "view-in-github",
    "colab_type": "text"
   },
   "source": "<a href=\"https://colab.research.google.com/github/byu-cce270/content/blob/main/docs/unit3/01_matplotlib/(Starter_Notebook)_Pre_Matplotlib.ipynb\" target=\"_parent\"><img src=\"https://colab.research.google.com/assets/colab-badge.svg\" alt=\"Open In Colab\"/></a>"
  },
  {
   "cell_type": "code",
   "execution_count": 2,
   "metadata": {
    "id": "n9uuhMYPsfpB"
   },
   "outputs": [],
   "source": [
    "#import the library to make graphs first\n",
    "\n",
    "import matplotlib.pyplot as plt\n",
    "import random"
   ]
  },
  {
   "cell_type": "markdown",
   "source": [
    "---\n",
    "\n",
    "\n",
    "**Code Block 1**\n",
    "\n",
    "Create a line graph that plots two lines on the same chart. Include a title, axis titles and a legend. Don't forget to add labels so that they show up in your legend!\n",
    "\n",
    "Hint - Info on legends if you need more help:\n",
    "https://www.geeksforgeeks.org/matplotlib-pyplot-legend-in-python/\n",
    "\n",
    "\n",
    "---"
   ],
   "metadata": {
    "id": "RSZPjV2duSkZ"
   }
  },
  {
   "cell_type": "code",
   "source": [
    "x  = [1, 2, 3, 4, 5]\n",
    "y = [5, 4, 3, 2, 1]\n",
    "y2 = [3, 4, 5, 6, 7]\n",
    "\n",
    "## Start your code here\n"
   ],
   "metadata": {
    "id": "h5E9Hq25sneC"
   },
   "execution_count": 1,
   "outputs": []
  },
  {
   "cell_type": "markdown",
   "source": [
    "---\n",
    "\n",
    "\n",
    "**Code Block 2**\n",
    "\n",
    "Create a scatter graph but make it big (like for someone who forgot their reading glasses)\n",
    "\n",
    "Hint - Info on increasing marker size: https://www.w3schools.com/python/matplotlib_scatter.asp\n",
    "\n",
    "Hint - Info on increasing the text size for tick marks:\n",
    "https://www.geeksforgeeks.org/how-to-set-tick-labels-font-size-in-matplotlib/\n",
    "\n",
    "\n",
    "---"
   ],
   "metadata": {
    "id": "BLU5RNNLwev-"
   }
  },
  {
   "cell_type": "code",
   "source": [
    "x = [10, 45, 67, 35, 20]\n",
    "y = [56, 43, 32, 21, 98]\n",
    "\n",
    "# Start your code here\n"
   ],
   "metadata": {
    "id": "1phufVHdtFJo"
   },
   "execution_count": 3,
   "outputs": []
  },
  {
   "cell_type": "markdown",
   "source": [
    "---\n",
    "\n",
    "\n",
    "**Code Block 3**\n",
    "\n",
    "Create a histogram to visualize the distribution of exam scores for a group of students. Use the data generated from the 'exam_scores' variable. Change the colors, add x-axis and y-axis labels, and give your graph a title. Add one more aesthetic feature to make your graph stand out!\n",
    "\n",
    "Hint - Info on aesthetic options for histograms: https://python-graph-gallery.com/basic-histogram-in-matplotlib/\n",
    "\n",
    "---"
   ],
   "metadata": {
    "id": "w5cL4aoFxQqH"
   }
  },
  {
   "cell_type": "code",
   "source": [
    "exam_scores = [random.randint(0, 100) for _ in range(100)]\n",
    "\n",
    "# Start your code here"
   ],
   "metadata": {
    "id": "oMaHZO4fy3az"
   },
   "execution_count": 5,
   "outputs": []
  }
 ]
}
