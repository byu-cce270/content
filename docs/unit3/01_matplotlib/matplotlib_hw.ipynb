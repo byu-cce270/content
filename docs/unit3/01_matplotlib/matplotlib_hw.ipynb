{
  "nbformat": 4,
  "nbformat_minor": 0,
  "metadata": {
    "colab": {
      "provenance": [],
      "include_colab_link": true
    },
    "kernelspec": {
      "name": "python3",
      "display_name": "Python 3"
    },
    "language_info": {
      "name": "python"
    }
  },
  "cells": [
    {
      "cell_type": "markdown",
      "metadata": {
        "id": "view-in-github",
        "colab_type": "text"
      },
      "source": [
        "<a href=\"https://colab.research.google.com/github/byu-cce270/content/blob/main/docs/unit3/01_matplotlib/matplotlib_hw.ipynb\" target=\"_parent\"><img src=\"https://colab.research.google.com/assets/colab-badge.svg\" alt=\"Open In Colab\"/></a>"
      ]
    },
    {
      "cell_type": "code",
      "execution_count": null,
      "metadata": {
        "id": "MUvYCAPsc4DT"
      },
      "outputs": [],
      "source": [
        "import matplotlib.pyplot as plt\n",
        "import csv"
      ]
    },
    {
      "cell_type": "markdown",
      "source": [
        "---\n",
        "\n",
        "**Code Block 1**\n",
        "1. In the first code block, create a variable 'x' with an empty list. Do this two more times on separate lines with a list 'y_1' and 'y_2'\n",
        "2. Read in the Pasadena CSV file in reading mode. Create an appropriately named variable and pass the file through the 'csv.reader'\n",
        "3. Write a for loop referencing your csv file variable. Within the for loop, append each of your lists with the information from each column\n",
        "<br>&nbsp;&nbsp;&nbsp;&nbsp;**Hint**: Use float inside your append function for y_1 and y_2, as most of this data does not include whole numbers\n",
        "4. Using the xticks function, input the list below into the first parameter and in the second parameter, rotate the ticks by 45 degrees\n",
        "\n",
        "    ```[0,50,100,150,200,250,300,350]```\n",
        "\n",
        "5. Plot y_1, label it \"High Temperature\", and color it orange or red\n",
        "6. Plot y_2, label it \"Low Temperature\", and color it teal or blue\n",
        "7. Title the graph \"Pasadena Temperature Data 2013-2014\"\n",
        "8. Label the x-axis as \"Date\"\n",
        "9. Label the y-axis as \"Degrees (Fahrenheit)\"\n",
        "10. Create a legend and put it in the top right corner. Make the font size 10\n",
        "11. Give the chart grid lines\n",
        "12. Show the chart\n",
        "---"
      ],
      "metadata": {
        "id": "ilrvjKdoCOVb"
      }
    },
    {
      "cell_type": "code",
      "source": [
        "# Start your code here\n",
        "\n"
      ],
      "metadata": {
        "id": "v_4D2u1XGJuJ"
      },
      "execution_count": null,
      "outputs": []
    },
    {
      "cell_type": "markdown",
      "source": [
        "---\n",
        "\n",
        "**Code Block 1**\n",
        "1. In the second code block, create a variable 'x' with an empty list. Do this two more times on separate lines with a list 'y_1', 'y_2', 'y_3', 'y_4', and 'y_5'\n",
        "2. Read in the Provo River Streamflow CSV file and create a for loop just like done in Part 1\n",
        "3. Using the xticks function, input the list below into the first parameter and in the second parameter, rotate the ticks by 45 degrees\n",
        "\n",
        "    ```[0,500,1000,1500,2000,2500]```\n",
        "\n",
        "4. Plot y_1, label it \"10163000\" and color it purple\n",
        "5. Plot y_2, label it \"10155200\" and color it teal or blue\n",
        "6. Plot y_3, label it \"10155500\" and color it green\n",
        "7. Plot y_4, label it \"10154200\" and color it orange\n",
        "8. Plot y_5, label it \"10155000\" and color it orange-red or red\n",
        "9. Title the graph \"Provo River Streamflow Data (2021)\"\n",
        "10. Label the x-axis as \"Date/Time\"\n",
        "11. Label the y-axis as \"Flowrate (cfs)\"\n",
        "12. Create a legend in the top right corner, make the font size 10, and title is \"Site Numbers\"\n",
        "13. Give the chart grid lines\n",
        "14. Show the chart\n",
        "\n",
        "---"
      ],
      "metadata": {
        "id": "vHEu4RM0COAk"
      }
    },
    {
      "cell_type": "code",
      "execution_count": null,
      "metadata": {
        "id": "jQHdbH41SkdB"
      },
      "outputs": [],
      "source": [
        "# Start your code here\n",
        "\n"
      ]
    }
  ]
}