{
  "nbformat": 4,
  "nbformat_minor": 0,
  "metadata": {
    "colab": {
      "provenance": [],
      "authorship_tag": "ABX9TyNVeQea1/jywTOgOYtzThWm",
      "include_colab_link": true
    },
    "kernelspec": {
      "name": "python3",
      "display_name": "Python 3"
    },
    "language_info": {
      "name": "python"
    }
  },
  "cells": [
    {
      "cell_type": "markdown",
      "metadata": {
        "id": "view-in-github",
        "colab_type": "text"
      },
      "source": [
        "<a href=\"https://colab.research.google.com/github/byu-cce270/content/blob/main/docs/unit3/01_matplotlib/matplotlib_in_class_(lastname%2C_firstname).ipynb\" target=\"_parent\"><img src=\"https://colab.research.google.com/assets/colab-badge.svg\" alt=\"Open In Colab\"/></a>"
      ]
    },
    {
      "cell_type": "markdown",
      "source": [
        "Run the following code blocks:"
      ],
      "metadata": {
        "id": "lePse1Y0AEvM"
      }
    },
    {
      "cell_type": "code",
      "source": [
        "import matplotlib.pyplot as plt\n",
        "import csv"
      ],
      "metadata": {
        "id": "O-XrjUna2AT3"
      },
      "execution_count": 1,
      "outputs": []
    },
    {
      "cell_type": "code",
      "execution_count": null,
      "metadata": {
        "id": "fBJ-D3-YzTEA"
      },
      "outputs": [],
      "source": [
        "# This data was taken from the https://data.cuwcd.gov/data/streamflows/index.htm Lower Provo, Deer Creek Reservoir on 8/9/23\n",
        "from datetime import datetime\n",
        "\n",
        "# Your data\n",
        "dates = [\n",
        "    \"2023-07-10\", \"2023-07-11\", \"2023-07-12\", \"2023-07-13\", \"2023-07-14\",\n",
        "    \"2023-07-15\", \"2023-07-16\", \"2023-07-17\", \"2023-07-18\", \"2023-07-19\",\n",
        "    \"2023-07-20\", \"2023-07-21\", \"2023-07-22\", \"2023-07-23\", \"2023-07-24\",\n",
        "    \"2023-07-25\", \"2023-07-26\", \"2023-07-27\", \"2023-07-28\", \"2023-07-29\",\n",
        "    \"2023-07-30\", \"2023-07-31\", \"2023-08-01\", \"2023-08-02\", \"2023-08-03\",\n",
        "    \"2023-08-04\", \"2023-08-05\", \"2023-08-06\", \"2023-08-07\", \"2023-08-08\",\n",
        "    \"2023-08-09\"\n",
        "]\n",
        "\n",
        "water_levels = [\n",
        "    615.274, 596.499, 588.659, 584.785, 608.09, 628.365, 638.522, 610.819,\n",
        "    587.083, 567.035, 518.51, 470.294, 474.717, 487.07, 480.543, 474.57,\n",
        "    476.37, 461.509, 489.171, 537.865, 552.128, 551.204, 553.159, 523.191,\n",
        "    402.031, 329.539, 296.804, 334.32, 448.152, 490.356, 507.519\n",
        "]\n",
        "\n",
        "# Convert date strings to datetime objects formatted for graphs\n",
        "dates = [datetime.strptime(date, \"%Y-%m-%d\") for date in dates]"
      ]
    },
    {
      "cell_type": "markdown",
      "source": [
        "Using the data above, create a bar graph using the list 'dates' as the x-axis and the list 'water_levels' as the y-axis. Add the following elements:\n",
        "\n",
        "*   Title labeled 'Water Levels Over Time (Bar Graph)'\n",
        "*   x-axis labeled 'Date'\n",
        "*   y-axis labeled 'Water Level'\n",
        "*   x-ticks rotated 45 degrees\n",
        "*   Color of your choice"
      ],
      "metadata": {
        "id": "ZSjOuIhG3rpR"
      }
    },
    {
      "cell_type": "code",
      "source": [],
      "metadata": {
        "id": "H4bBnRus6FWt"
      },
      "execution_count": null,
      "outputs": []
    },
    {
      "cell_type": "markdown",
      "source": [
        "This time, create a scatter plot using the list 'dates' as the x-axis and the list 'water_levels' as the y-axis. Add the following elements:\n",
        "\n",
        "*   Title labeled 'Water Levels Over Time (Scatter Plot)'\n",
        "*   x-axis labeled 'Date'\n",
        "*   y-axis labeled 'Water Level'\n",
        "*   x-ticks rotated 45 degrees\n",
        "*   Gridlines\n",
        "*   Diamond-shaped markers with black edges (See https://matplotlib.org/stable/api/markers_api.html)\n",
        "*   Color of your choice"
      ],
      "metadata": {
        "id": "_RryU3nf5frQ"
      }
    },
    {
      "cell_type": "code",
      "source": [],
      "metadata": {
        "id": "O0lKZQXF6Hxr"
      },
      "execution_count": null,
      "outputs": []
    },
    {
      "cell_type": "markdown",
      "source": [
        "This time, create a line graph using the list 'dates' as the x-axis and the list 'water_levels' as the y-axis. Add the following elements:\n",
        "\n",
        "*   Title labeled 'Water Levels Over Time (Line Graph)'\n",
        "*   x-axis labeled 'Date'\n",
        "*   y-axis labeled 'Water Level'\n",
        "*   x-ticks rotated 45 degrees\n",
        "*   Gridlines\n",
        "*   Star-shaped markers (See https://matplotlib.org/stable/api/markers_api.html)\n",
        "*   Color of your choice"
      ],
      "metadata": {
        "id": "B5f-Mfz57D6E"
      }
    },
    {
      "cell_type": "code",
      "source": [],
      "metadata": {
        "id": "mEDlPd0872F-"
      },
      "execution_count": null,
      "outputs": []
    },
    {
      "cell_type": "markdown",
      "source": [
        "You will now create a graph using weekly traffic volume data from interstate highways in 2022 (Source: https://catalog.data.gov/dataset/weekly-traffic-volume)\n",
        "\n",
        "Create four empty lists labeled x, y_1, y_2, and y_3. These will correspond to the following columns in the CSV file linked on readthedocs:\n",
        "\n",
        "*   x - Weeks in 2022\n",
        "*   y_1 - % Change All Vehicles\n",
        "*   y_2 - % Change Passenger\n",
        "*   y_3 - % Change Truck\n",
        "\n",
        "Read in the CSV file linked on readthedocs and use the csv.reader() function to convert each CSV line into a list. Skip the header line using the next() function. Loop through the lists and remove the first index in every list (to delete the first column). Append the empty lists to their related columns using the correct list indices, and **make sure to append them as integers**.\n",
        "\n",
        "Plot x, y_1, y_2, and y_3 with the following elements:\n",
        "\n",
        "*   Title labeled 'Percent Change in VMT over Interstate Highways in 2022'\n",
        "*   x-axis labeled 'Weeks in 2022'\n",
        "*   y-axis labeled '% Increase/Decrease in VMT'\n",
        "*   Legend in upper left corner with a font size of 7\n",
        "*   y_1 labeled '% Change All Vehicles' in legend\n",
        "*   y_2 labeled '% Change Passenger' in legend\n",
        "*   y_3 labeled '% Change Truck' in legend\n",
        "*   Gridlines\n",
        "*   Colors of your choice\n"
      ],
      "metadata": {
        "id": "AuXaSGBT7_Yh"
      }
    },
    {
      "cell_type": "code",
      "source": [],
      "metadata": {
        "id": "ZlJWLrVj_4H1"
      },
      "execution_count": null,
      "outputs": []
    }
  ]
}