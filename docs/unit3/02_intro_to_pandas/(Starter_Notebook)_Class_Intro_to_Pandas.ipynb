{
 "nbformat": 4,
 "nbformat_minor": 0,
 "metadata": {
  "colab": {
   "provenance": [],
   "include_colab_link": true
  },
  "kernelspec": {
   "name": "python3",
   "display_name": "Python 3"
  },
  "language_info": {
   "name": "python"
  }
 },
 "cells": [
  {
   "cell_type": "markdown",
   "metadata": {
    "id": "view-in-github",
    "colab_type": "text"
   },
   "source": "<a href=\"https://colab.research.google.com/github/byu-cce270/content/blob/main/docs/unit3/02_intro_to_pandas/(Starter_Notebook)_Class_Intro_to_Pandas.ipynb\" target=\"_parent\"><img src=\"https://colab.research.google.com/assets/colab-badge.svg\" alt=\"Open In Colab\"/></a>"
  },
  {
   "cell_type": "markdown",
   "source": [
    "# Import Packages\n",
    "\n",
    "\n",
    "\n"
   ],
   "metadata": {
    "id": "gf_D8h-1SMSK"
   }
  },
  {
   "cell_type": "code",
   "source": "# Import the packages\n",
   "metadata": {
    "id": "KOwg2d9oKm-S",
    "jupyter": {
     "is_executing": true
    }
   },
   "outputs": [],
   "execution_count": null
  },
  {
   "cell_type": "markdown",
   "source": [
    "## Pandas Series"
   ],
   "metadata": {
    "id": "qic8MlqNK3Fb"
   }
  },
  {
   "cell_type": "code",
   "execution_count": null,
   "metadata": {
    "id": "4pwqEjk4SBVS"
   },
   "outputs": [],
   "source": [
    "# Create a list\n",
    "\n",
    "bananas = [23, 26, 34]\n",
    "\n",
    "# Turn the list bananas into a pandas seris and display its contents\n",
    "\n",
    "\n"
   ]
  },
  {
   "cell_type": "markdown",
   "source": [
    "## Pandas Dataframes"
   ],
   "metadata": {
    "id": "yjd0i-AlM0KJ"
   }
  },
  {
   "cell_type": "code",
   "source": [
    "# Pandas becomes more useful when we can create DataFrames with the information that we have\n",
    "\n",
    "# Create the following dictionary\n",
    "\n",
    "workouts = {\n",
    "    \"exercise\": [\"jumping jacks\", \"pushups\", \"squats\", \"dead lift\", \"mile run\"],\n",
    "    \"calories\": [420, 380, 390, 200, 220],\n",
    "    \"duration\": [50, 40, 45, 20, 15]\n",
    "}\n"
   ],
   "metadata": {
    "id": "jEOLPdPFSSau"
   },
   "execution_count": null,
   "outputs": []
  },
  {
   "cell_type": "code",
   "source": [
    "# Build a dataframe with the dictionary. Show the results\n",
    "\n"
   ],
   "metadata": {
    "id": "5kHj1mN9aPVn"
   },
   "execution_count": null,
   "outputs": []
  },
  {
   "cell_type": "code",
   "source": [
    "# Change the index to exercise\n",
    "\n"
   ],
   "metadata": {
    "id": "i99nx02tMcB9"
   },
   "execution_count": null,
   "outputs": []
  },
  {
   "cell_type": "markdown",
   "source": [
    "## Editing contents"
   ],
   "metadata": {
    "id": "eRsP0jinM78l"
   }
  },
  {
   "cell_type": "code",
   "source": [
    "# Add a new row for situps\n",
    "\n"
   ],
   "metadata": {
    "id": "uBzSUPd-M7fk"
   },
   "execution_count": null,
   "outputs": []
  },
  {
   "cell_type": "code",
   "source": [
    "# Delete the jumping jacks row\n",
    "\n"
   ],
   "metadata": {
    "id": "uaKi0pcLMsgC"
   },
   "execution_count": null,
   "outputs": []
  },
  {
   "cell_type": "code",
   "source": [
    "# Print one of the rows using .loc[]\n",
    "\n"
   ],
   "metadata": {
    "id": "T3MuOsxxNPsb"
   },
   "execution_count": null,
   "outputs": []
  },
  {
   "cell_type": "code",
   "source": [
    "# Print one of the rows using .iloc[]\n",
    "\n"
   ],
   "metadata": {
    "id": "SQZqHSQPNVow"
   },
   "execution_count": null,
   "outputs": []
  },
  {
   "cell_type": "markdown",
   "source": [
    "# Example From the Book"
   ],
   "metadata": {
    "id": "8jFls5mGRNWu"
   }
  },
  {
   "cell_type": "code",
   "source": [
    "area = pd.Series({'California': 423967, 'Texas': 695662,\n",
    "                        'Florida': 170312, 'New York': 141297,\n",
    "                        'Pennsylvania': 119280})\n",
    "pop = pd.Series({'California': 39538223, 'Texas': 29145505,\n",
    "                      'Florida': 21538187, 'New York': 20201249,\n",
    "                      'Pennsylvania': 13002700})\n",
    "data_df = pd.DataFrame({'area':area, 'pop':pop})\n",
    "data_df"
   ],
   "metadata": {
    "id": "-wnc7So2RPDW"
   },
   "execution_count": null,
   "outputs": []
  },
  {
   "cell_type": "code",
   "source": [
    "# # add a column with the population density for each state (pop/area)\n",
    "\n"
   ],
   "metadata": {
    "id": "ifVhJEnbRS6G"
   },
   "execution_count": null,
   "outputs": []
  },
  {
   "cell_type": "code",
   "source": [
    "# Derive a new dataframe showing the states with density greater than 120 people\n",
    "#  per square mile with the columns pop and area - without the density column\n",
    "\n",
    "\n"
   ],
   "metadata": {
    "id": "wUwoIowJRdJY"
   },
   "execution_count": null,
   "outputs": []
  },
  {
   "cell_type": "code",
   "source": [
    "# Summarize the dataframe using the describe() method\n",
    "\n"
   ],
   "metadata": {
    "id": "EMoQniWNR3j-"
   },
   "execution_count": null,
   "outputs": []
  },
  {
   "cell_type": "markdown",
   "source": [
    "# Signs Dataset\n",
    "\n",
    "Copy the signs.xlsx file to the colab file browser and do the following steps.\n"
   ],
   "metadata": {
    "id": "o-x3vy3lSfq5"
   }
  },
  {
   "cell_type": "code",
   "source": [
    "# Read the contents of signs.xlsx into a dataframe and display results\n",
    "\n"
   ],
   "metadata": {
    "id": "dIqmtJvGN8rx"
   },
   "execution_count": null,
   "outputs": []
  },
  {
   "cell_type": "markdown",
   "source": "## Diagnostics - head & tail",
   "metadata": {
    "id": "nqg3DX_0OuwQ"
   }
  },
  {
   "cell_type": "code",
   "source": [
    "# Use the .head() argument to return the first two rows in the data frame\n",
    "\n"
   ],
   "metadata": {
    "id": "r4EvWdfkOpOr"
   },
   "execution_count": null,
   "outputs": []
  },
  {
   "cell_type": "code",
   "source": [
    "# Use the .tail() argument to return the last five rows in the data frame\n",
    "\n"
   ],
   "metadata": {
    "id": "aXHFXBCFO0kI"
   },
   "execution_count": null,
   "outputs": []
  },
  {
   "cell_type": "markdown",
   "source": [
    "## Filtering"
   ],
   "metadata": {
    "id": "cU1la6-hSFW6"
   }
  },
  {
   "cell_type": "code",
   "source": [
    "# Create a dataframe that only shows sign data with condition 'GOOD'\n",
    "\n"
   ],
   "metadata": {
    "id": "V8AEXiWzQAhE"
   },
   "execution_count": null,
   "outputs": []
  },
  {
   "cell_type": "code",
   "source": [
    "# Create a dataframe that only shows data for 50 mph signs\n",
    "\n"
   ],
   "metadata": {
    "id": "HyJODKpYQMAC"
   },
   "execution_count": null,
   "outputs": []
  },
  {
   "cell_type": "code",
   "source": [
    "# Use the .shape argument to see how many rows and columns there are\n",
    "# .shape[0] will return the number of rows only\n",
    "# .shape[1] will return the number of columns only\n",
    "\n"
   ],
   "metadata": {
    "id": "4XPn53YQQAeM"
   },
   "execution_count": null,
   "outputs": []
  },
  {
   "cell_type": "markdown",
   "source": [
    "# Provo River Data\n",
    "\n",
    "Copy the stream_data.xlsx file to the colab file browser and do the following steps."
   ],
   "metadata": {
    "id": "SrE_dkkSUApV"
   }
  },
  {
   "cell_type": "code",
   "source": [
    "# Make a dataframe for each of the three sheets in excel file. Name them flow_df, status_df, equip_df\n",
    "\n",
    "\n",
    "\n"
   ],
   "metadata": {
    "id": "4MHClps3hxL-"
   },
   "execution_count": null,
   "outputs": []
  },
  {
   "cell_type": "code",
   "source": [
    "# Change the title of the \"Site Number:\" column to \"Date\"\n",
    "\n"
   ],
   "metadata": {
    "id": "ohXCfzUZVThX"
   },
   "execution_count": null,
   "outputs": []
  },
  {
   "cell_type": "code",
   "source": [
    "# Create a copy of the flow_df dataframe so only flowrates of over 100 display for site: 10163000\n",
    "\n"
   ],
   "metadata": {
    "id": "3G41KufDiEwO"
   },
   "execution_count": null,
   "outputs": []
  },
  {
   "cell_type": "code",
   "source": [
    "# Make a copy of the status_df dataframe with only statuses that are approved\n",
    "\n"
   ],
   "metadata": {
    "id": "GhVwJgNDiO82"
   },
   "execution_count": null,
   "outputs": []
  },
  {
   "cell_type": "code",
   "source": [
    "# Use the .value_counts() method to create a series of the approved status\n",
    "\n"
   ],
   "metadata": {
    "id": "KzIFkDDxXkr3"
   },
   "execution_count": null,
   "outputs": []
  },
  {
   "cell_type": "code",
   "source": [
    "#plot a bar graph that shows the count of approved status series\n",
    "\n"
   ],
   "metadata": {
    "id": "4vtUYvZ8iVbe"
   },
   "execution_count": null,
   "outputs": []
  },
  {
   "cell_type": "markdown",
   "source": [
    "## Equipment DataFrame"
   ],
   "metadata": {
    "id": "2q-2wewbhpa7"
   }
  },
  {
   "cell_type": "code",
   "source": [
    "# Show the first few rows of the equip_df\n",
    "\n",
    "\n"
   ],
   "metadata": {
    "id": "1K-KZ_wvhdkT"
   },
   "execution_count": null,
   "outputs": []
  },
  {
   "cell_type": "code",
   "source": [
    "# create a new dataframe that includes only the equipment that needs maintenance\n",
    "\n",
    "\n"
   ],
   "metadata": {
    "id": "1F_kF0SjYIp1"
   },
   "execution_count": null,
   "outputs": []
  },
  {
   "cell_type": "code",
   "source": [
    "# Create a series showing the numbers of each type of equipment.\n",
    "\n"
   ],
   "metadata": {
    "id": "GxpypY3LYbjT"
   },
   "execution_count": null,
   "outputs": []
  },
  {
   "cell_type": "code",
   "source": [
    "# Make a pie chart of the equipment type\n",
    "\n",
    "\n",
    "\n"
   ],
   "metadata": {
    "id": "OU0AdzOYiQ56"
   },
   "execution_count": null,
   "outputs": []
  }
 ]
}
