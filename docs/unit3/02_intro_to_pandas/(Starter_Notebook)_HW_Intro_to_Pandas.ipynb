{
  "nbformat": 4,
  "nbformat_minor": 0,
  "metadata": {
    "colab": {
      "provenance": [],
      "include_colab_link": true
    },
    "kernelspec": {
      "name": "python3",
      "display_name": "Python 3"
    },
    "language_info": {
      "name": "python"
    }
  },
  "cells": [
    {
      "cell_type": "markdown",
      "metadata": {
        "id": "view-in-github",
        "colab_type": "text"
      },
      "source": [
        "<a href=\"https://colab.research.google.com/github/byu-cce270/content/blob/main/docs/unit3/02_intro_to_pandas/(Starter_Notebook)_HW_Intro_to_Pandas.ipynb\" target=\"_parent\"><img src=\"https://colab.research.google.com/assets/colab-badge.svg\" alt=\"Open In Colab\"/></a>"
      ]
    },
    {
      "cell_type": "markdown",
      "source": [
        "## Import Required Packages"
      ],
      "metadata": {
        "id": "CBpPWVNaMmML"
      }
    },
    {
      "cell_type": "code",
      "source": [
        "#############################################\n",
        "####### IMPORT STATEMENTS GO HERE  ##########\n",
        "#############################################\n",
        "\n",
        "from datetime import datetime\n",
        "\n",
        "\n"
      ],
      "metadata": {
        "id": "dWRiuzymeTYa"
      },
      "execution_count": null,
      "outputs": []
    },
    {
      "cell_type": "markdown",
      "source": [
        "## Create Dataframes\n"
      ],
      "metadata": {
        "id": "afDuf2f9Mr9h"
      }
    },
    {
      "cell_type": "code",
      "source": [
        "#################################################################\n",
        "########### IMPORT EXCEL SHEETS TO DATAFRAMES HERE  #############\n",
        "#################################################################\n",
        "\n"
      ],
      "metadata": {
        "id": "YHb6EgVCwnHs"
      },
      "execution_count": null,
      "outputs": []
    },
    {
      "cell_type": "markdown",
      "source": [
        "## BRIDGE DATAFRAME"
      ],
      "metadata": {
        "id": "67O459f-_J6k"
      }
    },
    {
      "cell_type": "code",
      "source": [],
      "metadata": {
        "id": "JIcld1-JUm8Q"
      },
      "execution_count": null,
      "outputs": []
    },
    {
      "cell_type": "code",
      "source": [],
      "metadata": {
        "id": "fLQGnzGaxkzU"
      },
      "execution_count": null,
      "outputs": []
    },
    {
      "cell_type": "code",
      "source": [],
      "metadata": {
        "id": "GW744AKWAMU3"
      },
      "execution_count": null,
      "outputs": []
    },
    {
      "cell_type": "code",
      "source": [],
      "metadata": {
        "id": "z-2vswLoA3bl"
      },
      "execution_count": null,
      "outputs": []
    },
    {
      "cell_type": "code",
      "source": [],
      "metadata": {
        "id": "ITs43oIgRKyY"
      },
      "execution_count": null,
      "outputs": []
    },
    {
      "cell_type": "code",
      "source": [],
      "metadata": {
        "id": "tdhaIHt6Rk5I"
      },
      "execution_count": null,
      "outputs": []
    },
    {
      "cell_type": "markdown",
      "source": [
        "## TRAFFIC DATAFRAME"
      ],
      "metadata": {
        "id": "nh4eCT7bB762"
      }
    },
    {
      "cell_type": "code",
      "source": [],
      "metadata": {
        "id": "W4Xk-sXIx6eM"
      },
      "execution_count": null,
      "outputs": []
    },
    {
      "cell_type": "code",
      "source": [],
      "metadata": {
        "id": "_uXHvlUZVrOL"
      },
      "execution_count": null,
      "outputs": []
    },
    {
      "cell_type": "code",
      "source": [],
      "metadata": {
        "id": "RrjwCdY7Vi7X"
      },
      "execution_count": null,
      "outputs": []
    },
    {
      "cell_type": "code",
      "source": [],
      "metadata": {
        "id": "Qk1A_ci-WIwn"
      },
      "execution_count": null,
      "outputs": []
    },
    {
      "cell_type": "markdown",
      "source": [
        "##CONCRETE DATAFRAME"
      ],
      "metadata": {
        "id": "_CgiAAm44nHw"
      }
    },
    {
      "cell_type": "code",
      "source": [],
      "metadata": {
        "id": "-XDPpFhAyRzc"
      },
      "execution_count": null,
      "outputs": []
    },
    {
      "cell_type": "code",
      "source": [],
      "metadata": {
        "id": "NS4cAfHO2k8w"
      },
      "execution_count": null,
      "outputs": []
    },
    {
      "cell_type": "code",
      "source": [],
      "metadata": {
        "id": "EJR7aB-d3jxB"
      },
      "execution_count": null,
      "outputs": []
    },
    {
      "cell_type": "code",
      "source": [],
      "metadata": {
        "id": "fxGWQi0o3uLw"
      },
      "execution_count": null,
      "outputs": []
    },
    {
      "cell_type": "code",
      "source": [],
      "metadata": {
        "id": "nHgE3PNEcUKt"
      },
      "execution_count": null,
      "outputs": []
    },
    {
      "cell_type": "code",
      "source": [],
      "metadata": {
        "id": "j2c1pfJB4Ehy"
      },
      "execution_count": null,
      "outputs": []
    },
    {
      "cell_type": "code",
      "source": [],
      "metadata": {
        "id": "NNLvDgk54Hcw"
      },
      "execution_count": null,
      "outputs": []
    },
    {
      "cell_type": "code",
      "source": [],
      "metadata": {
        "id": "GylOd5oZ4JSA"
      },
      "execution_count": null,
      "outputs": []
    },
    {
      "cell_type": "code",
      "source": [],
      "metadata": {
        "id": "Ip1qhdyCf19m"
      },
      "execution_count": null,
      "outputs": []
    }
  ]
}