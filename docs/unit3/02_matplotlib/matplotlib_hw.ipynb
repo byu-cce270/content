{
  "nbformat": 4,
  "nbformat_minor": 0,
  "metadata": {
    "colab": {
      "provenance": [],
      "include_colab_link": true
    },
    "kernelspec": {
      "name": "python3",
      "display_name": "Python 3"
    },
    "language_info": {
      "name": "python"
    }
  },
  "cells": [
    {
      "cell_type": "markdown",
      "metadata": {
        "id": "view-in-github",
        "colab_type": "text"
      },
      "source": [
        "<a href=\"https://colab.research.google.com/github/byu-cce270/content/blob/main/docs/unit3/02_matplotlib/matplotlib_hw.ipynb\" target=\"_parent\"><img src=\"https://colab.research.google.com/assets/colab-badge.svg\" alt=\"Open In Colab\"/></a>"
      ]
    },
    {
      "cell_type": "markdown",
      "source": [
        "### Import Statements"
      ],
      "metadata": {
        "id": "2RO1GQJN9cbw"
      }
    },
    {
      "cell_type": "code",
      "execution_count": null,
      "metadata": {
        "id": "MUvYCAPsc4DT"
      },
      "outputs": [],
      "source": [
        "import matplotlib.pyplot as plt\n",
        "import numpy as np\n",
        "\n",
        "import gspread\n",
        "from google.auth import default\n",
        "creds, _ = default()\n",
        "gc = gspread.authorize(creds)\n",
        "from google.colab import auth\n",
        "auth.authenticate_user()"
      ]
    },
    {
      "cell_type": "markdown",
      "source": [
        "### Connecting to Google Sheets\n",
        "\n",
        "In the block below, use gspread to connect to the Google Sheet, then create 3 variables (temp_data, stream_data, birth_data) that connect to each of three worksheets in the sheet."
      ],
      "metadata": {
        "id": "lchBJPdj4zC1"
      }
    },
    {
      "cell_type": "code",
      "source": [],
      "metadata": {
        "id": "ahNiPMRI4iLV"
      },
      "execution_count": null,
      "outputs": []
    },
    {
      "cell_type": "markdown",
      "source": [
        "### Part 1 - Pasadena Precipitation Data\n",
        "\n",
        "You will now create a graph using Pasadena Temperature Data from 2013-2014.\n"
      ],
      "metadata": {
        "id": "ZG8rUFPPjjcw"
      }
    },
    {
      "cell_type": "markdown",
      "source": [
        "### Numpy Array Creation & Slicing (DO NOT MODIFY)\n",
        "\n",
        "Run the following code block to create the x-axis and the y-axis values. These will correspond to the following columns in the worksheet linked on readthedocs:\n",
        "\n",
        "*   x - Date\n",
        "*   y_1 - High Temperature\n",
        "*   y_2 - Low Temperature"
      ],
      "metadata": {
        "id": "R8Jma4JB5tV3"
      }
    },
    {
      "cell_type": "code",
      "source": [
        "array = np.array(temp_data.get_all_values()) #creates a numpy array from the data in the first worksheet\n",
        "x = array[1:, 0] #slices the array to only include the \"Date\" column\n",
        "y_1 = array[1:,1].astype(float) #slices the array to only include the \"High Temperature\" column and sets the values as floats\n",
        "y_2 = array[1:,2].astype(float) #slices the array to only include the \"Low Temperature\" column and sets the values as floats"
      ],
      "metadata": {
        "id": "NEHXi-ST5pyj"
      },
      "execution_count": null,
      "outputs": []
    },
    {
      "cell_type": "markdown",
      "source": [
        "### Graphing the Data\n",
        "\n",
        "Plot x, y_1 and y_2 with the elements listed on GitHub in the code block below."
      ],
      "metadata": {
        "id": "WxSxqEoP62Ca"
      }
    },
    {
      "cell_type": "code",
      "source": [
        "plt.xticks(np.linspace(0,350,8)) #formats the dates nicely\n",
        "\n",
        "#begin writing your code below\n"
      ],
      "metadata": {
        "id": "NEw62yce6lXK"
      },
      "execution_count": null,
      "outputs": []
    },
    {
      "cell_type": "markdown",
      "source": [
        "### Part 2 - Provo River Streamflow Data\n",
        "\n",
        "You will now create a graph using streamflow data of the Provo River in June 2021."
      ],
      "metadata": {
        "id": "bdRQZnE59FWA"
      }
    },
    {
      "cell_type": "markdown",
      "source": [
        "### Numpy Array Creation & Slicing (DO NOT MODIFY)\n",
        "\n",
        "Run the following code block to create the x-axis and the y-axis values. These will correspond to the following columns in the worksheet linked on readthedocs:\n",
        "\n",
        "*   x - Date\n",
        "*   y_1 - Site 10163000\n",
        "*   y_2 - Site 10155200\n",
        "*   y_3 - Site 10155500\n",
        "*   y_4 - Site 10154200\n",
        "*   y_5 - Site 10155000"
      ],
      "metadata": {
        "id": "b_HTOVkl7jje"
      }
    },
    {
      "cell_type": "code",
      "source": [
        "array = np.array(stream_data.get_all_values()) #creates a numpy array from the data in the second worksheet\n",
        "x = array[1:, 0] #slices the array to only include the \"Date\" column\n",
        "y_1 = array[1:,1].astype(float) #slices the array to only include the \"10163000\" column and sets the values as floats\n",
        "y_2 = array[1:,2].astype(float) #slices the array to only include the \"10155200\" column and sets the values as floats\n",
        "y_3 = array[1:,3].astype(float) #slices the array to only include the \"10155500\" column and sets the values as floats\n",
        "y_4 = array[1:,4].astype(float) #slices the array to only include the \"10154200\" column and sets the values as floats\n",
        "y_5 = array[1:,5].astype(float) #slices the array to only include the \"10155000\" column and sets the values as floats"
      ],
      "metadata": {
        "id": "hFXVHo_K7jjg"
      },
      "execution_count": null,
      "outputs": []
    },
    {
      "cell_type": "markdown",
      "source": [
        "### Graphing the Data\n",
        "\n",
        "Plot x, y_1, y_2, y_3, y_4, and y_5 with the elements listed on GitHub in the code block below."
      ],
      "metadata": {
        "id": "hY8_8Yhk7jjg"
      }
    },
    {
      "cell_type": "code",
      "source": [
        "plt.xticks(np.linspace(0,2500,8)) #formats the dates nicely\n",
        "\n",
        "#begin writing your code below\n"
      ],
      "metadata": {
        "id": "CJsW-Uh_7jjg"
      },
      "execution_count": null,
      "outputs": []
    },
    {
      "cell_type": "markdown",
      "source": [
        "### Part 3 - Average U.S. Daily Birth Data\n",
        "\n",
        "You will now create a graph using average daily birth data in the U.S."
      ],
      "metadata": {
        "id": "WP8SDCvIA3YT"
      }
    },
    {
      "cell_type": "markdown",
      "source": [
        "### Numpy Array Creation & Slicing (DO NOT MODIFY)\n",
        "\n",
        "Run the following code block to create the x-axis and the y-axis values. These will correspond to the following columns in the worksheet linked on readthedocs:\n",
        "\n",
        "*   x - Date\n",
        "*   y_1 - Births"
      ],
      "metadata": {
        "id": "xoLLComcA3YU"
      }
    },
    {
      "cell_type": "code",
      "source": [
        "array = np.array(birth_data.get_all_values()) #creates a numpy array from the data in the third worksheet\n",
        "x = array[1:,0] #slices the array to only include the \"Date\" column\n",
        "y_1 = array[1:,1].astype(float) #slices the array to only include the \"Births\" column and sets the values as floats"
      ],
      "metadata": {
        "id": "7oIg7zYr-0XD"
      },
      "execution_count": null,
      "outputs": []
    },
    {
      "cell_type": "markdown",
      "source": [
        "### Graphing the Data\n",
        "\n",
        "Plot x and y_1 with the elements listed on GitHub in the code block below."
      ],
      "metadata": {
        "id": "v4EH2rHiBU2o"
      }
    },
    {
      "cell_type": "code",
      "source": [
        "plt.figure(figsize=(12, 4)) #changes figure size\n",
        "plt.xticks(np.linspace(0,367,10)) #formats the dates nicely\n",
        "\n",
        "#begin writing your code below\n"
      ],
      "metadata": {
        "id": "2bt_prPbBUjo"
      },
      "execution_count": null,
      "outputs": []
    }
  ]
}