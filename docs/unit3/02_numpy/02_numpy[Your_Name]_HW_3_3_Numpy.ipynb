{
  "nbformat": 4,
  "nbformat_minor": 0,
  "metadata": {
    "colab": {
      "provenance": [],
      "authorship_tag": "ABX9TyPlDPw2Z/nxq3XFL+6n0KZG",
      "include_colab_link": true
    },
    "kernelspec": {
      "name": "python3",
      "display_name": "Python 3"
    },
    "language_info": {
      "name": "python"
    }
  },
  "cells": [
    {
      "cell_type": "markdown",
      "metadata": {
        "id": "view-in-github",
        "colab_type": "text"
      },
      "source": [
        "<a href=\"https://colab.research.google.com/github/byu-cce270/content/blob/main/docs/unit3/02_numpy%5BYour_Name%5D_HW_3_3_Numpy.ipynb\" target=\"_parent\"><img src=\"https://colab.research.google.com/assets/colab-badge.svg\" alt=\"Open In Colab\"/></a>"
      ]
    },
    {
      "cell_type": "code",
      "execution_count": null,
      "metadata": {
        "id": "bkEehX2Dv0lB"
      },
      "outputs": [],
      "source": [
        "# import library here\n"
      ]
    },
    {
      "cell_type": "markdown",
      "source": [
        "### System of Linear Equations 1\n",
        "$$\n",
        "4x+7y+z=161\n",
        "$$\n",
        "$$\n",
        "5x+2y+4z=122\n",
        "$$\n",
        "$$\n",
        "3x+8y+6z=204\n",
        "$$"
      ],
      "metadata": {
        "id": "-R9P2eqDv7l7"
      }
    },
    {
      "cell_type": "code",
      "source": [
        "# Create first array here\n",
        "\n",
        "\n",
        "\n"
      ],
      "metadata": {
        "id": "yLvRN_Thxa2B"
      },
      "execution_count": null,
      "outputs": []
    },
    {
      "cell_type": "code",
      "source": [
        "# Create second array here\n",
        "\n",
        "\n",
        "\n"
      ],
      "metadata": {
        "id": "XtukAHMv3CiV"
      },
      "execution_count": null,
      "outputs": []
    },
    {
      "cell_type": "code",
      "source": [
        "# Solve equation here\n",
        "\n",
        "\n",
        "\n"
      ],
      "metadata": {
        "id": "cor7iIgE3mnO"
      },
      "execution_count": null,
      "outputs": []
    },
    {
      "cell_type": "code",
      "source": [
        "# Display results here\n",
        "\n",
        "\n",
        "\n"
      ],
      "metadata": {
        "id": "WanuyKvl3qp1"
      },
      "execution_count": null,
      "outputs": []
    },
    {
      "cell_type": "markdown",
      "source": [
        "### System of Linear Equations 2\n",
        "$$\n",
        "4x+7y=153\n",
        "$$\n",
        "$$\n",
        "5x+2y=90\n",
        "$$\n",
        "$$\n",
        "3x+8y=156\n",
        "$$"
      ],
      "metadata": {
        "id": "lL1elgrmq1Yb"
      }
    },
    {
      "cell_type": "code",
      "source": [
        "# Plot your equations here\n",
        "\n",
        "\n",
        "\n"
      ],
      "metadata": {
        "id": "LmrQq4edrFtY"
      },
      "execution_count": null,
      "outputs": []
    }
  ]
}