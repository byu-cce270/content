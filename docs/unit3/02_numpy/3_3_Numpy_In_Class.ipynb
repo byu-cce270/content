{
  "nbformat": 4,
  "nbformat_minor": 0,
  "metadata": {
    "colab": {
      "provenance": [],
      "authorship_tag": "ABX9TyOcPs416M3G5FdMocrA19OJ",
      "include_colab_link": true
    },
    "kernelspec": {
      "name": "python3",
      "display_name": "Python 3"
    },
    "language_info": {
      "name": "python"
    }
  },
  "cells": [
    {
      "cell_type": "markdown",
      "metadata": {
        "id": "view-in-github",
        "colab_type": "text"
      },
      "source": [
        "<a href=\"https://colab.research.google.com/github/byu-cce270/content/blob/main/docs/unit3/02_numpy/3_3_Numpy_In_Class.ipynb\" target=\"_parent\"><img src=\"https://colab.research.google.com/assets/colab-badge.svg\" alt=\"Open In Colab\"/></a>"
      ]
    },
    {
      "cell_type": "markdown",
      "source": [
        "\n",
        "\n",
        "---\n",
        "\n",
        "**Code Block 1 - Lists vs Arrays**\n",
        "\n",
        "\n",
        "1. Print the list A\n",
        "2. Print the type of A\n",
        "3. Turn A into a NumPy array\n",
        "4. Print your new array\n",
        "5. Print the type of your new array\n",
        "6. What differences do you notice between the array and the list? Write a comment underneath your array stating the differences.\n",
        "\n",
        "\n",
        "---\n",
        "\n"
      ],
      "metadata": {
        "id": "1MoH8N5GdMMd"
      }
    },
    {
      "cell_type": "code",
      "execution_count": null,
      "metadata": {
        "id": "4kzNTQj_aW8c"
      },
      "outputs": [],
      "source": [
        "import numpy as np #Imports the numpy library for us to use.\n",
        "# importing as np is the convetion to make it shorter to reference later\n"
      ]
    },
    {
      "cell_type": "markdown",
      "source": [
        "\n",
        "\n",
        "---\n",
        "\n",
        "**Code Block 2 - Working through Arrays**\n",
        "\n",
        "\n",
        "1. Turn list B into a numpy array named array_B.\n",
        "2. Print array_B\n",
        "3. Access the values [5,6,7,8] in the array and print your results. HINT: Accessing items in arrays is very similar to accesing items in lists.\n",
        "4. Access the number 11 and print your results.\n",
        "5. Access only the numbers 2, 3, and 4. Print your results\n",
        "\n",
        "\n",
        "---\n",
        "\n"
      ],
      "metadata": {
        "id": "XObOtej7tDOc"
      }
    },
    {
      "cell_type": "code",
      "source": [
        "B = [[1,2,3,4],[5,6,7,8],[9,10,11,12]]\n"
      ],
      "metadata": {
        "id": "Xuyj_TFiajv2"
      },
      "execution_count": null,
      "outputs": []
    },
    {
      "cell_type": "markdown",
      "source": [
        "\n",
        "\n",
        "---\n",
        "**Code Block 3 - Numpy Array Creation Routines**\n",
        "\n",
        "Use at least 3 of the below array commands and print out your arrays.\n",
        "\n",
        "*   np.zeros(# of zeros you want, dtype = int/float) - creates an array with only zeros\n",
        "*   np.ones(# 1's you want) - array with only 1's\n",
        "*   np.empty(# of random numbers you want) - array with random numbers\n",
        "*   np.arange(first number, last number, step) - array within a given range\n",
        "*   np.linspace(first number, last number, num=how many numbers you want in the array) - array with a given length that goes to a given end number\n",
        "* NOTE: For all of the above commands, you can choose the type by using dtype = 'int' or dtype = 'float'\n",
        "\n",
        "\n",
        "Here is a list of more array functions:\n",
        "\n",
        "[Array creation routines](https://numpy.org/doc/stable/reference/routines.array-creation.html)\n",
        "\n",
        "\n",
        "---"
      ],
      "metadata": {
        "id": "b20juygvzOWu"
      }
    },
    {
      "cell_type": "code",
      "source": [],
      "metadata": {
        "id": "rw4d1QswarP2"
      },
      "execution_count": null,
      "outputs": []
    },
    {
      "cell_type": "markdown",
      "source": [
        "\n",
        "\n",
        "---\n",
        "\n",
        "\n",
        "**Code Block 4: Numpy manipulation routines**\n",
        "\n",
        " Create a new array for each of the following functions. Use array1 and array2 for the examples. Print your results.\n",
        "\n",
        "*   np.concatenate((array,array)) - adds one array to the end of another\n",
        "*   np.delete(array, index) - deletes an item in an array at a given index\n",
        "*   np.append(array, #) - adds any number, including arrays, to the end of an array\n",
        "* np.sort(array) - sorts an array from smallest to the largest values\n",
        "* np.vstack((array,array)) - Puts arrays into a column\n",
        "* np.copy(array) - copies a given array, can be saved a different array.\n",
        "\n",
        "\n",
        "\n",
        "Here are some more examples with syntax:\n",
        "\n",
        "[NumPy manipulation routines](https://numpy.org/doc/stable/reference/routines.array-manipulation.html)\n",
        "\n",
        "\n",
        "---\n",
        "\n"
      ],
      "metadata": {
        "id": "N01XVKAko2PG"
      }
    },
    {
      "cell_type": "code",
      "source": [
        "array1 = np.array([2, 1, 5, 3])\n",
        "array2 = np.array([7, 4, 6, 8])"
      ],
      "metadata": {
        "id": "ze84lZm4awRW"
      },
      "execution_count": null,
      "outputs": []
    },
    {
      "cell_type": "markdown",
      "source": [
        "\n",
        "\n",
        "---\n",
        "\n",
        "\n",
        "**Code Block 5: Updating values in Arrays**\n",
        "\n",
        "\n",
        "\n",
        "1.   Make a copy of array 3 and name it array_copy\n",
        "2.   In array_copy, Change the number 10 to be 15\n",
        "\n",
        "---\n",
        "\n"
      ],
      "metadata": {
        "id": "OsNMqFVXnYtI"
      }
    },
    {
      "cell_type": "code",
      "source": [
        "array3 = np.array([1, 2, 3, 4],[5, 6, 7, 8],[9, 10, 11, 12])\n"
      ],
      "metadata": {
        "id": "jNf8AwXNa22R"
      },
      "execution_count": null,
      "outputs": []
    },
    {
      "cell_type": "markdown",
      "source": [
        "\n",
        "\n",
        "---\n",
        "\n",
        "\n",
        "**Code Block 6: CHALLENGE - Find the solution to this system of linear equations**\n",
        "\n",
        "When solving for a linear equation, you are find an x, y, and z value that is true for all of the given equations. This can be time consuming by hand, but just take a few minutes with NumPy.\n",
        "\n",
        "\n",
        "Use the function below to solve for the x, y, and z values for the 3 equations below.\n",
        "\n",
        "* `np.linalg.solve(array, array)`\n",
        "\n",
        "\n",
        "\n",
        "**Equations**\n",
        "\n",
        "\n",
        "$$x+y+z = 10$$\n",
        "$$6x+3y+8z = 55$$\n",
        "$$21x+16y+2z = 157$$\n",
        "\n",
        "HINT: Set up each of the equations (without the solution) as an array, then the solutions as a different array.\n",
        "\n",
        "---\n",
        "\n"
      ],
      "metadata": {
        "id": "K2FvYr0rpLpk"
      }
    },
    {
      "cell_type": "code",
      "source": [],
      "metadata": {
        "id": "KxUnQi1IbKuy"
      },
      "execution_count": null,
      "outputs": []
    }
  ]
}