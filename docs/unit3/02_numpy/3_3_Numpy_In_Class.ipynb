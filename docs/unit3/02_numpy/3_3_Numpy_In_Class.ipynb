{
  "nbformat": 4,
  "nbformat_minor": 0,
  "metadata": {
    "colab": {
      "provenance": [],
      "include_colab_link": true
    },
    "kernelspec": {
      "name": "python3",
      "display_name": "Python 3"
    },
    "language_info": {
      "name": "python"
    }
  },
  "cells": [
    {
      "cell_type": "markdown",
      "metadata": {
        "id": "view-in-github",
        "colab_type": "text"
      },
      "source": [
        "<a href=\"https://colab.research.google.com/github/byu-cce270/content/blob/main/docs/unit3/02_numpy/3_3_Numpy_In_Class.ipynb\" target=\"_parent\"><img src=\"https://colab.research.google.com/assets/colab-badge.svg\" alt=\"Open In Colab\"/></a>"
      ]
    },
    {
      "cell_type": "markdown",
      "source": [
        "\n",
        "\n",
        "---\n",
        "\n",
        "**Code Block 1 - Lists vs Arrays**\n",
        "\n",
        "\n",
        "1. Print the list A\n",
        "2. Print the type of A\n",
        "3. Turn A into a NumPy array\n",
        "4. Print your new array\n",
        "5. Print the type of your new array\n",
        "6. What differences do you notice between the array and the list? **Write a comment underneath your array stating the differences.**\n",
        "\n",
        "\n",
        "---\n",
        "\n"
      ],
      "metadata": {
        "id": "1MoH8N5GdMMd"
      }
    },
    {
      "cell_type": "code",
      "execution_count": null,
      "metadata": {
        "id": "4kzNTQj_aW8c"
      },
      "outputs": [],
      "source": [
        "import numpy as np #Imports the numpy library for us to use.\n",
        "# importing as np is the convetion to make it shorter to reference later\n",
        "A = [1.2,2,3,4.9,5]"
      ]
    },
    {
      "cell_type": "markdown",
      "source": [
        "\n",
        "\n",
        "---\n",
        "\n",
        "**Code Block 2 - Working through Arrays**\n",
        "\n",
        "\n",
        "1. Turn list B into a numpy array named array_B.\n",
        "2. Print array_B\n",
        "3. Access the values [5,6,7,8] in the array and print your results. HINT: Accessing items in arrays is very similar to accesing items in lists.\n",
        "4. Access the number 11 and print your results.\n",
        "5. Access only the numbers 2, 3, and 4. Print your results\n",
        "\n",
        "\n",
        "---\n",
        "\n"
      ],
      "metadata": {
        "id": "XObOtej7tDOc"
      }
    },
    {
      "cell_type": "code",
      "source": [
        "B = [[1,2,3,4],[5,6,7,8],[9,10,11,12]]\n"
      ],
      "metadata": {
        "id": "Xuyj_TFiajv2"
      },
      "execution_count": null,
      "outputs": []
    },
    {
      "cell_type": "markdown",
      "source": [
        "\n",
        "\n",
        "---\n",
        "**Code Block 3 - Numpy Array Creation Routines**\n",
        "\n",
        "Create a new array for each of the following example functions, with each array having a different shape. Print your results:\n",
        "\n",
        "\n",
        "*   `np.zeros(shape, [dtype = 'int' or 'float'])` - Creates a new array of given shape and type, filled with zeros.\n",
        "*  ` np.ones(shape, [dtype = 'int' or 'float'])` - Creates a new array of given shape and type, filled with ones.\n",
        "*   `np.empty(shape, [dtype = 'int' or 'float']) `- Creates a new array of given shape and type, filled with random numbers\n",
        "\n",
        "\n",
        "NOTE:\n",
        "* shape - [# of row's, # of column's]\n",
        "* dtype - **optional**. allows you to choose the variable type of either float OR integer. It is float by defalt.\n",
        "\n",
        "\n",
        "Here is a comprehensive list of array creations with syntax:\n",
        "\n",
        "[Array creation routines](https://numpy.org/doc/stable/reference/routines.array-creation.html)\n",
        "\n",
        "\n",
        "---"
      ],
      "metadata": {
        "id": "b20juygvzOWu"
      }
    },
    {
      "cell_type": "code",
      "source": [],
      "metadata": {
        "id": "rw4d1QswarP2"
      },
      "execution_count": null,
      "outputs": []
    },
    {
      "cell_type": "markdown",
      "source": [
        "\n",
        "---\n",
        "\n",
        "\n",
        "**Code Block 4: Numpy array manipulation routines**\n",
        "\n",
        "Create a new array for each of the following example functions. Use array1 and array2 for the examples. Print your results.\n",
        "\n",
        "*   `np.concatenate((array,array))` - Joins a sequence of arrays. **Needs double paranthesis**\n",
        "*  ` np.delete(array, index)` - Returns a new array with sub-arrays along an axis deleted.\n",
        "*   `np.append(array, #)` -  Inserts values/arrays to the end of an array.\n",
        "* `np.sort(array)` -Return a sorted copy of an array from lowest to highest.\n",
        "* `np.vstack((array,array))` - Stack arrays in sequence vertically (row wise). **Needs double paranthesis**\n",
        "* `np.copy(array)` - Creates an exact copy of an array\n",
        "\n",
        "\n",
        "\n",
        "Here are some more examples with syntax:\n",
        "\n",
        "[NumPy manipulation routines](https://numpy.org/doc/stable/reference/routines.array-manipulation.html)\n",
        "\n",
        "\n",
        "---\n",
        "\n"
      ],
      "metadata": {
        "id": "N01XVKAko2PG"
      }
    },
    {
      "cell_type": "code",
      "source": [
        "array1 = np.array([1, 2, 3, 4])\n",
        "array2 = np.array([5, 6, 7, 8])"
      ],
      "metadata": {
        "id": "ze84lZm4awRW"
      },
      "execution_count": null,
      "outputs": []
    },
    {
      "cell_type": "markdown",
      "source": [
        "\n",
        "\n",
        "---\n",
        "\n",
        "\n",
        "**Code Block 5: Updating values in Arrays**\n",
        "\n",
        "\n",
        "\n",
        "1.   Make a copy of array 3 and name it array_copy\n",
        "2.   In array_copy, Change the number 10 to be 15\n",
        "\n",
        "---\n",
        "\n"
      ],
      "metadata": {
        "id": "OsNMqFVXnYtI"
      }
    },
    {
      "cell_type": "code",
      "source": [
        "array3 = np.array(([1, 2, 3, 4],[5, 6, 7, 8],[9, 10, 11, 12]))\n"
      ],
      "metadata": {
        "id": "jNf8AwXNa22R"
      },
      "execution_count": 13,
      "outputs": []
    },
    {
      "cell_type": "markdown",
      "source": [
        "\n",
        "\n",
        "---\n",
        "\n",
        "\n",
        "**Code Block 6: Solving a system of linear equations**\n",
        "\n",
        "When solving for a linear equation, you are finding an x, y, and z value that is true for all of the given equations. This can be time consuming by hand, but just take a few minutes with NumPy.\n",
        "\n",
        "\n",
        "Use the function below to solve for the x, y, and z values for the 3 equations below.\n",
        "\n",
        "* `np.linalg.solve(array, array)`\n",
        "\n",
        "\n",
        "\n",
        "**Equations**\n",
        "\n",
        "\n",
        "$$x+y+z = 10$$\n",
        "$$6x+3y+8z = 55$$\n",
        "$$21x+16y+2z = 157$$\n",
        "\n",
        "HINT: Set up each of the equations (without the solution) as an array, then the solutions as a different array.\n",
        "\n",
        "---\n",
        "\n"
      ],
      "metadata": {
        "id": "K2FvYr0rpLpk"
      }
    },
    {
      "cell_type": "code",
      "source": [],
      "metadata": {
        "id": "KxUnQi1IbKuy"
      },
      "execution_count": null,
      "outputs": []
    },
    {
      "cell_type": "markdown",
      "source": [
        "---\n",
        "**Code Block 7: np.arange vs np.linspace**\n",
        "\n",
        "Create an array for each of the given functions below. Have both arrays have the same starting and stopping values.\n",
        "\n",
        "*  ` np.arange(starting #, stopping #, step) `- Creates an array with evenly spaced values within a given interval. **Does not have a specified length**\n",
        "\n",
        "*  ` np.linspace(starting #, stopping #, num = length of array)` - Creates an array of evenly spaced numbers over a specified interval. **Has a specified length**\n",
        "\n",
        "What differences do you see? **Write a comment desribing a difference.**\n",
        "\n",
        "---"
      ],
      "metadata": {
        "id": "pAUFPc-crbkV"
      }
    },
    {
      "cell_type": "code",
      "source": [],
      "metadata": {
        "id": "-wFTDow136dS"
      },
      "execution_count": null,
      "outputs": []
    },
    {
      "cell_type": "markdown",
      "source": [
        "---\n",
        "\n",
        "**Code Block 8: Plotting**\n",
        "\n",
        "Using the matplot and numpy libraries, graph the sine and cosine functions with a range from 0 to 5 circles (5 times 360). Find a step that works to see the graph clearly.\n",
        "\n",
        "Useful Functions\n",
        "- np.pi - pi function. Remember, pi = 180 degrees (half around a circle)\n",
        "- np.cos() - cosine function\n",
        "- np.sin() - sine function\n",
        "\n",
        "HINT - You will need the np.arange or np.linspace functions. You can choose to use either.\n",
        "\n",
        "---"
      ],
      "metadata": {
        "id": "aXVI-iuGoM9D"
      }
    },
    {
      "cell_type": "code",
      "source": [],
      "metadata": {
        "id": "UWmL6QbhoQBG"
      },
      "execution_count": null,
      "outputs": []
    },
    {
      "cell_type": "markdown",
      "source": [
        "###**More fun examples of other functions. ONLY UNCOVER WHEN YOUR DONE**"
      ],
      "metadata": {
        "id": "NsqhBk7JIcac"
      }
    },
    {
      "cell_type": "code",
      "source": [
        "import matplotlib.pyplot as plt #Imports matplot to graph\n",
        "x = np.linspace(0, np.pi, 100) #Creates a range that goes from 0 to 2pi with 100 numbers in the list\n",
        "tan = np.tan(x) #Creates the sin function with the range of x as defined above\n",
        "plt.plot(x, tan) #Plots our sin function\n",
        "plt.xlabel('x axis')\n",
        "plt.ylabel('y axis')\n",
        "plt.title('Tangent')\n",
        "plt.show()"
      ],
      "metadata": {
        "id": "JBvbLYjnIitb",
        "outputId": "427af9e8-4acd-4e0e-bc37-84f7be35c520",
        "colab": {
          "base_uri": "https://localhost:8080/",
          "height": 472
        }
      },
      "execution_count": null,
      "outputs": [
        {
          "output_type": "display_data",
          "data": {
            "text/plain": [
              "<Figure size 640x480 with 1 Axes>"
            ],
            "image/png": "[encoded data removed]"
          },
          "metadata": {}
        }
      ]
    }
  ]
}