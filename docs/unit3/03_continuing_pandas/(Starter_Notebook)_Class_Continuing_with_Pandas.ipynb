{
 "cells": [
  {
   "cell_type": "markdown",
   "metadata": {
    "id": "view-in-github",
    "colab_type": "text"
   },
   "source": "<a href=\"https://colab.research.google.com/github/byu-cce270/content/blob/main/docs/unit3/03_continuing_pandas/(Starter_Notebook)_Class_Continuing_with_Pandas.ipynb\" target=\"_parent\"><img src=\"https://colab.research.google.com/assets/colab-badge.svg\" alt=\"Open In Colab\"/></a>",
   "id": "5ad57c7b38cf60dd"
  },
  {
   "metadata": {
    "id": "60625855e4297021"
   },
   "cell_type": "markdown",
   "source": [
    "# Pandas, Part 2 In-Class assignment\n",
    "\n",
    "**Note on naming:**\n",
    "\n",
    "You don't have to do it, but it is common to use varilables with an _df for pandas data frames. For example:\n",
    "\n",
    "`date_df` for a data frame with dates.\n",
    "`accidents_df` for a data frame with accidents, etc."
   ],
   "id": "60625855e4297021"
  },
  {
   "metadata": {
    "id": "7e831b331d32a936"
   },
   "cell_type": "code",
   "outputs": [],
   "execution_count": null,
   "source": [
    "# Import Libraries\n",
    "import pandas as pd\n",
    "from datetime import date\n",
    "import numpy as np\n",
    "import matplotlib.pyplot as plt\n",
    "import seaborn as sns\n"
   ],
   "id": "7e831b331d32a936"
  },
  {
   "cell_type": "markdown",
   "source": [
    "## Part 1 - Working with datestime values"
   ],
   "metadata": {
    "id": "WRUcOwMFf1Bz"
   },
   "id": "WRUcOwMFf1Bz"
  },
  {
   "metadata": {
    "id": "fe2ac526c4595c"
   },
   "cell_type": "code",
   "outputs": [],
   "execution_count": null,
   "source": [
    "# create 10 years of  Pandas daily  data from using a data rannge\n",
    "dates = []\n",
    "date_rng = pd.date_range(start='1/1/2010', end='1/1/2020', freq='D')\n",
    "date_df = pd.DataFrame(date_rng, columns=['date'])\n",
    "date_df.head()\n"
   ],
   "id": "fe2ac526c4595c"
  },
  {
   "cell_type": "code",
   "source": [
    "# We don't need to do this here, but if your dates were strings, this is how you make them datetime objects\n",
    "date_df['date'] = pd.to_datetime(date_df['date'])\n",
    "\n",
    "# Make the date your index\n",
    "\n",
    "\n",
    "# what happens if you don't have the inplace=True statement?\n"
   ],
   "metadata": {
    "id": "y__uD-lueVii"
   },
   "id": "y__uD-lueVii",
   "execution_count": null,
   "outputs": []
  },
  {
   "cell_type": "markdown",
   "source": [
    "### Add some columns"
   ],
   "metadata": {
    "id": "YGPY4optgU-6"
   },
   "id": "YGPY4optgU-6"
  },
  {
   "metadata": {
    "id": "1ab0d8b5b81df3b7"
   },
   "cell_type": "code",
   "outputs": [],
   "execution_count": null,
   "source": [
    "# Now add a columns for the Year, the Month, and the Day the dataframe\n",
    "\n",
    "date_df['year'] = date_df.index.year\n",
    "date_df['month'] = date_df.index.month\n",
    "date_df['day'] = date_df.index.day\n",
    "date_df\n"
   ],
   "id": "1ab0d8b5b81df3b7"
  },
  {
   "cell_type": "code",
   "source": [
    "# Now add some other columns\n",
    "\n",
    "date_df['day_of_the_year'] = date_df.index.dayofyear\n",
    "date_df['day_of_the_week'] = date_df.index.day_name()\n",
    "date_df['month_name'] = date_df.index.month_name()\n",
    "date_df\n"
   ],
   "metadata": {
    "id": "DdT5ym5cfeTT"
   },
   "id": "DdT5ym5cfeTT",
   "execution_count": null,
   "outputs": []
  },
  {
   "cell_type": "code",
   "source": [
    "# this works a little bit differently\n",
    "date_df['week']=date_df.index.isocalendar().week\n",
    "date_df"
   ],
   "metadata": {
    "id": "mh5HllD-fnUm"
   },
   "id": "mh5HllD-fnUm",
   "execution_count": null,
   "outputs": []
  },
  {
   "cell_type": "markdown",
   "source": [
    "### Explore your data frame\n",
    "    Print the top 5 lines\n",
    "    Print the bottom 5 lines\n",
    "    Print how many rows are in the data frame\n",
    "    Print the name of the columns in the data frame\n",
    "    Use the .describe() method"
   ],
   "metadata": {
    "id": "sOoDp7F9076f"
   },
   "id": "sOoDp7F9076f"
  },
  {
   "cell_type": "code",
   "source": [],
   "metadata": {
    "id": "F_6mPHnM1LSX"
   },
   "id": "F_6mPHnM1LSX",
   "execution_count": null,
   "outputs": []
  },
  {
   "cell_type": "code",
   "source": [],
   "metadata": {
    "id": "42BQTnao2o5W"
   },
   "id": "42BQTnao2o5W",
   "execution_count": null,
   "outputs": []
  },
  {
   "cell_type": "code",
   "source": [],
   "metadata": {
    "id": "GgM7bzdp2qPQ"
   },
   "id": "GgM7bzdp2qPQ",
   "execution_count": null,
   "outputs": []
  },
  {
   "cell_type": "code",
   "source": [],
   "metadata": {
    "id": "RiIAxsgK21BK"
   },
   "id": "RiIAxsgK21BK",
   "execution_count": null,
   "outputs": []
  },
  {
   "cell_type": "code",
   "source": [],
   "metadata": {
    "id": "GDeQ86ok24Rb"
   },
   "id": "GDeQ86ok24Rb",
   "execution_count": null,
   "outputs": []
  },
  {
   "cell_type": "markdown",
   "source": [
    "### Add some data to plot\n",
    "\n",
    "We will use the numpy random number functions to generate data.\n",
    "\n",
    "We will use the numpy sin  function to make it vary over the year.\n"
   ],
   "metadata": {
    "id": "LzRbnBwh2IrG"
   },
   "id": "LzRbnBwh2IrG"
  },
  {
   "cell_type": "code",
   "source": [
    "# add a column of uniform random data from 0 to 5 that has an annual frequency\n",
    "date_df['uniform'] = np.random.uniform(0, 5, len(date_df))\n",
    "\n",
    "# use the day_of_the_year column to generate a column from 1 to 2-pi radians\n",
    "# for each year approximately - doesn't acknowlege leap year.\n",
    "date_df['radians'] = date_df['day_of_the_year'] * (2 * np.pi / 365)\n",
    "date_df['data1'] = (np.sin(date_df['radians'])+1)*10 +date_df['uniform']*2\n",
    "\n",
    "# create another data column\n",
    "#date_df['data2'] = date_df['data1'] + np.random.uniform(-1, 1, len(date_df))\n",
    "date_df['data2'] = (np.cos(date_df['radians'])+1)*10 +date_df['uniform']*2\n",
    "\n",
    "# drop the columns 'radians' and 'uniform' as we don't need them anymore\n",
    "# We could have done this without adding them as columns, but this is\n",
    "# easier to follow\n",
    "date_df.drop(['radians', 'uniform'], axis=1, inplace=True)\n",
    "\n",
    "date_df.head()"
   ],
   "metadata": {
    "id": "Mf_fK1Lb2Tw-"
   },
   "id": "Mf_fK1Lb2Tw-",
   "execution_count": null,
   "outputs": []
  },
  {
   "cell_type": "code",
   "source": [
    "# Make a line plot with both the data1 and data2 columns\n",
    "\n",
    "\n"
   ],
   "metadata": {
    "id": "Ll_7x7m_3S4K"
   },
   "id": "Ll_7x7m_3S4K",
   "execution_count": null,
   "outputs": []
  },
  {
   "cell_type": "code",
   "source": [
    "# Now use the builtin pandas plot routine to plot all the numerical data\n",
    "# in the dataframe\n",
    "\n"
   ],
   "metadata": {
    "id": "Tnu6wDnl3mMp"
   },
   "id": "Tnu6wDnl3mMp",
   "execution_count": null,
   "outputs": []
  },
  {
   "cell_type": "code",
   "source": [
    "\n",
    "# drop the  year column from the plot because of the scale it was hard\n",
    "# to see in the data in the other columns\n",
    "date_df.drop('year', axis=1).plot()\n",
    "plt.show()\n",
    "\n",
    "# since we didn't use 'inplace=True' it only drops the column during the plot"
   ],
   "metadata": {
    "id": "tHHlbPI7DsNG"
   },
   "id": "tHHlbPI7DsNG",
   "execution_count": null,
   "outputs": []
  },
  {
   "cell_type": "markdown",
   "source": [
    "### Plot Range\n",
    "\n",
    "Create plots using only the data from 2014 through 2017.\n",
    "\n",
    "Use both matplotlib and the builtin pandas .plot() method."
   ],
   "metadata": {
    "id": "5m5NB88c7v4u"
   },
   "id": "5m5NB88c7v4u"
  },
  {
   "cell_type": "code",
   "source": [
    "# Enter your code hear to plot only 2014 through 2017\n",
    "# Use matplotlib\n",
    "\n",
    "\n"
   ],
   "metadata": {
    "id": "1n4fpo0F72df"
   },
   "id": "1n4fpo0F72df",
   "execution_count": null,
   "outputs": []
  },
  {
   "cell_type": "code",
   "source": [
    "# use the dataframe .plot() method\n",
    "\n"
   ],
   "metadata": {
    "id": "B0ULLpaR5aNH"
   },
   "id": "B0ULLpaR5aNH",
   "execution_count": null,
   "outputs": []
  },
  {
   "cell_type": "markdown",
   "source": [
    "### Grouping\n",
    "\n",
    "We can now look at means, medians, counts, std dev, etc for different time groups."
   ],
   "metadata": {
    "id": "2uv9jqo8Asz3"
   },
   "id": "2uv9jqo8Asz3"
  },
  {
   "cell_type": "markdown",
   "source": [],
   "metadata": {
    "id": "9PNN-b5g56zM"
   },
   "id": "9PNN-b5g56zM"
  },
  {
   "cell_type": "code",
   "source": [
    "# Use the .groupby method to find the avereage of the 'data1' column in each month, include the month number and month_name in result\n",
    "\n"
   ],
   "metadata": {
    "id": "78x0P7GvA3NN"
   },
   "id": "78x0P7GvA3NN",
   "execution_count": null,
   "outputs": []
  },
  {
   "cell_type": "code",
   "source": [
    "# Plot the monthly averages using a horizontal bar chart\n",
    "\n"
   ],
   "metadata": {
    "id": "QdSQ_ajD53rn"
   },
   "id": "QdSQ_ajD53rn",
   "execution_count": null,
   "outputs": []
  },
  {
   "cell_type": "code",
   "source": [
    "# Notice that the months are in an odd order. Now do aggregate by both month (number)\n",
    "# and month name so we can plot in right order\n",
    "\n"
   ],
   "metadata": {
    "id": "UW0f-HVS6GCz"
   },
   "id": "UW0f-HVS6GCz",
   "execution_count": null,
   "outputs": []
  },
  {
   "cell_type": "code",
   "source": [
    "# Create a bar chart using the pandas .plot() method.\n",
    "\n"
   ],
   "metadata": {
    "id": "u3iGqB-e9I20"
   },
   "id": "u3iGqB-e9I20",
   "execution_count": null,
   "outputs": []
  },
  {
   "cell_type": "code",
   "source": [
    "# Note that we have odd labels now. This is because groupby returns a series. Since we aggregated on two keys,\n",
    "# the results is a \"multindex\". Now we have the order we want, we can drop the month number using the\n",
    "# .droplevel() method.\n",
    "\n",
    "monthly_avg2 = monthly_avg2.droplevel(0)\n",
    "monthly_avg2"
   ],
   "metadata": {
    "id": "k6E4epSQQUXK"
   },
   "id": "k6E4epSQQUXK",
   "execution_count": null,
   "outputs": []
  },
  {
   "cell_type": "code",
   "source": [
    "# Now plot again, but invert the y axis using plt.gca().invert_yaxis(). Otherwise December will be on top.\n",
    "\n",
    "\n"
   ],
   "metadata": {
    "id": "mXem9sJkQN-8"
   },
   "id": "mXem9sJkQN-8",
   "execution_count": null,
   "outputs": []
  },
  {
   "cell_type": "code",
   "source": [
    "# do the same thing for the weeks of the year for both data1 and data2\n",
    "# find the median values and plot using line plots, both on the same plot.\n",
    "\n",
    "\n",
    "\n"
   ],
   "metadata": {
    "id": "6KcQYPxoB3Dw"
   },
   "id": "6KcQYPxoB3Dw",
   "execution_count": null,
   "outputs": []
  },
  {
   "cell_type": "code",
   "source": [
    "# For each year, count the number of data in the year\n",
    "# do the same for each month\n",
    "# why are they not all the same?\n",
    "\n"
   ],
   "metadata": {
    "id": "S9pK5uTSEXq4"
   },
   "id": "S9pK5uTSEXq4",
   "execution_count": null,
   "outputs": []
  },
  {
   "cell_type": "markdown",
   "source": [
    "### Now look at days\n",
    "\n",
    "Make a plot showing the median and average values by day-of-the week (i.e., Monday, Tuesday, Wednesday, etc.)"
   ],
   "metadata": {
    "id": "e3Na4cCG8Ywt"
   },
   "id": "e3Na4cCG8Ywt"
  },
  {
   "cell_type": "code",
   "source": [
    "# Now write code to look at days-of-the-week data. Plot both on a line plot.\n",
    "\n",
    "\n"
   ],
   "metadata": {
    "id": "15s0JEoEAZzi"
   },
   "id": "15s0JEoEAZzi",
   "execution_count": null,
   "outputs": []
  },
  {
   "cell_type": "markdown",
   "source": [
    "## Part 2 - Accident Data\n",
    "\n",
    "Now we will start to look at the accident data in the Excel\n",
    "Spreadsheet"
   ],
   "metadata": {
    "id": "r4Iw8e_WC0_Q"
   },
   "id": "r4Iw8e_WC0_Q"
  },
  {
   "cell_type": "code",
   "source": [
    "# read the data into a pandas data frame called accidents_df\n",
    "\n",
    "\n",
    "\n"
   ],
   "metadata": {
    "id": "c2KMIXvDC67i"
   },
   "id": "c2KMIXvDC67i",
   "execution_count": null,
   "outputs": []
  },
  {
   "cell_type": "code",
   "source": [
    "# Change the data type of the Date column to datetime and make it the index\n",
    "\n"
   ],
   "metadata": {
    "id": "_eJFqQNbU7aM"
   },
   "id": "_eJFqQNbU7aM",
   "execution_count": null,
   "outputs": []
  },
  {
   "cell_type": "markdown",
   "source": [
    "### Explore the data\n",
    "\n",
    "How many unique values are there for:\n",
    "- Location\n",
    "- Age Group\n",
    "- Plant\n",
    "- Report Type\n",
    "- Shift\n",
    "- Department\n",
    "\n",
    "\n",
    "Pick any three and print the information"
   ],
   "metadata": {
    "id": "jyeva_dP8_ba"
   },
   "id": "jyeva_dP8_ba"
  },
  {
   "cell_type": "code",
   "source": [
    "# HINT: Use the .nununique() method and pass a column name\n",
    "\n",
    "\n"
   ],
   "metadata": {
    "id": "tuHfinlP9Yn5"
   },
   "id": "tuHfinlP9Yn5",
   "execution_count": null,
   "outputs": []
  },
  {
   "cell_type": "code",
   "source": [
    "# Call the nununique() method without any arguments\n",
    "\n"
   ],
   "metadata": {
    "id": "GAYWQ0oMV3Yy"
   },
   "id": "GAYWQ0oMV3Yy",
   "execution_count": null,
   "outputs": []
  },
  {
   "cell_type": "markdown",
   "source": [
    "### Answer the following questions\n",
    "\n",
    "* Which Gender has the most accidents?\n",
    " * how many?\n",
    "* Which plant has the most accidents?\n",
    " * how many?\n",
    "\n",
    "Make bar charts (3 different ones) that show:\n",
    "\n",
    "   * accident count per age group\n",
    "   * accident count per plant\n",
    "   * accident count per shift\n"
   ],
   "metadata": {
    "id": "YbDGHAQ6Ftzi"
   },
   "id": "YbDGHAQ6Ftzi"
  },
  {
   "cell_type": "code",
   "source": [
    "\n"
   ],
   "metadata": {
    "id": "T5ttjJ_vWPUW"
   },
   "id": "T5ttjJ_vWPUW",
   "execution_count": null,
   "outputs": []
  },
  {
   "cell_type": "code",
   "source": [
    "\n"
   ],
   "metadata": {
    "id": "2FhVS_AJWio6"
   },
   "id": "2FhVS_AJWio6",
   "execution_count": null,
   "outputs": []
  },
  {
   "cell_type": "code",
   "source": [
    "\n",
    "\n",
    "\n"
   ],
   "metadata": {
    "id": "BoRToo6iWhYh"
   },
   "id": "BoRToo6iWhYh",
   "execution_count": null,
   "outputs": []
  },
  {
   "cell_type": "code",
   "source": [],
   "metadata": {
    "id": "E5MPnH9qWoiw"
   },
   "id": "E5MPnH9qWoiw",
   "execution_count": null,
   "outputs": []
  },
  {
   "cell_type": "code",
   "source": [],
   "metadata": {
    "id": "JBqfMDKkWxXZ"
   },
   "id": "JBqfMDKkWxXZ",
   "execution_count": null,
   "outputs": []
  },
  {
   "cell_type": "code",
   "source": [],
   "metadata": {
    "id": "uDGiUxhoW0bQ"
   },
   "id": "uDGiUxhoW0bQ",
   "execution_count": null,
   "outputs": []
  },
  {
   "cell_type": "markdown",
   "source": [
    "### Now some more involved analysis and graphs:\n",
    "\n",
    "* Print a table of the days lost for each plant\n",
    " * total for each plant with\n",
    "    * sub-catatories of Gender\n",
    " * Make a bar chart\n",
    "\n",
    "* Make a pie chart of the number of different types of accidents\n",
    "* Make a pie chart of the accidents per age group\n",
    "* Make a bar chart of the cost of the different types of accidents"
   ],
   "metadata": {
    "id": "wIAId4qvG7aT"
   },
   "id": "wIAId4qvG7aT"
  },
  {
   "cell_type": "code",
   "source": [],
   "metadata": {
    "id": "Ssokt9YaXBnI"
   },
   "id": "Ssokt9YaXBnI",
   "execution_count": null,
   "outputs": []
  },
  {
   "cell_type": "code",
   "source": [
    "# Now use the .unstack method to clean up the result\n",
    "\n"
   ],
   "metadata": {
    "id": "09IarVAOXW0k"
   },
   "id": "09IarVAOXW0k",
   "execution_count": null,
   "outputs": []
  },
  {
   "cell_type": "code",
   "source": [
    "# see if you can make bar-charts with either side-by-side bars for the genders\n",
    "# or stacked bars for the genders. Each plant either has two bars\n",
    "# (male, female) or a single bar with two segments\n",
    "\n"
   ],
   "metadata": {
    "id": "YbujLcSwXrjC"
   },
   "id": "YbujLcSwXrjC",
   "execution_count": null,
   "outputs": []
  },
  {
   "cell_type": "code",
   "source": [
    "# Make a pie chart of the number of different types of incidents\n",
    "\n"
   ],
   "metadata": {
    "id": "RZFYJ3BiX29Y"
   },
   "id": "RZFYJ3BiX29Y",
   "execution_count": null,
   "outputs": []
  },
  {
   "cell_type": "code",
   "source": [
    "# Find and plot the costs of accidents by incident type\n",
    "\n"
   ],
   "metadata": {
    "id": "w1XqgHZYHeQn"
   },
   "id": "w1XqgHZYHeQn",
   "execution_count": null,
   "outputs": []
  },
  {
   "cell_type": "markdown",
   "source": [
    "### Analyze by days of the week\n",
    "\n",
    "Make a bar chart showing\n",
    "* which day of the week has the most accidents\n",
    "* accident costs for each day of the week\n",
    "\n",
    "Do the same for the months."
   ],
   "metadata": {
    "id": "sEYXi4cNL6nb"
   },
   "id": "sEYXi4cNL6nb"
  },
  {
   "cell_type": "code",
   "source": [],
   "metadata": {
    "id": "X2Nvk15Xe1sm"
   },
   "id": "X2Nvk15Xe1sm",
   "execution_count": null,
   "outputs": []
  },
  {
   "cell_type": "code",
   "source": [],
   "metadata": {
    "id": "vFpVLZOkfAZu"
   },
   "id": "vFpVLZOkfAZu",
   "execution_count": null,
   "outputs": []
  },
  {
   "cell_type": "code",
   "source": [],
   "metadata": {
    "id": "jjVevhM-eUkK"
   },
   "id": "jjVevhM-eUkK",
   "execution_count": null,
   "outputs": []
  },
  {
   "cell_type": "code",
   "source": [],
   "metadata": {
    "id": "VZX67xEzfZEk"
   },
   "id": "VZX67xEzfZEk",
   "execution_count": null,
   "outputs": []
  },
  {
   "cell_type": "code",
   "source": [],
   "metadata": {
    "id": "3tFMgGKnfe3U"
   },
   "id": "3tFMgGKnfe3U",
   "execution_count": null,
   "outputs": []
  },
  {
   "cell_type": "code",
   "source": [],
   "metadata": {
    "id": "15NOOp9yfjoZ"
   },
   "id": "15NOOp9yfjoZ",
   "execution_count": null,
   "outputs": []
  },
  {
   "cell_type": "markdown",
   "source": [
    "## Do some analysis on your own\n",
    "\n",
    "Look at the table and see what questions you could answer\n",
    "\n",
    "* Make some graphs.\n",
    "\n",
    "* See if you can do more than one level of sub-catagory"
   ],
   "metadata": {
    "id": "VfOqRdR2H3m4"
   },
   "id": "VfOqRdR2H3m4"
  },
  {
   "cell_type": "code",
   "source": [
    "# Enter your code here\n",
    "# Accidents by day-of-the-week\n",
    "\n",
    "\n",
    "# Accidents by month"
   ],
   "metadata": {
    "id": "7iF6BE62H-WH"
   },
   "id": "7iF6BE62H-WH",
   "execution_count": null,
   "outputs": []
  },
  {
   "cell_type": "code",
   "source": [
    "# Your analysis\n",
    "# do some multi-level groups"
   ],
   "metadata": {
    "id": "34blMAow-KWF"
   },
   "id": "34blMAow-KWF",
   "execution_count": null,
   "outputs": []
  }
 ],
 "metadata": {
  "kernelspec": {
   "display_name": "Python 3",
   "language": "python",
   "name": "python3"
  },
  "language_info": {
   "codemirror_mode": {
    "name": "ipython",
    "version": 2
   },
   "file_extension": ".py",
   "mimetype": "text/x-python",
   "name": "python",
   "nbconvert_exporter": "python",
   "pygments_lexer": "ipython2",
   "version": "2.7.6"
  },
  "colab": {
   "provenance": [],
   "include_colab_link": true
  }
 },
 "nbformat": 4,
 "nbformat_minor": 5
}
