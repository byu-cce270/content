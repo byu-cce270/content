{
  "cells": [
    {
      "cell_type": "markdown",
      "metadata": {
        "id": "view-in-github",
        "colab_type": "text"
      },
      "source": [
        "<a href=\"https://colab.research.google.com/github/byu-cce270/content/blob/main/docs/unit3/03_continuing_pandas/(Starter_Notebook)_Class_Continuing_with_Pandas.ipynb\" target=\"_parent\"><img src=\"https://colab.research.google.com/assets/colab-badge.svg\" alt=\"Open In Colab\"/></a>"
      ]
    },
    {
      "metadata": {
        "id": "60625855e4297021"
      },
      "cell_type": "markdown",
      "source": [
        "# Pandas, Part 2 In-Class assignment\n",
        "\n",
        "**Note on naming:**\n",
        "\n",
        "You don't have to do it, but it is common to use varilables with an _df for pandas data frames. For example:\n",
        "\n",
        "`date_df` for a data frame with dates.\n",
        "`accidents_df` for a data frame with accidents, etc."
      ],
      "id": "60625855e4297021"
    },
    {
      "metadata": {
        "id": "7e831b331d32a936"
      },
      "cell_type": "code",
      "outputs": [],
      "execution_count": 1,
      "source": [
        "# Import Libraries\n",
        "import pandas as pd\n",
        "from datetime import date\n",
        "import numpy as np\n",
        "import matplotlib.pyplot as plt\n",
        "import seaborn as sns\n"
      ],
      "id": "7e831b331d32a936"
    },
    {
      "cell_type": "markdown",
      "source": [
        "## Part 1 - Working with datestime values"
      ],
      "metadata": {
        "id": "WRUcOwMFf1Bz"
      },
      "id": "WRUcOwMFf1Bz"
    },
    {
      "metadata": {
        "id": "fe2ac526c4595c",
        "outputId": "72cce4b5-15d6-4e72-af92-25abd1b7d858",
        "colab": {
          "base_uri": "https://localhost:8080/",
          "height": 206
        }
      },
      "cell_type": "code",
      "outputs": [
        {
          "output_type": "execute_result",
          "data": {
            "text/plain": [
              "        date\n",
              "0 2010-01-01\n",
              "1 2010-01-02\n",
              "2 2010-01-03\n",
              "3 2010-01-04\n",
              "4 2010-01-05"
            ],
            "text/html": [
              "\n",
              "  <div id=\"df-49a502b7-4897-4e61-897c-25c549bf6e7e\" class=\"colab-df-container\">\n",
              "    <div>\n",
              "<style scoped>\n",
              "    .dataframe tbody tr th:only-of-type {\n",
              "        vertical-align: middle;\n",
              "    }\n",
              "\n",
              "    .dataframe tbody tr th {\n",
              "        vertical-align: top;\n",
              "    }\n",
              "\n",
              "    .dataframe thead th {\n",
              "        text-align: right;\n",
              "    }\n",
              "</style>\n",
              "<table border=\"1\" class=\"dataframe\">\n",
              "  <thead>\n",
              "    <tr style=\"text-align: right;\">\n",
              "      <th></th>\n",
              "      <th>date</th>\n",
              "    </tr>\n",
              "  </thead>\n",
              "  <tbody>\n",
              "    <tr>\n",
              "      <th>0</th>\n",
              "      <td>2010-01-01</td>\n",
              "    </tr>\n",
              "    <tr>\n",
              "      <th>1</th>\n",
              "      <td>2010-01-02</td>\n",
              "    </tr>\n",
              "    <tr>\n",
              "      <th>2</th>\n",
              "      <td>2010-01-03</td>\n",
              "    </tr>\n",
              "    <tr>\n",
              "      <th>3</th>\n",
              "      <td>2010-01-04</td>\n",
              "    </tr>\n",
              "    <tr>\n",
              "      <th>4</th>\n",
              "      <td>2010-01-05</td>\n",
              "    </tr>\n",
              "  </tbody>\n",
              "</table>\n",
              "</div>\n",
              "    <div class=\"colab-df-buttons\">\n",
              "\n",
              "  <div class=\"colab-df-container\">\n",
              "    <button class=\"colab-df-convert\" onclick=\"convertToInteractive('df-49a502b7-4897-4e61-897c-25c549bf6e7e')\"\n",
              "            title=\"Convert this dataframe to an interactive table.\"\n",
              "            style=\"display:none;\">\n",
              "\n",
              "  <svg xmlns=\"http://www.w3.org/2000/svg\" height=\"24px\" viewBox=\"0 -960 960 960\">\n",
              "    <path d=\"M120-120v-720h720v720H120Zm60-500h600v-160H180v160Zm220 220h160v-160H400v160Zm0 220h160v-160H400v160ZM180-400h160v-160H180v160Zm440 0h160v-160H620v160ZM180-180h160v-160H180v160Zm440 0h160v-160H620v160Z\"/>\n",
              "  </svg>\n",
              "    </button>\n",
              "\n",
              "  <style>\n",
              "    .colab-df-container {\n",
              "      display:flex;\n",
              "      gap: 12px;\n",
              "    }\n",
              "\n",
              "    .colab-df-convert {\n",
              "      background-color: #E8F0FE;\n",
              "      border: none;\n",
              "      border-radius: 50%;\n",
              "      cursor: pointer;\n",
              "      display: none;\n",
              "      fill: #1967D2;\n",
              "      height: 32px;\n",
              "      padding: 0 0 0 0;\n",
              "      width: 32px;\n",
              "    }\n",
              "\n",
              "    .colab-df-convert:hover {\n",
              "      background-color: #E2EBFA;\n",
              "      box-shadow: 0px 1px 2px rgba(60, 64, 67, 0.3), 0px 1px 3px 1px rgba(60, 64, 67, 0.15);\n",
              "      fill: #174EA6;\n",
              "    }\n",
              "\n",
              "    .colab-df-buttons div {\n",
              "      margin-bottom: 4px;\n",
              "    }\n",
              "\n",
              "    [theme=dark] .colab-df-convert {\n",
              "      background-color: #3B4455;\n",
              "      fill: #D2E3FC;\n",
              "    }\n",
              "\n",
              "    [theme=dark] .colab-df-convert:hover {\n",
              "      background-color: #434B5C;\n",
              "      box-shadow: 0px 1px 3px 1px rgba(0, 0, 0, 0.15);\n",
              "      filter: drop-shadow(0px 1px 2px rgba(0, 0, 0, 0.3));\n",
              "      fill: #FFFFFF;\n",
              "    }\n",
              "  </style>\n",
              "\n",
              "    <script>\n",
              "      const buttonEl =\n",
              "        document.querySelector('#df-49a502b7-4897-4e61-897c-25c549bf6e7e button.colab-df-convert');\n",
              "      buttonEl.style.display =\n",
              "        google.colab.kernel.accessAllowed ? 'block' : 'none';\n",
              "\n",
              "      async function convertToInteractive(key) {\n",
              "        const element = document.querySelector('#df-49a502b7-4897-4e61-897c-25c549bf6e7e');\n",
              "        const dataTable =\n",
              "          await google.colab.kernel.invokeFunction('convertToInteractive',\n",
              "                                                    [key], {});\n",
              "        if (!dataTable) return;\n",
              "\n",
              "        const docLinkHtml = 'Like what you see? Visit the ' +\n",
              "          '<a target=\"_blank\" href=https://colab.research.google.com/notebooks/data_table.ipynb>data table notebook</a>'\n",
              "          + ' to learn more about interactive tables.';\n",
              "        element.innerHTML = '';\n",
              "        dataTable['output_type'] = 'display_data';\n",
              "        await google.colab.output.renderOutput(dataTable, element);\n",
              "        const docLink = document.createElement('div');\n",
              "        docLink.innerHTML = docLinkHtml;\n",
              "        element.appendChild(docLink);\n",
              "      }\n",
              "    </script>\n",
              "  </div>\n",
              "\n",
              "\n",
              "    <div id=\"df-d84dc5b6-ea7e-43c3-aeda-60045ee1fc39\">\n",
              "      <button class=\"colab-df-quickchart\" onclick=\"quickchart('df-d84dc5b6-ea7e-43c3-aeda-60045ee1fc39')\"\n",
              "                title=\"Suggest charts\"\n",
              "                style=\"display:none;\">\n",
              "\n",
              "<svg xmlns=\"http://www.w3.org/2000/svg\" height=\"24px\"viewBox=\"0 0 24 24\"\n",
              "     width=\"24px\">\n",
              "    <g>\n",
              "        <path d=\"M19 3H5c-1.1 0-2 .9-2 2v14c0 1.1.9 2 2 2h14c1.1 0 2-.9 2-2V5c0-1.1-.9-2-2-2zM9 17H7v-7h2v7zm4 0h-2V7h2v10zm4 0h-2v-4h2v4z\"/>\n",
              "    </g>\n",
              "</svg>\n",
              "      </button>\n",
              "\n",
              "<style>\n",
              "  .colab-df-quickchart {\n",
              "      --bg-color: #E8F0FE;\n",
              "      --fill-color: #1967D2;\n",
              "      --hover-bg-color: #E2EBFA;\n",
              "      --hover-fill-color: #174EA6;\n",
              "      --disabled-fill-color: #AAA;\n",
              "      --disabled-bg-color: #DDD;\n",
              "  }\n",
              "\n",
              "  [theme=dark] .colab-df-quickchart {\n",
              "      --bg-color: #3B4455;\n",
              "      --fill-color: #D2E3FC;\n",
              "      --hover-bg-color: #434B5C;\n",
              "      --hover-fill-color: #FFFFFF;\n",
              "      --disabled-bg-color: #3B4455;\n",
              "      --disabled-fill-color: #666;\n",
              "  }\n",
              "\n",
              "  .colab-df-quickchart {\n",
              "    background-color: var(--bg-color);\n",
              "    border: none;\n",
              "    border-radius: 50%;\n",
              "    cursor: pointer;\n",
              "    display: none;\n",
              "    fill: var(--fill-color);\n",
              "    height: 32px;\n",
              "    padding: 0;\n",
              "    width: 32px;\n",
              "  }\n",
              "\n",
              "  .colab-df-quickchart:hover {\n",
              "    background-color: var(--hover-bg-color);\n",
              "    box-shadow: 0 1px 2px rgba(60, 64, 67, 0.3), 0 1px 3px 1px rgba(60, 64, 67, 0.15);\n",
              "    fill: var(--button-hover-fill-color);\n",
              "  }\n",
              "\n",
              "  .colab-df-quickchart-complete:disabled,\n",
              "  .colab-df-quickchart-complete:disabled:hover {\n",
              "    background-color: var(--disabled-bg-color);\n",
              "    fill: var(--disabled-fill-color);\n",
              "    box-shadow: none;\n",
              "  }\n",
              "\n",
              "  .colab-df-spinner {\n",
              "    border: 2px solid var(--fill-color);\n",
              "    border-color: transparent;\n",
              "    border-bottom-color: var(--fill-color);\n",
              "    animation:\n",
              "      spin 1s steps(1) infinite;\n",
              "  }\n",
              "\n",
              "  @keyframes spin {\n",
              "    0% {\n",
              "      border-color: transparent;\n",
              "      border-bottom-color: var(--fill-color);\n",
              "      border-left-color: var(--fill-color);\n",
              "    }\n",
              "    20% {\n",
              "      border-color: transparent;\n",
              "      border-left-color: var(--fill-color);\n",
              "      border-top-color: var(--fill-color);\n",
              "    }\n",
              "    30% {\n",
              "      border-color: transparent;\n",
              "      border-left-color: var(--fill-color);\n",
              "      border-top-color: var(--fill-color);\n",
              "      border-right-color: var(--fill-color);\n",
              "    }\n",
              "    40% {\n",
              "      border-color: transparent;\n",
              "      border-right-color: var(--fill-color);\n",
              "      border-top-color: var(--fill-color);\n",
              "    }\n",
              "    60% {\n",
              "      border-color: transparent;\n",
              "      border-right-color: var(--fill-color);\n",
              "    }\n",
              "    80% {\n",
              "      border-color: transparent;\n",
              "      border-right-color: var(--fill-color);\n",
              "      border-bottom-color: var(--fill-color);\n",
              "    }\n",
              "    90% {\n",
              "      border-color: transparent;\n",
              "      border-bottom-color: var(--fill-color);\n",
              "    }\n",
              "  }\n",
              "</style>\n",
              "\n",
              "      <script>\n",
              "        async function quickchart(key) {\n",
              "          const quickchartButtonEl =\n",
              "            document.querySelector('#' + key + ' button');\n",
              "          quickchartButtonEl.disabled = true;  // To prevent multiple clicks.\n",
              "          quickchartButtonEl.classList.add('colab-df-spinner');\n",
              "          try {\n",
              "            const charts = await google.colab.kernel.invokeFunction(\n",
              "                'suggestCharts', [key], {});\n",
              "          } catch (error) {\n",
              "            console.error('Error during call to suggestCharts:', error);\n",
              "          }\n",
              "          quickchartButtonEl.classList.remove('colab-df-spinner');\n",
              "          quickchartButtonEl.classList.add('colab-df-quickchart-complete');\n",
              "        }\n",
              "        (() => {\n",
              "          let quickchartButtonEl =\n",
              "            document.querySelector('#df-d84dc5b6-ea7e-43c3-aeda-60045ee1fc39 button');\n",
              "          quickchartButtonEl.style.display =\n",
              "            google.colab.kernel.accessAllowed ? 'block' : 'none';\n",
              "        })();\n",
              "      </script>\n",
              "    </div>\n",
              "\n",
              "    </div>\n",
              "  </div>\n"
            ],
            "application/vnd.google.colaboratory.intrinsic+json": {
              "type": "dataframe",
              "variable_name": "date_df",
              "summary": "{\n  \"name\": \"date_df\",\n  \"rows\": 3653,\n  \"fields\": [\n    {\n      \"column\": \"date\",\n      \"properties\": {\n        \"dtype\": \"date\",\n        \"min\": \"2010-01-01 00:00:00\",\n        \"max\": \"2020-01-01 00:00:00\",\n        \"num_unique_values\": 3653,\n        \"samples\": [\n          \"2013-08-06 00:00:00\",\n          \"2014-08-02 00:00:00\",\n          \"2010-08-18 00:00:00\"\n        ],\n        \"semantic_type\": \"\",\n        \"description\": \"\"\n      }\n    }\n  ]\n}"
            }
          },
          "metadata": {},
          "execution_count": 2
        }
      ],
      "execution_count": 2,
      "source": [
        "# create 10 years of  Pandas daily  data from using a data rannge\n",
        "dates = []\n",
        "date_rng = pd.date_range(start='1/1/2010', end='1/1/2020', freq='D')\n",
        "date_df = pd.DataFrame(date_rng, columns=['date'])\n",
        "date_df.head()\n"
      ],
      "id": "fe2ac526c4595c"
    },
    {
      "cell_type": "code",
      "source": [
        "# We don't need to do this here, but if your dates were strings, this is how you make them datetime objects\n",
        "date_df['date'] = pd.to_datetime(date_df['date'])\n",
        "\n",
        "# Make the date your index\n",
        "\n",
        "\n",
        "# what happens if you don't have the inplace=True statement?\n"
      ],
      "metadata": {
        "id": "y__uD-lueVii"
      },
      "id": "y__uD-lueVii",
      "execution_count": 3,
      "outputs": []
    },
    {
      "cell_type": "markdown",
      "source": [
        "### Add some columns"
      ],
      "metadata": {
        "id": "YGPY4optgU-6"
      },
      "id": "YGPY4optgU-6"
    },
    {
      "metadata": {
        "id": "1ab0d8b5b81df3b7"
      },
      "cell_type": "code",
      "outputs": [],
      "execution_count": null,
      "source": [
        "# Now add a columns for the Year, the Month, and the Day the dataframe\n",
        "\n",
        "date_df['year'] = date_df.index.year\n",
        "date_df['month'] = date_df.index.month\n",
        "date_df['day'] = date_df.index.day\n",
        "date_df\n"
      ],
      "id": "1ab0d8b5b81df3b7"
    },
    {
      "cell_type": "code",
      "source": [
        "# Now add some other columns\n",
        "\n",
        "date_df['day_of_the_year'] = date_df.index.dayofyear\n",
        "date_df['day_of_the_week'] = date_df.index.day_name()\n",
        "date_df['month_name'] = date_df.index.month_name()\n",
        "date_df\n"
      ],
      "metadata": {
        "id": "DdT5ym5cfeTT"
      },
      "id": "DdT5ym5cfeTT",
      "execution_count": null,
      "outputs": []
    },
    {
      "cell_type": "code",
      "source": [
        "# this works a little bit differently\n",
        "date_df['week']=date_df.index.isocalendar().week\n",
        "date_df"
      ],
      "metadata": {
        "id": "mh5HllD-fnUm"
      },
      "id": "mh5HllD-fnUm",
      "execution_count": null,
      "outputs": []
    },
    {
      "cell_type": "markdown",
      "source": [
        "### Explore your data frame\n",
        "    Print the top 5 lines\n",
        "    Print the bottom 5 lines\n",
        "    Print how many rows are in the data frame\n",
        "    Print the name of the columns in the data frame\n",
        "    Use the .describe() method"
      ],
      "metadata": {
        "id": "sOoDp7F9076f"
      },
      "id": "sOoDp7F9076f"
    },
    {
      "cell_type": "code",
      "source": [],
      "metadata": {
        "id": "F_6mPHnM1LSX"
      },
      "id": "F_6mPHnM1LSX",
      "execution_count": null,
      "outputs": []
    },
    {
      "cell_type": "code",
      "source": [],
      "metadata": {
        "id": "42BQTnao2o5W"
      },
      "id": "42BQTnao2o5W",
      "execution_count": null,
      "outputs": []
    },
    {
      "cell_type": "code",
      "source": [],
      "metadata": {
        "id": "GgM7bzdp2qPQ"
      },
      "id": "GgM7bzdp2qPQ",
      "execution_count": null,
      "outputs": []
    },
    {
      "cell_type": "code",
      "source": [],
      "metadata": {
        "id": "RiIAxsgK21BK"
      },
      "id": "RiIAxsgK21BK",
      "execution_count": null,
      "outputs": []
    },
    {
      "cell_type": "code",
      "source": [],
      "metadata": {
        "id": "GDeQ86ok24Rb"
      },
      "id": "GDeQ86ok24Rb",
      "execution_count": null,
      "outputs": []
    },
    {
      "cell_type": "markdown",
      "source": [
        "### Add some data to plot\n",
        "\n",
        "We will use the numpy random number functions to generate data.\n",
        "\n",
        "We will use the numpy sin  function to make it vary over the year.\n",
        "\n",
        "Create plots using only the data from 2014 through 2017.\n",
        "\n",
        "Use both matplotlib and the builtin pandas .plot() method.\n"
      ],
      "metadata": {
        "id": "LzRbnBwh2IrG"
      },
      "id": "LzRbnBwh2IrG"
    },
    {
      "cell_type": "code",
      "source": [
        "# add a column of uniform random data from 0 to 5 that has an annual frequency\n",
        "date_df['uniform'] = np.random.uniform(0, 5, len(date_df))\n",
        "\n",
        "# use the day_of_the_year column to generate a column from 1 to 2-pi radians\n",
        "# for each year approximately - doesn't acknowlege leap year.\n",
        "date_df['radians'] = date_df['day_of_the_year'] * (2 * np.pi / 365)\n",
        "date_df['data1'] = (np.sin(date_df['radians'])+1)*10 +date_df['uniform']*2\n",
        "\n",
        "# create another data column\n",
        "#date_df['data2'] = date_df['data1'] + np.random.uniform(-1, 1, len(date_df))\n",
        "date_df['data2'] = (np.cos(date_df['radians'])+1)*10 +date_df['uniform']*2\n",
        "\n",
        "# drop the columns 'radians' and 'uniform' as we don't need them anymore\n",
        "# We could have done this without adding them as columns, but this is\n",
        "# easier to follow\n",
        "date_df.drop(['radians', 'uniform'], axis=1, inplace=True)\n",
        "\n",
        "date_df.head()"
      ],
      "metadata": {
        "id": "Mf_fK1Lb2Tw-"
      },
      "id": "Mf_fK1Lb2Tw-",
      "execution_count": null,
      "outputs": []
    },
    {
      "cell_type": "code",
      "source": [
        "# Make a line plot with both the data1 and data2 columns\n",
        "\n",
        "\n"
      ],
      "metadata": {
        "id": "Ll_7x7m_3S4K"
      },
      "id": "Ll_7x7m_3S4K",
      "execution_count": null,
      "outputs": []
    },
    {
      "cell_type": "code",
      "source": [
        "# Now use the builtin pandas plot routine to plot all the numerical data\n",
        "# in the dataframe\n",
        "\n"
      ],
      "metadata": {
        "id": "Tnu6wDnl3mMp"
      },
      "id": "Tnu6wDnl3mMp",
      "execution_count": null,
      "outputs": []
    },
    {
      "cell_type": "code",
      "source": [
        "\n",
        "# drop the  year column from the plot because of the scale it was hard\n",
        "# to see in the data in the other columns\n",
        "date_df.drop('year', axis=1).plot()\n",
        "plt.show()\n",
        "\n",
        "# since we didn't use 'inplace=True' it only drops the column during the plot\n",
        "\n",
        "# Enter your code hear to plot only 2014 through 2017\n",
        "# Use matplotlib\n",
        "# use the dataframe .plot() method\n",
        "\n"
      ],
      "metadata": {
        "id": "tHHlbPI7DsNG"
      },
      "id": "tHHlbPI7DsNG",
      "execution_count": null,
      "outputs": []
    },
    {
      "cell_type": "markdown",
      "source": [
        "## Part 2 - Accident Data\n",
        "\n",
        "Now we will start to look at the accident data in the Excel\n",
        "Spreadsheet"
      ],
      "metadata": {
        "id": "r4Iw8e_WC0_Q"
      },
      "id": "r4Iw8e_WC0_Q"
    },
    {
      "cell_type": "code",
      "source": [
        "# read the data into a pandas data frame called accidents_df\n",
        "\n",
        "\n",
        "\n"
      ],
      "metadata": {
        "id": "c2KMIXvDC67i"
      },
      "id": "c2KMIXvDC67i",
      "execution_count": null,
      "outputs": []
    },
    {
      "cell_type": "code",
      "source": [
        "# Change the data type of the Date column to datetime and make it the index\n",
        "\n"
      ],
      "metadata": {
        "id": "_eJFqQNbU7aM"
      },
      "id": "_eJFqQNbU7aM",
      "execution_count": null,
      "outputs": []
    },
    {
      "cell_type": "markdown",
      "source": [
        "### Explore the data\n",
        "\n",
        "How many unique values are there for:\n",
        "- Location\n",
        "- Age Group\n",
        "- Plant\n",
        "- Report Type\n",
        "- Shift\n",
        "- Department\n",
        "\n",
        "\n",
        "Pick any three and print the information"
      ],
      "metadata": {
        "id": "jyeva_dP8_ba"
      },
      "id": "jyeva_dP8_ba"
    },
    {
      "cell_type": "code",
      "source": [
        "# HINT: Use the .nununique() method and pass a column name\n",
        "\n",
        "\n"
      ],
      "metadata": {
        "id": "tuHfinlP9Yn5"
      },
      "id": "tuHfinlP9Yn5",
      "execution_count": null,
      "outputs": []
    },
    {
      "cell_type": "code",
      "source": [
        "# Call the nununique() method without any arguments\n",
        "\n"
      ],
      "metadata": {
        "id": "GAYWQ0oMV3Yy"
      },
      "id": "GAYWQ0oMV3Yy",
      "execution_count": null,
      "outputs": []
    },
    {
      "cell_type": "markdown",
      "source": [
        "### Answer the following questions\n",
        "\n",
        "* Which Gender has the most accidents?\n",
        " * how many?\n",
        "* Which plant has the most accidents?\n",
        " * how many?\n",
        "\n",
        "Make bar charts (3 different ones) that show:\n",
        "\n",
        "   * accident count per age group\n",
        "   * accident count per plant\n",
        "   * accident count per shift\n"
      ],
      "metadata": {
        "id": "YbDGHAQ6Ftzi"
      },
      "id": "YbDGHAQ6Ftzi"
    },
    {
      "cell_type": "code",
      "source": [
        "\n"
      ],
      "metadata": {
        "id": "T5ttjJ_vWPUW"
      },
      "id": "T5ttjJ_vWPUW",
      "execution_count": null,
      "outputs": []
    },
    {
      "cell_type": "code",
      "source": [
        "\n"
      ],
      "metadata": {
        "id": "2FhVS_AJWio6"
      },
      "id": "2FhVS_AJWio6",
      "execution_count": null,
      "outputs": []
    },
    {
      "cell_type": "code",
      "source": [
        "\n",
        "\n",
        "\n"
      ],
      "metadata": {
        "id": "BoRToo6iWhYh"
      },
      "id": "BoRToo6iWhYh",
      "execution_count": null,
      "outputs": []
    },
    {
      "cell_type": "code",
      "source": [],
      "metadata": {
        "id": "E5MPnH9qWoiw"
      },
      "id": "E5MPnH9qWoiw",
      "execution_count": null,
      "outputs": []
    },
    {
      "cell_type": "code",
      "source": [],
      "metadata": {
        "id": "JBqfMDKkWxXZ"
      },
      "id": "JBqfMDKkWxXZ",
      "execution_count": null,
      "outputs": []
    },
    {
      "cell_type": "code",
      "source": [],
      "metadata": {
        "id": "uDGiUxhoW0bQ"
      },
      "id": "uDGiUxhoW0bQ",
      "execution_count": null,
      "outputs": []
    },
    {
      "cell_type": "markdown",
      "source": [
        "### Now some more involved analysis and graphs:\n",
        "\n",
        "* Print a table of the days lost for each plant\n",
        " * total for each plant with\n",
        "    * sub-catatories of Gender\n",
        " * Make a bar chart\n",
        "\n",
        "* Make a pie chart of the number of different types of accidents\n",
        "* Make a pie chart of the accidents per age group\n",
        "* Make a bar chart of the cost of the different types of accidents"
      ],
      "metadata": {
        "id": "wIAId4qvG7aT"
      },
      "id": "wIAId4qvG7aT"
    },
    {
      "cell_type": "code",
      "source": [],
      "metadata": {
        "id": "Ssokt9YaXBnI"
      },
      "id": "Ssokt9YaXBnI",
      "execution_count": null,
      "outputs": []
    },
    {
      "cell_type": "code",
      "source": [
        "# Now use the .unstack method to clean up the result\n",
        "\n"
      ],
      "metadata": {
        "id": "09IarVAOXW0k"
      },
      "id": "09IarVAOXW0k",
      "execution_count": null,
      "outputs": []
    },
    {
      "cell_type": "code",
      "source": [
        "# see if you can make bar-charts with either side-by-side bars for the genders\n",
        "# or stacked bars for the genders. Each plant either has two bars\n",
        "# (male, female) or a single bar with two segments\n",
        "\n"
      ],
      "metadata": {
        "id": "YbujLcSwXrjC"
      },
      "id": "YbujLcSwXrjC",
      "execution_count": null,
      "outputs": []
    },
    {
      "cell_type": "code",
      "source": [
        "# Make a pie chart of the number of different types of incidents\n",
        "\n"
      ],
      "metadata": {
        "id": "RZFYJ3BiX29Y"
      },
      "id": "RZFYJ3BiX29Y",
      "execution_count": null,
      "outputs": []
    },
    {
      "cell_type": "code",
      "source": [
        "# Find and plot the costs of accidents by incident type\n",
        "\n"
      ],
      "metadata": {
        "id": "w1XqgHZYHeQn"
      },
      "id": "w1XqgHZYHeQn",
      "execution_count": null,
      "outputs": []
    },
    {
      "cell_type": "markdown",
      "source": [
        "### Analyze by days of the week\n",
        "\n",
        "Make a bar chart showing\n",
        "* which day of the week has the most accidents\n",
        "* accident costs for each day of the week\n",
        "\n",
        "Do the same for the months."
      ],
      "metadata": {
        "id": "sEYXi4cNL6nb"
      },
      "id": "sEYXi4cNL6nb"
    },
    {
      "cell_type": "code",
      "source": [],
      "metadata": {
        "id": "X2Nvk15Xe1sm"
      },
      "id": "X2Nvk15Xe1sm",
      "execution_count": null,
      "outputs": []
    },
    {
      "cell_type": "code",
      "source": [],
      "metadata": {
        "id": "vFpVLZOkfAZu"
      },
      "id": "vFpVLZOkfAZu",
      "execution_count": null,
      "outputs": []
    },
    {
      "cell_type": "code",
      "source": [],
      "metadata": {
        "id": "jjVevhM-eUkK"
      },
      "id": "jjVevhM-eUkK",
      "execution_count": null,
      "outputs": []
    },
    {
      "cell_type": "code",
      "source": [],
      "metadata": {
        "id": "VZX67xEzfZEk"
      },
      "id": "VZX67xEzfZEk",
      "execution_count": null,
      "outputs": []
    },
    {
      "cell_type": "code",
      "source": [],
      "metadata": {
        "id": "3tFMgGKnfe3U"
      },
      "id": "3tFMgGKnfe3U",
      "execution_count": null,
      "outputs": []
    },
    {
      "cell_type": "code",
      "source": [],
      "metadata": {
        "id": "15NOOp9yfjoZ"
      },
      "id": "15NOOp9yfjoZ",
      "execution_count": null,
      "outputs": []
    },
    {
      "cell_type": "markdown",
      "source": [
        "## Do some analysis on your own\n",
        "\n",
        "Look at the table and see what questions you could answer\n",
        "\n",
        "* Make some graphs.\n",
        "\n",
        "* See if you can do more than one level of sub-catagory"
      ],
      "metadata": {
        "id": "VfOqRdR2H3m4"
      },
      "id": "VfOqRdR2H3m4"
    },
    {
      "cell_type": "code",
      "source": [
        "# Enter your code here\n",
        "# Accidents by day-of-the-week\n",
        "\n",
        "\n",
        "# Accidents by month"
      ],
      "metadata": {
        "id": "7iF6BE62H-WH"
      },
      "id": "7iF6BE62H-WH",
      "execution_count": null,
      "outputs": []
    },
    {
      "cell_type": "code",
      "source": [
        "# Your analysis\n",
        "# do some multi-level groups"
      ],
      "metadata": {
        "id": "34blMAow-KWF"
      },
      "id": "34blMAow-KWF",
      "execution_count": null,
      "outputs": []
    }
  ],
  "metadata": {
    "kernelspec": {
      "display_name": "Python 3",
      "language": "python",
      "name": "python3"
    },
    "language_info": {
      "codemirror_mode": {
        "name": "ipython",
        "version": 2
      },
      "file_extension": ".py",
      "mimetype": "text/x-python",
      "name": "python",
      "nbconvert_exporter": "python",
      "pygments_lexer": "ipython2",
      "version": "2.7.6"
    },
    "colab": {
      "provenance": [],
      "include_colab_link": true
    }
  },
  "nbformat": 4,
  "nbformat_minor": 5
}