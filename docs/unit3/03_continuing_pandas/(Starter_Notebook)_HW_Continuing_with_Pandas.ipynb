{
 "nbformat": 4,
 "nbformat_minor": 0,
 "metadata": {
  "colab": {
   "provenance": [],
   "include_colab_link": true
  },
  "kernelspec": {
   "name": "python3",
   "display_name": "Python 3"
  },
  "language_info": {
   "name": "python"
  }
 },
 "cells": [
  {
   "cell_type": "markdown",
   "metadata": {
    "id": "view-in-github",
    "colab_type": "text"
   },
   "source": "<a href=\"https://colab.research.google.com/github/byu-cce270/content/blob/main/docs/unit3/03_continuing_pandas/(Starter_Notebook)_HW_Continuing_with_Pandas.ipynb\" target=\"_parent\"><img src=\"https://colab.research.google.com/assets/colab-badge.svg\" alt=\"Open In Colab\"/></a>"
  },
  {
   "cell_type": "markdown",
   "source": [
    "# PART 1 - SETUP"
   ],
   "metadata": {
    "id": "uEK9LZmdR5WT"
   }
  },
  {
   "cell_type": "code",
   "execution_count": null,
   "metadata": {
    "id": "uLhh1Seznz3v"
   },
   "outputs": [],
   "source": [
    "#@title Import Required Packages\n",
    "\n"
   ]
  },
  {
   "cell_type": "code",
   "source": [
    "#@title Import Excel Sheets to DataFrames\n",
    "\n",
    "\n"
   ],
   "metadata": {
    "id": "bCJ1ivHnonmg"
   },
   "execution_count": null,
   "outputs": []
  },
  {
   "cell_type": "markdown",
   "source": [
    "# PART 2 - PAVEMENT RESURFACING JOBS\n",
    "\n",
    "For these tasks, we will be analyzing the **resurface_df** dataframe."
   ],
   "metadata": {
    "id": "YaO6MFR7SIIe"
   }
  },
  {
   "cell_type": "code",
   "source": [
    "#@title Review DataFrame Contents\n",
    "\n"
   ],
   "metadata": {
    "id": "UO3znLIXdPgF"
   },
   "execution_count": null,
   "outputs": []
  },
  {
   "cell_type": "code",
   "source": [
    "#@title Fix Community Board Column\n",
    "\n",
    "# Run this cell to onvert the community board column to integers. Skip the NaNs\n",
    "\n",
    "resurface_df['Community Board'] = pd.to_numeric(resurface_df['Community Board'], errors='coerce').astype('Int64')\n",
    "resurface_df.head()\n"
   ],
   "metadata": {
    "id": "RgiYZiulFDeu"
   },
   "execution_count": null,
   "outputs": []
  },
  {
   "cell_type": "code",
   "source": [
    "#@title Edit Dates\n",
    "\n",
    "\n"
   ],
   "metadata": {
    "id": "1CIjES-ArtJC"
   },
   "execution_count": null,
   "outputs": []
  },
  {
   "cell_type": "code",
   "source": [
    "#@title Number of Paving Jobs per Bourough Name and Work Type\n",
    "\n"
   ],
   "metadata": {
    "id": "1tQERTDSss7y"
   },
   "execution_count": null,
   "outputs": []
  },
  {
   "cell_type": "code",
   "source": [
    "# Alternate method\n",
    "\n"
   ],
   "metadata": {
    "id": "wPdKEeAsbocv"
   },
   "execution_count": null,
   "outputs": []
  },
  {
   "cell_type": "code",
   "source": [
    "#@title Common Names\n",
    "\n",
    "# Using groupby\n",
    "\n",
    "\n"
   ],
   "metadata": {
    "id": "vyj-Jy4ps6-K"
   },
   "execution_count": null,
   "outputs": []
  },
  {
   "cell_type": "code",
   "source": [
    "# Alternate method using value_counts()\n",
    "\n"
   ],
   "metadata": {
    "id": "oF8WZ1k7nhpA"
   },
   "execution_count": null,
   "outputs": []
  },
  {
   "cell_type": "code",
   "source": [
    "#@title Work Hours\n",
    "\n"
   ],
   "metadata": {
    "id": "94fCyUe4s-aM"
   },
   "execution_count": null,
   "outputs": []
  },
  {
   "cell_type": "code",
   "source": [],
   "metadata": {
    "id": "Bch6y3esBTAn"
   },
   "execution_count": null,
   "outputs": []
  },
  {
   "cell_type": "code",
   "source": [
    "#@title Work Jobs by Borough\n",
    "\n"
   ],
   "metadata": {
    "id": "UcqbtVaFtSPa"
   },
   "execution_count": null,
   "outputs": []
  },
  {
   "cell_type": "code",
   "source": [],
   "metadata": {
    "id": "jYLG6zarJcnW"
   },
   "execution_count": null,
   "outputs": []
  },
  {
   "cell_type": "markdown",
   "source": [
    "## PART 3 - PAVEMENT RATING\n",
    "\n",
    "For these tasks, we will be analyzing the **pavement_df** dataframe."
   ],
   "metadata": {
    "id": "teFQt7uqEsZz"
   }
  },
  {
   "cell_type": "code",
   "source": [
    "# Display the first few rows here\n",
    "\n"
   ],
   "metadata": {
    "id": "weIm44MdKwXP"
   },
   "execution_count": null,
   "outputs": []
  },
  {
   "cell_type": "code",
   "source": [
    "#@title Borough Name Mapping\n",
    "\n",
    "\n"
   ],
   "metadata": {
    "id": "IoAtMz604XIB"
   },
   "execution_count": null,
   "outputs": []
  },
  {
   "cell_type": "code",
   "source": [],
   "metadata": {
    "id": "GaLWFES2LxVs"
   },
   "execution_count": null,
   "outputs": []
  },
  {
   "cell_type": "code",
   "source": [
    "#@title Average Rating\n",
    "\n"
   ],
   "metadata": {
    "id": "YXVRb_uBMo4V"
   },
   "execution_count": null,
   "outputs": []
  },
  {
   "cell_type": "code",
   "source": [
    "#@title Multiple Grouping and Aggregation\n",
    "\n"
   ],
   "metadata": {
    "id": "LAUmLVeGTCnk"
   },
   "execution_count": null,
   "outputs": []
  },
  {
   "cell_type": "code",
   "source": [
    "\n"
   ],
   "metadata": {
    "id": "WZdBI3nJSq-e"
   },
   "execution_count": null,
   "outputs": []
  },
  {
   "cell_type": "code",
   "source": [
    "#@title Pie Charts for Each Borough\n",
    "\n"
   ],
   "metadata": {
    "id": "_rQ1IZ-5ej3h"
   },
   "execution_count": null,
   "outputs": []
  }
 ]
}
