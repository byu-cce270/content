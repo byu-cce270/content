{
 "nbformat": 4,
 "nbformat_minor": 0,
 "metadata": {
  "colab": {
   "provenance": [],
   "authorship_tag": "ABX9TyNgtaMRdtMWPAImrcd+HOsn",
   "include_colab_link": true
  },
  "kernelspec": {
   "name": "python3",
   "display_name": "Python 3"
  },
  "language_info": {
   "name": "python"
  }
 },
 "cells": [
  {
   "cell_type": "markdown",
   "metadata": {
    "id": "view-in-github",
    "colab_type": "text"
   },
   "source": "<a href=\"https://colab.research.google.com/github/byu-cce270/content/blob/main/docs/unit3/03_continuing_pandas/(Starter_Notebook)_Pre_Continuing_with_Pandas.ipynb\" target=\"_parent\"><img src=\"https://colab.research.google.com/assets/colab-badge.svg\" alt=\"Open In Colab\"/></a>"
  },
  {
   "cell_type": "markdown",
   "source": [
    "1. Concatenate the original employees DataFrame with the new employees.\n",
    "2. Merge the combined DataFrame with the departments DataFrame on 'DepartmentID'.\n",
    "3. Group the merged DataFrame by 'DepartmentID' and calculate the average salary.\n",
    "4. Display your results."
   ],
   "metadata": {
    "id": "-qg9N-noUMoR"
   }
  },
  {
   "cell_type": "code",
   "execution_count": 1,
   "metadata": {
    "id": "bHUIpP_zSqeN"
   },
   "outputs": [],
   "source": [
    "import pandas as pd\n",
    "\n",
    "# Initial Employees DataFrame\n",
    "employees = pd.DataFrame({\n",
    "    'EmployeeID': [1, 2, 3, 4, 5],\n",
    "    'Name': ['Alice', 'Bob', 'Charlie', 'David', 'Eve'],\n",
    "    'DepartmentID': [101, 102, 101, 103, 102],\n",
    "    'Salary': [50000, 60000, 55000, 70000, 62000]\n",
    "})\n",
    "\n",
    "# Initial Departments DataFrame\n",
    "departments = pd.DataFrame({\n",
    "    'DepartmentID': [101, 102, 103],\n",
    "    'DepartmentName': ['HR', 'IT', 'Marketing']\n",
    "})\n",
    "\n",
    "# New Employees DataFrame to concatenate\n",
    "new_employees = pd.DataFrame({\n",
    "    'EmployeeID': [6, 7],\n",
    "    'Name': ['Frank', 'Grace'],\n",
    "    'DepartmentID': [104, 101],\n",
    "    'Salary': [75000, 53000]\n",
    "})"
   ]
  }
 ]
}
