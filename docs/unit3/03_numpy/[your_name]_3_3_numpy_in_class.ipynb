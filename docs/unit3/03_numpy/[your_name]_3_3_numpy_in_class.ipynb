{
  "nbformat": 4,
  "nbformat_minor": 0,
  "metadata": {
    "colab": {
      "provenance": [],
      "include_colab_link": true
    },
    "kernelspec": {
      "name": "python3",
      "display_name": "Python 3"
    },
    "language_info": {
      "name": "python"
    }
  },
  "cells": [
    {
      "cell_type": "markdown",
      "metadata": {
        "id": "view-in-github",
        "colab_type": "text"
      },
      "source": [
        "<a href=\"https://colab.research.google.com/github/byu-cce270/content/blob/main/docs/unit3/03_numpy/%5Byour_name%5D_3_3_numpy_in_class.ipynb\" target=\"_parent\"><img src=\"https://colab.research.google.com/assets/colab-badge.svg\" alt=\"Open In Colab\"/></a>"
      ]
    },
    {
      "cell_type": "markdown",
      "source": [
        "\n",
        "\n",
        "---\n",
        "\n",
        "**Code Block 1 - Lists vs Arrays**\n",
        "\n",
        "\n",
        "1. Print the list A\n",
        "2. Print the type of A\n",
        "3. Turn A into a NumPy array\n",
        "4. Print your new array\n",
        "5. Print the type of your new array\n",
        "6. What differences do you notice between the array and the list? Write a comment underneath your array stating the differences.\n",
        "\n",
        "\n",
        "---\n",
        "\n"
      ],
      "metadata": {
        "id": "1MoH8N5GdMMd"
      }
    },
    {
      "cell_type": "code",
      "execution_count": null,
      "metadata": {
        "id": "4kzNTQj_aW8c"
      },
      "outputs": [],
      "source": [
        "import numpy as np #Imports the numpy library for us to use.\n",
        "# importing as np is the convetion to make it shorter to reference later\n"
      ]
    },
    {
      "cell_type": "markdown",
      "source": [
        "\n",
        "\n",
        "---\n",
        "\n",
        "**Code Block 2 - Working through Arrays**\n",
        "\n",
        "\n",
        "1. Turn list B into a numpy array named array_B.\n",
        "2. Print array_B\n",
        "3. Access the values [5,6,7,8] in the array and print your results. HINT: Accessing items in arrays is very similar to accesing items in lists.\n",
        "4. Access the number 11 and print your results.\n",
        "5. Access only the numbers 2, 3, and 4. Print your results\n",
        "\n",
        "\n",
        "---\n",
        "\n"
      ],
      "metadata": {
        "id": "XObOtej7tDOc"
      }
    },
    {
      "cell_type": "code",
      "source": [
        "B = [[1,2,3,4],[5,6,7,8],[9,10,11,12]]\n"
      ],
      "metadata": {
        "id": "Xuyj_TFiajv2"
      },
      "execution_count": null,
      "outputs": []
    },
    {
      "cell_type": "markdown",
      "source": [
        "\n",
        "\n",
        "---\n",
        "**Code Block 3 - Numpy Array Creation Routines**\n",
        "\n",
        "Use at least 3 of the below array commands and print out your arrays.\n",
        "\n",
        "*   np.zeros(# of zeros you want, dtype = int/float)\n",
        "*   np.ones(# 1's you want)\n",
        "*   np.empty(# of random numbers you want)\n",
        "*   np.arange(first number, last number, step)\n",
        "*   np.linspace(first number, last number, num=how many numbers you want in the array)\n",
        "* NOTE: For all of the above commands, you can choose the type by using dtype = 'int' or dtype = 'float'\n",
        "\n",
        "\n",
        "Here is a list of more array functions:\n",
        "\n",
        "[Array creation routines](https://numpy.org/doc/stable/reference/routines.array-creation.html)\n",
        "\n",
        "\n",
        "---"
      ],
      "metadata": {
        "id": "b20juygvzOWu"
      }
    },
    {
      "cell_type": "code",
      "source": [],
      "metadata": {
        "id": "rw4d1QswarP2"
      },
      "execution_count": null,
      "outputs": []
    },
    {
      "cell_type": "markdown",
      "source": [
        "\n",
        "\n",
        "---\n",
        "\n",
        "\n",
        "**Code Block 4: Numpy manipulation routines**\n",
        "\n",
        "1. Create a new array for each of the following example functions. Use array1 and array2 for the examples. Print your results.\n",
        "\n",
        "*   np.concatenate((array,array)) - **Needs double paranthesis**\n",
        "*   np.delete(array, index)\n",
        "*   np.append(array, #)\n",
        "* np.sort(array)\n",
        "* np.vstack((array,array))\n",
        "* np.copy(array)\n",
        "\n",
        "\n",
        "\n",
        "Here are some more examples with syntax:\n",
        "\n",
        "[NumPy manipulation routines](https://numpy.org/doc/stable/reference/routines.array-manipulation.html)\n",
        "\n",
        "\n",
        "---\n",
        "\n"
      ],
      "metadata": {
        "id": "N01XVKAko2PG"
      }
    },
    {
      "cell_type": "code",
      "source": [
        "array1 = np.array([1, 2, 3, 4])\n",
        "array2 = np.array([5, 6, 7, 8])"
      ],
      "metadata": {
        "id": "ze84lZm4awRW"
      },
      "execution_count": null,
      "outputs": []
    },
    {
      "cell_type": "markdown",
      "source": [
        "\n",
        "\n",
        "---\n",
        "\n",
        "\n",
        "**Code Block 5: Updating values in Arrays**\n",
        "\n",
        "\n",
        "\n",
        "1.   Make a copy of array 3 and name it array_copy\n",
        "2.   In array_copy, Change the number 10 to be 15\n",
        "\n",
        "---\n",
        "\n"
      ],
      "metadata": {
        "id": "OsNMqFVXnYtI"
      }
    },
    {
      "cell_type": "code",
      "source": [
        "array3 = np.array([1, 2, 3, 4],[5, 6, 7, 8],[9, 10, 11, 12])\n"
      ],
      "metadata": {
        "id": "jNf8AwXNa22R"
      },
      "execution_count": null,
      "outputs": []
    },
    {
      "cell_type": "markdown",
      "source": [
        "\n",
        "\n",
        "---\n",
        "\n",
        "\n",
        "**Code Block 6: Find the solution to this system of linear equations**\n",
        "\n",
        "When solving for a linear equation, you are find an x, y, and z value that is true for all of the given equations. This can be time consuming by hand, but just take a few minutes with NumPy.\n",
        "\n",
        "\n",
        "Use the function below to solve for the x, y, and z values for the 3 equations below.\n",
        "\n",
        "* `np.linalg.solve(array, array)`\n",
        "\n",
        "\n",
        "\n",
        "**Equations**\n",
        "\n",
        "\n",
        "$$x+y+z = 10$$\n",
        "$$6x+3y+8z = 55$$\n",
        "$$21x+16y+2z = 157$$\n",
        "\n",
        "HINT: Set up each of the equations (without the solution) as an array, then the solutions as a different array.\n",
        "\n",
        "---\n",
        "\n"
      ],
      "metadata": {
        "id": "K2FvYr0rpLpk"
      }
    },
    {
      "cell_type": "code",
      "source": [],
      "metadata": {
        "id": "KxUnQi1IbKuy"
      },
      "execution_count": null,
      "outputs": []
    },
    {
      "cell_type": "markdown",
      "source": [
        "---\n",
        "**Code Block 7: np.arange vs np.linspace**\n",
        "\n",
        "Create an array for each of the given functions below. Have both arrays have the same starting and stopping values.\n",
        "\n",
        "*  ` np.arange(starting #, stopping #, step) `- Creates an array with evenly spaced values within a given interval. **Does not have a specified length**\n",
        "\n",
        "*  ` np.linspace(starting #, stopping #, num = length of array)` - Creates an array of evenly spaced numbers over a specified interval. **Has a specified length**\n",
        "\n",
        "What differences do you see? **Write a comment desribing a difference.**\n",
        "\n",
        "---"
      ],
      "metadata": {
        "id": "y2zvTKZKK-XB"
      }
    },
    {
      "cell_type": "code",
      "source": [],
      "metadata": {
        "id": "xrOMnAdoLA0l"
      },
      "execution_count": null,
      "outputs": []
    },
    {
      "cell_type": "markdown",
      "source": [
        "---\n",
        "\n",
        "**Code Block 8: Vectorization**\n",
        "\n",
        "Given the array below, perform the following arithmatic on every value in the array and print the individual results:\n",
        "- Add 3\n",
        "- Substract 7\n",
        "- Multiply by 4\n",
        "- Divide by 2\n",
        "- Take the square root\n",
        "- Multiply the array by itself\n",
        "\n",
        "---"
      ],
      "metadata": {
        "id": "TwPmfF1jt8aE"
      }
    },
    {
      "cell_type": "code",
      "source": [
        "x = np.array([1,2,3,4,5,6,7,8,9,10])"
      ],
      "metadata": {
        "id": "YrIbBScpt8xG"
      },
      "execution_count": null,
      "outputs": []
    },
    {
      "cell_type": "markdown",
      "source": [
        "---\n",
        "\n",
        "**Code Block 9: Plotting**\n",
        "\n",
        "Graph the sine and cosine functions with a range from 0 to 5 circles (5 times 360). Find a step that works to see the graph clearly.\n",
        "\n",
        "Useful Functions\n",
        "- np.pi - pi function. Remember, pi = 180 degrees (half around a circle)\n",
        "- np.cos() - cosine function\n",
        "- np.sin() - sine function\n",
        "\n",
        "HINT - You will need the np.arange or np.linspace functions. You can choose to use either.\n",
        "\n",
        "---"
      ],
      "metadata": {
        "id": "jvWBmPP4LBPf"
      }
    },
    {
      "cell_type": "code",
      "source": [],
      "metadata": {
        "id": "1XjMRmN9LJFN"
      },
      "execution_count": null,
      "outputs": []
    },
    {
      "cell_type": "markdown",
      "source": [
        "---\n",
        "\n",
        "**Code Block 10: Truss Application**\n",
        "\n",
        "Consider this truss:\n",
        "<img src=\"https://github.com/user-attachments/assets/d297256a-4b28-4dee-9d92-e634e1cc7d2d\" width=\"40%\" height=\"35%\" align = \"center\">\n",
        "\n",
        "Using the Method of Joints and given $θ_A = 30°$, $θ_B = 50°$, and $P = -10^{lb}$, we derive the following equations:\n",
        "\n",
        "\n",
        "$$\\sum F_{A_x} = ABcos(30°) + AC+R_{A_x} = 0$$\n",
        "$$\\sum F_{A_y} = ABsin(30°) + R_{A_y} = 0$$\n",
        "$$\\sum F_{B_x} = -ABcos(30°) + BCcos(50°) = 0$$\n",
        "$$\\sum F_{B_y} = -ABsin(30°) - BCcos(50°) = -10$$\n",
        "$$\\sum F_{C_x} = -BCcos(50°) - AC = 0$$\n",
        "$$\\sum F_{C_y} = BCsin(50°) + R_{C_y} = 0$$\n",
        "\n",
        "Similar to Code Block 6, use np.linalg.solve to solve for the internaland reaction forces in the truss $(AB,BC,AC,R_{A_x},R_{A_y},R_{C_y})$.\n",
        "\n",
        "Useful Functions\n",
        "- np.cos() - cosine function\n",
        "- np.sin() - sin function\n",
        "- np.linalg.solve() - matrix solver\n",
        "\n",
        "---"
      ],
      "metadata": {
        "id": "mik_Mn_iQpun"
      }
    },
    {
      "cell_type": "code",
      "source": [],
      "metadata": {
        "id": "1PHodoNgR2LB"
      },
      "execution_count": null,
      "outputs": []
    }
  ]
}
