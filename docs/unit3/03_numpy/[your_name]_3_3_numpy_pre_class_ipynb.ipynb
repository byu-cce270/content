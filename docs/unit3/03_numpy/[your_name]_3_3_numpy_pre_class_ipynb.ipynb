{
  "nbformat": 4,
  "nbformat_minor": 0,
  "metadata": {
    "colab": {
      "provenance": [],
      "authorship_tag": "ABX9TyMKO7lc9KIi6yOozguCm2wx",
      "include_colab_link": true
    },
    "kernelspec": {
      "name": "python3",
      "display_name": "Python 3"
    },
    "language_info": {
      "name": "python"
    }
  },
  "cells": [
    {
      "cell_type": "markdown",
      "metadata": {
        "id": "view-in-github",
        "colab_type": "text"
      },
      "source": [
        "<a href=\"https://colab.research.google.com/github/byu-cce270/content/blob/main/docs/unit3/03_numpy/%5Byour_name%5D_3_3_numpy_pre_class_ipynb.ipynb\" target=\"_parent\"><img src=\"https://colab.research.google.com/assets/colab-badge.svg\" alt=\"Open In Colab\"/></a>"
      ]
    },
    {
      "cell_type": "markdown",
      "source": [
        "\n",
        "\n",
        "---\n",
        "\n",
        "**Code Block 1**\n",
        "\n",
        "\n",
        "1. Import numpy as np\n",
        "2. Turn my_list into a numpy array\n",
        "3. Sort your new array from smallest to largest\n",
        "\n",
        "\n",
        "---\n",
        "\n"
      ],
      "metadata": {
        "id": "1MoH8N5GdMMd"
      }
    },
    {
      "cell_type": "code",
      "execution_count": null,
      "metadata": {
        "id": "yh5TxhoAYI4I"
      },
      "outputs": [],
      "source": [
        "# Import Numpy here:\n",
        "\n",
        "my_list = [2,3,6,1,7,8,9,4,5,10]"
      ]
    },
    {
      "cell_type": "markdown",
      "source": [
        "\n",
        "\n",
        "---\n",
        "\n",
        "**Code Block 2**\n",
        "\n",
        "\n",
        "1.   Turn list A into a numpy array named Array_A\n",
        "2. Turn list B into a numpy array named Array_B\n",
        "3. Create a new array named Array_C by appending Array_A to Array_B.\n",
        "\n",
        "\n",
        "---\n",
        "\n"
      ],
      "metadata": {
        "id": "M7oaMMxO87Ms"
      }
    },
    {
      "cell_type": "code",
      "source": [
        "List_A = [1,2,3,4,5]\n",
        "List_B = [6,7,8,9,10]"
      ],
      "metadata": {
        "id": "S8gSuWhgYhBK"
      },
      "execution_count": null,
      "outputs": []
    },
    {
      "cell_type": "markdown",
      "source": [
        "\n",
        "\n",
        "---\n",
        "\n",
        "**Code Block 3**\n",
        "\n",
        "\n",
        "\n",
        "1.   Create an array of 2 dimensions that takes list A_1 and A_2 as parameters. Name it Array_A.\n",
        "2.   Create another array by making a copy of A_array and name it B_array. HINT: Use the np.copy() function.\n",
        "3. Use the np.linalg.solve() taking in the parameters of A_array and B_array to solve for the solution of the system of linear equations.\n",
        "4. Print the solution.\n",
        "\n",
        "\n",
        "\n",
        "\n",
        "---\n",
        "\n"
      ],
      "metadata": {
        "id": "5a5aDINW4ZeA"
      }
    },
    {
      "cell_type": "code",
      "source": [
        "A_1 = [1,2]\n",
        "A_2 = [3,4]"
      ],
      "metadata": {
        "id": "TKvwmvmDYvmG"
      },
      "execution_count": null,
      "outputs": []
    }
  ]
}
