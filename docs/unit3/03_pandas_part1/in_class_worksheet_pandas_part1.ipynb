{
  "nbformat": 4,
  "nbformat_minor": 0,
  "metadata": {
    "colab": {
      "provenance": [],
      "include_colab_link": true
    },
    "kernelspec": {
      "name": "python3",
      "display_name": "Python 3"
    },
    "language_info": {
      "name": "python"
    }
  },
  "cells": [
    {
      "cell_type": "markdown",
      "metadata": {
        "id": "view-in-github",
        "colab_type": "text"
      },
      "source": [
        "<a href=\"https://colab.research.google.com/github/byu-cce270/content/blob/main/docs/unit3/03_pandas_part1/in_class_worksheet_pandas_part1.ipynb\" target=\"_parent\"><img src=\"https://colab.research.google.com/assets/colab-badge.svg\" alt=\"Open In Colab\"/></a>"
      ]
    },
    {
      "cell_type": "markdown",
      "source": [
        "#Parameters for .DataFrame()\n",
        "\n",
        "\n",
        "*   'index': you can specify the row labels (index) for the DataFrame\n",
        "\n",
        "*   'columns': you can specify the column names explicitly\n",
        "*   'dtype': you can set the data type for each column\n",
        "\n",
        "## First look at series\n",
        "* series only has one set of values\n",
        "* can generate a custum index - default is just numbers\n",
        "* Can also generate a series name"
      ],
      "metadata": {
        "id": "gf_D8h-1SMSK"
      }
    },
    {
      "cell_type": "code",
      "execution_count": null,
      "metadata": {
        "id": "4pwqEjk4SBVS"
      },
      "outputs": [],
      "source": [
        "#first we will import the pandas module as pd\n",
        "#the \"as\" keyword on line 15 just means that we can reference the pandas module as pd in our code\n",
        "\n",
        "\n",
        "#let's talk about series\n",
        "\n",
        "bananas = [23, 26, 34]\n",
        "\n",
        "#write code to turn the list bananas into a pandas Series\n",
        "\n",
        "\n",
        "\n",
        "#print out your series/notice the default index values\n",
        "\n",
        "\n",
        "\n",
        "#let's create customized index valus now\n",
        "# name them jim, joe, and sally\n",
        "\n",
        "\n",
        "\n",
        "#print your series with customized labels\n",
        "\n"
      ]
    },
    {
      "cell_type": "code",
      "source": [
        "#Pandas becomes more useful when we can create DataFrames with the information that we have\n",
        "\n",
        "data = {\n",
        "    \"calories\": [420, 380, 390],\n",
        "    \"duration\": [50, 40, 45]\n",
        "}\n",
        "\n",
        "#create a DataFrame  from the dictionay :\n",
        "\n",
        "\n",
        "\n",
        "#use the .loc() argument to print one row of data based on an index you choose\n",
        "\n"
      ],
      "metadata": {
        "id": "jEOLPdPFSSau"
      },
      "execution_count": null,
      "outputs": []
    },
    {
      "cell_type": "markdown",
      "source": [
        "#Common Arguments for a DataFrame\n",
        "\n",
        "\n",
        "\n",
        "*   .head() - returns the specified number of rows from a DataFrame beginning with the first row in the data set\n",
        "*   .tail() - returns the specified number of rows from a DataFrame beginnign with the last row in the data set\n",
        "\n",
        "\n",
        "*   .info() - returns the number of columns, column labels, data types, range index, and the number of cells in a column for the DataFrame\n",
        "\n",
        "###Methods that will also be helpful to know for your HW\n",
        "*   .describe()\n",
        "*   .shape\n",
        "*   .to_datetime()\n",
        "*   .contains()\n",
        "*   .query()\n",
        "\n",
        "###Road Signs Google Sheet\n",
        "* [In Class Workbook - Signs](https://docs.google.com/spreadsheets/d/1c_j6EVZJgQIlCkZ71IUhouk5Q3vjehsAGiruSysUJ_k/edit?usp=sharing)"
      ],
      "metadata": {
        "id": "o-x3vy3lSfq5"
      }
    },
    {
      "cell_type": "code",
      "source": [
        "#download the road signs google sheets as a CSV file\n",
        "\n",
        "#import csv directly into a pandas dataframe\n",
        "\n",
        "\n",
        "\n",
        "#use the .head() argument to return the first two rows in the data frame\n",
        "\n",
        "\n"
      ],
      "metadata": {
        "id": "ADxpIy29SeyH"
      },
      "execution_count": null,
      "outputs": []
    },
    {
      "cell_type": "code",
      "source": [
        "#use the .shape argument to see how many rows and columns there are\n",
        "#.shape[0] will return the number of rows only\n",
        "#.shape[1] will return the number of columns only\n",
        "\n"
      ],
      "metadata": {
        "id": "JdcjgDeET3cj"
      },
      "execution_count": null,
      "outputs": []
    },
    {
      "cell_type": "code",
      "source": [
        "#use the .info() argument to summarize the the dataframe\n",
        "\n"
      ],
      "metadata": {
        "id": "BD5bKvmvTOxd"
      },
      "execution_count": null,
      "outputs": []
    },
    {
      "cell_type": "code",
      "source": [
        "#use the .tail() argument to return the last five rows in the data frame\n",
        "\n"
      ],
      "metadata": {
        "id": "ohhNO5gpTZhb"
      },
      "execution_count": null,
      "outputs": []
    },
    {
      "cell_type": "code",
      "source": [
        "#use the .describe() argument to return a summary of the 'CONDITION' column\n",
        "\n",
        "\n"
      ],
      "metadata": {
        "id": "LlDnNvpbTbT1"
      },
      "execution_count": null,
      "outputs": []
    },
    {
      "cell_type": "code",
      "source": [
        "#create a dataframe that only shows sign data with condition 'GOOD'\n",
        "\n"
      ],
      "metadata": {
        "id": "YCKfIIGwTuer"
      },
      "execution_count": null,
      "outputs": []
    },
    {
      "cell_type": "code",
      "source": [
        "#create a dataframe that only shows data for 50 mph signs\n",
        "\n"
      ],
      "metadata": {
        "id": "Wpn7L0mVTwr8"
      },
      "execution_count": null,
      "outputs": []
    }
  ]
}