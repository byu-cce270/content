{
  "nbformat": 4,
  "nbformat_minor": 0,
  "metadata": {
    "colab": {
      "provenance": [],
      "authorship_tag": "ABX9TyM1XrlNQj5KU+j6wrvbdw2K",
      "include_colab_link": true
    },
    "kernelspec": {
      "name": "python3",
      "display_name": "Python 3"
    },
    "language_info": {
      "name": "python"
    }
  },
  "cells": [
    {
      "cell_type": "markdown",
      "metadata": {
        "id": "view-in-github",
        "colab_type": "text"
      },
      "source": [
        "<a href=\"https://colab.research.google.com/github/byu-cce270/content/blob/main/docs/unit3/04_pandas_part2/HW_Pandas_Part_2.ipynb\" target=\"_parent\"><img src=\"https://colab.research.google.com/assets/colab-badge.svg\" alt=\"Open In Colab\"/></a>"
      ]
    },
    {
      "cell_type": "code",
      "execution_count": null,
      "metadata": {
        "id": "0Z04HkIOYDLu"
      },
      "outputs": [],
      "source": [
        "###import statements\n",
        "\n",
        "\n"
      ]
    },
    {
      "cell_type": "code",
      "source": [
        "#step 4\n",
        "\n",
        "\n"
      ],
      "metadata": {
        "id": "FKGc00ttZV40"
      },
      "execution_count": null,
      "outputs": []
    },
    {
      "cell_type": "code",
      "source": [
        "#step 5\n",
        "\n",
        "\n"
      ],
      "metadata": {
        "id": "cDIejsTpY6lr"
      },
      "execution_count": null,
      "outputs": []
    },
    {
      "cell_type": "code",
      "source": [
        "# steps 6-8\n",
        "\n",
        "\n"
      ],
      "metadata": {
        "id": "D_2A_dPxDrYn"
      },
      "execution_count": null,
      "outputs": []
    },
    {
      "cell_type": "code",
      "source": [
        "# steps 9-10\n",
        "\n",
        "\n"
      ],
      "metadata": {
        "id": "EKGl7as1OqE_"
      },
      "execution_count": null,
      "outputs": []
    },
    {
      "cell_type": "code",
      "source": [
        "# steps 11-12\n",
        "\n",
        "\n"
      ],
      "metadata": {
        "id": "2GNzhDf7OtNZ"
      },
      "execution_count": null,
      "outputs": []
    },
    {
      "cell_type": "code",
      "source": [
        "# steps 13-14\n",
        "\n",
        "\n"
      ],
      "metadata": {
        "id": "fUut0-1FOvpZ"
      },
      "execution_count": null,
      "outputs": []
    },
    {
      "cell_type": "code",
      "source": [
        "# step 15\n",
        "\n",
        "\n"
      ],
      "metadata": {
        "id": "GSD6e9qEOxmH"
      },
      "execution_count": null,
      "outputs": []
    },
    {
      "cell_type": "code",
      "source": [
        "#step 16\n",
        "\n",
        "\n"
      ],
      "metadata": {
        "id": "gmLHnE2_fuSs"
      },
      "execution_count": null,
      "outputs": []
    },
    {
      "cell_type": "code",
      "source": [
        "# step 17\n",
        "\n",
        "\n",
        "\n"
      ],
      "metadata": {
        "id": "WugqeF6EO1-s"
      },
      "execution_count": null,
      "outputs": []
    }
  ]
}