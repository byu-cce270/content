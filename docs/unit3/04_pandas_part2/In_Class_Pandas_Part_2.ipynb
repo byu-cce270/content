{
  "nbformat": 4,
  "nbformat_minor": 0,
  "metadata": {
    "colab": {
      "provenance": [],
      "authorship_tag": "ABX9TyM/ZLABIhrn7NPBiGYd2ggr",
      "include_colab_link": true
    },
    "kernelspec": {
      "name": "python3",
      "display_name": "Python 3"
    },
    "language_info": {
      "name": "python"
    }
  },
  "cells": [
    {
      "cell_type": "markdown",
      "metadata": {
        "id": "view-in-github",
        "colab_type": "text"
      },
      "source": [
        "<a href=\"https://colab.research.google.com/github/byu-cce270/content/blob/main/docs/unit3/04_pandas_part2/In_Class_Pandas_Part_2.ipynb\" target=\"_parent\"><img src=\"https://colab.research.google.com/assets/colab-badge.svg\" alt=\"Open In Colab\"/></a>"
      ]
    },
    {
      "cell_type": "code",
      "execution_count": null,
      "metadata": {
        "id": "e6I2p76AfV7m"
      },
      "outputs": [],
      "source": [
        "#import statements go here\n",
        "\n"
      ]
    },
    {
      "cell_type": "code",
      "source": [
        "#make sure you upload the provided excel file into the dataframe\n",
        "#read in each sheet in the excel file into a different dataframe\n",
        "#this is the syntax to do that, you will just have to copy your file path\n",
        "#this syntax will not be given on the homework, so make sure you understand what it is doing\n",
        "\n",
        "dfs = pd.read_excel('/content/3.3 In-Class Assignment KEY.xlsx', sheet_name=None)\n",
        "for sheet_name, df in dfs.items():\n",
        "  print(f\"Sheet name: {sheet_name}\")\n",
        "  print(df.head())"
      ],
      "metadata": {
        "id": "3EYWZDdHfmwb"
      },
      "execution_count": null,
      "outputs": []
    },
    {
      "cell_type": "code",
      "source": [
        "# example appending rows to dataframe (Concat)\n",
        "# https://pandas.pydata.org/docs/user_guide/merging.html#\n",
        "\n",
        "df1 = pd.DataFrame(\n",
        "        {\n",
        "            \"A\": [\"A0\", \"A1\", \"A2\", \"A3\"],\n",
        "            \"B\": [\"B0\", \"B1\", \"B2\", \"B3\"],\n",
        "            \"C\": [\"C0\", \"C1\", \"C2\", \"C3\"],\n",
        "            \"D\": [\"D0\", \"D1\", \"D2\", \"D3\"],\n",
        "        },\n",
        "        index=[0, 1, 2, 3],\n",
        "    )\n",
        "\n",
        "df2 = pd.DataFrame(\n",
        "      {\n",
        "           \"A\": [\"A4\", \"A5\", \"A6\", \"A7\"],\n",
        "           \"B\": [\"B4\", \"B5\", \"B6\", \"B7\"],\n",
        "           \"C\": [\"C4\", \"C5\", \"C6\", \"C7\"],\n",
        "           \"D\": [\"D4\", \"D5\", \"D6\", \"D7\"],\n",
        "      },\n",
        "      index=[4, 5, 6, 7],\n",
        "   )\n",
        "\n",
        "df3 = pd.DataFrame(\n",
        "      {\n",
        "        \"A\": [\"A8\", \"A9\", \"A10\", \"A11\"],\n",
        "        \"B\": [\"B8\", \"B9\", \"B10\", \"B11\"],\n",
        "        \"C\": [\"C8\", \"C9\", \"C10\", \"C11\"],\n",
        "        \"D\": [\"D8\", \"D9\", \"D10\", \"D11\"],\n",
        "      },\n",
        "      index=[8, 9, 10, 11],\n",
        "  )\n",
        "\n",
        "#use the .concat() method to combine the above 3 dataframes into one DataFrame\n",
        "#use the .head() command to print the first 20 rows in the DataFrame\n"
      ],
      "metadata": {
        "id": "3w4yPtJOgmFh"
      },
      "execution_count": null,
      "outputs": []
    },
    {
      "cell_type": "code",
      "source": [
        "#write the correct code here to access the data from the 'Car 1' tab in the excel file in a dataframe\n",
        "#write the correct code here to access the data from the 'Car 2' tab in the excel file in a dataframe\n",
        "\n",
        "\n",
        "\n",
        "#display the dataframe here\n"
      ],
      "metadata": {
        "id": "cRJWgzE1cXnX"
      },
      "execution_count": null,
      "outputs": []
    },
    {
      "cell_type": "code",
      "source": [
        "#Append rows from the 2 car data frames\n",
        "\n",
        "# First add a new column called 'ID'\n",
        "\n",
        "\n",
        "\n",
        "# then combine into a list\n",
        "\n",
        "\n",
        "## then use the pandas concat function\n",
        "\n",
        "\n",
        "# display the new dataframe\n"
      ],
      "metadata": {
        "id": "iB9h3v9pc1ly"
      },
      "execution_count": null,
      "outputs": []
    },
    {
      "cell_type": "code",
      "source": [
        "#write the correct code here to access the data from the 'Acceleration' tab in the excel file in a dataframe\n",
        "\n",
        "\n",
        "#display the dataframe you created\n",
        "\n"
      ],
      "metadata": {
        "id": "KhxkrDZfdBpr"
      },
      "execution_count": null,
      "outputs": []
    },
    {
      "cell_type": "code",
      "source": [
        "# merge the acceleration df to the speed by ID and by Time\n",
        "# call the new merged DataFrame power_df\n",
        "\n",
        "# See documentation here for merging on multiple columns for extra information\n",
        "# <https://pandas.pydata.org/docs/user_guide/merging.html>\n",
        "\n"
      ],
      "metadata": {
        "id": "sN247seQdOW5"
      },
      "execution_count": null,
      "outputs": []
    },
    {
      "cell_type": "code",
      "source": [
        "# calculate power due to acceleration in units of kilowatts (kW)\n",
        "\n",
        "# Remember:\n",
        "# Force = Mass * Acceleration\n",
        "# Work = Force * Distance\n",
        "# Power = Work/time\n",
        "# Power = Mass * Acceleration * Distance/time = Mass * Acceleration * Speed\n",
        "# Watts = (kg*m^2)/(s^3)\n",
        "\n",
        "# mass = 2270 kg (2016 Ford Explorer)\n",
        "\n",
        "\n",
        "\n",
        "#display the first 20 rows of the dataframe here\n"
      ],
      "metadata": {
        "id": "-zDo8FU-dc2d"
      },
      "execution_count": null,
      "outputs": []
    },
    {
      "cell_type": "code",
      "source": [
        "# calculate the average speed of all my observations using .mean()\n",
        "\n"
      ],
      "metadata": {
        "id": "tT2pUhwXdktc"
      },
      "execution_count": null,
      "outputs": []
    },
    {
      "cell_type": "code",
      "source": [
        "# calculate the average speed by Car using .groupby() and .mean()\n",
        "\n",
        "\n"
      ],
      "metadata": {
        "id": "fSn6oa5kdnzL"
      },
      "execution_count": null,
      "outputs": []
    },
    {
      "cell_type": "code",
      "source": [
        "# calculate the average speed, acceleration, and P_accel by Car\n",
        "\n",
        "\n"
      ],
      "metadata": {
        "id": "wtsEjjzAdsap"
      },
      "execution_count": null,
      "outputs": []
    },
    {
      "cell_type": "code",
      "source": [
        "# calculate the average, count, min, and max P_accel by Car\n",
        "# See links on Pandas Cheat Sheet under groupby\n",
        "\n",
        "\n"
      ],
      "metadata": {
        "id": "9Ohd9doWd0mD"
      },
      "execution_count": null,
      "outputs": []
    }
  ]
}