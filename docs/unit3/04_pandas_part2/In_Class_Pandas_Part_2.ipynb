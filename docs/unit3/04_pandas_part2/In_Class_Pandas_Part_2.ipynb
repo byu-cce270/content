{
  "nbformat": 4,
  "nbformat_minor": 0,
  "metadata": {
    "colab": {
      "provenance": [],
      "include_colab_link": true
    },
    "kernelspec": {
      "name": "python3",
      "display_name": "Python 3"
    },
    "language_info": {
      "name": "python"
    }
  },
  "cells": [
    {
      "cell_type": "markdown",
      "metadata": {
        "id": "view-in-github",
        "colab_type": "text"
      },
      "source": [
        "<a href=\"https://colab.research.google.com/github/byu-cce270/content/blob/main/docs/unit3/04_pandas_part2/In_Class_Pandas_Part_2.ipynb\" target=\"_parent\"><img src=\"https://colab.research.google.com/assets/colab-badge.svg\" alt=\"Open In Colab\"/></a>"
      ]
    },
    {
      "cell_type": "code",
      "execution_count": null,
      "metadata": {
        "id": "e6I2p76AfV7m"
      },
      "outputs": [],
      "source": [
        "#import statements go here\n",
        "\n"
      ]
    },
    {
      "cell_type": "code",
      "source": [
        "#make sure you upload the provided excel file into the dataframe\n",
        "#read in each sheet in the excel file into a different dataframe\n",
        "#this is the syntax to do that, you will just have to copy your file path\n",
        "#this syntax will not be given on the homework, so make sure you understand what it is doing\n",
        "\n",
        "dfs_df = pd.read_excel('/content/3.3 in-class_pandas2.xlsx', sheet_name=None)\n",
        "for sheet_name, df in dfs_df.items():\n",
        "  print(f\"Sheet name: {sheet_name}\")\n",
        "  print(df.head())"
      ],
      "metadata": {
        "id": "3EYWZDdHfmwb"
      },
      "execution_count": null,
      "outputs": []
    },
    {
      "cell_type": "code",
      "source": [
        "# example appending rows to dataframe (Concat)\n",
        "# https://pandas.pydata.org/docs/user_guide/merging.html#\n",
        "\n",
        "df1 = pd.DataFrame(\n",
        "        {\n",
        "            \"A\": [\"A0\", \"A1\", \"A2\", \"A3\"],\n",
        "            \"B\": [\"B0\", \"B1\", \"B2\", \"B3\"],\n",
        "            \"C\": [\"C0\", \"C1\", \"C2\", \"C3\"],\n",
        "            \"D\": [\"D0\", \"D1\", \"D2\", \"D3\"],\n",
        "        },\n",
        "        index=[0, 1, 2, 3],\n",
        "    )\n",
        "\n",
        "df2 = pd.DataFrame(\n",
        "      {\n",
        "           \"A\": [\"A4\", \"A5\", \"A6\", \"A7\"],\n",
        "           \"B\": [\"B4\", \"B5\", \"B6\", \"B7\"],\n",
        "           \"C\": [\"C4\", \"C5\", \"C6\", \"C7\"],\n",
        "           \"D\": [\"D4\", \"D5\", \"D6\", \"D7\"],\n",
        "      },\n",
        "      index=[4, 5, 6, 7],\n",
        "   )\n",
        "\n",
        "df3 = pd.DataFrame(\n",
        "      {\n",
        "        \"A\": [\"A8\", \"A9\", \"A10\", \"A11\"],\n",
        "        \"B\": [\"B8\", \"B9\", \"B10\", \"B11\"],\n",
        "        \"C\": [\"C8\", \"C9\", \"C10\", \"C11\"],\n",
        "        \"D\": [\"D8\", \"D9\", \"D10\", \"D11\"],\n",
        "      },\n",
        "      index=[8, 9, 10, 11],\n",
        "  )\n",
        "\n",
        "#use the .concat() method to combine the above 3 dataframes into one DataFrame\n",
        "#use the .head() command to print the first 20 rows in the DataFrame\n"
      ],
      "metadata": {
        "id": "3w4yPtJOgmFh"
      },
      "execution_count": null,
      "outputs": []
    },
    {
      "cell_type": "code",
      "source": [
        "#write the correct code here to access the data from the 'Car 1' tab in the excel file in a dataframe\n",
        "#write the correct code here to access the data from the 'Car 2' tab in the excel file in a dataframe\n",
        "\n",
        "\n",
        "\n",
        "#display the dataframe here\n"
      ],
      "metadata": {
        "id": "cRJWgzE1cXnX"
      },
      "execution_count": null,
      "outputs": []
    },
    {
      "cell_type": "code",
      "source": [
        "#Append rows from the 2 car data frames\n",
        "\n",
        "# First add a new column called 'ID'\n",
        "\n",
        "\n",
        "\n",
        "# then combine into a list\n",
        "\n",
        "\n",
        "## then use the pandas concat function\n",
        "\n",
        "\n",
        "# display the new dataframe\n"
      ],
      "metadata": {
        "id": "iB9h3v9pc1ly"
      },
      "execution_count": null,
      "outputs": []
    },
    {
      "cell_type": "code",
      "source": [
        "#write the correct code here to access the data from the 'Acceleration' tab in the excel file in a dataframe\n",
        "\n",
        "\n",
        "#display the dataframe you created\n",
        "\n"
      ],
      "metadata": {
        "id": "KhxkrDZfdBpr"
      },
      "execution_count": null,
      "outputs": []
    },
    {
      "cell_type": "code",
      "source": [
        "# merge the acceleration df to the speed by ID and by Time\n",
        "# call the new merged DataFrame power_df\n",
        "\n",
        "# See documentation here for merging on multiple columns for extra information\n",
        "# <https://pandas.pydata.org/docs/user_guide/merging.html>\n",
        "\n"
      ],
      "metadata": {
        "id": "sN247seQdOW5"
      },
      "execution_count": null,
      "outputs": []
    },
    {
      "cell_type": "code",
      "source": [
        "# calculate power due to acceleration in units of kilowatts (kW)\n",
        "\n",
        "# Remember:\n",
        "# Force = Mass * Acceleration\n",
        "# Work = Force * Distance\n",
        "# Power = Work/time\n",
        "# Power = Mass * Acceleration * Distance/time = Mass * Acceleration * Speed\n",
        "# Watts = (kg*m^2)/(s^3)\n",
        "\n",
        "# mass = 2270 kg (2016 Ford Explorer)\n",
        "\n",
        "\n",
        "\n",
        "#display the first 20 rows of the dataframe here\n"
      ],
      "metadata": {
        "id": "-zDo8FU-dc2d"
      },
      "execution_count": null,
      "outputs": []
    },
    {
      "cell_type": "code",
      "source": [
        "# calculate the average speed of all my observations using .mean()\n",
        "\n"
      ],
      "metadata": {
        "id": "tT2pUhwXdktc"
      },
      "execution_count": null,
      "outputs": []
    },
    {
      "cell_type": "markdown",
      "source": [
        "![INCLASS.png](data:image/png;base64,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)"
      ],
      "metadata": {
        "id": "PyrYFh4hj8Sp"
      }
    },
    {
      "cell_type": "code",
      "source": [
        "# calculate the average speed by Car using .groupby() and .mean()\n",
        "\n",
        "\n",
        "#create a bar chart like the one shown above\n"
      ],
      "metadata": {
        "id": "fSn6oa5kdnzL"
      },
      "execution_count": null,
      "outputs": []
    },
    {
      "cell_type": "code",
      "source": [
        "# calculate the average speed, acceleration, and P_accel by Car\n",
        "\n",
        "\n"
      ],
      "metadata": {
        "id": "wtsEjjzAdsap"
      },
      "execution_count": null,
      "outputs": []
    },
    {
      "cell_type": "code",
      "source": [
        "# calculate the average, count, min, and max P_accel by Car\n",
        "# See links on Pandas Cheat Sheet under groupby\n",
        "\n",
        "\n"
      ],
      "metadata": {
        "id": "9Ohd9doWd0mD"
      },
      "execution_count": null,
      "outputs": []
    }
  ]
}