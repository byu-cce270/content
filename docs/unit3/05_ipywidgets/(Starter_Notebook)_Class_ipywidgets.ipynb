{
 "nbformat": 4,
 "nbformat_minor": 0,
 "metadata": {
  "colab": {
   "provenance": [],
   "collapsed_sections": [
    "jX3ESMcFBa3b",
    "Mn1uzbtVxde3",
    "4Rs7MgTRx30x"
   ],
   "include_colab_link": true
  },
  "kernelspec": {
   "name": "python3",
   "display_name": "Python 3"
  },
  "language_info": {
   "name": "python"
  }
 },
 "cells": [
  {
   "cell_type": "markdown",
   "metadata": {
    "id": "view-in-github",
    "colab_type": "text"
   },
   "source": "<a href=\"https://colab.research.google.com/github/byu-cce270/content/blob/main/docs/unit3/05_ipywidgets/(Starter_Notebook)_Class_ipywidgets.ipynb\" target=\"_parent\"><img src=\"https://colab.research.google.com/assets/colab-badge.svg\" alt=\"Open In Colab\"/></a>"
  },
  {
   "cell_type": "markdown",
   "source": [
    "#Part 1: Basic HTML, more comments, and getting started\n",
    "\n",
    "Before we add Before we add any widgets, let's review another way to make your code easier to read. When you move your cursor between two code blocks, you will see a \"+\" symbol. Note that you have two options:\n",
    "\n",
    "![add_code_or_text.png](data:image/png;base64,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)\n",
    "\n",
    "Normally, we add code, but you can also add text. When you add text, you can write comments that will be displayed in the code block. The text is formatting using a simple text formatting language called Markdown. If you double click on the text block below, you can see some sample Markdown code. Note that it is possible to mix markdown and HTML code in the same text block."
   ],
   "metadata": {
    "id": "X43fS6GAXIHh"
   }
  },
  {
   "cell_type": "markdown",
   "source": [
    "#this is a header\n",
    "##this is a second level header\n",
    "###this is a third level header\n",
    "####this is even smaller\n",
    "\n",
    "this is some plain body text </br>\n",
    "this is how you break a new line < /br > (With no spaces) </br>\n",
    "\n",
    "insert a picture: </br>\n",
    "<img src=\"https://news.sportslogos.net/wp-content/uploads/2014/11/New-BYU-Logo.jpg\" width=\"250\" />"
   ],
   "metadata": {
    "id": "8cFmoMSrdyLY"
   }
  },
  {
   "cell_type": "markdown",
   "source": [
    "## Comments\n",
    "\n",
    "You can add comments to your code by using the # symbol. Comments are not executed by the computer, but they can help you and others understand your code. You can also add comments to your code by using the ''' symbol. This will allow you to add multiple lines of comments.\n",
    "\n",
    "A lot of widgets use HTML for creating text and displaying images. If you click into the text box above, you can see some example HTML text code showing different text styles and images. The following code block shows another kind of comment that will print as a part of your code."
   ],
   "metadata": {
    "id": "cqdSX3rndXQO"
   }
  },
  {
   "cell_type": "code",
   "source": [
    "#we've talked about this kind of comment before, but\n",
    "\n",
    "'''this kind of comment is also valid and prints as part of your code'''\n"
   ],
   "metadata": {
    "id": "4WLVlkltRun7"
   },
   "execution_count": null,
   "outputs": []
  },
  {
   "cell_type": "code",
   "execution_count": null,
   "metadata": {
    "id": "ZMlRdtZ4771f"
   },
   "outputs": [],
   "source": [
    "# @title Imports\n",
    "# Import the library using ipywidgets\n",
    "\n",
    "\n",
    "\n"
   ]
  },
  {
   "cell_type": "code",
   "source": [
    "# @title Input Text Box\n",
    "# Create a text box that will allow the user to input their Favorite Food. Include a placeholder and a description.\n",
    "\n",
    "\n",
    "\n",
    "\n",
    "# Display the text box using the display() function. Note that you can also display the text box by just typing the variable name of the text box in the code block.\n",
    "\n",
    "\n",
    "\n",
    "\n",
    "# Run the code block to see the text box displayed. Try typing in the text box."
   ],
   "metadata": {
    "id": "Pt2_l7X8NUa8"
   },
   "execution_count": null,
   "outputs": []
  },
  {
   "cell_type": "code",
   "source": [
    "# @title Text Box Value\n",
    "# Write a print statement to print out the value of the text box entered by the user.\n",
    "\n",
    "\n",
    "\n",
    "# Run the code block to see the value printed out."
   ],
   "metadata": {
    "id": "1vB1iDgcN_6i"
   },
   "execution_count": null,
   "outputs": []
  },
  {
   "cell_type": "markdown",
   "source": [
    "# Part 2: Buttons\n",
    "\n",
    "In this part, we will create a button that will print out a message when clicked."
   ],
   "metadata": {
    "id": "Mn1uzbtVxde3"
   }
  },
  {
   "cell_type": "code",
   "source": [
    "# @title Basic Button\n",
    "# Create a button with the following. Then display the button.\n",
    "  # A description\n",
    "  # A style or color\n",
    "  # A tooltip\n",
    "\n",
    "\n",
    "\n",
    "\n",
    "\n",
    "# Experiment with the different button styles ('success', 'info', 'warning', 'danger' or '')"
   ],
   "metadata": {
    "id": "5kAH9PQOT-na"
   },
   "execution_count": null,
   "outputs": []
  },
  {
   "cell_type": "code",
   "source": [
    "# @title callMeAl function\n",
    "# Here is a function that will print out a message when the function is called.\n",
    "# Run this code block to put the function in the memory to use later.\n",
    "\n",
    "def callMeAl(myName):\n",
    "  return ('As Paul Simon said, ' + myName + ', you can call me Al.')\n",
    "\n",
    "# Remember that we can simply call the function directly:\n",
    "\n",
    "answer = callMeAl('input your name here')\n",
    "print (answer)\n",
    "\n",
    "# Try passing your name to the function."
   ],
   "metadata": {
    "id": "RWaLbZPlXDgd"
   },
   "execution_count": null,
   "outputs": []
  },
  {
   "cell_type": "code",
   "source": [
    "# @title Button Click\n",
    "# Create a button that will call the callMeAl function when clicked.\n",
    "# Be sure to change the description to something that makes sense given the context.\n",
    "\n",
    "\n",
    "\n",
    "\n",
    "# Create a function that will capture the click event and call the callMeAl function.\n",
    "\n",
    "\n",
    "\n",
    "\n",
    "# Finally, assign the function to the \"on_click\" event of the button and then display the button.\n",
    "\n",
    "\n",
    "\n",
    "\n",
    "# Try clicking the button to see the message printed out."
   ],
   "metadata": {
    "id": "-_KcqHZUYOpD"
   },
   "execution_count": null,
   "outputs": []
  },
  {
   "cell_type": "code",
   "source": [
    "# @title Free Complement Button\n",
    "# Create a button with a fun description, color, and tooltip.\n",
    "# Then create a function that will print out a complement when the button is clicked.\n",
    "\n",
    "\n",
    "\n",
    "\n",
    "\n",
    "\n",
    "\n",
    "\n",
    "\n",
    "# Hint: You should only need 1 function for this."
   ],
   "metadata": {
    "id": "h4-Oki7Dbeub"
   },
   "execution_count": null,
   "outputs": []
  },
  {
   "cell_type": "markdown",
   "source": [
    "#Part 3: Accepting Text Input\n",
    "\n",
    "In this part, the first two code blocks are an example code you can reference to create a text box that will accept text input and a button that will print something based off the input."
   ],
   "metadata": {
    "id": "4Rs7MgTRx30x"
   }
  },
  {
   "cell_type": "code",
   "source": [
    "# This is the start of a graphical user interface! Now we need to write the code to make it do something.\n",
    "# Let's make a function to do return the Chinese year names given a year integer.\n",
    "\n",
    "# Step 1: Make a function that does what you want\n",
    "# I got the list of Chinese year names from: https://www.chinahighlights.com/travelguide/chinese-zodiac/\n",
    "# I used the Modulus operator, %, to get the remainder of a division and from there look up the name in a list.\n",
    "def getChineseYear(y):\n",
    "  listYears = ['Rat', 'Ox', 'Tiger', 'Rabbit', 'Dragon', 'Snake', 'Horse', 'Goat', 'Monkey', 'Rooster', 'Dog', 'Pig']\n",
    "  i = (y - 4) % 12\n",
    "  return listYears[i]\n",
    "\n",
    "# Step 2: Make a function to catch the button click - use a unique/new name for the function.\n",
    "def buttonClick2(b):\n",
    "  # get the text from the text box and change it from string to integer\n",
    "  t = int(txtYear.value)\n",
    "  # run our Chinese year function and put the results in the output box\n",
    "  txtName.value = getChineseYear(t)\n",
    "\n",
    "# Step 3: Create a text box for entering a year\n",
    "txtYear = widgets.Text()\n",
    "txtYear.value = ''\n",
    "txtYear.placeholder = 'What year were you born'\n",
    "txtYear.description = 'Year'\n",
    "txtYear.disabled = False\n",
    "display(txtYear)\n",
    "\n",
    "# Step 4: Create a text box for displaying the name\n",
    "txtName = widgets.Text()\n",
    "txtName.value = ''\n",
    "txtName.placeholder = 'Year name will go here'\n",
    "txtName.description = 'Year Name'\n",
    "txtName.disabled = True\n",
    "display(txtName)\n",
    "\n",
    "# Step 5: Create the button\n",
    "btnGo = widgets.Button()\n",
    "btnGo.description = 'Get Chinese Year!'\n",
    "btnGo.button_style = 'success'\n",
    "display(btnGo)\n",
    "\n",
    "# Step 6: Connect the button to the button click function.\n",
    "btnGo.on_click(buttonClick2)"
   ],
   "metadata": {
    "id": "Xw84SQVzfL1U"
   },
   "execution_count": null,
   "outputs": []
  },
  {
   "cell_type": "code",
   "source": [
    "# @title Modified Compliment Button\n",
    "# Create a text box that will accept text input.\n",
    "# Then create a new button that will print out a complement based off the text input.\n",
    "\n",
    "\n",
    "\n",
    "\n",
    "\n",
    "\n",
    "# Create a function that will print out a complement based off the text input.\n",
    "# The function should take in the text input as a parameter.\n",
    "# Then display the button.\n",
    "\n",
    "\n",
    "\n",
    "\n",
    "\n"
   ],
   "metadata": {
    "id": "3LXv_CpCMJ9K"
   },
   "execution_count": null,
   "outputs": []
  },
  {
   "cell_type": "markdown",
   "source": [
    "#Part 4: Side Note on the Random Module\n",
    "\n",
    "In this part, we will learn how to use the random module to generate random numbers. To start, go the code block titled \"Imports\" at the top of the notebook and import the random module."
   ],
   "metadata": {
    "id": "wCiyf8-DRAxY"
   }
  },
  {
   "cell_type": "code",
   "source": [
    "# @title Intro to Random\n",
    "# Create a variable and set it equal to random.random().\n",
    "# This creates a random number between 0 and 1.\n",
    "# Print out the variable. Then try running the code block a few times to see the different numbers that are generated.\n",
    "\n",
    "\n",
    "\n",
    "\n",
    "\n",
    "# Create a new variable and set it equal to random.random() * 100.\n",
    "# This will create a random number between 0 and 100.\n",
    "# Print out the variable. We could also make the number an integer by using the int() function.\n",
    "\n",
    "\n",
    "\n",
    "\n",
    "\n",
    "# Notice how everytime you run the code block, the number changes."
   ],
   "metadata": {
    "id": "_ci7D_09TYa4"
   },
   "execution_count": null,
   "outputs": []
  },
  {
   "cell_type": "code",
   "source": [
    "# @title randrange\n",
    "# Create a variable and set it equal to random.randrange(100).\n",
    "# This will create a random number between 1 and 100.\n",
    "# Print out the variable. Then try running the code block a few times to see the different numbers that are generated.\n",
    "\n",
    "\n",
    "\n",
    "\n",
    "\n",
    "\n",
    "#It's kind of like \"randbetween\" in Google Sheets.\n",
    "# If you specify only one parameter to the function, it will give you a random integer from 0 to the number you specify in parentheses."
   ],
   "metadata": {
    "id": "4YUTEzuNTcxv"
   },
   "execution_count": null,
   "outputs": []
  },
  {
   "cell_type": "code",
   "source": [
    "# @title Multiple Random Choices\n",
    "# With the random function, you can select not just numbers, but also items from a list.\n",
    "# Below you will find a list of names called \"myList\".\n",
    "\n",
    "myList = ['Michael Scott', 'Dwight Schrute', 'Jim Halpert', 'Ryan Howard',\n",
    "          'Stanley Hudson', 'Kevin Malone', 'Oscar Martinez','Toby Flenderson',\n",
    "          'Creed Bratton', 'Roy Anderson','Darryl Philbin']\n",
    "\n",
    "# Create a variable and use the random.choice() method to select a random name from the list.\n",
    "# Pass the list as an argument and print out the variable.\n",
    "\n",
    "\n",
    "\n",
    "\n",
    "\n",
    "\n",
    "# The random.choices() method (note the plural) has a few optional parameters that you can use to select multiple items from the list.\n",
    "# You can see the different parameter options below.\n",
    "# Try using the parameter \"k\" to select 3 random names from the list. Print out the variable.\n",
    "\n",
    "\n",
    "\n",
    "\n",
    "\n",
    "\n",
    "# A similar method is the random.sample() method.\n",
    "# The sample method will return a list of unique items from the list (i.e., selections will never be repeated).\n",
    "# Create a variable and use the sample method to select 3 random names from the list. Print out the variable.\n",
    "\n",
    "\n",
    "\n",
    "\n",
    "\n",
    "\n",
    "# Try running the code block a few times to see the different names that are generated for each of the 3 variables created.\n",
    "# You should see duplicates in the second print statement, but not the third one."
   ],
   "metadata": {
    "id": "ZrwWQ4PmTg2A"
   },
   "execution_count": null,
   "outputs": []
  },
  {
   "cell_type": "markdown",
   "source": [
    "You can see the different parameter options here: [Random Choices() Method.](https://www.w3schools.com/python/ref_random_choices.asp)"
   ],
   "metadata": {
    "id": "a3SMNtz1rSd7"
   }
  },
  {
   "cell_type": "markdown",
   "source": [
    "# Part 5: Common Widget Examples\n",
    "##(THIS IS FOR REFERENCE), not something you have to do for the workbook\n",
    "\n",
    "Let's explore a few more common widgets. By the way, another name for \"widgets\" is \"user controls\".\n",
    "\n",
    "Also, note that there is a simplified way to set the properties of these user controls when you create them. It's a slightly different syntax.\n",
    "\n",
    "It just sets each property, like description, at the time the user control (widget) is created. For the Text input box example, I'm showing both ways of creating it. For the following widgets, I'll just use the simplified method."
   ],
   "metadata": {
    "id": "WS3NXgOAopW6"
   }
  },
  {
   "cell_type": "code",
   "source": [
    "# @title Text Box\n",
    "# Text widget with verbose creation\n",
    "myText = widgets.Text()\n",
    "myText.value = 'Hello World'\n",
    "myText.placeholder = 'Type something'\n",
    "myText.description = 'String:'\n",
    "myText.disabled = False\n",
    "display(myText)\n",
    "\n",
    "# Text widget with simple creation\n",
    "myText2 = widgets.Text(\n",
    "    value='Hello World',\n",
    "    placeholder='Type something',\n",
    "    description='String:',\n",
    "    disabled=False\n",
    ")\n",
    "display(myText2)"
   ],
   "metadata": {
    "id": "_rsO37dask_6",
    "cellView": "form"
   },
   "execution_count": null,
   "outputs": []
  },
  {
   "cell_type": "code",
   "source": [
    "# @title Integer Text Box\n",
    "# Restricts input to integer numbers.\n",
    "\n",
    "myIntText = widgets.IntText(\n",
    "    value=7,\n",
    "    description='Any:',\n",
    "    disabled=False\n",
    ")\n",
    "display(myIntText)"
   ],
   "metadata": {
    "id": "mGQr2oiOwHP1",
    "cellView": "form"
   },
   "execution_count": null,
   "outputs": []
  },
  {
   "cell_type": "code",
   "source": [
    "# @title BoundedIntText Box\n",
    "\n",
    "myBoundedIntText = widgets.BoundedIntText(\n",
    "    value=7,\n",
    "    min=0,\n",
    "    max=10,\n",
    "    step=1,\n",
    "    description='Text:',\n",
    "    disabled=False\n",
    ")\n",
    "display(myBoundedIntText)"
   ],
   "metadata": {
    "id": "ieG8HwqFv4ky",
    "cellView": "form"
   },
   "execution_count": null,
   "outputs": []
  },
  {
   "cell_type": "code",
   "source": [
    "# @title Text Area Box\n",
    "\n",
    "txtHi = widgets.Textarea(\n",
    "    value='Hello World',\n",
    "    placeholder='Type something',\n",
    "    description='String:',\n",
    "    disabled=False\n",
    ")\n",
    "display(txtHi)"
   ],
   "metadata": {
    "id": "qmA6MzYPon0n",
    "cellView": "form"
   },
   "execution_count": null,
   "outputs": []
  },
  {
   "cell_type": "code",
   "source": [
    "# @title Checkbox\n",
    "\n",
    "myCheckbox = widgets.Checkbox(\n",
    "    value=False,\n",
    "    description='Check me',\n",
    "    disabled=False,\n",
    "    indent=False\n",
    ")\n",
    "display(myCheckbox)"
   ],
   "metadata": {
    "id": "0V3QME8PwW1w",
    "cellView": "form"
   },
   "execution_count": null,
   "outputs": []
  },
  {
   "cell_type": "code",
   "source": [
    "# @title RadioButtons\n",
    "\n",
    "myRadioButtons = widgets.RadioButtons(\n",
    "    options=['pepperoni', 'pineapple', 'anchovies'],\n",
    "#    value='pineapple', # Defaults to 'pineapple'\n",
    "#    layout={'width': 'max-content'}, # If the items' names are long\n",
    "    description='Pizza topping:',\n",
    "    disabled=False\n",
    ")\n",
    "display(myRadioButtons)"
   ],
   "metadata": {
    "id": "BiX0Arj3wnFb",
    "cellView": "form"
   },
   "execution_count": null,
   "outputs": []
  },
  {
   "cell_type": "code",
   "source": [
    "# @title Combobox\n",
    "\n",
    "myCombo = widgets.Combobox(\n",
    "    placeholder='Choose Someone',\n",
    "    options=['Paul', 'John', 'George', 'Ringo'],\n",
    "    description='Combobox:',\n",
    "    ensure_option=True,\n",
    "    disabled=False\n",
    ")\n",
    "display(myCombo)"
   ],
   "metadata": {
    "id": "UKWuhxpLlS1B",
    "cellView": "form"
   },
   "execution_count": null,
   "outputs": []
  },
  {
   "cell_type": "code",
   "source": [
    "# @title Select\n",
    "\n",
    "mySelect = widgets.Select(\n",
    "    options=['Linux', 'Windows', 'macOS'],\n",
    "    value='macOS',\n",
    "    # rows=10,\n",
    "    description='OS:',\n",
    "    disabled=False\n",
    ")\n",
    "display(mySelect)"
   ],
   "metadata": {
    "id": "-OW4fdQ3rJoy",
    "cellView": "form"
   },
   "execution_count": null,
   "outputs": []
  },
  {
   "cell_type": "code",
   "source": [
    "# @title Dropdown\n",
    "\n",
    "myDropdown = widgets.Dropdown(\n",
    "    options=['1', '2', '3'],\n",
    "    value='2',\n",
    "    description='Number:',\n",
    "    disabled=False,\n",
    ")\n",
    "display(myDropdown)"
   ],
   "metadata": {
    "id": "ZkpRslQIrdC0",
    "cellView": "form"
   },
   "execution_count": null,
   "outputs": []
  },
  {
   "cell_type": "code",
   "source": [
    "# @title ToggleButtons\n",
    "\n",
    "myToggle = widgets.ToggleButtons(\n",
    "    options=['Slow', 'Regular', 'Fast'],\n",
    "    description='Speed:',\n",
    "    disabled=False,\n",
    "    button_style='', # 'success', 'info', 'warning', 'danger' or ''\n",
    "    tooltips=['Description of slow', 'Description of regular', 'Description of fast'],\n",
    "#     icons=['check'] * 3\n",
    ")\n",
    "display(myToggle)"
   ],
   "metadata": {
    "id": "T1Wkmi4oq1Ps",
    "cellView": "form"
   },
   "execution_count": null,
   "outputs": []
  },
  {
   "cell_type": "code",
   "source": [
    "# @title SelectMultiple\n",
    "\n",
    "#Multiple values can be selected with shift and/or ctrl (or command) pressed and mouse clicks or arrow\n",
    "\n",
    "mySelectMult = widgets.SelectMultiple(\n",
    "    options=['Apples', 'Oranges', 'Pears'],\n",
    "    value=['Oranges'],\n",
    "    #rows=10,\n",
    "    description='Fruits',\n",
    "    disabled=False\n",
    ")\n",
    "display(mySelectMult)"
   ],
   "metadata": {
    "id": "YLuTNTTpqk8i",
    "cellView": "form"
   },
   "execution_count": null,
   "outputs": []
  },
  {
   "cell_type": "code",
   "source": [
    "# @title IntSlider\n",
    "# - The slider is displayed with a specified, initial `value`. Lower and upper bounds are defined by `min` and `max`, and the value can be incremented according to the `step` parameter.\n",
    "# - The slider's label is defined by `description` parameter\n",
    "# - The slider's `orientation` is either 'horizontal' (default) or 'vertical'\n",
    "# - `readout`  displays the current value of the slider next to it. The options are **True** (default) or **False**\n",
    "# - `readout_format` specifies the format function used to represent slider value. The default is '.2f'\n",
    "\n",
    "\n",
    "myIntSlider = widgets.IntSlider(\n",
    "    value=7,\n",
    "    min=0,\n",
    "    max=10,\n",
    "    step=1,\n",
    "    description='Test:',\n",
    "    disabled=False,\n",
    "    continuous_update=False,\n",
    "    orientation='horizontal',\n",
    "    readout=True,\n",
    "    readout_format='d'\n",
    ")\n",
    "display(myIntSlider)"
   ],
   "metadata": {
    "id": "J5khKXyEvZaj",
    "cellView": "form"
   },
   "execution_count": null,
   "outputs": []
  },
  {
   "cell_type": "code",
   "source": [
    "# @title FloatSlider\n",
    "\n",
    "myFloatSlider = widgets.FloatSlider(\n",
    "    value=7.5,\n",
    "    min=0,\n",
    "    max=10.0,\n",
    "    step=0.1,\n",
    "    description='Test:',\n",
    "    disabled=False,\n",
    "    continuous_update=False,\n",
    "    orientation='horizontal',\n",
    "    readout=True,\n",
    "    readout_format='.1f',\n",
    ")\n",
    "display(myFloatSlider)"
   ],
   "metadata": {
    "id": "LmIH5uJyvn4_",
    "cellView": "form"
   },
   "execution_count": null,
   "outputs": []
  },
  {
   "cell_type": "code",
   "source": [
    "# @title Image (requires file upload)\n",
    "\n",
    "# For this to work, the image needs to be uploaded to your colab folders (see file browser at left)\n",
    "\n",
    "file = open(\"building-a-rock-garden-on-a-slope.jpg\", \"rb\")\n",
    "image = file.read()\n",
    "imgPanic = widgets.Image(\n",
    "    value=image,\n",
    "    format='png',\n",
    "    width=300,\n",
    "    height=400,\n",
    ")\n",
    "display(imgPanic)"
   ],
   "metadata": {
    "id": "CI1m89NWpoos",
    "cellView": "form"
   },
   "execution_count": null,
   "outputs": []
  }
 ]
}
