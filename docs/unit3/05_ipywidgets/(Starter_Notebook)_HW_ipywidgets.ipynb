{
 "nbformat": 4,
 "nbformat_minor": 0,
 "metadata": {
  "colab": {
   "provenance": [],
   "include_colab_link": true
  },
  "kernelspec": {
   "name": "python3",
   "display_name": "Python 3"
  },
  "language_info": {
   "name": "python"
  }
 },
 "cells": [
  {
   "cell_type": "markdown",
   "metadata": {
    "id": "view-in-github",
    "colab_type": "text"
   },
   "source": "<a href=\"https://colab.research.google.com/github/byu-cce270/content/blob/main/docs/unit3/05_ipywidgets/(Starter_Notebook)_HW_ipywidgets.ipynb\" target=\"_parent\"><img src=\"https://colab.research.google.com/assets/colab-badge.svg\" alt=\"Open In Colab\"/></a>"
  },
  {
   "cell_type": "markdown",
   "source": [
    "## Rock Paper Scissors\n",
    "This is a simple Rock Paper Scissors game. Modify it as per the homework prompt instructions.\n",
    "\n",
    "\n"
   ],
   "metadata": {
    "id": "wrpgdspwj9NG"
   }
  },
  {
   "cell_type": "code",
   "source": [
    "#****************************************************************************************\n",
    "# Always import modules first (unless you've imported it somewhere else in your code!)\n",
    "#****************************************************************************************\n",
    "import random\n",
    "\n",
    "\n",
    "#****************************************************************************************\n",
    "# Define your functions next...\n",
    "#****************************************************************************************\n",
    "def getWinner(player1, player2):\n",
    "  if player1 == 'rock':\n",
    "    if player2 == 'rock':\n",
    "      return('Tie!')\n",
    "    elif player2 == 'paper':\n",
    "      return('Player 2 wins!')\n",
    "    elif player2 == 'scissors':\n",
    "      return('Player 1 wins!')\n",
    "  elif player1 == 'paper':\n",
    "    if player2 == 'rock':\n",
    "      return('Player 2 wins')\n",
    "    elif player2 == 'paper':\n",
    "      return('Tie!!')\n",
    "    elif player2 == 'scissors':\n",
    "      return('Player 1 wins!')\n",
    "  elif player1 == 'scissors':\n",
    "    if player2 == 'rock':\n",
    "      return('Player 2 wins')\n",
    "    elif player2 == 'paper':\n",
    "      return('Player 1 wins!')\n",
    "    elif player2 == 'scissors':\n",
    "      return('Tie!')\n",
    "\n",
    "#****************************************************************************************\n",
    "# Here's the main program:\n",
    "#****************************************************************************************\n",
    "theOptions = ['rock', 'paper', 'scissors']\n",
    "p1 = random.choice(theOptions)\n",
    "p2 = random.choice(theOptions)\n",
    "\n",
    "winner = getWinner(p1, p2)\n",
    "\n",
    "print('Player 1 chose ' + p1)\n",
    "print('Player 2 chose ' + p2)\n",
    "print('And the result is: ' + winner)"
   ],
   "metadata": {
    "id": "odAz4Rt3j2NF",
    "outputId": "20e8713d-b2b0-41d4-c813-6d01b82ad601",
    "colab": {
     "base_uri": "https://localhost:8080/"
    }
   },
   "execution_count": null,
   "outputs": [
    {
     "output_type": "stream",
     "name": "stdout",
     "text": [
      "Player 1 chose rock\n",
      "Player 2 chose rock\n",
      "And the result is: Tie!\n"
     ]
    }
   ]
  },
  {
   "cell_type": "markdown",
   "source": [
    "## Number Guessing Game\n",
    "This is a simple number guessing game.  Modify it as per the homework prompt instructions."
   ],
   "metadata": {
    "id": "bj8x3s-cmrhO"
   }
  },
  {
   "cell_type": "code",
   "source": [
    "#****************************************************************************************\n",
    "# Always import modules first (unless you've imported it somewhere else in your code!)\n",
    "#****************************************************************************************\n",
    "import random\n",
    "\n",
    "\n",
    "#****************************************************************************************\n",
    "# Define your functions\n",
    "#****************************************************************************************\n",
    "def numberGuesser(theNumber):\n",
    "  # n will be a counter to see how many tries it takes them\n",
    "  n = 0\n",
    "  while(True):\n",
    "    n += 1\n",
    "    theGuess = int(input(\"Try #\" + str(n) + \": What is your guess? \"))\n",
    "    if theNumber < theGuess:\n",
    "      print(\"Lower\")\n",
    "    elif theNumber > theGuess:\n",
    "      print(\"Higher\")\n",
    "    else:\n",
    "      print(\"Congratulations, you got it in \" + str(n) + \" tries!\")\n",
    "      break\n",
    "\n",
    "\n",
    "#****************************************************************************************\n",
    "# Here's where the program starts running:\n",
    "#****************************************************************************************\n",
    "startNum = 1\n",
    "endNum = 100\n",
    "theNumber = random.randrange(startNum,endNum)\n",
    "\n",
    "print(\"I'm thinking of a number between \" + str(startNum) + \" and \" + str(endNum))\n",
    "numberGuesser(theNumber)\n",
    "\n",
    "\n"
   ],
   "metadata": {
    "id": "2qsiBxJSm8Dk",
    "outputId": "f1c05091-1410-4f88-f1c2-c0cc6563a44d",
    "colab": {
     "base_uri": "https://localhost:8080/"
    }
   },
   "execution_count": null,
   "outputs": [
    {
     "output_type": "stream",
     "name": "stdout",
     "text": [
      "I'm thinking of a number between 1 and 100\n",
      "Try #1: What is your guess? 50\n",
      "Lower\n",
      "Try #2: What is your guess? 25\n",
      "Lower\n",
      "Try #3: What is your guess? 20\n",
      "Lower\n",
      "Try #4: What is your guess? 10\n",
      "Lower\n",
      "Try #5: What is your guess? 5\n",
      "Higher\n",
      "Try #6: What is your guess? 8\n",
      "Lower\n",
      "Try #7: What is your guess? 7\n",
      "Congratulations, you got it in 7 tries!\n"
     ]
    }
   ]
  },
  {
   "cell_type": "markdown",
   "source": [
    "## Password Generator\n",
    "This is a simple password generator.  Modify it as per the homework prompt instructions."
   ],
   "metadata": {
    "id": "jUvj-5HLpkjM"
   }
  },
  {
   "cell_type": "code",
   "source": [
    "#****************************************************************************************\n",
    "# Always import modules first (unless you've imported it somewhere else in your code!)\n",
    "#****************************************************************************************\n",
    "import random\n",
    "\n",
    "\n",
    "#****************************************************************************************\n",
    "# Define your functions\n",
    "#****************************************************************************************\n",
    "def getPassword(reqLength, reqNumbers, reqUppercase, reqSymbols):\n",
    "  letter_list = ['a','b','c','d','e','f','g','h','i','j','k','l','m','n','o','p','q','r','s','t','u','v','w','x','y','z']\n",
    "  symbol_list = ['*', '_', '!', '&', '+']\n",
    "\n",
    "  thePassword = ''\n",
    "  countNums = 0\n",
    "  countUppers = 0\n",
    "  countSymbols = 0\n",
    "\n",
    "  # Figure out how many lower case letters we'll need\n",
    "  numLowercase = reqLength - reqNumbers - reqUppercase - reqSymbols\n",
    "  if (numLowercase < 1):\n",
    "    return 'Total length is too short for that many other requirements!'\n",
    "\n",
    "  # Get random lowercase letters and add them to our password.\n",
    "  for i in range(numLowercase):\n",
    "    thePassword += random.choice(letter_list)\n",
    "\n",
    "  # If numbers are required, then add the required number of numbers to the password.\n",
    "  if (reqNumbers > 0):\n",
    "    for i in range(reqNumbers):\n",
    "      thePassword += str(random.randrange(0,9))\n",
    "\n",
    "  # If upper case letters are required, then add the required number of numbers to the password.\n",
    "  if (reqUppercase > 0):\n",
    "    for i in range(reqUppercase):\n",
    "      thePassword += random.choice(letter_list).upper() # noice that we can get the random letter and change it to upper case in the same line of code...\n",
    "\n",
    "  # If symbols are required, then add the required number of numbers to the password.\n",
    "  if (reqSymbols > 0):\n",
    "    for i in range(reqSymbols):\n",
    "      thePassword += random.choice(symbol_list)\n",
    "\n",
    "  # Now shuffle the characters in this password. Before we do that we have to convert our string to a list so it can be shuffled\n",
    "  thePassword_list = list(thePassword)\n",
    "  random.shuffle(thePassword_list)\n",
    "\n",
    "  # Now convert the list back to a string:\n",
    "  thePassword = ''\n",
    "  thePassword = thePassword.join(thePassword_list)\n",
    "  return thePassword\n",
    "\n",
    "#****************************************************************************************\n",
    "# Here's where the program actually starts running:\n",
    "#****************************************************************************************\n",
    "\n",
    "myAwesomePassword = getPassword(10,2,3,1)\n",
    "print(\"Here's your new password. Keep it in a safe place: \", myAwesomePassword)"
   ],
   "metadata": {
    "id": "I8H6tT6cpj_x",
    "outputId": "c914d600-9849-4640-d4fd-8aaa6074685a",
    "colab": {
     "base_uri": "https://localhost:8080/"
    }
   },
   "execution_count": null,
   "outputs": [
    {
     "output_type": "stream",
     "name": "stdout",
     "text": [
      "Here's your new password. Keep it in a safe place:  jcxQ6T5&Sl\n"
     ]
    }
   ]
  }
 ]
}
