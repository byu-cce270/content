{
  "nbformat": 4,
  "nbformat_minor": 0,
  "metadata": {
    "colab": {
      "provenance": [],
      "authorship_tag": "ABX9TyMuRhYRcbfHFaEFxYPpknV/",
      "include_colab_link": true
    },
    "kernelspec": {
      "name": "python3",
      "display_name": "Python 3"
    },
    "language_info": {
      "name": "python"
    }
  },
  "cells": [
    {
      "cell_type": "markdown",
      "metadata": {
        "id": "view-in-github",
        "colab_type": "text"
      },
      "source": [
        "<a href=\"https://colab.research.google.com/github/byu-cce270/content/blob/main/docs/unit3/05_pandas_part2/starter_sheet_HW_2_Pandas.ipynb\" target=\"_parent\"><img src=\"https://colab.research.google.com/assets/colab-badge.svg\" alt=\"Open In Colab\"/></a>"
      ]
    },
    {
      "cell_type": "code",
      "execution_count": null,
      "metadata": {
        "id": "uLhh1Seznz3v"
      },
      "outputs": [],
      "source": [
        "#@title Imports and Authentication\n",
        "\n",
        "#############################################\n",
        "####### IMPORT STATEMENTS GO HERE  ##########\n",
        "#############################################\n",
        "\n",
        "\n",
        "\n",
        "#############################################\n",
        "##### READ IN YOUR GOOGLE SHEET HERE ########\n",
        "#############################################\n",
        "\n",
        "\n"
      ]
    },
    {
      "cell_type": "code",
      "source": [
        "#@title DataFrame Creation\n",
        "\n",
        "#############################################\n",
        "####### CREATE YOUR DATAFRAMES HERE  ########\n",
        "#############################################\n",
        "\n"
      ],
      "metadata": {
        "id": "bCJ1ivHnonmg"
      },
      "execution_count": null,
      "outputs": []
    },
    {
      "cell_type": "code",
      "source": [
        "#@title DateTime Conversion\n"
      ],
      "metadata": {
        "id": "1CIjES-ArtJC"
      },
      "execution_count": null,
      "outputs": []
    },
    {
      "cell_type": "code",
      "source": [
        "#@title Paving Jobs per Bourough and Work Type\n"
      ],
      "metadata": {
        "id": "1tQERTDSss7y"
      },
      "execution_count": null,
      "outputs": []
    },
    {
      "cell_type": "code",
      "source": [
        "#@title Commonly Paved Streets"
      ],
      "metadata": {
        "id": "vyj-Jy4ps6-K"
      },
      "execution_count": null,
      "outputs": []
    },
    {
      "cell_type": "code",
      "source": [
        "#@title Work Hours\n",
        "\n"
      ],
      "metadata": {
        "id": "94fCyUe4s-aM"
      },
      "execution_count": null,
      "outputs": []
    },
    {
      "cell_type": "code",
      "source": [
        "#@title Bar Graph\n",
        "\n"
      ],
      "metadata": {
        "id": "UcqbtVaFtSPa"
      },
      "execution_count": null,
      "outputs": []
    },
    {
      "cell_type": "markdown",
      "source": [
        "## PAVEMENT RATING"
      ],
      "metadata": {
        "id": "teFQt7uqEsZz"
      }
    },
    {
      "cell_type": "code",
      "source": [
        "#@title Borough Mapping"
      ],
      "metadata": {
        "id": "IoAtMz604XIB"
      },
      "execution_count": null,
      "outputs": []
    },
    {
      "cell_type": "code",
      "source": [
        "#@title Grouping\n",
        "\n"
      ],
      "metadata": {
        "id": "V0f88WiC-wbA"
      },
      "execution_count": null,
      "outputs": []
    },
    {
      "cell_type": "code",
      "source": [
        "#@title Ratings by Borough\n",
        "\n"
      ],
      "metadata": {
        "id": "yJrxbktSFBA4"
      },
      "execution_count": null,
      "outputs": []
    },
    {
      "cell_type": "code",
      "source": [
        "#@title Query\n",
        "\n"
      ],
      "metadata": {
        "id": "NSQLS6Z0GK94"
      },
      "execution_count": null,
      "outputs": []
    },
    {
      "cell_type": "code",
      "source": [
        "#@title Pie Chart\n",
        "\n"
      ],
      "metadata": {
        "id": "_msJ7age0tyl"
      },
      "execution_count": null,
      "outputs": []
    }
  ]
}