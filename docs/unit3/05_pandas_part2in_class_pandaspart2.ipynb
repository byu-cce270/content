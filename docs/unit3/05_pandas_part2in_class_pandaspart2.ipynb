{
  "cells": [
    {
      "cell_type": "markdown",
      "metadata": {
        "id": "view-in-github",
        "colab_type": "text"
      },
      "source": [
        "<a href=\"https://colab.research.google.com/github/byu-cce270/content/blob/main/docs/unit3/05_pandas_part2in_class_pandaspart2.ipynb\" target=\"_parent\"><img src=\"https://colab.research.google.com/assets/colab-badge.svg\" alt=\"Open In Colab\"/></a>"
      ]
    },
    {
      "metadata": {
        "id": "60625855e4297021"
      },
      "cell_type": "markdown",
      "source": [
        "# Date Time Data\n",
        "Pandas part 2 In Class assignment.\n",
        "\n",
        "We will create some datatime data, add columns for the months and days, add data, then plot it."
      ],
      "id": "60625855e4297021"
    },
    {
      "metadata": {
        "id": "87540e3f76ea1568"
      },
      "cell_type": "markdown",
      "source": [],
      "id": "87540e3f76ea1568"
    },
    {
      "metadata": {
        "id": "7e831b331d32a936"
      },
      "cell_type": "code",
      "outputs": [],
      "execution_count": null,
      "source": [
        "# Import Libraries\n",
        "import pandas as pd\n",
        "import numpy as np\n",
        "import matplotlib.pyplot as plt\n",
        "import seaborn as sns\n",
        "sns.set()\n"
      ],
      "id": "7e831b331d32a936"
    },
    {
      "metadata": {
        "id": "fe2ac526c4595c"
      },
      "cell_type": "code",
      "outputs": [],
      "execution_count": null,
      "source": [
        "# create 10 years of  Pandas daily  data from using a data rannge\n",
        "date_rng = pd.date_range(start='1/1/2010', end='1/1/2020', freq='D')\n",
        "\n",
        "# now make a dataframe using the date_rng as index\n",
        "\n",
        "## You need to add comments to the following lines telling what each line does.\n",
        "## Tell what each part of the command is for\n",
        "\n",
        "# Add your comment here\n",
        "date_df = pd.DataFrame(date_rng, columns=['date'])\n",
        "\n",
        "# Add you comment here\n",
        "date_df['date'] = pd.to_datetime(df['date'])\n",
        "\n",
        "# Add your comment here\n",
        "date_df.set_index('date', inplace=True)\n"
      ],
      "id": "fe2ac526c4595c"
    },
    {
      "metadata": {
        "id": "1ab0d8b5b81df3b7"
      },
      "cell_type": "code",
      "outputs": [],
      "execution_count": null,
      "source": [
        "# Now add a columns for the Year, the Month, and the Day the dataframe\n",
        "# Add your comment here\n",
        "date_df['month'] = date_df.index.month\n",
        "# Add your comment here\n",
        "date_df['day'] = date_df.index.day\n",
        "# Add your comment here\n",
        "date_df['year'] = date_df.index.year\n"
      ],
      "id": "1ab0d8b5b81df3b7"
    }
  ],
  "metadata": {
    "kernelspec": {
      "display_name": "Python 3",
      "language": "python",
      "name": "python3"
    },
    "language_info": {
      "codemirror_mode": {
        "name": "ipython",
        "version": 2
      },
      "file_extension": ".py",
      "mimetype": "text/x-python",
      "name": "python",
      "nbconvert_exporter": "python",
      "pygments_lexer": "ipython2",
      "version": "2.7.6"
    },
    "colab": {
      "provenance": [],
      "include_colab_link": true
    }
  },
  "nbformat": 4,
  "nbformat_minor": 5
}