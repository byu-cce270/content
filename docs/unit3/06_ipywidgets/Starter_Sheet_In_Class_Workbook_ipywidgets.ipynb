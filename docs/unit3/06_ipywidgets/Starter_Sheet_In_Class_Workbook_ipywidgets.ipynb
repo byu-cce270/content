{
  "nbformat": 4,
  "nbformat_minor": 0,
  "metadata": {
    "colab": {
      "provenance": [],
      "collapsed_sections": [
        "jX3ESMcFBa3b",
        "Mn1uzbtVxde3",
        "4Rs7MgTRx30x"
      ],
      "include_colab_link": true
    },
    "kernelspec": {
      "name": "python3",
      "display_name": "Python 3"
    },
    "language_info": {
      "name": "python"
    },
    "widgets": {
      "application/vnd.jupyter.widget-state+json": {
        "8d7c4aea053945a19d017faa5ab22ad4": {
          "model_module": "@jupyter-widgets/controls",
          "model_name": "TextModel",
          "model_module_version": "1.5.0",
          "state": {
            "_dom_classes": [],
            "_model_module": "@jupyter-widgets/controls",
            "_model_module_version": "1.5.0",
            "_model_name": "TextModel",
            "_view_count": null,
            "_view_module": "@jupyter-widgets/controls",
            "_view_module_version": "1.5.0",
            "_view_name": "TextView",
            "continuous_update": true,
            "description": "Year",
            "description_tooltip": null,
            "disabled": false,
            "layout": "IPY_MODEL_d45dc967ebd6418e8e2497dd34a4da6a",
            "placeholder": "What year were you born",
            "style": "IPY_MODEL_d4516719ce4545b6af18e8b01b90d3b2",
            "value": "2018"
          }
        },
        "d45dc967ebd6418e8e2497dd34a4da6a": {
          "model_module": "@jupyter-widgets/base",
          "model_name": "LayoutModel",
          "model_module_version": "1.2.0",
          "state": {
            "_model_module": "@jupyter-widgets/base",
            "_model_module_version": "1.2.0",
            "_model_name": "LayoutModel",
            "_view_count": null,
            "_view_module": "@jupyter-widgets/base",
            "_view_module_version": "1.2.0",
            "_view_name": "LayoutView",
            "align_content": null,
            "align_items": null,
            "align_self": null,
            "border": null,
            "bottom": null,
            "display": null,
            "flex": null,
            "flex_flow": null,
            "grid_area": null,
            "grid_auto_columns": null,
            "grid_auto_flow": null,
            "grid_auto_rows": null,
            "grid_column": null,
            "grid_gap": null,
            "grid_row": null,
            "grid_template_areas": null,
            "grid_template_columns": null,
            "grid_template_rows": null,
            "height": null,
            "justify_content": null,
            "justify_items": null,
            "left": null,
            "margin": null,
            "max_height": null,
            "max_width": null,
            "min_height": null,
            "min_width": null,
            "object_fit": null,
            "object_position": null,
            "order": null,
            "overflow": null,
            "overflow_x": null,
            "overflow_y": null,
            "padding": null,
            "right": null,
            "top": null,
            "visibility": null,
            "width": null
          }
        },
        "d4516719ce4545b6af18e8b01b90d3b2": {
          "model_module": "@jupyter-widgets/controls",
          "model_name": "DescriptionStyleModel",
          "model_module_version": "1.5.0",
          "state": {
            "_model_module": "@jupyter-widgets/controls",
            "_model_module_version": "1.5.0",
            "_model_name": "DescriptionStyleModel",
            "_view_count": null,
            "_view_module": "@jupyter-widgets/base",
            "_view_module_version": "1.2.0",
            "_view_name": "StyleView",
            "description_width": ""
          }
        },
        "4ca1fafe8a954212ba428bd012ac1418": {
          "model_module": "@jupyter-widgets/controls",
          "model_name": "TextModel",
          "model_module_version": "1.5.0",
          "state": {
            "_dom_classes": [],
            "_model_module": "@jupyter-widgets/controls",
            "_model_module_version": "1.5.0",
            "_model_name": "TextModel",
            "_view_count": null,
            "_view_module": "@jupyter-widgets/controls",
            "_view_module_version": "1.5.0",
            "_view_name": "TextView",
            "continuous_update": true,
            "description": "Year Name",
            "description_tooltip": null,
            "disabled": true,
            "layout": "IPY_MODEL_d3dde79b365b44b99d8b7e94305f5778",
            "placeholder": "Year name will go here",
            "style": "IPY_MODEL_63525df6f17a435cbdc22115dc5fca32",
            "value": "Dog"
          }
        },
        "d3dde79b365b44b99d8b7e94305f5778": {
          "model_module": "@jupyter-widgets/base",
          "model_name": "LayoutModel",
          "model_module_version": "1.2.0",
          "state": {
            "_model_module": "@jupyter-widgets/base",
            "_model_module_version": "1.2.0",
            "_model_name": "LayoutModel",
            "_view_count": null,
            "_view_module": "@jupyter-widgets/base",
            "_view_module_version": "1.2.0",
            "_view_name": "LayoutView",
            "align_content": null,
            "align_items": null,
            "align_self": null,
            "border": null,
            "bottom": null,
            "display": null,
            "flex": null,
            "flex_flow": null,
            "grid_area": null,
            "grid_auto_columns": null,
            "grid_auto_flow": null,
            "grid_auto_rows": null,
            "grid_column": null,
            "grid_gap": null,
            "grid_row": null,
            "grid_template_areas": null,
            "grid_template_columns": null,
            "grid_template_rows": null,
            "height": null,
            "justify_content": null,
            "justify_items": null,
            "left": null,
            "margin": null,
            "max_height": null,
            "max_width": null,
            "min_height": null,
            "min_width": null,
            "object_fit": null,
            "object_position": null,
            "order": null,
            "overflow": null,
            "overflow_x": null,
            "overflow_y": null,
            "padding": null,
            "right": null,
            "top": null,
            "visibility": null,
            "width": null
          }
        },
        "63525df6f17a435cbdc22115dc5fca32": {
          "model_module": "@jupyter-widgets/controls",
          "model_name": "DescriptionStyleModel",
          "model_module_version": "1.5.0",
          "state": {
            "_model_module": "@jupyter-widgets/controls",
            "_model_module_version": "1.5.0",
            "_model_name": "DescriptionStyleModel",
            "_view_count": null,
            "_view_module": "@jupyter-widgets/base",
            "_view_module_version": "1.2.0",
            "_view_name": "StyleView",
            "description_width": ""
          }
        },
        "043d6df423dd480984824b98df3d4fb0": {
          "model_module": "@jupyter-widgets/controls",
          "model_name": "ButtonModel",
          "model_module_version": "1.5.0",
          "state": {
            "_dom_classes": [],
            "_model_module": "@jupyter-widgets/controls",
            "_model_module_version": "1.5.0",
            "_model_name": "ButtonModel",
            "_view_count": null,
            "_view_module": "@jupyter-widgets/controls",
            "_view_module_version": "1.5.0",
            "_view_name": "ButtonView",
            "button_style": "success",
            "description": "Get Chinese Year!",
            "disabled": false,
            "icon": "",
            "layout": "IPY_MODEL_b607a97fcaf945a1921d8ebbceaa0d47",
            "style": "IPY_MODEL_ad5c17fd8cd9409681d1ae93b7456cee",
            "tooltip": ""
          }
        },
        "b607a97fcaf945a1921d8ebbceaa0d47": {
          "model_module": "@jupyter-widgets/base",
          "model_name": "LayoutModel",
          "model_module_version": "1.2.0",
          "state": {
            "_model_module": "@jupyter-widgets/base",
            "_model_module_version": "1.2.0",
            "_model_name": "LayoutModel",
            "_view_count": null,
            "_view_module": "@jupyter-widgets/base",
            "_view_module_version": "1.2.0",
            "_view_name": "LayoutView",
            "align_content": null,
            "align_items": null,
            "align_self": null,
            "border": null,
            "bottom": null,
            "display": null,
            "flex": null,
            "flex_flow": null,
            "grid_area": null,
            "grid_auto_columns": null,
            "grid_auto_flow": null,
            "grid_auto_rows": null,
            "grid_column": null,
            "grid_gap": null,
            "grid_row": null,
            "grid_template_areas": null,
            "grid_template_columns": null,
            "grid_template_rows": null,
            "height": null,
            "justify_content": null,
            "justify_items": null,
            "left": null,
            "margin": null,
            "max_height": null,
            "max_width": null,
            "min_height": null,
            "min_width": null,
            "object_fit": null,
            "object_position": null,
            "order": null,
            "overflow": null,
            "overflow_x": null,
            "overflow_y": null,
            "padding": null,
            "right": null,
            "top": null,
            "visibility": null,
            "width": null
          }
        },
        "ad5c17fd8cd9409681d1ae93b7456cee": {
          "model_module": "@jupyter-widgets/controls",
          "model_name": "ButtonStyleModel",
          "model_module_version": "1.5.0",
          "state": {
            "_model_module": "@jupyter-widgets/controls",
            "_model_module_version": "1.5.0",
            "_model_name": "ButtonStyleModel",
            "_view_count": null,
            "_view_module": "@jupyter-widgets/base",
            "_view_module_version": "1.2.0",
            "_view_name": "StyleView",
            "button_color": null,
            "font_weight": ""
          }
        }
      }
    }
  },
  "cells": [
    {
      "cell_type": "markdown",
      "metadata": {
        "id": "view-in-github",
        "colab_type": "text"
      },
      "source": [
        "<a href=\"https://colab.research.google.com/github/byu-cce270/content/blob/main/docs/unit3/06_ipywidgets/Starter_Sheet_In_Class_Workbook_ipywidgets.ipynb\" target=\"_parent\"><img src=\"https://colab.research.google.com/assets/colab-badge.svg\" alt=\"Open In Colab\"/></a>"
      ]
    },
    {
      "cell_type": "markdown",
      "source": [
        "#Part 1: Basic HTML, more comments, and getting started\n",
        "\n",
        "#this is a header\n",
        "##this is a second level header\n",
        "###this is a third level header\n",
        "####this is even smaller\n",
        "\n",
        "this is some plain body text </br>\n",
        "this is how you break a new line < /br > (With no spaces) </br>\n",
        "\n",
        "insert a picture: </br>\n",
        "<img src=\"https://news.sportslogos.net/wp-content/uploads/2014/11/New-BYU-Logo.jpg\" width=\"250\" />\n",
        "\n"
      ],
      "metadata": {
        "id": "jX3ESMcFBa3b"
      }
    },
    {
      "cell_type": "code",
      "source": [
        "#just a fun side note after talking about text boxes\n",
        "\n",
        "#we've talked about this kind of comment before, but\n",
        "\n",
        "'''this kind of comment is also valid and prints as part of your code'''\n"
      ],
      "metadata": {
        "id": "4WLVlkltRun7"
      },
      "execution_count": null,
      "outputs": []
    },
    {
      "cell_type": "code",
      "execution_count": null,
      "metadata": {
        "id": "ZMlRdtZ4771f"
      },
      "outputs": [],
      "source": [
        "# @title Imports\n",
        "\n",
        "\n",
        "\n"
      ]
    },
    {
      "cell_type": "code",
      "source": [
        "# @title Input Text Box\n",
        "\n",
        "\n",
        "\n",
        "\n",
        "\n"
      ],
      "metadata": {
        "id": "Pt2_l7X8NUa8"
      },
      "execution_count": null,
      "outputs": []
    },
    {
      "cell_type": "code",
      "source": [
        "# @title Text Box Value\n",
        "\n"
      ],
      "metadata": {
        "id": "1vB1iDgcN_6i"
      },
      "execution_count": null,
      "outputs": []
    },
    {
      "cell_type": "markdown",
      "source": [
        "# Part 2: Buttons"
      ],
      "metadata": {
        "id": "Mn1uzbtVxde3"
      }
    },
    {
      "cell_type": "code",
      "source": [
        "# @title Basic Button\n",
        "\n",
        "\n",
        "\n",
        "\n"
      ],
      "metadata": {
        "id": "5kAH9PQOT-na"
      },
      "execution_count": null,
      "outputs": []
    },
    {
      "cell_type": "code",
      "source": [
        "# @title callMeAl function\n",
        "\n",
        "def callMeAl(myName):\n",
        "  return ('As Paul Simon said, ' + myName + ', you can call me Al.')\n",
        "\n",
        "# Remember that we can simply call the function directly:\n",
        "\n",
        "answer = callMeAl('input your name here')\n",
        "print (answer)\n"
      ],
      "metadata": {
        "id": "RWaLbZPlXDgd"
      },
      "execution_count": null,
      "outputs": []
    },
    {
      "cell_type": "code",
      "source": [
        "# @title Button Click\n",
        "\n",
        "\n",
        "\n",
        "\n",
        "\n",
        "\n",
        "\n",
        "\n",
        "\n",
        "\n"
      ],
      "metadata": {
        "id": "-_KcqHZUYOpD"
      },
      "execution_count": null,
      "outputs": []
    },
    {
      "cell_type": "code",
      "source": [
        "# @title Free Complement Button\n",
        "\n",
        "\n",
        "\n",
        "\n",
        "\n",
        "\n",
        "\n",
        "\n",
        "\n"
      ],
      "metadata": {
        "id": "h4-Oki7Dbeub"
      },
      "execution_count": null,
      "outputs": []
    },
    {
      "cell_type": "markdown",
      "source": [
        "#Part 3: Accepting Text Input\n",
        "\n"
      ],
      "metadata": {
        "id": "4Rs7MgTRx30x"
      }
    },
    {
      "cell_type": "code",
      "source": [
        "# This is the start of a graphical user interface! Now we need to write the code to make it do something.\n",
        "# Let's make a function to do return the Chinese year names given a year integer.\n",
        "\n",
        "# Step 1: Make a function that does what you want\n",
        "# I got the list of Chinese year names from: https://www.chinahighlights.com/travelguide/chinese-zodiac/\n",
        "# I used the Modulus operator, %, to get the remainder of a division and from there look up the name in a list.\n",
        "def getChineseYear(y):\n",
        "  listYears = ['Rat', 'Ox', 'Tiger', 'Rabbit', 'Dragon', 'Snake', 'Horse', 'Goat', 'Monkey', 'Rooster', 'Dog', 'Pig']\n",
        "  i = (y - 4) % 12\n",
        "  return listYears[i]\n",
        "\n",
        "# Step 2: Make a function to catch the button click - use a unique/new name for the function.\n",
        "def buttonClick2(b):\n",
        "  # get the text from the text box and change it from string to integer\n",
        "  t = int(txtYear.value)\n",
        "  # run our Chinese year function and put the results in the output box\n",
        "  txtName.value = getChineseYear(t)\n",
        "\n",
        "# Step 3: Connect the button to the button click function.\n",
        "btnGo.on_click(buttonClick2)\n"
      ],
      "metadata": {
        "id": "Xw84SQVzfL1U"
      },
      "execution_count": null,
      "outputs": []
    },
    {
      "cell_type": "code",
      "source": [
        "# Now let's see if we can use an text input box and do something with it.\n",
        "# Create a new Text widget.\n",
        "txtYear = widgets.Text()\n",
        "txtYear.value = ''\n",
        "txtYear.placeholder = 'What year were you born'\n",
        "txtYear.description = 'Year'\n",
        "txtYear.disabled = False\n",
        "display(txtYear)\n",
        "\n",
        "txtName = widgets.Text()\n",
        "txtName.value = ''\n",
        "txtName.placeholder = 'Year name will go here'\n",
        "txtName.description = 'Year Name'\n",
        "txtName.disabled = True\n",
        "display(txtName)\n",
        "\n",
        "btnGo = widgets.Button()\n",
        "btnGo.description = 'Get Chinese Year!'\n",
        "btnGo.button_style = 'success'\n",
        "display(btnGo)\n"
      ],
      "metadata": {
        "colab": {
          "base_uri": "https://localhost:8080/",
          "height": 111,
          "referenced_widgets": [
            "8d7c4aea053945a19d017faa5ab22ad4",
            "d45dc967ebd6418e8e2497dd34a4da6a",
            "d4516719ce4545b6af18e8b01b90d3b2",
            "4ca1fafe8a954212ba428bd012ac1418",
            "d3dde79b365b44b99d8b7e94305f5778",
            "63525df6f17a435cbdc22115dc5fca32",
            "043d6df423dd480984824b98df3d4fb0",
            "b607a97fcaf945a1921d8ebbceaa0d47",
            "ad5c17fd8cd9409681d1ae93b7456cee"
          ]
        },
        "id": "ZKfogqn3dUo1",
        "outputId": "0d4b0079-64cc-4e6d-b62b-dd331a371fcc"
      },
      "execution_count": null,
      "outputs": [
        {
          "output_type": "display_data",
          "data": {
            "text/plain": [
              "Text(value='', description='Year', placeholder='What year were you born')"
            ],
            "application/vnd.jupyter.widget-view+json": {
              "version_major": 2,
              "version_minor": 0,
              "model_id": "8d7c4aea053945a19d017faa5ab22ad4"
            }
          },
          "metadata": {}
        },
        {
          "output_type": "display_data",
          "data": {
            "text/plain": [
              "Text(value='', description='Year Name', disabled=True, placeholder='Year name will go here')"
            ],
            "application/vnd.jupyter.widget-view+json": {
              "version_major": 2,
              "version_minor": 0,
              "model_id": "4ca1fafe8a954212ba428bd012ac1418"
            }
          },
          "metadata": {}
        },
        {
          "output_type": "display_data",
          "data": {
            "text/plain": [
              "Button(button_style='success', description='Get Chinese Year!', style=ButtonStyle())"
            ],
            "application/vnd.jupyter.widget-view+json": {
              "version_major": 2,
              "version_minor": 0,
              "model_id": "043d6df423dd480984824b98df3d4fb0"
            }
          },
          "metadata": {}
        }
      ]
    },
    {
      "cell_type": "code",
      "source": [
        "# @title Modified Compliment Button\n",
        "\n",
        "\n",
        "\n",
        "\n",
        "\n",
        "\n",
        "\n",
        "\n",
        "\n",
        "\n",
        "\n",
        "\n",
        "\n",
        "\n",
        "\n",
        "\n",
        "\n",
        "\n",
        "\n"
      ],
      "metadata": {
        "id": "3LXv_CpCMJ9K"
      },
      "execution_count": null,
      "outputs": []
    },
    {
      "cell_type": "markdown",
      "source": [
        "#Part 4: Side Note on the Random Module"
      ],
      "metadata": {
        "id": "wCiyf8-DRAxY"
      }
    },
    {
      "cell_type": "code",
      "source": [
        "# @title Intro to Random\n",
        "\n",
        "\n",
        "\n",
        "\n",
        "\n",
        "\n",
        "\n"
      ],
      "metadata": {
        "id": "_ci7D_09TYa4"
      },
      "execution_count": null,
      "outputs": []
    },
    {
      "cell_type": "code",
      "source": [
        "# @title randrange\n",
        "\n",
        "\n"
      ],
      "metadata": {
        "id": "4YUTEzuNTcxv"
      },
      "execution_count": null,
      "outputs": []
    },
    {
      "cell_type": "code",
      "source": [
        "# @title Multiple Random Choices\n",
        "\n",
        "myList = ['Michael Scott', 'Dwight Schrute', 'Jim Halpert', 'Ryan Howard',\n",
        "          'Stanley Hudson', 'Kevin Malone', 'Oscar Martinez','Toby Flenderson',\n",
        "          'Creed Bratton', 'Roy Anderson','Darryl Philbin']\n",
        "\n",
        "\n",
        "\n",
        "\n",
        "\n",
        "\n",
        "\n",
        "\n"
      ],
      "metadata": {
        "id": "ZrwWQ4PmTg2A"
      },
      "execution_count": null,
      "outputs": []
    },
    {
      "cell_type": "markdown",
      "source": [
        "# Part 5: Common Widget Examples\n",
        "##(THIS IS FOR REFERENCE), not something you have to do for the workbook\n",
        "\n",
        "Let's explore a few more common widgets. By the way, another name for \"widgets\" is \"user controls\".\n",
        "\n",
        "Also, note that there is a simplified way to set the properties of these user controls when you create them. It's a slightly different syntax.\n",
        "\n",
        "It just sets each property, like description, at the time the user control (widget) is created. For the Text input box example, I'm showing both ways of creating it. For the following widgets, I'll just use the simplified method."
      ],
      "metadata": {
        "id": "WS3NXgOAopW6"
      }
    },
    {
      "cell_type": "code",
      "source": [
        "# @title Text Box\n",
        "# Text widget with verbose creation\n",
        "myText = widgets.Text()\n",
        "myText.value = 'Hello World'\n",
        "myText.placeholder = 'Type something'\n",
        "myText.description = 'String:'\n",
        "myText.disabled = False\n",
        "display(myText)\n",
        "\n",
        "# Text widget with simple creation\n",
        "myText2 = widgets.Text(\n",
        "    value='Hello World',\n",
        "    placeholder='Type something',\n",
        "    description='String:',\n",
        "    disabled=False\n",
        ")\n",
        "display(myText2)"
      ],
      "metadata": {
        "id": "_rsO37dask_6",
        "cellView": "form"
      },
      "execution_count": null,
      "outputs": []
    },
    {
      "cell_type": "code",
      "source": [
        "# @title Integar Text Box\n",
        "# Restricts input to integer numbers.\n",
        "\n",
        "myIntText = widgets.IntText(\n",
        "    value=7,\n",
        "    description='Any:',\n",
        "    disabled=False\n",
        ")\n",
        "display(myIntText)"
      ],
      "metadata": {
        "id": "mGQr2oiOwHP1",
        "cellView": "form"
      },
      "execution_count": null,
      "outputs": []
    },
    {
      "cell_type": "code",
      "source": [
        "# @title BoundedIntText Box\n",
        "\n",
        "myBoundedIntText = widgets.BoundedIntText(\n",
        "    value=7,\n",
        "    min=0,\n",
        "    max=10,\n",
        "    step=1,\n",
        "    description='Text:',\n",
        "    disabled=False\n",
        ")\n",
        "display(myBoundedIntText)"
      ],
      "metadata": {
        "id": "ieG8HwqFv4ky",
        "cellView": "form"
      },
      "execution_count": null,
      "outputs": []
    },
    {
      "cell_type": "code",
      "source": [
        "# @title Text Area Box\n",
        "\n",
        "txtHi = widgets.Textarea(\n",
        "    value='Hello World',\n",
        "    placeholder='Type something',\n",
        "    description='String:',\n",
        "    disabled=False\n",
        ")\n",
        "display(txtHi)"
      ],
      "metadata": {
        "id": "qmA6MzYPon0n",
        "cellView": "form"
      },
      "execution_count": null,
      "outputs": []
    },
    {
      "cell_type": "code",
      "source": [
        "# @title Checkbox\n",
        "\n",
        "myCheckbox = widgets.Checkbox(\n",
        "    value=False,\n",
        "    description='Check me',\n",
        "    disabled=False,\n",
        "    indent=False\n",
        ")\n",
        "display(myCheckbox)"
      ],
      "metadata": {
        "id": "0V3QME8PwW1w",
        "cellView": "form"
      },
      "execution_count": null,
      "outputs": []
    },
    {
      "cell_type": "code",
      "source": [
        "# @title RadioButtons\n",
        "\n",
        "myRadioButtons = widgets.RadioButtons(\n",
        "    options=['pepperoni', 'pineapple', 'anchovies'],\n",
        "#    value='pineapple', # Defaults to 'pineapple'\n",
        "#    layout={'width': 'max-content'}, # If the items' names are long\n",
        "    description='Pizza topping:',\n",
        "    disabled=False\n",
        ")\n",
        "display(myRadioButtons)"
      ],
      "metadata": {
        "id": "BiX0Arj3wnFb",
        "cellView": "form"
      },
      "execution_count": null,
      "outputs": []
    },
    {
      "cell_type": "code",
      "source": [
        "# @title Combobox\n",
        "\n",
        "myCombo = widgets.Combobox(\n",
        "    placeholder='Choose Someone',\n",
        "    options=['Paul', 'John', 'George', 'Ringo'],\n",
        "    description='Combobox:',\n",
        "    ensure_option=True,\n",
        "    disabled=False\n",
        ")\n",
        "display(myCombo)"
      ],
      "metadata": {
        "id": "UKWuhxpLlS1B",
        "cellView": "form"
      },
      "execution_count": null,
      "outputs": []
    },
    {
      "cell_type": "code",
      "source": [
        "# @title Select\n",
        "\n",
        "mySelect = widgets.Select(\n",
        "    options=['Linux', 'Windows', 'macOS'],\n",
        "    value='macOS',\n",
        "    # rows=10,\n",
        "    description='OS:',\n",
        "    disabled=False\n",
        ")\n",
        "display(mySelect)"
      ],
      "metadata": {
        "id": "-OW4fdQ3rJoy",
        "cellView": "form"
      },
      "execution_count": null,
      "outputs": []
    },
    {
      "cell_type": "code",
      "source": [
        "# @title Dropdown\n",
        "\n",
        "myDropdown = widgets.Dropdown(\n",
        "    options=['1', '2', '3'],\n",
        "    value='2',\n",
        "    description='Number:',\n",
        "    disabled=False,\n",
        ")\n",
        "display(myDropdown)"
      ],
      "metadata": {
        "id": "ZkpRslQIrdC0",
        "cellView": "form"
      },
      "execution_count": null,
      "outputs": []
    },
    {
      "cell_type": "code",
      "source": [
        "# @title ToggleButtons\n",
        "\n",
        "myToggle = widgets.ToggleButtons(\n",
        "    options=['Slow', 'Regular', 'Fast'],\n",
        "    description='Speed:',\n",
        "    disabled=False,\n",
        "    button_style='', # 'success', 'info', 'warning', 'danger' or ''\n",
        "    tooltips=['Description of slow', 'Description of regular', 'Description of fast'],\n",
        "#     icons=['check'] * 3\n",
        ")\n",
        "display(myToggle)"
      ],
      "metadata": {
        "id": "T1Wkmi4oq1Ps",
        "cellView": "form"
      },
      "execution_count": null,
      "outputs": []
    },
    {
      "cell_type": "code",
      "source": [
        "# @title SelectMultiple\n",
        "\n",
        "#Multiple values can be selected with shift and/or ctrl (or command) pressed and mouse clicks or arrow\n",
        "\n",
        "keys.mySelectMult = widgets.SelectMultiple(\n",
        "    options=['Apples', 'Oranges', 'Pears'],\n",
        "    value=['Oranges'],\n",
        "    #rows=10,\n",
        "    description='Fruits',\n",
        "    disabled=False\n",
        ")\n",
        "display(mySelectMult)"
      ],
      "metadata": {
        "id": "YLuTNTTpqk8i",
        "cellView": "form"
      },
      "execution_count": null,
      "outputs": []
    },
    {
      "cell_type": "code",
      "source": [
        "# @title IntSlider\n",
        "# - The slider is displayed with a specified, initial `value`. Lower and upper bounds are defined by `min` and `max`, and the value can be incremented according to the `step` parameter.\n",
        "# - The slider's label is defined by `description` parameter\n",
        "# - The slider's `orientation` is either 'horizontal' (default) or 'vertical'\n",
        "# - `readout`  displays the current value of the slider next to it. The options are **True** (default) or **False**\n",
        "# - `readout_format` specifies the format function used to represent slider value. The default is '.2f'\n",
        "\n",
        "\n",
        "myIntSlider = widgets.IntSlider(\n",
        "    value=7,\n",
        "    min=0,\n",
        "    max=10,\n",
        "    step=1,\n",
        "    description='Test:',\n",
        "    disabled=False,\n",
        "    continuous_update=False,\n",
        "    orientation='horizontal',\n",
        "    readout=True,\n",
        "    readout_format='d'\n",
        ")\n",
        "display(myIntSlider)"
      ],
      "metadata": {
        "id": "J5khKXyEvZaj",
        "cellView": "form"
      },
      "execution_count": null,
      "outputs": []
    },
    {
      "cell_type": "code",
      "source": [
        "# @title FloatSlider\n",
        "\n",
        "myFloatSlider = widgets.FloatSlider(\n",
        "    value=7.5,\n",
        "    min=0,\n",
        "    max=10.0,\n",
        "    step=0.1,\n",
        "    description='Test:',\n",
        "    disabled=False,\n",
        "    continuous_update=False,\n",
        "    orientation='horizontal',\n",
        "    readout=True,\n",
        "    readout_format='.1f',\n",
        ")\n",
        "display(myFloatSlider)"
      ],
      "metadata": {
        "id": "LmIH5uJyvn4_",
        "cellView": "form"
      },
      "execution_count": null,
      "outputs": []
    },
    {
      "cell_type": "code",
      "source": [
        "# @title Image (requires file upload)\n",
        "\n",
        "# For this to work, the image needs to be uploaded to your colab folders (see file browser at left)\n",
        "\n",
        "file = open(\"building-a-rock-garden-on-a-slope.jpg\", \"rb\")\n",
        "image = file.read()\n",
        "imgPanic = widgets.Image(\n",
        "    value=image,\n",
        "    format='png',\n",
        "    width=300,\n",
        "    height=400,\n",
        ")\n",
        "display(imgPanic)"
      ],
      "metadata": {
        "id": "CI1m89NWpoos",
        "cellView": "form"
      },
      "execution_count": null,
      "outputs": []
    }
  ]
}